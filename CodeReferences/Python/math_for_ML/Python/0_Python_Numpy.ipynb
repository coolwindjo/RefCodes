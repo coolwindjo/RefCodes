{
 "cells": [
  {
   "cell_type": "markdown",
   "metadata": {},
   "source": [
    "# 코드 실습\n",
    "\n",
    "## 셀 실행 실행시키기\n",
    "\n",
    "##    - ctrl + 엔터키\n",
    "\n",
    "##    -  shift + 엔터키\n",
    "\n",
    "##    -  메뉴바에 있는 'Run' 클릭"
   ]
  },
  {
   "cell_type": "code",
   "execution_count": 1,
   "metadata": {},
   "outputs": [
    {
     "name": "stdout",
     "output_type": "stream",
     "text": [
      "lo, My\n"
     ]
    }
   ],
   "source": [
    "data = 'Hello, My World'\n",
    "\n",
    "data2 = data[3:9]\n",
    "\n",
    "print(data2)"
   ]
  },
  {
   "cell_type": "markdown",
   "metadata": {},
   "source": [
    "### 실습 공간"
   ]
  },
  {
   "cell_type": "code",
   "execution_count": 2,
   "metadata": {},
   "outputs": [
    {
     "name": "stdout",
     "output_type": "stream",
     "text": [
      "find 'TODO' to check newly learned features\n"
     ]
    }
   ],
   "source": [
    "print(\"find 'TODO' to check newly learned features\")"
   ]
  },
  {
   "cell_type": "markdown",
   "metadata": {},
   "source": [
    "<br>"
   ]
  },
  {
   "cell_type": "markdown",
   "metadata": {},
   "source": [
    "<br>"
   ]
  },
  {
   "cell_type": "markdown",
   "metadata": {},
   "source": [
    "<br>"
   ]
  },
  {
   "cell_type": "markdown",
   "metadata": {},
   "source": [
    "# <center> <span style=\"color:IndianRed\">  Python, Numpy</center>\n",
    "\n",
    "# <span style=\"color:blue\"> 학습 개요\n",
    "\n",
    "## 1. 파이썬 \n",
    "\n",
    "## 2. Numpy \n",
    "******************************  \n",
    "<br>"
   ]
  },
  {
   "cell_type": "markdown",
   "metadata": {},
   "source": [
    "# 1. 파이썬  "
   ]
  },
  {
   "cell_type": "markdown",
   "metadata": {},
   "source": [
    "- print 기본 형식 변경 및 for ~ in : 구문"
   ]
  },
  {
   "cell_type": "code",
   "execution_count": 3,
   "metadata": {},
   "outputs": [
    {
     "name": "stdout",
     "output_type": "stream",
     "text": [
      "1 3 5 7 9 "
     ]
    }
   ],
   "source": [
    "# 0 부터 9 까지의 숫자중 홀수만 출력하는 예제\n",
    "\n",
    "for x in range(10) :\n",
    "    if x % 2 == 1:\n",
    "        print(x, end=' ')"
   ]
  },
  {
   "cell_type": "markdown",
   "metadata": {},
   "source": [
    "### 실습 공간"
   ]
  },
  {
   "cell_type": "code",
   "execution_count": 4,
   "metadata": {},
   "outputs": [
    {
     "name": "stdout",
     "output_type": "stream",
     "text": [
      "Hello\n"
     ]
    }
   ],
   "source": [
    "print('Hello')"
   ]
  },
  {
   "cell_type": "markdown",
   "metadata": {},
   "source": [
    "<br>"
   ]
  },
  {
   "cell_type": "markdown",
   "metadata": {},
   "source": [
    "### 1.1. _문자열 슬라이싱_"
   ]
  },
  {
   "cell_type": "markdown",
   "metadata": {},
   "source": [
    "- 인덱스를 좀 더 확장하여 문자열의 구간값을 추출할 수 있는 방법이며  기본 형식은 다음과 같음\n",
    "\n",
    "<br>\n",
    "\n",
    "~~~python\n",
    "문자열변수명[시작인덱스 : 종료인덱스 : 오프셋]\n",
    "~~~\n",
    "<br>\n",
    "\n",
    "- 위에서 유의할 사항은 종료 인덱스의 값은 포함되지 않음\n",
    "\n",
    "\n",
    "- 위 구문은 시작인덱스를 포함해서 종료인덱스 직전까지의 문자열을 가져오는 것\n",
    "\n",
    "\n",
    "- 예를 들어 strData[0:5] 인 경우에 strData 의 0번 인덱스부터 4까지 문자열을 추출하라는 의미 \n",
    "\n",
    "\n",
    "- 시작인덱스가 생략되어 있는 경우에는  0 번 인덱스부터, 즉 처음부터 종료인덱스 - 1 까지의 인덱스까지   \n",
    "  문자열을 가져오는 의미\n",
    "\n",
    "\n",
    "- 종료인덱스가 생략되어 있는 경우에는 시작인덱스부터 마지막 인덱스까지의 문자열을 추출하라는 의미\n",
    "\n",
    "\n",
    "- 마지막 인자인 오프셋은 생략가능하며 생략할 때에는 콜론부호까지 같이 생략\n",
    "\n",
    "\n",
    "- (-)부호가 있는 인덱스는 뒤에서부터 시작한다는 의미이며 뒤에서 시작할 때는 -1부터 시작함 \n",
    "\n",
    "\n",
    "- 마지막 인자의 역할은 시작인덱스를 참조한 다음 다음 인덱스를 참조할려고 하는 경우에  오프셋 값만큼    \n",
    "  이동하고나서  그 때 인덱스를 참조하라는 의미 \n",
    "\n",
    "<br>\n"
   ]
  },
  {
   "cell_type": "markdown",
   "metadata": {},
   "source": [
    "### 기본 인덱스 "
   ]
  },
  {
   "cell_type": "code",
   "execution_count": 5,
   "metadata": {},
   "outputs": [
    {
     "name": "stdout",
     "output_type": "stream",
     "text": [
      "lo, My\n"
     ]
    }
   ],
   "source": [
    "strData = 'Hello, My World'\n",
    "\n",
    "newData = strData[3:9]\n",
    "\n",
    "print(newData)"
   ]
  },
  {
   "cell_type": "markdown",
   "metadata": {},
   "source": [
    "## 실습 공간"
   ]
  },
  {
   "cell_type": "code",
   "execution_count": 6,
   "metadata": {},
   "outputs": [
    {
     "name": "stdout",
     "output_type": "stream",
     "text": [
      "100 10.0 abc\n",
      "100 10.0 abc\n",
      "format :100 10.00 abc\n"
     ]
    }
   ],
   "source": [
    "a = 100\n",
    "b = 10.\n",
    "c = 'abc'\n",
    "\n",
    "print(a, end=' ')\n",
    "print(b, end=' ')\n",
    "print(c)\n",
    "print (a, b, c)\n",
    "# TODO: formatted print\n",
    "print('format :{} {:.2f} {}'.format(a, b, c))\n"
   ]
  },
  {
   "cell_type": "markdown",
   "metadata": {},
   "source": [
    "<br>"
   ]
  },
  {
   "cell_type": "markdown",
   "metadata": {},
   "source": [
    "### - 부호가 있는 인덱스"
   ]
  },
  {
   "cell_type": "code",
   "execution_count": 7,
   "metadata": {},
   "outputs": [
    {
     "name": "stdout",
     "output_type": "stream",
     "text": [
      "lo, M\n"
     ]
    }
   ],
   "source": [
    "strData = 'Hello, My World'\n",
    "\n",
    "newData = strData[3:-7]\n",
    "\n",
    "print(newData)"
   ]
  },
  {
   "cell_type": "markdown",
   "metadata": {},
   "source": [
    "## 실습 공간"
   ]
  },
  {
   "cell_type": "code",
   "execution_count": null,
   "metadata": {},
   "outputs": [],
   "source": []
  },
  {
   "cell_type": "markdown",
   "metadata": {},
   "source": [
    "<br>"
   ]
  },
  {
   "cell_type": "markdown",
   "metadata": {},
   "source": [
    "### 이동 오프셋 인덱스 "
   ]
  },
  {
   "cell_type": "code",
   "execution_count": 8,
   "metadata": {},
   "outputs": [
    {
     "name": "stdout",
     "output_type": "stream",
     "text": [
      "el,M o\n"
     ]
    }
   ],
   "source": [
    "strData = 'Hello, My World'\n",
    "\n",
    "newData = strData[1:-3:2]\n",
    "\n",
    "print(newData)"
   ]
  },
  {
   "cell_type": "markdown",
   "metadata": {},
   "source": [
    "## 실습 공간"
   ]
  },
  {
   "cell_type": "code",
   "execution_count": null,
   "metadata": {},
   "outputs": [],
   "source": []
  },
  {
   "cell_type": "markdown",
   "metadata": {},
   "source": [
    "<br>"
   ]
  },
  {
   "cell_type": "markdown",
   "metadata": {},
   "source": [
    "### 1.2. _list_"
   ]
  },
  {
   "cell_type": "markdown",
   "metadata": {},
   "source": [
    "- 순서가 중요하며 자료의 중복도 가능한 자료구조\n",
    "\n",
    "\n",
    "- 대괄호 [ ]  를 이용하여 나타냄\n",
    "\n",
    "\n",
    "- 원소가 없는 빈 리스트는  [ ]로 표현\n",
    "\n",
    "\n",
    "- 인덱스에 기반한 자료 접근이 가능한 자료 구조\n",
    "\n",
    "\n",
    "- 리스트의 원소에 제한은 없으며 집합 또는 다른 리스트를 포함할 수도 있음"
   ]
  },
  {
   "cell_type": "markdown",
   "metadata": {},
   "source": [
    "#### _리스트 자료 구조간에   + 연산자를 통한 리스트 합치는 예제_"
   ]
  },
  {
   "cell_type": "code",
   "execution_count": 9,
   "metadata": {},
   "outputs": [
    {
     "name": "stdout",
     "output_type": "stream",
     "text": [
      "[1, 2, 3, 4, 5, 5, 6, 7, 8, 9]\n",
      "10\n"
     ]
    }
   ],
   "source": [
    "myList = [1,2,3,4,5]\n",
    "myList = myList + [5,6,7,8,9]\n",
    "\n",
    "print(myList)\n",
    "print(len(myList))"
   ]
  },
  {
   "cell_type": "markdown",
   "metadata": {},
   "source": [
    "## 실습 공간"
   ]
  },
  {
   "cell_type": "code",
   "execution_count": 11,
   "metadata": {},
   "outputs": [
    {
     "name": "stdout",
     "output_type": "stream",
     "text": [
      "5.0, 0.0\n"
     ]
    }
   ],
   "source": [
    "sum = 0\n",
    "for i in myList:\n",
    "    sum += i\n",
    "list_len = len(myList)\n",
    "mean = sum/list_len\n",
    "var = 0\n",
    "for i in myList:\n",
    "    var += (i-mean)\n",
    "sd = var/list_len\n",
    "print(mean, sd, sep=', ')"
   ]
  },
  {
   "cell_type": "markdown",
   "metadata": {},
   "source": [
    "<br>"
   ]
  },
  {
   "cell_type": "markdown",
   "metadata": {},
   "source": [
    "#### _리스트 구조는 다양한 형태의 데이터형을 자료로 처리할 수 있음_"
   ]
  },
  {
   "cell_type": "code",
   "execution_count": null,
   "metadata": {},
   "outputs": [],
   "source": [
    "myList = [1,2,3,4,5]\n",
    "myList = myList + [[77,22,11],{22,33,44,55}, 'Hello', 'World']\n",
    "\n",
    "print(myList)"
   ]
  },
  {
   "cell_type": "markdown",
   "metadata": {},
   "source": [
    "## 실습 공간"
   ]
  },
  {
   "cell_type": "code",
   "execution_count": null,
   "metadata": {},
   "outputs": [],
   "source": []
  },
  {
   "cell_type": "markdown",
   "metadata": {},
   "source": [
    "<br>"
   ]
  },
  {
   "cell_type": "markdown",
   "metadata": {},
   "source": [
    "#### _append( ) 함수를  이용한 데이터 삽입_"
   ]
  },
  {
   "cell_type": "code",
   "execution_count": null,
   "metadata": {
    "scrolled": true
   },
   "outputs": [],
   "source": [
    "# 맨 뒤에 새로운 데이터가 삽입됨\n",
    "\n",
    "myList = [1,2,3,4,5]\n",
    "\n",
    "myList.append([9,8,7,6,5,4])\n",
    "print(myList)\n",
    "\n",
    "myList.append({55,66,88})\n",
    "print(myList)\n",
    "\n",
    "myList.append('Hello, Python')\n",
    "print(myList)"
   ]
  },
  {
   "cell_type": "markdown",
   "metadata": {},
   "source": [
    "## 실습 공간"
   ]
  },
  {
   "cell_type": "code",
   "execution_count": null,
   "metadata": {},
   "outputs": [],
   "source": []
  },
  {
   "cell_type": "markdown",
   "metadata": {},
   "source": [
    "<br>"
   ]
  },
  {
   "cell_type": "markdown",
   "metadata": {},
   "source": [
    "#### _index()_ 함수를 이용한 _insert( ) 함수를  이용한 데이터 삽입_"
   ]
  },
  {
   "cell_type": "code",
   "execution_count": null,
   "metadata": {},
   "outputs": [],
   "source": [
    "# 원하는 위치에 데이터를 삽입\n",
    "\n",
    "myList = [1,2,3,4,6]\n",
    "pos = myList.index(4)\n",
    "myList.insert(pos+1, 5)\n",
    "print(myList)\n",
    "\n",
    "myList.insert(6, 7)\n",
    "print(myList)\n",
    "\n",
    "myList = ['월', '화', '수', '목', '토']\n",
    "pos = myList.index('목')\n",
    "myList.insert(pos+1, '금')\n",
    "print(myList)\n",
    "\n",
    "myList.insert(7, '일')\n",
    "print(myList)"
   ]
  },
  {
   "cell_type": "markdown",
   "metadata": {},
   "source": [
    "## 실습공간 (*)"
   ]
  },
  {
   "cell_type": "code",
   "execution_count": null,
   "metadata": {},
   "outputs": [],
   "source": []
  },
  {
   "cell_type": "markdown",
   "metadata": {},
   "source": [
    "<br>"
   ]
  },
  {
   "cell_type": "markdown",
   "metadata": {},
   "source": [
    "#### _del 함수를 이용한 특정 위치의 데이터 삭제_"
   ]
  },
  {
   "cell_type": "code",
   "execution_count": null,
   "metadata": {},
   "outputs": [],
   "source": [
    "# 원하는 위치에서 데이터를 삭제\n",
    "\n",
    "myList = [1,2,3,4,5,6,7] \n",
    "print(myList)\n",
    "del myList[3]\n",
    "print(myList)\n",
    "\n",
    "myList = ['월', '화', '수', '목', '금', '토', '일']\n",
    "print(myList)\n",
    "pos = myList.index('수')\n",
    "del myList[pos]\n",
    "print(myList)"
   ]
  },
  {
   "cell_type": "markdown",
   "metadata": {},
   "source": [
    "## 실습 공간"
   ]
  },
  {
   "cell_type": "code",
   "execution_count": null,
   "metadata": {},
   "outputs": [],
   "source": []
  },
  {
   "cell_type": "markdown",
   "metadata": {},
   "source": [
    "<br>"
   ]
  },
  {
   "cell_type": "markdown",
   "metadata": {},
   "source": [
    "#### _remove 함수를 이용한 특정 데이터 삭제_"
   ]
  },
  {
   "cell_type": "code",
   "execution_count": null,
   "metadata": {},
   "outputs": [],
   "source": [
    "# 특정 값을 가진 데이터를 삭제\n",
    "\n",
    "myList = [1,2,3,4,5,6,7]\n",
    "print(myList)\n",
    "myList.remove(3)\n",
    "print(myList)\n",
    "\n",
    "myList = ['월', '화', '수', '목', '금', '토', '일']\n",
    "print(myList)\n",
    "myList.remove('월')\n",
    "print(myList)"
   ]
  },
  {
   "cell_type": "markdown",
   "metadata": {},
   "source": [
    "## 실습 공간"
   ]
  },
  {
   "cell_type": "code",
   "execution_count": null,
   "metadata": {},
   "outputs": [],
   "source": []
  },
  {
   "cell_type": "markdown",
   "metadata": {},
   "source": [
    "<br>"
   ]
  },
  {
   "cell_type": "markdown",
   "metadata": {},
   "source": [
    "#### _pop( ) 함수를 이용한 데이터 삭제_\n",
    "\n",
    "기본적으로 pop( ) 함수를 호출하면 맨 뒤 요소 값을 반환하고 리스트에서 삭제하며 인덱스 값을 함수의 입력값으로 주면 해당 인덱스의 요소를 반환하고 삭제합니다."
   ]
  },
  {
   "cell_type": "code",
   "execution_count": null,
   "metadata": {},
   "outputs": [],
   "source": [
    "# 맨 뒤 요소를 반환하고 리스트에서 삭제 또는 특정 인덱스 요소를 반환하고 삭제\n",
    "\n",
    "myList = [1,2,3,4,5,6,7]\n",
    "print(myList)\n",
    "\n",
    "popedData = myList.pop()\n",
    "print('popedData : ', popedData)\n",
    "print(myList) ; print('')\n",
    "\n",
    "myList = ['월', '화', '수', '목', '금', '토', '일']\n",
    "print(myList)\n",
    "popedData = myList.pop(3)\n",
    "print('popedData[3] : ', popedData)\n",
    "print(myList)"
   ]
  },
  {
   "cell_type": "markdown",
   "metadata": {},
   "source": [
    "## 실습 공간"
   ]
  },
  {
   "cell_type": "code",
   "execution_count": null,
   "metadata": {},
   "outputs": [],
   "source": []
  },
  {
   "cell_type": "markdown",
   "metadata": {},
   "source": [
    "<br>"
   ]
  },
  {
   "cell_type": "markdown",
   "metadata": {},
   "source": [
    "#### _count() 함수를 이용하여  특정 데이터의 갯수 구하기_"
   ]
  },
  {
   "cell_type": "code",
   "execution_count": null,
   "metadata": {},
   "outputs": [],
   "source": [
    "# 특정 값을 가진 데이터의 갯수 구하기\n",
    "\n",
    "myList = [7,1,2,2,7,2,3,7,1,6,4,5,6,7, 'a', 'a', 'c', 'f']\n",
    "print(myList)\n",
    "\n",
    "cnt = myList.count('a')\n",
    "print(cnt)\n",
    "\n",
    "cnt = myList.count(7)\n",
    "print(cnt)"
   ]
  },
  {
   "cell_type": "markdown",
   "metadata": {},
   "source": [
    "## 실습 공간(*)"
   ]
  },
  {
   "cell_type": "code",
   "execution_count": null,
   "metadata": {},
   "outputs": [],
   "source": []
  },
  {
   "cell_type": "markdown",
   "metadata": {},
   "source": [
    "<br>"
   ]
  },
  {
   "cell_type": "markdown",
   "metadata": {},
   "source": [
    "#### _정렬하기 1_"
   ]
  },
  {
   "cell_type": "markdown",
   "metadata": {},
   "source": [
    "- sort( ) 함수를 이용하면 원래 리스트의 구조가 변경됨\n",
    "\n",
    "\n",
    "- 기본적으로 오름차순으로 정렬됨\n",
    "\n",
    "\n",
    "- 내림차순으로 정렬하기 위해서는 함수 입력 변수로 다음과 같이 설정\n",
    "\n",
    "~~~python\n",
    "sort(reverse=True)\n",
    "~~~"
   ]
  },
  {
   "cell_type": "code",
   "execution_count": null,
   "metadata": {},
   "outputs": [],
   "source": [
    "# 정렬하기 1 - sort( ) 함수를 이용하면 원래 리스트의 구조가 변경됨\n",
    "\n",
    "myList = [7,1,2,2,7,2,3,7,1,6,4,5,6,7]\n",
    "\n",
    "myList.sort()   # 기본적으로 오름차순으로 정렬됨\n",
    "print(myList)\n",
    "\n",
    "myList.sort(reverse=True)  # 내림차순으로 정렬됨\n",
    "print(myList)"
   ]
  },
  {
   "cell_type": "markdown",
   "metadata": {},
   "source": [
    "## 실습 공간"
   ]
  },
  {
   "cell_type": "code",
   "execution_count": null,
   "metadata": {},
   "outputs": [],
   "source": []
  },
  {
   "cell_type": "markdown",
   "metadata": {},
   "source": [
    "<br>"
   ]
  },
  {
   "cell_type": "markdown",
   "metadata": {},
   "source": [
    "#### _정렬하기 2_"
   ]
  },
  {
   "cell_type": "markdown",
   "metadata": {},
   "source": [
    "- sorted( ) 함수는 리스트 함수가 아닌 파이썬 함수\n",
    "\n",
    "\n",
    "- 정렬하더라도 원래 리스트의 순서가 변하는 것이 아니고 변환된 결과를 반환해줌\n",
    "\n",
    "\n",
    "- 원본 리스트에는 변경이 일어나지 않음\n",
    "\n",
    "\n",
    "- 기본적으로 오름차순 정렬\n",
    "\n",
    "\n",
    "- 내림차순으로 정렬하기 위해서는 함수 입력 변수로 다음과 같이 설정\n",
    "\n",
    "~~~python\n",
    "sorted(리스트 변수명, reverse=True)\n",
    "~~~"
   ]
  },
  {
   "cell_type": "code",
   "execution_count": null,
   "metadata": {},
   "outputs": [],
   "source": [
    "# 정렬하기 2 - sorted( ) 함수를 이용하면 원래 리스트는 변경이 없으며 정렬된 결과가 반환됨\n",
    "\n",
    "myList = [7,1,2,2,7,2,3,7,1,6,4,5,6,7]\n",
    "\n",
    "sortedList = sorted(myList)   # 기본적으로 오름차순으로 정렬됨\n",
    "print(sortedList)\n",
    "\n",
    "\n",
    "sortedList = sorted(myList, reverse=True)  # 내림차순으로 정렬됨\n",
    "print(sortedList)\n",
    "\n",
    "print(myList)  # 원래 리스트에는 변경이 일어나지 않음  "
   ]
  },
  {
   "cell_type": "markdown",
   "metadata": {},
   "source": [
    "## 실습 공간"
   ]
  },
  {
   "cell_type": "code",
   "execution_count": null,
   "metadata": {},
   "outputs": [],
   "source": []
  },
  {
   "cell_type": "markdown",
   "metadata": {},
   "source": [
    "<br>"
   ]
  },
  {
   "cell_type": "markdown",
   "metadata": {},
   "source": [
    "#### _enumerate( ) 를 이용하여 인덱스와 해당 요소를 가져오기_\n",
    "- enumerate() 를 적용하면 인덱스와 그에 해당하는 요소를 튜플 형태로 가져올 수 있음\n",
    "\n"
   ]
  },
  {
   "cell_type": "code",
   "execution_count": null,
   "metadata": {},
   "outputs": [],
   "source": [
    "#  리스트에 enumerate() 를 적용하면 인덱스와 그에 해당하는 요소를 튜플 형태로 가져올 수 있습니다. \n",
    "\n",
    "myList = [7,1,2,2,7,2,3,7,1,6,4,5,6,7]\n",
    "\n",
    "# TODO: print with sep='', end=''\n",
    "for i, v in enumerate(myList) :\n",
    "    print(i, v, sep=':', end=' , ')"
   ]
  },
  {
   "cell_type": "markdown",
   "metadata": {},
   "source": [
    "## 실습 공간 (*)"
   ]
  },
  {
   "cell_type": "code",
   "execution_count": null,
   "metadata": {},
   "outputs": [],
   "source": []
  },
  {
   "cell_type": "markdown",
   "metadata": {},
   "source": [
    "<br>"
   ]
  },
  {
   "cell_type": "markdown",
   "metadata": {},
   "source": [
    "#### _리스트를 구성하는 또 다른 방법 1_"
   ]
  },
  {
   "cell_type": "code",
   "execution_count": null,
   "metadata": {},
   "outputs": [],
   "source": [
    "result = [ x * 2 for x in [1,2,3,4,5]]\n",
    "\n",
    "print(result)\n",
    "\n",
    "result  = [ x * x for x in {5,6,7,8,9}]\n",
    "\n",
    "print(result)"
   ]
  },
  {
   "cell_type": "markdown",
   "metadata": {},
   "source": [
    "## 실습 공간"
   ]
  },
  {
   "cell_type": "code",
   "execution_count": null,
   "metadata": {},
   "outputs": [],
   "source": []
  },
  {
   "cell_type": "markdown",
   "metadata": {},
   "source": [
    "#### _슬라이스를 이용한 리스트 다루는 방법 1_"
   ]
  },
  {
   "cell_type": "markdown",
   "metadata": {},
   "source": [
    "numList[i:j] 이와 같은 방식에서는 numList 라는 리스트에서  시작 인덱스 i 부터 , j-1 번째까지의  범위의 자료를 부분적으로 참조할때 쓸 수 있는 방법입니다.\n",
    "\n",
    "시작 인덱스가 0 일 경우에는 생략할 수 있습니다. "
   ]
  },
  {
   "cell_type": "code",
   "execution_count": null,
   "metadata": {},
   "outputs": [],
   "source": [
    "# 시작 인덱스가 0 일 경우에는 생략 가능\n",
    "\n",
    "numList = [0,10,20,30,40,50,60,70,80,90]\n",
    "\n",
    "print(numList[:5])     # 시작인덱스 0 에서부터 4까지의 부분 자료\n",
    "\n",
    "\n",
    "# 리스트 끝까지 참조할 때에는 마지막 종료 인덱스 생략 가능\n",
    "\n",
    "numList = [0,10,20,30,40,50,60,70,80,90]\n",
    "\n",
    "print(numList[5:])\n",
    "\n",
    "# 리스트에서 부분 문자열 추출\n",
    "\n",
    "numList = [0,10,20,30,40,50,60,70,80,90]\n",
    "\n",
    "print(numList[2:5])"
   ]
  },
  {
   "cell_type": "markdown",
   "metadata": {},
   "source": [
    "## 실습 공간"
   ]
  },
  {
   "cell_type": "code",
   "execution_count": null,
   "metadata": {},
   "outputs": [],
   "source": []
  },
  {
   "cell_type": "markdown",
   "metadata": {},
   "source": [
    "<br>"
   ]
  },
  {
   "cell_type": "markdown",
   "metadata": {},
   "source": [
    "#### _슬라이스를 이용한 리스트 다루는 방법 2_"
   ]
  },
  {
   "cell_type": "markdown",
   "metadata": {},
   "source": [
    "이제까지 위에서 언급한 방법은 연속적인 부분 리스트를 가져오고자 할때 적용가능한 방법입니다. 지금 사용하는 슬라이싱 방법은 불연속적인 부분 리스트를 \n",
    "\n",
    "가져오고자 할때 적용가능한 방법입니다. "
   ]
  },
  {
   "cell_type": "code",
   "execution_count": null,
   "metadata": {},
   "outputs": [],
   "source": [
    "# 아래 예제는 시작 인덱스 : 마지막 인덱스 : 몇번째 요소 라는 형태로 이루어져 있습니다.  \n",
    "# 즉 아래 예제는 시작인덱스와 마지막 인덱스가 없기 때문에 리스트 전체를 대상으로 시작부터 \n",
    "# 매 2번째 자료를 가지고 오라는 슬라이싱 방법입니다.\n",
    "\n",
    "numList = [0,10,20,30,40,50,60,70,80,90]\n",
    "\n",
    "result = numList[::2]\n",
    "\n",
    "print(result)"
   ]
  },
  {
   "cell_type": "markdown",
   "metadata": {},
   "source": [
    "## 실습 공간"
   ]
  },
  {
   "cell_type": "code",
   "execution_count": null,
   "metadata": {},
   "outputs": [],
   "source": []
  },
  {
   "cell_type": "markdown",
   "metadata": {},
   "source": [
    "<br>"
   ]
  },
  {
   "cell_type": "code",
   "execution_count": null,
   "metadata": {},
   "outputs": [],
   "source": [
    "# 아래 예제는 시작인덱스가 -2부터 시작하여 마지막 인덱스 -6 까지의 부분 리스트에서 시작부터 \n",
    "# 매 2번째 자료만 가져오는 슬라이싱 방법입니다.\n",
    "\n",
    "numList = [0,10,20,30,40,50,60,70,80,90]\n",
    "\n",
    "result = numList[-2:-7:-2]\n",
    "\n",
    "print(result)"
   ]
  },
  {
   "cell_type": "markdown",
   "metadata": {},
   "source": [
    "## 실습 공간"
   ]
  },
  {
   "cell_type": "code",
   "execution_count": null,
   "metadata": {},
   "outputs": [],
   "source": []
  },
  {
   "cell_type": "markdown",
   "metadata": {},
   "source": [
    "<br>"
   ]
  },
  {
   "cell_type": "code",
   "execution_count": null,
   "metadata": {},
   "outputs": [],
   "source": [
    "# 아래 예제는 시작인덱스가 3부터 시작하여 리스트 끝까지  매 3번재 자료만 가지고 오는 슬라이싱 방법입니다. \n",
    "\n",
    "numList = [0,10,20,30,40,50,60,70,80,90]\n",
    "result = numList[3::3]\n",
    "\n",
    "print(result)"
   ]
  },
  {
   "cell_type": "markdown",
   "metadata": {},
   "source": [
    "## 실습 공간(*)"
   ]
  },
  {
   "cell_type": "code",
   "execution_count": null,
   "metadata": {},
   "outputs": [],
   "source": []
  },
  {
   "cell_type": "code",
   "execution_count": null,
   "metadata": {},
   "outputs": [],
   "source": []
  },
  {
   "cell_type": "markdown",
   "metadata": {},
   "source": [
    "#### _map 함수를 이용한 리스트 활용 예제_"
   ]
  },
  {
   "cell_type": "markdown",
   "metadata": {},
   "source": [
    "- map 함수는 리스트와 함께 이용하여 리스트의 자료들을 원하는 방식대로 변환하는 편리한 기능을 제공\n",
    "\n",
    "\n",
    "- 리스트뿐만 아니라 튜플에도 적용할 수 있는 함수\n",
    "\n",
    "\n",
    "- 단순히 데이터의 형변환뿐만 아니라 함수를 지정할 수도 있는 아주 유용한 기능 제공 \n",
    "\n",
    "~~~python\n",
    "\n",
    "map(기능, 데이터)\n",
    "~~~\n",
    "\n",
    "<br>\n",
    "\n",
    "- 위 함수에서 기능이라고 하는 부분이 데이터에 대해서 적용\n",
    "\n",
    "\n",
    "- 예를 들어 다음과 같이 정의가 된다면 리스트의 모든 데이터들을 문자열로 변환시키는 기능 수행\n",
    "\n",
    "<br>\n",
    "\n",
    "~~~python\n",
    "map(str, 리스트)\n",
    "~~~\n",
    "<br>"
   ]
  },
  {
   "cell_type": "markdown",
   "metadata": {},
   "source": [
    "#### _map 함수를 이용하여 리스트에서 정수형 데이터 값만 추출하는 예제_"
   ]
  },
  {
   "cell_type": "code",
   "execution_count": null,
   "metadata": {},
   "outputs": [],
   "source": [
    "# map 함수를 이용하여 실수형 데이터를 가지고 있는 리스트에 대해서 정수형 데이터 값만 추출하는 예제\n",
    "\n",
    "numList = [1.1, 4.4, 2.2, 7.7] \n",
    "\n",
    "intNumList = list(map(int, numList))\n",
    "\n",
    "print(intNumList)"
   ]
  },
  {
   "cell_type": "markdown",
   "metadata": {},
   "source": [
    "## 실습 공간"
   ]
  },
  {
   "cell_type": "code",
   "execution_count": null,
   "metadata": {},
   "outputs": [],
   "source": [
    "numList = [1.1, 4.4, 2.2, 7.7] \n",
    "\n"
   ]
  },
  {
   "cell_type": "code",
   "execution_count": null,
   "metadata": {},
   "outputs": [],
   "source": []
  },
  {
   "cell_type": "markdown",
   "metadata": {},
   "source": [
    "#### _map 함수를 이용하여 리스트에서 문자열로 변환하는 예제_"
   ]
  },
  {
   "cell_type": "code",
   "execution_count": null,
   "metadata": {},
   "outputs": [],
   "source": [
    "# map 함수를 이용하여 실수형 데이터를 가지고 있는 리스트에 대해서 문자열로 변환하는 예제\n",
    "\n",
    "numList = [1.1, 4.4, 2.2, 7.7] \n",
    "\n",
    "strNumList = list(map(str, numList))\n",
    "\n",
    "print(strNumList)"
   ]
  },
  {
   "cell_type": "markdown",
   "metadata": {},
   "source": [
    "## 실습 공간"
   ]
  },
  {
   "cell_type": "code",
   "execution_count": null,
   "metadata": {},
   "outputs": [],
   "source": []
  },
  {
   "cell_type": "markdown",
   "metadata": {},
   "source": [
    "<br>"
   ]
  },
  {
   "cell_type": "markdown",
   "metadata": {},
   "source": [
    "#### _map( ) 에 함수를 적용하여  리스트 데이터 값 변환하는 예제 1_"
   ]
  },
  {
   "cell_type": "code",
   "execution_count": null,
   "metadata": {},
   "outputs": [],
   "source": [
    "# map 함수를 적용하여 리스트 데이터 값  변환하는 예제\n",
    "\n",
    "def addOne(input) :\n",
    "    return input + 1\n",
    "\n",
    "numList = [1.1, 4.4, 2.2, 7.7] \n",
    "\n",
    "addOneNumList = list(map(addOne, numList))\n",
    "print(addOneNumList)"
   ]
  },
  {
   "cell_type": "markdown",
   "metadata": {},
   "source": [
    "## 실습 공간"
   ]
  },
  {
   "cell_type": "code",
   "execution_count": null,
   "metadata": {},
   "outputs": [],
   "source": []
  },
  {
   "cell_type": "markdown",
   "metadata": {},
   "source": [
    "<br>"
   ]
  },
  {
   "cell_type": "markdown",
   "metadata": {},
   "source": [
    "#### _map( ) 에 함수를 적용하여  리스트 데이터 값 변환하는 예제 2_"
   ]
  },
  {
   "cell_type": "code",
   "execution_count": null,
   "metadata": {},
   "outputs": [],
   "source": [
    "def addTwo(input1, input2) :\n",
    "    return input1 + input2\n",
    "\n",
    "numList1 = [1, 2, 3, 4]\n",
    "numList2 = [4, 3, 2, 1]\n",
    "\n",
    "addNumList = list(map(addTwo, numList1, numList2))\n",
    "print(addNumList)"
   ]
  },
  {
   "cell_type": "markdown",
   "metadata": {},
   "source": [
    "## 실습 공간 (*)"
   ]
  },
  {
   "cell_type": "code",
   "execution_count": null,
   "metadata": {},
   "outputs": [],
   "source": [
    "def add(val):\n",
    "    return val+1\n",
    "\n",
    "mapped = list(map(add, resut))\n",
    "print('mapped = ', mapped)"
   ]
  },
  {
   "cell_type": "markdown",
   "metadata": {},
   "source": [
    "<br>"
   ]
  },
  {
   "cell_type": "markdown",
   "metadata": {},
   "source": [
    "### 1.3. tuple"
   ]
  },
  {
   "cell_type": "markdown",
   "metadata": {},
   "source": [
    "리스트와 마찬가지로 순서가 중요하며 자료의 중복도 가능한 자료구조입니다. 일반 괄호 ( ) 를 이용하여 나타냅니다. \n",
    "\n",
    "이 자료 구조의 특징은 변경이 불가하다는데 있습니다. 즉 한번 생성된 튜플은 자료의 변경이 허락되지 않으며  이 자료구조 또한 인덱스에 기반한 자료 접근이 가능합니다. \n",
    "\n",
    "튜플은 생성시 () 를 이용하여 생성할 수도 있고 () 없이 쉼표만을 이용하여 생성할 수도 있습니다. 유의할 점은 () 없이 쉼표만을 이용하여 생성할 때 데이터가 \n",
    "\n",
    "한 개일때는 쉼표를 꼭 붙여주어야만 합니다.\n",
    "\n",
    "~~~python\n",
    "\n",
    "myTuple = ()\n",
    "\n",
    "myTuple = (1,2,3,4,5)\n",
    "\n",
    "myTuple =  1,2,3,4,5\n",
    "\n",
    "myTuple = 1,      # 데이터가 1개일때도 뒤에 쉼표를 붙여야 튜플로 인식함\n",
    "~~~"
   ]
  },
  {
   "cell_type": "code",
   "execution_count": null,
   "metadata": {},
   "outputs": [],
   "source": [
    "# 데이터가 하나일때 쉼표없이 설정하면 튜플 자료형이 아닌 일반 데이터형 변수가 됨\n",
    "\n",
    "myTuple = 1\n",
    "type(myTuple)"
   ]
  },
  {
   "cell_type": "code",
   "execution_count": null,
   "metadata": {},
   "outputs": [],
   "source": [
    "myTuple = 1,\n",
    "type(myTuple)"
   ]
  },
  {
   "cell_type": "code",
   "execution_count": null,
   "metadata": {},
   "outputs": [],
   "source": [
    "# 순서 중요, 중복 가능, 인덱스 기반 값 참조 가능\n",
    "\n",
    "myTuple = (1,1,2,2,3,4)\n",
    "\n",
    "#myTuple[1] "
   ]
  },
  {
   "cell_type": "markdown",
   "metadata": {},
   "source": [
    "## 실습 공간"
   ]
  },
  {
   "cell_type": "code",
   "execution_count": null,
   "metadata": {},
   "outputs": [],
   "source": []
  },
  {
   "cell_type": "markdown",
   "metadata": {},
   "source": [
    "<br>"
   ]
  },
  {
   "cell_type": "markdown",
   "metadata": {},
   "source": [
    "값 삭제나 변경은 불가능하지만 추가는가능"
   ]
  },
  {
   "cell_type": "code",
   "execution_count": null,
   "metadata": {},
   "outputs": [],
   "source": [
    "# 값 변경이 불가합니다\n",
    "\n",
    "myTuple = (1,1,2,2,3,4)\n",
    "#myTuple[0] = 5\n",
    "\n",
    "#del myTuple[0]\n",
    "\n",
    "myTuple = myTuple + (5,)\n",
    "\n",
    "print(myTuple)"
   ]
  },
  {
   "cell_type": "markdown",
   "metadata": {},
   "source": [
    "## 실습 공간"
   ]
  },
  {
   "cell_type": "code",
   "execution_count": null,
   "metadata": {},
   "outputs": [],
   "source": []
  },
  {
   "cell_type": "markdown",
   "metadata": {},
   "source": [
    "<br>"
   ]
  },
  {
   "cell_type": "markdown",
   "metadata": {},
   "source": [
    "#### _zip( ) 함수_"
   ]
  },
  {
   "cell_type": "markdown",
   "metadata": {},
   "source": [
    "zip( ) 은 길이가 모두 같은 다른 컬렉션으로부터 한 원소씩 모아서 튜플을 만들어주는 함수입니다."
   ]
  },
  {
   "cell_type": "code",
   "execution_count": null,
   "metadata": {},
   "outputs": [],
   "source": [
    "zipped =  list(zip([1,2,3,4], [5,6,7,8]))\n",
    "print(zipped)\n",
    "\n",
    "a = [1,2,3,4]\n",
    "b = [5,6,7,8,9,10]\n",
    "\n",
    "zipped = list(zip(a,b))\n",
    "print(zipped)\n"
   ]
  },
  {
   "cell_type": "markdown",
   "metadata": {},
   "source": [
    "## 실습 공간 (*)"
   ]
  },
  {
   "cell_type": "code",
   "execution_count": 14,
   "metadata": {},
   "outputs": [
    {
     "name": "stdout",
     "output_type": "stream",
     "text": [
      "[1, 2, 3, 4, 5], [1, 4, 9, 16, 25]\n",
      "zipped =  [(1, 1), (2, 4), (3, 9), (4, 16), (5, 25)]\n",
      "ret =  [2, 6, 12, 20, 30]\n",
      "lamb_map =  [3, 7, 13, 21, 31]\n",
      "inline_lamb_map =  [2, 6, 12, 20, 30]\n"
     ]
    }
   ],
   "source": [
    "data1 = [1,2,3,4,5]\n",
    "data2 = [x*x for x in data1]\n",
    "print(data1, data2, sep=', ')\n",
    "zipped = list(zip(data1, data2))\n",
    "print('zipped = ', zipped)\n",
    "ret = [x+y for x, y in zipped]\n",
    "print('ret = ', ret)\n",
    "\n",
    "# TODO: Lambda function\n",
    "f = lambda x : x+1\n",
    "lamb_map = list(map(f, ret))\n",
    "print('lamb_map = ', lamb_map)\n",
    "\n",
    "inline_lamb_map = list(map(lambda x, y: x+y, data1, data2))\n",
    "print('inline_lamb_map = ', inline_lamb_map)"
   ]
  },
  {
   "cell_type": "markdown",
   "metadata": {},
   "source": [
    "<br>"
   ]
  },
  {
   "cell_type": "markdown",
   "metadata": {},
   "source": [
    "### 1.4. dictionary"
   ]
  },
  {
   "cell_type": "markdown",
   "metadata": {},
   "source": [
    "딕셔너리는 키-값 쌍으로 이루어진 집합을 말합니다. 딕셔너리는 중괄호 { } 를 이용하여 나타내며 키-값 쌍은 콜론을 이용하여 표시합니다. "
   ]
  },
  {
   "cell_type": "code",
   "execution_count": null,
   "metadata": {},
   "outputs": [],
   "source": [
    "# 키-값 쌍\n",
    "\n",
    "myDic = { 'A':0, 'B':1, 'C':2, 'D':3, 'E':4, 'F':5}\n",
    "\n",
    "print(myDic['E'])"
   ]
  },
  {
   "cell_type": "markdown",
   "metadata": {},
   "source": [
    "## 실습 공간"
   ]
  },
  {
   "cell_type": "code",
   "execution_count": null,
   "metadata": {},
   "outputs": [],
   "source": []
  },
  {
   "cell_type": "markdown",
   "metadata": {},
   "source": [
    "<br>"
   ]
  },
  {
   "cell_type": "code",
   "execution_count": null,
   "metadata": {},
   "outputs": [],
   "source": [
    "# 키-값 쌍\n",
    "\n",
    "print( { 'A':0, 'B':1, 'C':2, 'D':3, 'E':4, 'F':5}['C'] )"
   ]
  },
  {
   "cell_type": "markdown",
   "metadata": {},
   "source": [
    "## 실습 공간"
   ]
  },
  {
   "cell_type": "code",
   "execution_count": null,
   "metadata": {},
   "outputs": [],
   "source": []
  },
  {
   "cell_type": "markdown",
   "metadata": {},
   "source": [
    "<br>"
   ]
  },
  {
   "cell_type": "code",
   "execution_count": null,
   "metadata": {},
   "outputs": [],
   "source": [
    "# 다음처럼  키에 값을 대입하는 형식으로 설정해줄 경우에는 키 값에 따옴표를 쓰지 않습니다.\n",
    "\n",
    "myDic = dict( A =0, B = 1,  C = 2 , D = 3, E = 4, F = 5)\n",
    "\n",
    "print(myDic['C'])"
   ]
  },
  {
   "cell_type": "markdown",
   "metadata": {},
   "source": [
    "## 실습 공간"
   ]
  },
  {
   "cell_type": "code",
   "execution_count": null,
   "metadata": {},
   "outputs": [],
   "source": []
  },
  {
   "cell_type": "markdown",
   "metadata": {},
   "source": [
    "<br>"
   ]
  },
  {
   "cell_type": "code",
   "execution_count": null,
   "metadata": {},
   "outputs": [],
   "source": [
    "# zip( ) 을 이용하여 아래와 같은 형식으로 키-값 쌍으로 설정해줄 수 있습니다. \n",
    "\n",
    "myDic = dict(zip(['A', 'B', 'C', 'D', 'E', 'F'], [0,1,2,3,4,5] ))\n",
    "\n",
    "print(myDic['C'])"
   ]
  },
  {
   "cell_type": "markdown",
   "metadata": {},
   "source": [
    "## 실습 공간"
   ]
  },
  {
   "cell_type": "code",
   "execution_count": null,
   "metadata": {},
   "outputs": [],
   "source": []
  },
  {
   "cell_type": "markdown",
   "metadata": {},
   "source": [
    "<br>"
   ]
  },
  {
   "cell_type": "code",
   "execution_count": null,
   "metadata": {},
   "outputs": [],
   "source": [
    "# 리스트와 튜플을 이용하여 아래와 같은 형식으로 키-값 쌍으로 설정해줄 수 있습니다. \n",
    "\n",
    "myDic = dict([('A', 0), ('B', 1), ('C', 2), ('D', 3), ('E', 4), ('F', 5)])\n",
    "print(myDic['E'])"
   ]
  },
  {
   "cell_type": "markdown",
   "metadata": {},
   "source": [
    "## 실습 공간"
   ]
  },
  {
   "cell_type": "code",
   "execution_count": null,
   "metadata": {},
   "outputs": [],
   "source": []
  },
  {
   "cell_type": "markdown",
   "metadata": {},
   "source": [
    "<br>"
   ]
  },
  {
   "cell_type": "code",
   "execution_count": null,
   "metadata": {},
   "outputs": [],
   "source": [
    "# 해당 키가 없을 때는 에러\n",
    "\n",
    "myDic = { 'A':0, 'B':1, 'C':2, 'D':3, 'E':4, 'F':5}\n",
    "print(myDic['G'])"
   ]
  },
  {
   "cell_type": "markdown",
   "metadata": {},
   "source": [
    "## 실습 공간"
   ]
  },
  {
   "cell_type": "code",
   "execution_count": null,
   "metadata": {},
   "outputs": [],
   "source": []
  },
  {
   "cell_type": "markdown",
   "metadata": {},
   "source": [
    "<br>"
   ]
  },
  {
   "cell_type": "code",
   "execution_count": null,
   "metadata": {},
   "outputs": [],
   "source": [
    "# 해당 키-값 쌍이 딕셔너리에 존재하는지의 여부 알아보기\n",
    "\n",
    "myDic = { 'A':0, 'B':1, 'C':2, 'D':3, 'E':4, 'F':5}\n",
    "\n",
    "print( 'A' in myDic )"
   ]
  },
  {
   "cell_type": "markdown",
   "metadata": {},
   "source": [
    "## 실습 공간"
   ]
  },
  {
   "cell_type": "code",
   "execution_count": null,
   "metadata": {},
   "outputs": [],
   "source": []
  },
  {
   "cell_type": "markdown",
   "metadata": {},
   "source": [
    "<br>"
   ]
  },
  {
   "cell_type": "markdown",
   "metadata": {},
   "source": [
    "#### _해당 '키-값' 이 딕셔너리에 존재하는지 알아보기_"
   ]
  },
  {
   "cell_type": "code",
   "execution_count": null,
   "metadata": {},
   "outputs": [],
   "source": [
    "# 해당 키-값 쌍이 딕셔너리에 존재하는지의 여부 알아보기\n",
    "\n",
    "myDic = { 'A':0, 'B':1, 'C':2, 'D':3, 'E':4, 'F':5}\n",
    "\n",
    "print(myDic['G'] ) if 'G' in myDic else print('NOT Exist')"
   ]
  },
  {
   "cell_type": "markdown",
   "metadata": {},
   "source": [
    "## 실습 공간"
   ]
  },
  {
   "cell_type": "code",
   "execution_count": null,
   "metadata": {},
   "outputs": [],
   "source": []
  },
  {
   "cell_type": "markdown",
   "metadata": {},
   "source": [
    "<br>"
   ]
  },
  {
   "cell_type": "code",
   "execution_count": null,
   "metadata": {},
   "outputs": [],
   "source": [
    "# 해당 키-값 쌍이 딕셔너리에 존재하는지의 여부 알아보기\n",
    "\n",
    "myDic = { 'A':0, 'B':1, 'C':2, 'D':3, 'E':4, 'F':5}\n",
    "\n",
    "print(myDic['E'])  if 'E' in myDic else print('NOT Exist')"
   ]
  },
  {
   "cell_type": "markdown",
   "metadata": {},
   "source": [
    "## 실습 공간(*)"
   ]
  },
  {
   "cell_type": "code",
   "execution_count": null,
   "metadata": {},
   "outputs": [],
   "source": []
  },
  {
   "cell_type": "markdown",
   "metadata": {},
   "source": [
    "<br>"
   ]
  },
  {
   "cell_type": "markdown",
   "metadata": {},
   "source": [
    "#### _딕셔너리에서 키 값만 가져오는 예제_"
   ]
  },
  {
   "cell_type": "code",
   "execution_count": null,
   "metadata": {},
   "outputs": [],
   "source": [
    "# 키-값 쌍\n",
    "\n",
    "myKeys = [ k for k in { 'A':0, 'B':1, 'C':2, 'D':3, 'E':4, 'F':5}.keys() ] \n",
    "\n",
    "print(myKeys)"
   ]
  },
  {
   "cell_type": "markdown",
   "metadata": {},
   "source": [
    "## 실습 공간"
   ]
  },
  {
   "cell_type": "code",
   "execution_count": null,
   "metadata": {},
   "outputs": [],
   "source": []
  },
  {
   "cell_type": "markdown",
   "metadata": {},
   "source": [
    "<br>"
   ]
  },
  {
   "cell_type": "markdown",
   "metadata": {},
   "source": [
    "#### _딕셔너리에서 값만 가져오는 예제_"
   ]
  },
  {
   "cell_type": "code",
   "execution_count": null,
   "metadata": {},
   "outputs": [],
   "source": [
    "# 키-값 쌍\n",
    "\n",
    "myValues = [ v for v in { 'A':0, 'B':1, 'C':2, 'D':3, 'E':4, 'F':5}.values() ] \n",
    "\n",
    "print(myValues)"
   ]
  },
  {
   "cell_type": "markdown",
   "metadata": {},
   "source": [
    "## 실습 공간"
   ]
  },
  {
   "cell_type": "code",
   "execution_count": null,
   "metadata": {},
   "outputs": [],
   "source": []
  },
  {
   "cell_type": "markdown",
   "metadata": {},
   "source": [
    "<br>"
   ]
  },
  {
   "cell_type": "markdown",
   "metadata": {},
   "source": [
    "#### _딕셔너리에서 키와 값을 동시에 가져오는 예제_"
   ]
  },
  {
   "cell_type": "code",
   "execution_count": null,
   "metadata": {},
   "outputs": [],
   "source": [
    "# items( ) 함수를 이용하여 키와 값을 동시에 가져오기 \n",
    "\n",
    "myDicList = [ ( k, v ) for k,v in { 'A':0, 'B':1, 'C':2, 'D':3, 'E':4, 'F':5}.items() ] \n",
    "\n",
    "print(myDicList)"
   ]
  },
  {
   "cell_type": "markdown",
   "metadata": {},
   "source": [
    "## 실습 공간"
   ]
  },
  {
   "cell_type": "code",
   "execution_count": null,
   "metadata": {},
   "outputs": [],
   "source": []
  },
  {
   "cell_type": "markdown",
   "metadata": {},
   "source": [
    "<br>"
   ]
  },
  {
   "cell_type": "markdown",
   "metadata": {},
   "source": [
    "#### _딕셔너리에서 get( ) 을 이용하여 값을 가져오는 예제_"
   ]
  },
  {
   "cell_type": "code",
   "execution_count": null,
   "metadata": {},
   "outputs": [],
   "source": [
    "# get( ) 함수를 이용하여 키와 값을 동시에 가져오기 \n",
    "\n",
    "myDic = { 'A':0, 'B':1, 'C':2, 'D':3, 'E':4, 'F':5}\n",
    "dicVal = myDic.get('B')\n",
    "\n",
    "print(dicVal)"
   ]
  },
  {
   "cell_type": "markdown",
   "metadata": {},
   "source": [
    "## 실습 공간"
   ]
  },
  {
   "cell_type": "code",
   "execution_count": null,
   "metadata": {},
   "outputs": [],
   "source": []
  },
  {
   "cell_type": "markdown",
   "metadata": {},
   "source": [
    "<br>"
   ]
  },
  {
   "cell_type": "markdown",
   "metadata": {},
   "source": [
    "#### _딕셔너리에서 update( ) 을 이용하여 새로운 요소 삽입하는 예제_"
   ]
  },
  {
   "cell_type": "code",
   "execution_count": null,
   "metadata": {},
   "outputs": [],
   "source": [
    "# update( ) 함수를 이용하여 새로운 요소 삽입하기\n",
    "\n",
    "myDic = { 'A':0, 'B':1, 'C':2, 'D':3, 'E':4, 'F':5}\n",
    "myDic.update({'Z':10})\n",
    "\n",
    "print(myDic)\n",
    "\n",
    "myDic['K'] = 10\n",
    "print(myDic)"
   ]
  },
  {
   "cell_type": "markdown",
   "metadata": {},
   "source": [
    "## 실습 공간(*)"
   ]
  },
  {
   "cell_type": "code",
   "execution_count": null,
   "metadata": {},
   "outputs": [],
   "source": []
  },
  {
   "cell_type": "markdown",
   "metadata": {},
   "source": [
    "#### _딕셔너리에서 요소 삭제하는 예제_"
   ]
  },
  {
   "cell_type": "code",
   "execution_count": null,
   "metadata": {},
   "outputs": [],
   "source": [
    "# update( ) 함수를 이용하여 새로운 요소 삽입하기\n",
    "\n",
    "myDic = { 'A':0, 'B':1, 'C':2, 'D':3, 'E':4, 'F':5}\n",
    "\n",
    "print(myDic)\n",
    "\n",
    "del myDic['B']\n",
    "         \n",
    "print(myDic)"
   ]
  },
  {
   "cell_type": "markdown",
   "metadata": {},
   "source": [
    "### 실습 공간 "
   ]
  },
  {
   "cell_type": "code",
   "execution_count": null,
   "metadata": {},
   "outputs": [],
   "source": []
  },
  {
   "cell_type": "markdown",
   "metadata": {},
   "source": [
    "<br>"
   ]
  },
  {
   "cell_type": "markdown",
   "metadata": {},
   "source": [
    "### 1.5. 함수의 구현"
   ]
  },
  {
   "cell_type": "markdown",
   "metadata": {},
   "source": [
    "- 반복적으로 자주 구현되는 부분을 함수로 구현해 놓으면 코드를 깔끔하고 만들수 있음\n",
    "\n",
    "\n",
    "- 코드의 유지 보수가 용이하게 만들어줌\n",
    "\n",
    "\n",
    "- 복잡하게 길게 구현된 코드는 기능 단위별로 함수로 대체하면 잠재적 버그를 미리 막을 수 있음\n",
    "\n",
    "\n",
    "- 기본 형태는 다음과 같음\n",
    "\n",
    "<br>\n",
    "\n",
    "~~~python\n",
    "def 함수명 (입력변수1, 입력변수2, .........) :    # <== 마지막에 콜론을 잊으면 안됩니다.\n",
    "    \n",
    "    코드 작성\n",
    "    ............\n",
    "    ............\n",
    "    \n",
    "~~~\n",
    " <br>\n",
    "\n",
    "\n",
    "\n",
    "- 맨 처음에 있는 def 키워드는 함수의 정의가 시작된다는 것을 가르키는 키워드\n",
    "\n",
    "\n",
    "- 위와 같은 형태로 함수를 정의하고 함수 내부에 코드를 작성하면 됨\n",
    "\n",
    "\n",
    "- 함수 정의가 시작되는 첫 라인을 header 라고 하며 콜론으로 끝맺음을 해야 함\n",
    "\n",
    "\n",
    "- 구현 코드가 들어 있는 함수내부를 body 라고 하며 body 코드 작성시에는  들여쓰기를     \n",
    "  한 후에 작성해야 하며 함수 작성을 끝낼 때에는 마지막 라인을 빈칸으로 끝맺음을 하면 함수 정의 완료됨\n",
    "  \n",
    "  \n",
    "\n",
    "#### 1.5.1 사용자 정의 함수의 여러 구현 형태\n",
    "\n",
    "\n",
    "#### _입력변수와 반환값이 모두 없는 함수_"
   ]
  },
  {
   "cell_type": "code",
   "execution_count": null,
   "metadata": {},
   "outputs": [],
   "source": [
    "# 함수 예 1\n",
    "\n",
    "def sayHello( ) :\n",
    "    print('안녕하세요')\n",
    "    \n",
    "    \n",
    "sayHello()"
   ]
  },
  {
   "cell_type": "markdown",
   "metadata": {},
   "source": [
    "## 실습 공간"
   ]
  },
  {
   "cell_type": "code",
   "execution_count": null,
   "metadata": {},
   "outputs": [],
   "source": []
  },
  {
   "cell_type": "markdown",
   "metadata": {},
   "source": [
    "<br>"
   ]
  },
  {
   "cell_type": "markdown",
   "metadata": {},
   "source": [
    "- 위에서 정의된 sayHello( ) 함수는 괄호안에 어떤 값도 들어 있지 함수로 정의됨\n",
    "\n",
    "\n",
    "#### _입력변수는 있고 반환값이 없는 함수_"
   ]
  },
  {
   "cell_type": "code",
   "execution_count": null,
   "metadata": {},
   "outputs": [],
   "source": [
    "def sayHello2(param) :\n",
    "    print(param, '안녕하세요')\n",
    "    \n",
    "sayHello2('홍길동씨')"
   ]
  },
  {
   "cell_type": "markdown",
   "metadata": {},
   "source": [
    "## 실습 공간"
   ]
  },
  {
   "cell_type": "code",
   "execution_count": null,
   "metadata": {},
   "outputs": [],
   "source": []
  },
  {
   "cell_type": "markdown",
   "metadata": {},
   "source": [
    "<br>"
   ]
  },
  {
   "cell_type": "markdown",
   "metadata": {},
   "source": [
    "#### _입력변수도 있고 반환값도 있는 함수_\n",
    "\n",
    "- 함수를 작성하면서 함수안의 결과를 반환하는 형태로도 구현할 수 있음\n",
    "\n",
    "\n",
    "- 함수의 반환값을 가지고 또 다른 연산을 할 수 있는 것\n",
    "\n",
    "\n",
    "- 반환값은 return 이라는 코드를 통해 값의 반환이 이루어짐"
   ]
  },
  {
   "cell_type": "code",
   "execution_count": null,
   "metadata": {},
   "outputs": [],
   "source": [
    "def add(input1, input2) :\n",
    "    return input1 + input2\n",
    "\n",
    "addResult = add(1,5)\n",
    "\n",
    "print('{} + {} = {}'.format(1,5,addResult))"
   ]
  },
  {
   "cell_type": "markdown",
   "metadata": {},
   "source": [
    "## 실습 공간"
   ]
  },
  {
   "cell_type": "code",
   "execution_count": null,
   "metadata": {},
   "outputs": [],
   "source": []
  },
  {
   "cell_type": "markdown",
   "metadata": {},
   "source": [
    "<br>"
   ]
  },
  {
   "cell_type": "markdown",
   "metadata": {},
   "source": [
    "#### 8.2.2. 함수의 입력 변수의 기본값 활용하기\n",
    "\n",
    " - 함수을 정의하면서 입력 매개 변수가 있는 정의를 하였을 경우에는 반드시 함수 호출시    \n",
    "   입력 매개변수에 대한 값을 할당해야 함\n",
    "\n",
    "~~~python\n",
    "def needParam(param) :\n",
    "    print('Input Value :', param)\n",
    "~~~\n",
    "\n",
    "\n",
    "#### _함수 설정시 초기값이 없는 입력 매개변수에 값을 할당하지 않아 에러 발생_"
   ]
  },
  {
   "cell_type": "code",
   "execution_count": null,
   "metadata": {},
   "outputs": [],
   "source": [
    "def needParam(param) :\n",
    "    print('Input Value :', param)\n",
    "    \n",
    "needParam()"
   ]
  },
  {
   "cell_type": "markdown",
   "metadata": {},
   "source": [
    "#### _함수 설정시 입력 매개변수에 초기값 설정_\n",
    "\n",
    "\n",
    "- 위 예에서 알 수 있듯이 입력 매개변수에 값을 반드시 할당해야만 에러를 피할수 있음\n",
    "\n",
    "\n",
    "- 함수 정의시 입력 매개 변수에 다음과 같이 할당하면 함수 호출시 입력 매개 변수값이 생략되더라도   \n",
    "  에러를 발생하는게 아니고 함수 정의시 설정된 기본값을 가지고 처리를 하여 정상적으로 실행됨.\n",
    "\n",
    "def needParam(param='Hello') :\n",
    "    print('Input Value :', param)\n",
    "    \n",
    "needParam()    \n",
    "\n",
    "\n",
    "- 입력 매개 변수가 하나인 경우는 위의 예제처럼 간단함\n",
    "\n",
    "\n",
    "- 여러 매개 변수가 있을 경우에 일부는 함수 정의시 초기값을 주고 일부 매개변수는 초기값을      \n",
    "  주지 않을 경우에는 좀 더 세심히 다루어야 함\n",
    "\n",
    "\n",
    "#### _함수 정의시 초기값이 설정되지 않은 owner 매개변수는 반드시 값을 설정해줘야 하는데 생략되서 에러 발생_"
   ]
  },
  {
   "cell_type": "code",
   "execution_count": null,
   "metadata": {},
   "outputs": [],
   "source": [
    "# 함수 정의시 초기값이 설정되지 않은 owner 매개변수는 반드시 값을 설정해줘야 하는데 생략되서 에러 발생\n",
    "\n",
    "def myHome(owner, numOfPeople = 4, address='서울') :\n",
    "    print('집주인 : {},  주소 : {}, 가족인원 : {} '.format( owner, address, numOfPeople) )\n",
    "\n",
    "#myHome()\n",
    "\n",
    "\n",
    "\n",
    "def myHome(owner, numOfPeople = 4, address='서울') :\n",
    "    print('집주인 : {},  주소 : {}, 가족인원 : {} '.format( owner, address, numOfPeople) )\n",
    "    \n",
    "myHome( '홍길동')"
   ]
  },
  {
   "cell_type": "markdown",
   "metadata": {},
   "source": [
    "## 실습 공간"
   ]
  },
  {
   "cell_type": "code",
   "execution_count": null,
   "metadata": {},
   "outputs": [],
   "source": []
  },
  {
   "cell_type": "code",
   "execution_count": null,
   "metadata": {},
   "outputs": [],
   "source": []
  },
  {
   "cell_type": "code",
   "execution_count": null,
   "metadata": {},
   "outputs": [],
   "source": []
  },
  {
   "cell_type": "markdown",
   "metadata": {},
   "source": [
    "<br>"
   ]
  },
  {
   "cell_type": "markdown",
   "metadata": {},
   "source": [
    "<br>\n",
    "\n",
    "__*파이썬에서는 함수의 매개변수에 값을 할당시 매개 변수명과 함께 직접 값을 할당하는 방식도 지원하며 이런 방식을 키워드 인자 설정 방식이라고 합니다.*__\n",
    "\n",
    "\n",
    "\n",
    "#### _키워드 인자 설정 방식 예제 1_"
   ]
  },
  {
   "cell_type": "code",
   "execution_count": null,
   "metadata": {},
   "outputs": [],
   "source": [
    "# 키워드 인자 설정 방식 예제 1\n",
    "def myHome(owner, numOfPeople = 4, address='서울') :\n",
    "    print('집주인 : {},  주소 : {}, 가족인원 : {} '.format( owner, address, numOfPeople) )\n",
    "    \n",
    "myHome(owner = '홍길동', numOfPeople = 10, address = '호주')"
   ]
  },
  {
   "cell_type": "markdown",
   "metadata": {},
   "source": [
    "####  _키워드 인자 설정 방식 예제 2_ - 변수들의 위치가 달라져도 키워드 기반으로 변수들의 값을 인식하기 때문에 정상적으로 처리가 됨"
   ]
  },
  {
   "cell_type": "code",
   "execution_count": null,
   "metadata": {},
   "outputs": [],
   "source": [
    "# 키워드 인자 설정 방식 예제 2\n",
    "# 변수들의 위치가 달라져도 키워드 기반으로 변수들의 값을 인식하기 때문에 정상적으로 처리가 됨\n",
    "\n",
    "def myHome(owner, numOfPeople = 4, address='서울') :\n",
    "    print('집주인 : {},  주소 : {}, 가족인원 : {} '.format( owner, address, numOfPeople) )\n",
    "    \n",
    "myHome(address = '호주', owner = '홍길동', numOfPeople = 10 )"
   ]
  },
  {
   "cell_type": "markdown",
   "metadata": {},
   "source": [
    "## 실습 공간"
   ]
  },
  {
   "cell_type": "code",
   "execution_count": null,
   "metadata": {},
   "outputs": [],
   "source": []
  },
  {
   "cell_type": "code",
   "execution_count": null,
   "metadata": {},
   "outputs": [],
   "source": []
  },
  {
   "cell_type": "code",
   "execution_count": null,
   "metadata": {},
   "outputs": [],
   "source": []
  },
  {
   "cell_type": "markdown",
   "metadata": {},
   "source": [
    "<br>"
   ]
  },
  {
   "cell_type": "markdown",
   "metadata": {},
   "source": [
    "<br><br>\n",
    "\n",
    "**그럼 다음과 같은 형식으로 함수를 호출하면 어떻게 될까요 ?**"
   ]
  },
  {
   "cell_type": "code",
   "execution_count": null,
   "metadata": {},
   "outputs": [],
   "source": [
    "# 키워드 인자 설정 방식뒤에  위치 인자 설정방식이 있는 함수 호출\n",
    "\n",
    "def myHome(owner, numOfPeople = 4, address='서울') :\n",
    "    print('집주인 : {},  주소 : {}, 가족인원 : {} '.format( owner, address, numOfPeople) )\n",
    "    \n",
    "myHome(owner = '홍길동',  10)"
   ]
  },
  {
   "cell_type": "markdown",
   "metadata": {},
   "source": [
    "- 위 예제는 예러가 발생하는 이유는 다음과 같음\n",
    "\n",
    "\n",
    "- 파이썬에서는 함수의 매개변수에 값을 할당시 키워드 인자 방식으로 하면 변수들의 위치가 달라져도    \n",
    "  키워드 기반으로 인식하기 때문에 정상적으로 처리\n",
    "  \n",
    " \n",
    "- 키워드 인자 값 설정 방식 다음부터는 변수들의 위치가 달라질수도 있다는 전제가 붙기 때문에 매개 변수들의     \n",
    "  정확한 값을 알기 위해서는 키워드 인자 방식이어야만 정상적으로 처리를 하도록 하고 있음\n",
    "  \n",
    "  \n",
    "- 따라서 키워드 인자 방식으로 값을 설정하는 경우에는 다음에 위치하는 매개변수 인자도 동일하게 키워드 인자 방식으로      \n",
    "  값을 설정해주면 에러를 방지할수 있음"
   ]
  },
  {
   "cell_type": "code",
   "execution_count": null,
   "metadata": {},
   "outputs": [],
   "source": [
    "# 위치 인자 기반으로 값을 설정할 경우에는 매개 변수의 순서를 지켜야 함\n",
    "\n",
    "def myHome(owner, numOfPeople = 4, address='서울') :\n",
    "    print('집주인 : {},  주소 : {}, 가족인원 : {} '.format( owner, address, numOfPeople) )\n",
    "\n",
    "myHome('홍길동', 5, '미국')\n",
    "\n",
    "myHome('홍길동', '미국', 10)  # <= 매개 변수의 순서가 올바르지 않아서 잘못된 정보를 처리함"
   ]
  },
  {
   "cell_type": "markdown",
   "metadata": {},
   "source": [
    "## 실습 공간"
   ]
  },
  {
   "cell_type": "code",
   "execution_count": null,
   "metadata": {},
   "outputs": [],
   "source": []
  },
  {
   "cell_type": "code",
   "execution_count": null,
   "metadata": {},
   "outputs": [],
   "source": []
  },
  {
   "cell_type": "code",
   "execution_count": null,
   "metadata": {},
   "outputs": [],
   "source": []
  },
  {
   "cell_type": "markdown",
   "metadata": {},
   "source": [
    "<br>"
   ]
  },
  {
   "cell_type": "markdown",
   "metadata": {},
   "source": [
    "#### 1.5.2. 함수 가변 인자 리스트 활용하기\n",
    "\n",
    "\n",
    "- 매개 변수의 수가 가변적으로 변할 때 대응할 수 있는 가변 인자 리스트\n",
    "\n",
    "\n",
    "- 파이썬에서는 함수에 전달하고자 하는 가변 인자 리스트를 다룰때 앞서 다룬 자료 구조인    \n",
    "  튜플과 딕셔너리 형태로 처리할 수 있는 구조를 제공하고 있음\n",
    "\n",
    "\n",
    "#### 1.5.2.1. 튜플 가변 인자 리스트\n",
    "\n",
    "\n",
    "- 튜플 형태의 가변 인자 리스트를 함수의 인자로 쓸 수 있음 \n",
    "\n",
    "\n",
    "#### _튜블 가변 인자 리스트 : * 하나를 이용하여 표시_"
   ]
  },
  {
   "cell_type": "code",
   "execution_count": null,
   "metadata": {},
   "outputs": [],
   "source": [
    "# 별표( * ) 를 이용하여  튜플 가변 인자 리스트를 표현하는 예제 1\n",
    "\n",
    "def addNum(*nums) :\n",
    "    sum = 0;\n",
    "    for x in nums :\n",
    "        sum += x;\n",
    "        \n",
    "    print('Sum :', sum)\n",
    "    \n",
    "addNum(1,2,3,4,5)    "
   ]
  },
  {
   "cell_type": "markdown",
   "metadata": {},
   "source": [
    "## 실습 공간"
   ]
  },
  {
   "cell_type": "code",
   "execution_count": null,
   "metadata": {},
   "outputs": [],
   "source": [
    "def my_fn(my_list):\n",
    "    for i in my_list:\n",
    "        print(i)     \n",
    "my_fn([1,2,3])\n",
    "\n",
    "def my_fn2(a, b, c):\n",
    "    print(a)\n",
    "    print(b)\n",
    "    print(c)\n",
    "my_fn2(4,5,6)\n",
    "\n",
    "def my_fn3(*data):\n",
    "    for i in data:\n",
    "        print(i)\n",
    "my_fn3(7,8,9,10)"
   ]
  },
  {
   "cell_type": "code",
   "execution_count": null,
   "metadata": {},
   "outputs": [],
   "source": [
    "# 별표( * ) 를 이용하여  튜플 가변 인자 리스트를 표현하는 예제 2\n",
    "\n",
    "def myAllCars(*names) :\n",
    "    carList = '';\n",
    "    for x in names :\n",
    "        carList += x + ', '\n",
    "        \n",
    "    print('Car List:', carList)\n",
    "    \n",
    "myAllCars('BMW', 'Benz', 'Audi')    "
   ]
  },
  {
   "cell_type": "markdown",
   "metadata": {},
   "source": [
    "## 실습 공간"
   ]
  },
  {
   "cell_type": "code",
   "execution_count": null,
   "metadata": {},
   "outputs": [],
   "source": []
  },
  {
   "cell_type": "markdown",
   "metadata": {},
   "source": [
    "<br>"
   ]
  },
  {
   "cell_type": "markdown",
   "metadata": {},
   "source": [
    "#### 1.5.2.2. 딕셔너리 가변 인자 리스트\n",
    "\n",
    "\n",
    "- 딕셔너리 가변 인자 리스트는 키와 값을 가진 형태로 제공되어야 하며 다음과 같은 형식을 가짐"
   ]
  },
  {
   "cell_type": "code",
   "execution_count": null,
   "metadata": {},
   "outputs": [],
   "source": [
    "# 별표 두개 ( ** )  를 이용하여 딕셔너리 가변 인자 리스트를 표현하는 예제 1\n",
    "\n",
    "def carInfos(**carPlates) :\n",
    "    for k in carPlates.keys() :\n",
    "        print('차 종류 :', k)\n",
    "        \n",
    "carInfos(Audi = '1234', BMW='5643', Benz='9234')      "
   ]
  },
  {
   "cell_type": "markdown",
   "metadata": {},
   "source": [
    "## 실습 공간"
   ]
  },
  {
   "cell_type": "code",
   "execution_count": 15,
   "metadata": {},
   "outputs": [
    {
     "name": "stdout",
     "output_type": "stream",
     "text": [
      "{'a': 100, 'b': 200}\n",
      "{'a': 100, 'b': 200}\n",
      "a 100\n",
      "b 200\n"
     ]
    }
   ],
   "source": [
    "def my_fn(**data):\n",
    "    for i, j in data.items():\n",
    "        print(i,j)\n",
    "my_dict1 = {'a':100, 'b':200}\n",
    "my_dict2 = dict(a=100, b=200)\n",
    "\n",
    "print(my_dict1)\n",
    "print(my_dict2)\n",
    "\n",
    "# TODO: unpacking with aster-risk\n",
    "my_fn(**my_dict1)"
   ]
  },
  {
   "cell_type": "markdown",
   "metadata": {},
   "source": [
    "<br>"
   ]
  },
  {
   "cell_type": "code",
   "execution_count": null,
   "metadata": {},
   "outputs": [],
   "source": [
    "# 별표 두개 ( ** )  를 이용하여 딕셔너리 가변 인자 리스트를 표현하는 예제 2\n",
    "\n",
    "def carInfos(**carPlates) :\n",
    "    for (k, v) in carPlates.items() :\n",
    "        print('{} - {} :'.format(k,v))\n",
    "\n",
    "        \n",
    "carInfos(Audi = '1234', BMW='5643', Benz='9234')"
   ]
  },
  {
   "cell_type": "markdown",
   "metadata": {},
   "source": [
    "## 실습 공간"
   ]
  },
  {
   "cell_type": "code",
   "execution_count": null,
   "metadata": {},
   "outputs": [],
   "source": []
  },
  {
   "cell_type": "markdown",
   "metadata": {},
   "source": [
    "<br>"
   ]
  },
  {
   "cell_type": "markdown",
   "metadata": {},
   "source": [
    "*************\n",
    "### 1.6. 람다 함수 / map 함수 / filter 함수\n",
    "\n",
    "\n",
    "\n",
    "- 이제까지 함수를 구현하는데 있어서 def 키워드를 사용함\n",
    "\n",
    "\n",
    "- 람다는 좀 더 간단한 형식으로 함수를 구현할 수 있는 구문\n",
    "\n",
    "\n",
    "- def 키워드 없이 한 줄로 함수를 표현할 수 있게 하여 함수의 인자로 이용하거나 리스트같은     \n",
    "  자료구조의 데이터 처리에도 쓰일 수 있는 유용한 기능\n",
    "  \n",
    "  \n",
    "- 처음에는 낯설지만 익숙해지면 유용하게 쓰일 수 있는 기능이므로 반드시 익히도록 합시다. \n",
    "\n",
    "\n",
    "- 유용성을 확인하기 위해 우선 list 에서 살펴봤던 map 함수가 같이 쓰인 코드를 다시 보도록 합시다. \n",
    "\n",
    "\n",
    "- 우선 람다 기본 형식은 다음과 같음\n",
    "\n",
    "~~~python\n",
    "lambda 변수 : 변수연산 \n",
    "~~~\n",
    "\n",
    "#### _map( ) 함수를 이용하여 리스트에 대해서 함수를 적용한 예제_"
   ]
  },
  {
   "cell_type": "code",
   "execution_count": null,
   "metadata": {},
   "outputs": [],
   "source": [
    "# map 함수를 이용하여 리스트에 대해서 함수를 적용하여  변환하는 예제\n",
    "\n",
    "def addOne(input) :\n",
    "    return input + 1\n",
    "\n",
    "numList = [1.1, 4.4, 2.2, 7.7] \n",
    "addOneNumList = list(map(addOne, numList))\n",
    "print(addOneNumList)"
   ]
  },
  {
   "cell_type": "markdown",
   "metadata": {},
   "source": [
    "## 실습 공간"
   ]
  },
  {
   "cell_type": "code",
   "execution_count": null,
   "metadata": {},
   "outputs": [],
   "source": []
  },
  {
   "cell_type": "markdown",
   "metadata": {},
   "source": [
    "<br>"
   ]
  },
  {
   "cell_type": "markdown",
   "metadata": {},
   "source": [
    "<br>\n",
    "\n",
    "- 위 코드에서 map 함수의 인자로 쓰인 addOne( ) 함수는 기능이 단순한 함수임\n",
    "\n",
    "\n",
    "- 이런 경우에 함수를 정의하고 호출하는 대신 람다를 이용하여 함수 기능을 구현할 수도 있음\n",
    "\n",
    "\n",
    "-  위 코드를 람다를 이용한 코드는 다음과 같음\n",
    "\n",
    "\n",
    "#### _map 함수를 이용하여 리스트에 대해서 람다 함수를 적용하여  변환하는 예제_"
   ]
  },
  {
   "cell_type": "code",
   "execution_count": null,
   "metadata": {},
   "outputs": [],
   "source": [
    "# map 함수를 이용하여 리스트에 대해서 람다 함수를 적용하여  변환하는 예제\n",
    "\n",
    "numList = [1.1, 4.4, 2.2, 7.7] \n",
    "addOneNumList = list(map(lambda x : x + 1, numList))\n",
    "print(addOneNumList)"
   ]
  },
  {
   "cell_type": "markdown",
   "metadata": {},
   "source": [
    "## 실습 공간"
   ]
  },
  {
   "cell_type": "code",
   "execution_count": null,
   "metadata": {},
   "outputs": [],
   "source": []
  },
  {
   "cell_type": "markdown",
   "metadata": {},
   "source": [
    "<br>"
   ]
  },
  {
   "cell_type": "markdown",
   "metadata": {},
   "source": [
    "#### _map 함수와 람다 함수를 이용하여 두개의 리스트의 각각 데이터의 곱한 결과를 가져오는 예제_"
   ]
  },
  {
   "cell_type": "code",
   "execution_count": null,
   "metadata": {},
   "outputs": [],
   "source": [
    "# map 함수와 람다 함수를 이용하여 두개의 리스트의 각각 데이터의 곱한 결과를 가져오는 예제\n",
    "\n",
    "numList1 = [1, 4, 2, 7]\n",
    "numList2 = [2, 3, 4, 5]\n",
    "\n",
    "MultiplyNumList = list(map(lambda x, y : x * y, numList1, numList2))\n",
    "\n",
    "print(MultiplyNumList)"
   ]
  },
  {
   "cell_type": "markdown",
   "metadata": {},
   "source": [
    "## 실습 공간"
   ]
  },
  {
   "cell_type": "code",
   "execution_count": null,
   "metadata": {},
   "outputs": [],
   "source": []
  },
  {
   "cell_type": "markdown",
   "metadata": {},
   "source": [
    "<br>"
   ]
  },
  {
   "cell_type": "markdown",
   "metadata": {},
   "source": [
    "<br>\n",
    "\n",
    "- 람다함수는 기본적으로 함수명이 존재하지 않기 때문에  익명 함수(anonymous function) 로 부르기도 함\n",
    "\n",
    "\n",
    "- 유의할 점은 람다 함수내에서 새로운 변수를 설정하는 것은 허용하지 않음 \n",
    "\n",
    "\n",
    "- 외부 변수를 사용하는 것은 가능\n",
    "\n",
    "\n",
    "다음 예체를 참고하세요\n",
    "\n",
    "\n",
    "\n",
    "#### _함수명을 이용하는 람다 예제_"
   ]
  },
  {
   "cell_type": "code",
   "execution_count": null,
   "metadata": {},
   "outputs": [],
   "source": [
    "# 함수명을 이용하는 람다 예제\n",
    "\n",
    "addFunc = lambda  x : x + 1\n",
    "\n",
    "numList = [1.1, 4.4, 2.2, 7.7] \n",
    "addOneNumList = list(map(addFunc, numList))\n",
    "\n",
    "print(addOneNumList)"
   ]
  },
  {
   "cell_type": "markdown",
   "metadata": {},
   "source": [
    "## 실습 공간"
   ]
  },
  {
   "cell_type": "code",
   "execution_count": null,
   "metadata": {},
   "outputs": [],
   "source": []
  },
  {
   "cell_type": "markdown",
   "metadata": {},
   "source": [
    "<br>"
   ]
  },
  {
   "cell_type": "markdown",
   "metadata": {},
   "source": [
    "#### _함수 호출과 비슷한 형태의 람다 예제_"
   ]
  },
  {
   "cell_type": "code",
   "execution_count": null,
   "metadata": {},
   "outputs": [],
   "source": [
    "# 함수 호출과 비슷한 형태의 람다 예제\n",
    "\n",
    "value = ( lambda  x : x + 1 ) ( 10 )\n",
    "print(value)"
   ]
  },
  {
   "cell_type": "markdown",
   "metadata": {},
   "source": [
    "## 실습 공간"
   ]
  },
  {
   "cell_type": "code",
   "execution_count": null,
   "metadata": {},
   "outputs": [],
   "source": []
  },
  {
   "cell_type": "markdown",
   "metadata": {},
   "source": [
    "<br>"
   ]
  },
  {
   "cell_type": "markdown",
   "metadata": {},
   "source": [
    "#### _외부 변수 이용 람다 예제_"
   ]
  },
  {
   "cell_type": "code",
   "execution_count": null,
   "metadata": {},
   "outputs": [],
   "source": [
    "# 외부 변수 이용 람다 예제\n",
    "\n",
    "input = 5\n",
    "value = ( lambda  x : x + input) ( 10 )\n",
    "print(value)"
   ]
  },
  {
   "cell_type": "markdown",
   "metadata": {},
   "source": [
    "#### _매개 변수 없는 람다 예제_"
   ]
  },
  {
   "cell_type": "code",
   "execution_count": null,
   "metadata": {},
   "outputs": [],
   "source": [
    "# 매개 변수 없는 람다 예제\n",
    "\n",
    "input = 5\n",
    "value = ( lambda :  input) ( )\n",
    "print(value)"
   ]
  },
  {
   "cell_type": "markdown",
   "metadata": {},
   "source": [
    "## 실습 공간"
   ]
  },
  {
   "cell_type": "code",
   "execution_count": null,
   "metadata": {},
   "outputs": [],
   "source": []
  },
  {
   "cell_type": "code",
   "execution_count": null,
   "metadata": {},
   "outputs": [],
   "source": []
  },
  {
   "cell_type": "markdown",
   "metadata": {},
   "source": [
    "<br>"
   ]
  },
  {
   "cell_type": "markdown",
   "metadata": {},
   "source": [
    "<br>\n",
    "\n",
    "- map 함수내에서 람다 함수를 이용하여 코드를 구현할 때 일반 함수와 마찬가지로 if 조건문도 쓸 수 있음\n",
    "\n",
    "\n",
    "- if 조건문 사용시 반드시 else 문도 써야 하며 elif 도 사용할 수 없는 제약이 있음\n",
    "\n",
    "\n",
    "- 따라서 조건인 여러 가지인 경우는 복잡한 구성이 이루어지게 됨\n",
    "\n",
    "\n",
    "- 람다 함수는 비교적 단순한 함수를 대체하고자 하는 것이 목적임\n",
    "\n",
    "\n",
    "- 코드가 복잡해지는 경우는 굳이  람다 함수대신 함수로 구현하는 것이 좋은 방법\n",
    "\n",
    "\n",
    "\n",
    "#### _map 함수와 람다 함수내에 if ~ else 조건문을 이용하여 리스트의 데이터에서 짝수만  문자열로 변환하는 예제_"
   ]
  },
  {
   "cell_type": "code",
   "execution_count": 16,
   "metadata": {},
   "outputs": [
    {
     "name": "stdout",
     "output_type": "stream",
     "text": [
      "[0, 1, 2, 3, 4, 5, 6, 7, 8, 9]\n",
      "['0', 1, '2', 3, '4', 5, '6', 7, '8', 9]\n",
      "[0, '1', 2, '3', 4, '5', 6, '7', 8, '9']\n"
     ]
    }
   ],
   "source": [
    "# map 함수와 람다 함수내에 if ~ else 조건문을 이용하여 리스트의 데이터에서 짝수만  문자열로 변환하는 예제\n",
    "    \n",
    "numList = list(range(10))\n",
    "print(numList)\n",
    "\n",
    "evenNumList = list(map(lambda x : str(x) if x % 2 == 0 else x , numList))\n",
    "print(evenNumList)\n",
    "\n",
    "# TODO: filtering with & for even/odd numbers\n",
    "oddNumList = list(map(lambda x : str(x) if x & 1 == 1 else x , numList))\n",
    "print(oddNumList)"
   ]
  },
  {
   "cell_type": "markdown",
   "metadata": {},
   "source": [
    "## 실습 공간"
   ]
  },
  {
   "cell_type": "code",
   "execution_count": null,
   "metadata": {},
   "outputs": [],
   "source": []
  },
  {
   "cell_type": "markdown",
   "metadata": {},
   "source": [
    "<br>"
   ]
  },
  {
   "cell_type": "markdown",
   "metadata": {},
   "source": [
    "<br>\n",
    "\n",
    "- map 함수 이외에도 컬렉션과 어울려 코딩을 수월하게 해주는 filter 함수가 있음\n",
    "\n",
    "\n",
    "- filter 함수는 해당 조건에 맞는 데이터만 추출할 수 있는 함수임\n",
    "\n",
    "\n",
    "- filter 함수내에 정의된 람다 함수의 조건값이 True 일 경우에 해당하는 데이터값만 추려내는 것\n",
    "\n",
    "\n",
    "\n",
    "#### _filter 함수와 람다 함수를  이용하여 리스트의 데이터에서 짝수 추출하는 예제_"
   ]
  },
  {
   "cell_type": "code",
   "execution_count": null,
   "metadata": {},
   "outputs": [],
   "source": [
    "# filter 함수와 람다 함수를  이용하여 리스트의 데이터에서 짝수 추출하는 예제\n",
    "    \n",
    "numList = list(range(10))\n",
    "print(numList)\n",
    "\n",
    "evenNumList = list(filter(lambda x :  x % 2 == 0  , numList))\n",
    "print(evenNumList)"
   ]
  },
  {
   "cell_type": "markdown",
   "metadata": {},
   "source": [
    "## 실습 공간"
   ]
  },
  {
   "cell_type": "code",
   "execution_count": 18,
   "metadata": {},
   "outputs": [
    {
     "name": "stdout",
     "output_type": "stream",
     "text": [
      "255\n",
      "8\n",
      "16\n"
     ]
    }
   ],
   "source": [
    "# TODO: radix numbers in Python\n",
    "num2 = 0b11111111\n",
    "print(num2)\n",
    "num8 = 0o10\n",
    "print(num8)\n",
    "num16 = 0x10\n",
    "print(num16)"
   ]
  },
  {
   "cell_type": "markdown",
   "metadata": {},
   "source": [
    "<br>"
   ]
  },
  {
   "cell_type": "markdown",
   "metadata": {},
   "source": [
    "#### _filter 함수와 람다 함수를  이용하여 리스트의 데이터에서 특정 범위의 수를 구하는 예제_"
   ]
  },
  {
   "cell_type": "code",
   "execution_count": null,
   "metadata": {},
   "outputs": [],
   "source": [
    "# filter 함수와 람다 함수를  이용하여 리스트의 데이터에서 특정 범위의 수를 구하는 예제\n",
    "    \n",
    "numList = list(range(20))\n",
    "print(numList)\n",
    "\n",
    "evenNumList = list(filter(lambda x :  x % 2 == 0 and  ( x > 10 and x < 18 )   , numList))\n",
    "print(evenNumList)"
   ]
  },
  {
   "cell_type": "markdown",
   "metadata": {},
   "source": [
    "## 실습 공간"
   ]
  },
  {
   "cell_type": "code",
   "execution_count": null,
   "metadata": {},
   "outputs": [],
   "source": []
  },
  {
   "cell_type": "markdown",
   "metadata": {},
   "source": [
    "<br>"
   ]
  },
  {
   "cell_type": "markdown",
   "metadata": {},
   "source": [
    "### 1.7. 클래스 기초\n",
    "\n",
    "\n",
    "- 객체의 구현체가 클래스이므로 클래스는 객체의 가장 기본 속성인 상태와 행위에 관련된 기능을 수행해야 함\n",
    "\n",
    "\n",
    "- 구현하는 과정에서 상태는 변수라는 형태로 구현되며 행위는 변수와 관련된 동작을 하는 함수라는 형태로 구현\n",
    "\n",
    "\n",
    "- 클래스는 class 라는 구문으로 시작되며 다음과 같은 형태를 가짐\n",
    "\n",
    "\n",
    "~~~python\n",
    "class car:\n",
    "    pass\n",
    "~~~\n",
    "<br>\n",
    "\n",
    "- 클래스 객체를 생성하기 위해서는 다음처럼 함수처럼 호출하며  이런 과정을 instantiation 이라고 하며     \n",
    "  생성된 객체는 클래스의 instance 라고 함\n",
    "  \n",
    "~~~python    \n",
    "myCar = car()\n",
    "~~~\n",
    "\n",
    "\n",
    "\n",
    "#### _클래스 메소드 정의하기_\n",
    "\n",
    "- 위의 예를 통해 클래스를 정의하면 이제는 클래스가 하는 행위를 수행할 메소드를 정의해야 함\n",
    "\n",
    "<br>  \n",
    "~~~python\n",
    "class car :\n",
    "    def displayCar(self) :\n",
    "        print('My Car is BMW')\n",
    "~~~\n",
    "\n",
    "<br><br>\n",
    "\n",
    "- 클래스 메소드는 함수 정의와 동일하며 단 유의할점은 클래스에 정의되는 메소드는 항상 첫번째 인자로    \n",
    "   self  인자를 정의해야 함\n",
    "  \n",
    "  \n",
    " - 메소드의 첫번째 인자인 self 는 클래스 구현부에만 존재하며 실제 클래스를 사용하는 예제에서     \n",
    "   확인할 수 있듯이 생략됨\n",
    "   \n",
    "   \n",
    "- self 인자는 클래스 자신을 가르키며 이 self 인자를 통해 클래스의 변수와 다른 메소드들을 참조할 수 있음\n",
    "\n",
    "\n",
    "- 우선 위에서 클래스는 단순히 print 함수만을 가진 메소드를 가지고 있으며 클래스의 인스턴스를 생성하고    \n",
    "  메소드를 호출하면 됨\n",
    "  \n",
    "  \n",
    "- 호출하는 방식은 다음과 같음\n",
    "\n",
    "\n",
    "- 인스턴스.함수명   <= 인스턴스와 함수명 사이에 마침표가 있음\n"
   ]
  },
  {
   "cell_type": "code",
   "execution_count": null,
   "metadata": {},
   "outputs": [],
   "source": [
    "class car:\n",
    "    def displayCar(self) :\n",
    "        print('My Car is BMW')\n",
    "        \n",
    "myCar = car()\n",
    "myCar.displayCar()"
   ]
  },
  {
   "cell_type": "markdown",
   "metadata": {},
   "source": [
    "#### 1.7.1. 클래스 초기화 함수 :  \\___init___( )\n",
    "\n",
    "\n",
    "- 클래스의 인스턴트 생성이 되면 이 생성된 인스턴스는 내부적으로 \\___init___( ) 함수를 호출하며   \n",
    "   \\___init___( ) 함수의 첫번째 인자로 전달되며 동시에 이와 아울러 인스턴스 생성시 사용된 인자들도 함께 전달받음\n",
    "   \n",
    "   \n",
    "- 즉 \\___init___( ) 함수에 self 인자를 제외한 추가된 인자만큼 인스턴스 생성시 그에 해당하는 인자값을 설정해줘야    \n",
    "  하며 그리고나서 기본적으로 변수 초기화등의 기능을 수행함  "
   ]
  },
  {
   "cell_type": "code",
   "execution_count": null,
   "metadata": {},
   "outputs": [],
   "source": [
    "class house:\n",
    "    def __init__(self, address) :\n",
    "        self.address = address\n",
    "    \n",
    "    def displayAddress(self) :\n",
    "        print(\"My House's Address is\", self.address)\n",
    "        \n",
    "myHouse = house('Seoulzz')\n",
    "myHouse.displayAddress()"
   ]
  },
  {
   "cell_type": "markdown",
   "metadata": {},
   "source": [
    "## 실습 공간"
   ]
  },
  {
   "cell_type": "code",
   "execution_count": 34,
   "metadata": {},
   "outputs": [
    {
     "name": "stdout",
     "output_type": "stream",
     "text": [
      "Child\n",
      "Child my_print\n",
      "Parent my_print\n"
     ]
    }
   ],
   "source": [
    "# TODO: inheritance\n",
    "class Parent:\n",
    "    def pprint(self):\n",
    "        print('Parent')\n",
    "    def my_print(self):\n",
    "        print('Parent my_print')\n",
    "        \n",
    "class Child(Parent):\n",
    "    def cprint(self):\n",
    "        print('Child')\n",
    "    def my_print(self):\n",
    "        print('Child my_print')\n",
    "        super().my_print()\n",
    "\n",
    "son = Child()\n",
    "son.cprint()\n",
    "son.my_print()\n",
    "\n"
   ]
  },
  {
   "cell_type": "code",
   "execution_count": 103,
   "metadata": {},
   "outputs": [
    {
     "name": "stdout",
     "output_type": "stream",
     "text": [
      "data =  [10, 12, 14, 16, 18, 20, 22, 24, 26, 28]\n",
      "sum =  190\n",
      "mean = 19.000\n",
      "var = 33.000\n",
      "sd = 5.745\n",
      "total =  [190, 19.0, 33.0, 5.744562646538029]\n"
     ]
    }
   ],
   "source": [
    "class Calc:\n",
    "    def __init__(self, *data):\n",
    "        self.data = data\n",
    "        \n",
    "    def sum(self):\n",
    "        s = 0\n",
    "        for i in self.data:\n",
    "            s += i\n",
    "        return s\n",
    "\n",
    "    def mean(self):\n",
    "        return self.sum() / len(self.data)\n",
    "\n",
    "    def var(self):\n",
    "        s = 0\n",
    "        m = self.mean()\n",
    "        for i in self.data:\n",
    "            s += (i-m)**2\n",
    "        return s / len(self.data)\n",
    "\n",
    "    def std(self):\n",
    "        return self.var()**0.5\n",
    "\n",
    "    def total(self):\n",
    "        return [self.sum(), self.mean(), self.var(), self.std()]\n",
    "\n",
    "data = list(map(lambda x, y:x+y, [i for i in range(10)], [j for j in range(10,20)]))\n",
    "\n",
    "# TODO: formatted print\n",
    "print('data = ', data)\n",
    "cal = Calc(*data)\n",
    "print('sum = ', cal.sum())\n",
    "print('mean = %.3F' %(cal.mean()))\n",
    "print('var = %.3F' %(cal.var()))\n",
    "print('sd = %.3F' %(cal.std()))\n",
    "print('total = ', cal.total())"
   ]
  },
  {
   "cell_type": "markdown",
   "metadata": {},
   "source": [
    "# 2. 넘파이"
   ]
  },
  {
   "cell_type": "markdown",
   "metadata": {},
   "source": [
    "### 2.1. Numpy 배열 - ndarray \n",
    "\n",
    "Numpy 에서는 ndarray 라는 배열 객체를 이용하여 파이썬에서 할 수 있는 다양한 형태의  \n",
    "연산을 보다 쉽게 그리고 빠르게 결과물을 낼 수 있도록 하는 자료구조를 가지고 있습니다.   \n",
    "ndarrary 는 다음과 같은 특징을 가지고 있습니다.\n",
    "\n",
    "- ndarrary 의 모든 원소는 동일한 데이터형이어야 한다\n",
    "- 배열의 차원을 알려주는 shape 튜블 객체를 가지고 있다.\n",
    "- 배열에 저장된 자료형을 알려주는 dtype 객체를 가지고 있다. \n",
    "- 산술 연산이 주 목적이므로 자료형이 명시되지 않으면 float64 형으로 인식한다. \n",
    "\n",
    "\n",
    "### 2.2. ndarray 생성하기\n",
    "\n",
    "- 배열을 생성하는 가장 기본적인 방법은 array 함수를 이용하는 것이며 이 함수를 이용하면     \n",
    "  파이썬의 기본 자료구조인 리스트, 튜플등의 데이터를 ndarray 로 변환\n",
    "  \n",
    "#### _np.arange 는 파이썬의 range 와 동일한 기능을 합니다_"
   ]
  },
  {
   "cell_type": "code",
   "execution_count": 17,
   "metadata": {},
   "outputs": [
    {
     "name": "stdout",
     "output_type": "stream",
     "text": [
      "[0 1 2 3 4 5 6 7 8 9]\n",
      "1\n",
      "int32\n",
      "(10,)\n"
     ]
    }
   ],
   "source": [
    "import numpy as np\n",
    "\n",
    "arr = np.arange(10)\n",
    "print(arr)\n",
    "print(arr.ndim)\n",
    "print(arr.dtype)\n",
    "print(arr.shape)"
   ]
  },
  {
   "cell_type": "markdown",
   "metadata": {},
   "source": [
    "## 실습 공간"
   ]
  },
  {
   "cell_type": "code",
   "execution_count": null,
   "metadata": {},
   "outputs": [],
   "source": []
  },
  {
   "cell_type": "markdown",
   "metadata": {},
   "source": [
    "<br>"
   ]
  },
  {
   "cell_type": "markdown",
   "metadata": {},
   "source": [
    "<br>"
   ]
  },
  {
   "cell_type": "markdown",
   "metadata": {},
   "source": [
    "### 2.3. ndarray 자료형\n",
    "   \n",
    "- ndarray 의 dtype 은 넘파이에서 연산을 하기 위해서 데이터들을 메모리에서 어떤 형식으로 처리해야 하는지에     \n",
    "  대한 기본 정보를 갖고 있는 요소 \n",
    "\n",
    "\n",
    "|<center>넘파이 자료형</center>|<center>내용</center>|\n",
    "| :----------:|:-----------:|\n",
    "| float64     | 배정밀도 부동소수점, C 언어의 double, 파이썬의 float 객체와 호환  |\n",
    "| float32     | 단정밀도 부동소수점, C 언어의 float 와 호환 |\n",
    "| int64     | 부호가 있는 64비트 정수형   |\n",
    "| uint64     | 부호가 없는 64비트 정수형   |\n",
    "| int32     | 부호가 있는 32비트 정수형   |\n",
    "| uint32     | 부호가 없는 32비트 정수형   |\n",
    "| string_     | 각 글자가 1바이트인 고정 길이 문자열   |\n",
    "| uicode_     | 유니코드   |\n",
    "| bool     | True, False     |\n",
    "\n",
    "<br>\n",
    "\n",
    "- ndarray 배열 생성시 위에 언급된 데이터 타입을 명시해서 생성할 수 있습니다."
   ]
  },
  {
   "cell_type": "code",
   "execution_count": null,
   "metadata": {},
   "outputs": [],
   "source": [
    "#import numpy as np\n",
    "\n",
    "arr = np.array([1,2,3], dtype=np.float64)\n",
    "print(arr)\n",
    "print(arr.dtype)"
   ]
  },
  {
   "cell_type": "markdown",
   "metadata": {},
   "source": [
    "## 실습 공간"
   ]
  },
  {
   "cell_type": "code",
   "execution_count": 101,
   "metadata": {},
   "outputs": [
    {
     "name": "stdout",
     "output_type": "stream",
     "text": [
      "[10, 12, 14, 16, 18, 20, 22, 24, 26, 28]\n",
      "np mean =  19.0\n",
      "np var =  33.0\n",
      "np std =  5.744562646538029\n",
      "<class 'list'>\n",
      "<class 'numpy.ndarray'>\n"
     ]
    }
   ],
   "source": [
    "# TODO: numpy basic statistics\n",
    "import numpy as np\n",
    "\n",
    "print(data)\n",
    "data_array = np.array(data)\n",
    "print ('np mean = ',data_array.mean())\n",
    "print ('np var = ',data_array.var())\n",
    "print ('np std = ',data_array.std())\n",
    "print(type(data))\n",
    "print(type(data_array))"
   ]
  },
  {
   "cell_type": "markdown",
   "metadata": {},
   "source": [
    "<br>"
   ]
  },
  {
   "cell_type": "markdown",
   "metadata": {},
   "source": [
    "- 배열의 데이터 타입은 넘파이의 astype 함수를 이용하여 다른 데이터형으로 변경을 할 수도 있음"
   ]
  },
  {
   "cell_type": "code",
   "execution_count": null,
   "metadata": {},
   "outputs": [],
   "source": [
    "#import numpy as np\n",
    "\n",
    "f_arr = np.array([1.5, 2.2, 3.6], dtype=np.float64)\n",
    "print(f_arr.dtype)\n",
    "print(f_arr)\n",
    "\n",
    "print('\\n')\n",
    "\n",
    "i_arr = f_arr.astype(np.int64)\n",
    "print(i_arr.dtype)\n",
    "print(i_arr)"
   ]
  },
  {
   "cell_type": "markdown",
   "metadata": {},
   "source": [
    "## 실습 공간"
   ]
  },
  {
   "cell_type": "code",
   "execution_count": null,
   "metadata": {},
   "outputs": [],
   "source": []
  },
  {
   "cell_type": "markdown",
   "metadata": {},
   "source": [
    "<br>"
   ]
  },
  {
   "cell_type": "markdown",
   "metadata": {},
   "source": [
    "숫자 형식의 문자열도 데이터 타입 변환을 통해 숫자로 바꿀 수 있습니다."
   ]
  },
  {
   "cell_type": "code",
   "execution_count": null,
   "metadata": {},
   "outputs": [],
   "source": [
    "#import numpy as np\n",
    "\n",
    "numString = np.array(['1.32', '4.52', '6.25', '7.27'], dtype = np.string_)\n",
    "print(numString)\n",
    "print(numString.dtype)\n",
    "\n",
    "print('\\n')\n",
    "\n",
    "num = numString.astype(np.float64)\n",
    "print(num)\n",
    "print(num.dtype)"
   ]
  },
  {
   "cell_type": "markdown",
   "metadata": {},
   "source": [
    "## 실습 공간"
   ]
  },
  {
   "cell_type": "code",
   "execution_count": null,
   "metadata": {},
   "outputs": [],
   "source": []
  },
  {
   "cell_type": "markdown",
   "metadata": {},
   "source": [
    "<br>"
   ]
  },
  {
   "cell_type": "markdown",
   "metadata": {},
   "source": [
    "### 2.4. 배열 연산\n",
    "\n",
    "넘파이에서 배열 관련 연산시 반복문의 작성없이 데이터를 처리할 수 있는 기능을 제공합니다. 동일한 크기의 배열간의 연산은 배열의 각각 동일한 원소끼리 연산이 이루어집니다."
   ]
  },
  {
   "cell_type": "code",
   "execution_count": null,
   "metadata": {},
   "outputs": [],
   "source": [
    "#import numpy as np\n",
    "\n",
    "arr = np.array([[1,2,3], [1,2,3]])\n",
    "\n",
    "print(arr.ndim, '\\n')\n",
    "print(arr, '\\n')\n",
    "print('arr * arr = \\n', arr*arr, '\\n')\n",
    "print('arr + arr = \\n', arr+arr, '\\n')\n",
    "print('arr - arr = \\n', arr-arr, '\\n')\n",
    "print('arr / arr = \\n', arr/arr, '\\n')\n",
    "print('1 / arr = \\n', 1/arr, '\\n')"
   ]
  },
  {
   "cell_type": "markdown",
   "metadata": {},
   "source": [
    "## 실습 공간"
   ]
  },
  {
   "cell_type": "code",
   "execution_count": null,
   "metadata": {},
   "outputs": [],
   "source": []
  },
  {
   "cell_type": "markdown",
   "metadata": {},
   "source": [
    "<br>"
   ]
  },
  {
   "cell_type": "markdown",
   "metadata": {},
   "source": [
    "### 2.5. 인덱싱 / 슬라이싱\n",
    "\n",
    "넘파이의 배열도 일반적인 배열처럼 인덱싱을 통한 접근을 통해 값을 조회할 수 있으며 또한 슬라이싱을 통한 부분 값들을 가져올 수도 있습니다. 다만 넘파이에서는\n",
    "\n",
    "1차열 배열부터 다차원 배열까지 확장이 가능하기 때문에 좀 더 다룰 내용이 많이 있습니다. \n",
    "\n",
    "\n",
    "#### 2.5.1. 기본 \n",
    "\n",
    "1차원 넘파이 배열은 파이썬 리스트와 매우 비슷하게 다룰 수 있습니다. \n",
    "\n",
    "\n",
    "#### _1차원 배열 슬라이싱 예제_"
   ]
  },
  {
   "cell_type": "code",
   "execution_count": null,
   "metadata": {},
   "outputs": [],
   "source": [
    "#import numpy as np\n",
    "\n",
    "arr = np.arange(10)\n",
    "print(arr)\n",
    "\n",
    "print(arr[3:5])"
   ]
  },
  {
   "cell_type": "markdown",
   "metadata": {},
   "source": [
    "## 실습 공간"
   ]
  },
  {
   "cell_type": "code",
   "execution_count": null,
   "metadata": {},
   "outputs": [],
   "source": []
  },
  {
   "cell_type": "markdown",
   "metadata": {},
   "source": [
    "<br>"
   ]
  },
  {
   "cell_type": "markdown",
   "metadata": {},
   "source": [
    "#### _넘파이 배열과 파이썬 리스트의 차이점_"
   ]
  },
  {
   "cell_type": "code",
   "execution_count": null,
   "metadata": {},
   "outputs": [],
   "source": [
    "# 넘파이 예제\n",
    "#import numpy as np\n",
    "\n",
    "arr = np.arange(10)\n",
    "print(arr)\n",
    "arr[3:6] = 12\n",
    "print(arr)\n",
    "\n",
    "print('\\n파이썬 예제')\n",
    "#파이썬 예제\n",
    "myList = list(range(10))\n",
    "print(myList)\n",
    "\n",
    "myList[3:6] = [12,12,12]\n",
    "#myList[3:6] = 12\n",
    "myList[3:6] = [12]\n",
    "print(myList)"
   ]
  },
  {
   "cell_type": "markdown",
   "metadata": {},
   "source": [
    "## 실습 공간"
   ]
  },
  {
   "cell_type": "code",
   "execution_count": null,
   "metadata": {},
   "outputs": [],
   "source": []
  },
  {
   "cell_type": "markdown",
   "metadata": {},
   "source": [
    "<br>"
   ]
  },
  {
   "cell_type": "markdown",
   "metadata": {},
   "source": [
    "#### 3.5.2. 다차원 배열 다루기\n",
    "\n",
    "1차원 배열에서는 각 인덱스는 값 자체이지만 2차원 배열에서 각 인덱스는 1차원 배열을 가르키며 다시 이 1차원 배열을 기반으로 인덱싱을 해야 원하는 값을 얻을 수 \n",
    "\n",
    "있습니다. \n",
    "\n",
    "#### _2차원 배열 인덱싱 및 슬라이싱 예제 1_"
   ]
  },
  {
   "cell_type": "code",
   "execution_count": null,
   "metadata": {},
   "outputs": [],
   "source": [
    "#import numpy as np\n",
    "\n",
    "arr2 = np.array([[1,2,3], [4,5,6], [7,8,9]])\n",
    "\n",
    "print(arr2[1]) \n",
    "print(arr2[1][2])"
   ]
  },
  {
   "cell_type": "markdown",
   "metadata": {},
   "source": [
    "## 실습 공간"
   ]
  },
  {
   "cell_type": "code",
   "execution_count": null,
   "metadata": {},
   "outputs": [],
   "source": []
  },
  {
   "cell_type": "markdown",
   "metadata": {},
   "source": [
    "<br>"
   ]
  },
  {
   "cell_type": "markdown",
   "metadata": {},
   "source": [
    "#### _2차원 배열 인덱싱 및 슬라이싱 예제 2_"
   ]
  },
  {
   "cell_type": "code",
   "execution_count": null,
   "metadata": {},
   "outputs": [],
   "source": [
    "#import numpy as np\n",
    "\n",
    "arr2 = np.array([[1,2,3], [4,5,6], [7,8,9]])\n",
    "\n",
    "print(arr2[1,2])    "
   ]
  },
  {
   "cell_type": "markdown",
   "metadata": {},
   "source": [
    "## 실습 공간"
   ]
  },
  {
   "cell_type": "code",
   "execution_count": null,
   "metadata": {},
   "outputs": [],
   "source": []
  },
  {
   "cell_type": "markdown",
   "metadata": {},
   "source": [
    "<br>"
   ]
  },
  {
   "cell_type": "markdown",
   "metadata": {},
   "source": [
    "#### _2차원 배열 인덱싱 및 슬라이싱 예제 3_"
   ]
  },
  {
   "cell_type": "code",
   "execution_count": null,
   "metadata": {},
   "outputs": [],
   "source": [
    "#import numpy as np\n",
    "\n",
    "arr2 = np.array([[1,2,3], [4,5,6], [7,8,9]])\n",
    "\n",
    "print(arr2[1:,1:])    "
   ]
  },
  {
   "cell_type": "markdown",
   "metadata": {},
   "source": [
    "## 실습 공간"
   ]
  },
  {
   "cell_type": "code",
   "execution_count": null,
   "metadata": {},
   "outputs": [],
   "source": []
  },
  {
   "cell_type": "markdown",
   "metadata": {},
   "source": [
    "<br>"
   ]
  },
  {
   "cell_type": "markdown",
   "metadata": {},
   "source": [
    "#### _2차원 배열 인덱싱 및 슬라이싱 예제 4_"
   ]
  },
  {
   "cell_type": "code",
   "execution_count": null,
   "metadata": {},
   "outputs": [],
   "source": [
    "#import numpy as np\n",
    "\n",
    "arr2 = np.array([[1,2,3], [4,5,6], [7,8,9]])\n",
    "\n",
    "print(arr2[:2])    "
   ]
  },
  {
   "cell_type": "markdown",
   "metadata": {},
   "source": [
    "## 실습 공간"
   ]
  },
  {
   "cell_type": "code",
   "execution_count": null,
   "metadata": {},
   "outputs": [],
   "source": []
  },
  {
   "cell_type": "markdown",
   "metadata": {},
   "source": [
    "<br>"
   ]
  },
  {
   "cell_type": "markdown",
   "metadata": {},
   "source": [
    "#### _2차원 배열 인덱싱 및 슬라이싱 예제 5_"
   ]
  },
  {
   "cell_type": "code",
   "execution_count": null,
   "metadata": {},
   "outputs": [],
   "source": [
    "#import numpy as np\n",
    "\n",
    "arr2 = np.array([[1,2,3], [4,5,6], [7,8,9]])\n",
    "\n",
    "print(arr2[:, 1:2])    "
   ]
  },
  {
   "cell_type": "markdown",
   "metadata": {},
   "source": [
    "## 실습 공간"
   ]
  },
  {
   "cell_type": "code",
   "execution_count": null,
   "metadata": {},
   "outputs": [],
   "source": []
  },
  {
   "cell_type": "markdown",
   "metadata": {},
   "source": [
    "<br>"
   ]
  },
  {
   "cell_type": "markdown",
   "metadata": {},
   "source": [
    "#### _3차원 배열 인덱싱 및 슬라이싱 예제 6_"
   ]
  },
  {
   "cell_type": "code",
   "execution_count": null,
   "metadata": {},
   "outputs": [],
   "source": [
    "import numpy as np\n",
    "\n",
    "arr3 = np.array([[[1,2,3], [4,5,6]],[[7,8,9], [10,11,12]]])\n",
    "\n",
    "print(arr3[1])\n",
    "print(arr3[1,1,1])"
   ]
  },
  {
   "cell_type": "markdown",
   "metadata": {},
   "source": [
    "## 실습 공간"
   ]
  },
  {
   "cell_type": "code",
   "execution_count": null,
   "metadata": {},
   "outputs": [],
   "source": []
  },
  {
   "cell_type": "markdown",
   "metadata": {},
   "source": [
    "<br>"
   ]
  },
  {
   "cell_type": "markdown",
   "metadata": {},
   "source": [
    "### 2.6. 배열 Transpose 및 축 변환\n",
    "\n",
    "\n",
    "\n",
    "넘파이에서는 배열을 생성하고 그 배열의 형태를 변환하여 원하는 행렬로 변환할 수 있는 여러 기능을 제공하고 있습니다. 가장 기본적으로 reshape() 함수를 통해 \n",
    "\n",
    "배열의 형태를 행렬로 정의할 수 있고 정의된 행렬의 전치행렬을 구할 수 있는 기능도 있습니다. \n",
    "\n",
    "\n",
    "\n",
    "\n",
    "#### _넘파이 reshape( ) 예제_"
   ]
  },
  {
   "cell_type": "code",
   "execution_count": null,
   "metadata": {},
   "outputs": [],
   "source": [
    "#import numpy as np\n",
    "\n",
    "arr = np.arange(20)\n",
    "\n",
    "print(arr, '\\n')\n",
    "\n",
    "arr = np.arange(20).reshape(4,5)\n",
    "\n",
    "print(arr)"
   ]
  },
  {
   "cell_type": "markdown",
   "metadata": {},
   "source": [
    "## 실습 공간"
   ]
  },
  {
   "cell_type": "code",
   "execution_count": null,
   "metadata": {},
   "outputs": [],
   "source": []
  },
  {
   "cell_type": "markdown",
   "metadata": {},
   "source": [
    "<br>"
   ]
  },
  {
   "cell_type": "markdown",
   "metadata": {},
   "source": [
    "#### _넘파이 전치행렬 예제_"
   ]
  },
  {
   "cell_type": "code",
   "execution_count": null,
   "metadata": {},
   "outputs": [],
   "source": [
    "#import numpy as np\n",
    "\n",
    "arr = np.arange(20).reshape(4,5)\n",
    "\n",
    "print(arr.T)"
   ]
  },
  {
   "cell_type": "markdown",
   "metadata": {},
   "source": [
    "## 실습 공간"
   ]
  },
  {
   "cell_type": "code",
   "execution_count": null,
   "metadata": {},
   "outputs": [],
   "source": []
  },
  {
   "cell_type": "markdown",
   "metadata": {},
   "source": [
    "<br>"
   ]
  },
  {
   "cell_type": "markdown",
   "metadata": {},
   "source": [
    "#### _넘파이 행렬 내적 연산 예제_"
   ]
  },
  {
   "cell_type": "code",
   "execution_count": null,
   "metadata": {},
   "outputs": [],
   "source": [
    "#import numpy as np\n",
    "\n",
    "arr = np.arange(15).reshape(3,5)\n",
    "\n",
    "result = np.dot(arr, arr.T)\n",
    "print(result)"
   ]
  },
  {
   "cell_type": "markdown",
   "metadata": {},
   "source": [
    "## 실습 공간"
   ]
  },
  {
   "cell_type": "code",
   "execution_count": null,
   "metadata": {},
   "outputs": [],
   "source": []
  },
  {
   "cell_type": "markdown",
   "metadata": {},
   "source": [
    "<br>"
   ]
  },
  {
   "cell_type": "markdown",
   "metadata": {},
   "source": [
    "<br>"
   ]
  },
  {
   "cell_type": "markdown",
   "metadata": {},
   "source": [
    "### 2.7. 넘파이 배열 관련 메소스\n",
    "\n",
    "- 넘파이를 사용하는 이유는 데이터 연산을 빠르고 쉽게 구현할 수 있음\n",
    "\n",
    "\n",
    "- 파이썬 그 자체로도 구현이 쉽고 편리하지만 연산 속도면에서는 많이 부족  \n",
    "\n",
    "\n",
    "- 수치 연산 부분에서는 넘파이를 사용해야 원하는 성능 효율을 얻을 수 있음"
   ]
  },
  {
   "cell_type": "code",
   "execution_count": null,
   "metadata": {},
   "outputs": [],
   "source": [
    "#import numpy as np\n",
    "\n",
    "x = np.array([1.1, 2.2, 3.3 , 4.4, 5.5])\n",
    "y = np.array([6.6, 7.7, 8.8, 9.9, 10.10])\n",
    "\n",
    "apply = np.array([True, False, True, False, False])"
   ]
  },
  {
   "cell_type": "markdown",
   "metadata": {},
   "source": [
    "## 실습 공간"
   ]
  },
  {
   "cell_type": "code",
   "execution_count": null,
   "metadata": {},
   "outputs": [],
   "source": []
  },
  {
   "cell_type": "markdown",
   "metadata": {},
   "source": [
    "<br>"
   ]
  },
  {
   "cell_type": "code",
   "execution_count": null,
   "metadata": {},
   "outputs": [],
   "source": [
    "#파이썬을 이용한 구현 코드\n",
    "#import numpy as np\n",
    "\n",
    "x = np.array([1.1, 2.2, 3.3 , 4.4, 5.5])\n",
    "y = np.array([6.6, 7.7, 8.8, 9.9, 10.10])\n",
    "apply = np.array([True, False, True, False, False])\n",
    "\n",
    "result = [ a if c else b  for a, b, c in zip(x, y, apply)]\n",
    "\n",
    "print(result)"
   ]
  },
  {
   "cell_type": "markdown",
   "metadata": {},
   "source": [
    "## 실습 공간"
   ]
  },
  {
   "cell_type": "code",
   "execution_count": null,
   "metadata": {},
   "outputs": [],
   "source": []
  },
  {
   "cell_type": "markdown",
   "metadata": {},
   "source": [
    "<br>"
   ]
  },
  {
   "cell_type": "code",
   "execution_count": null,
   "metadata": {},
   "outputs": [],
   "source": [
    "#넘파이를 이용한 구현 코드\n",
    "import numpy as np\n",
    "\n",
    "x = np.array([1.1, 2.2, 3.3 , 4.4, 5.5])\n",
    "y = np.array([6.6, 7.7, 8.8, 9.9, 10.10])\n",
    "apply = np.array([True, False, True, False, False])\n",
    "\n",
    "result = np.where(apply, x, y)\n",
    "\n",
    "print(result)"
   ]
  },
  {
   "cell_type": "markdown",
   "metadata": {},
   "source": [
    "## 실습 공간"
   ]
  },
  {
   "cell_type": "code",
   "execution_count": null,
   "metadata": {},
   "outputs": [],
   "source": []
  },
  {
   "cell_type": "markdown",
   "metadata": {},
   "source": [
    "<br>"
   ]
  },
  {
   "cell_type": "markdown",
   "metadata": {},
   "source": [
    "- 축 설정에 따른 연산 "
   ]
  },
  {
   "cell_type": "code",
   "execution_count": null,
   "metadata": {},
   "outputs": [],
   "source": [
    " arr = np.arange(0, 4*2*4)\n",
    "    \n",
    "res = arr.reshape([4,2,4])\n",
    "\n",
    "res"
   ]
  },
  {
   "cell_type": "code",
   "execution_count": null,
   "metadata": {},
   "outputs": [],
   "source": [
    "arr.ndim"
   ]
  },
  {
   "cell_type": "code",
   "execution_count": null,
   "metadata": {},
   "outputs": [],
   "source": [
    "res.ndim"
   ]
  },
  {
   "cell_type": "code",
   "execution_count": null,
   "metadata": {
    "scrolled": true
   },
   "outputs": [],
   "source": [
    "res.sum(axis=0)"
   ]
  },
  {
   "cell_type": "markdown",
   "metadata": {},
   "source": [
    "## 실습 공간"
   ]
  },
  {
   "cell_type": "code",
   "execution_count": null,
   "metadata": {},
   "outputs": [],
   "source": []
  },
  {
   "cell_type": "markdown",
   "metadata": {},
   "source": [
    "<br>"
   ]
  },
  {
   "cell_type": "code",
   "execution_count": null,
   "metadata": {},
   "outputs": [],
   "source": [
    "res.sum(axis=1)"
   ]
  },
  {
   "cell_type": "markdown",
   "metadata": {},
   "source": [
    "## 실습 공간"
   ]
  },
  {
   "cell_type": "code",
   "execution_count": null,
   "metadata": {},
   "outputs": [],
   "source": []
  },
  {
   "cell_type": "markdown",
   "metadata": {},
   "source": [
    "<br>"
   ]
  },
  {
   "cell_type": "code",
   "execution_count": null,
   "metadata": {},
   "outputs": [],
   "source": [
    "res.sum(axis=2)"
   ]
  },
  {
   "cell_type": "markdown",
   "metadata": {},
   "source": [
    "## 실습 공간"
   ]
  },
  {
   "cell_type": "code",
   "execution_count": null,
   "metadata": {},
   "outputs": [],
   "source": []
  },
  {
   "cell_type": "markdown",
   "metadata": {},
   "source": [
    "<br>"
   ]
  },
  {
   "cell_type": "markdown",
   "metadata": {},
   "source": [
    "### 2.8. 불리언 색인\n",
    "\n",
    "- 불리언 색인은 반드시 색인하려는 축의 길이와 동일해야 한다. "
   ]
  },
  {
   "cell_type": "code",
   "execution_count": null,
   "metadata": {},
   "outputs": [],
   "source": [
    "names = np.array(['a', 'b', 'c', 'd','e', 'f', 'g'])\n",
    "\n",
    "data = np.random.randn(7,4)\n",
    "\n",
    "print(data)\n",
    "\n",
    "names == 'a'"
   ]
  },
  {
   "cell_type": "code",
   "execution_count": null,
   "metadata": {},
   "outputs": [],
   "source": [
    "data[names == 'a']"
   ]
  },
  {
   "cell_type": "code",
   "execution_count": null,
   "metadata": {},
   "outputs": [],
   "source": [
    "data[(names == 'a') | (names == 'c')]"
   ]
  },
  {
   "cell_type": "markdown",
   "metadata": {},
   "source": [
    "## 실습 공간"
   ]
  },
  {
   "cell_type": "code",
   "execution_count": null,
   "metadata": {},
   "outputs": [],
   "source": []
  },
  {
   "cell_type": "markdown",
   "metadata": {},
   "source": [
    "<br>"
   ]
  },
  {
   "cell_type": "markdown",
   "metadata": {},
   "source": [
    "### 2.9. 팬시 색인\n",
    "\n",
    "- 정수 배열을 색인으로 사용함 "
   ]
  },
  {
   "cell_type": "code",
   "execution_count": null,
   "metadata": {},
   "outputs": [],
   "source": [
    "arr = np.empty((8,4))\n",
    "\n",
    "for i in range(8) :\n",
    "    arr[i] = i\n",
    "    \n",
    "arr"
   ]
  },
  {
   "cell_type": "code",
   "execution_count": null,
   "metadata": {},
   "outputs": [],
   "source": [
    "arr[[4,3,0,6]]"
   ]
  },
  {
   "cell_type": "markdown",
   "metadata": {},
   "source": [
    "## 실습 공간"
   ]
  },
  {
   "cell_type": "code",
   "execution_count": null,
   "metadata": {},
   "outputs": [],
   "source": []
  },
  {
   "cell_type": "markdown",
   "metadata": {},
   "source": [
    "<br>"
   ]
  },
  {
   "cell_type": "markdown",
   "metadata": {},
   "source": [
    "- 다차원 색인으로 호출하는 것은 기존과 다르게 동작함 \n",
    "\n",
    "- 각각의 색인 튜플에 대응하는 1차원 배열이 선택됨 "
   ]
  },
  {
   "cell_type": "code",
   "execution_count": null,
   "metadata": {},
   "outputs": [],
   "source": [
    "import numpy as np\n",
    "arr = np.arange(32).reshape(8,4)\n",
    "arr"
   ]
  },
  {
   "cell_type": "code",
   "execution_count": null,
   "metadata": {
    "scrolled": true
   },
   "outputs": [],
   "source": [
    "arr[[1,5,7,2],[0,3,1,2]]"
   ]
  },
  {
   "cell_type": "markdown",
   "metadata": {},
   "source": [
    "## 실습 공간"
   ]
  },
  {
   "cell_type": "code",
   "execution_count": null,
   "metadata": {},
   "outputs": [],
   "source": []
  },
  {
   "cell_type": "markdown",
   "metadata": {},
   "source": [
    "<br>"
   ]
  },
  {
   "cell_type": "code",
   "execution_count": null,
   "metadata": {},
   "outputs": [],
   "source": [
    "arr[[1,5,7,2]][:,[0,3,1,2]]"
   ]
  },
  {
   "cell_type": "markdown",
   "metadata": {},
   "source": [
    "## 실습 공간"
   ]
  },
  {
   "cell_type": "code",
   "execution_count": null,
   "metadata": {},
   "outputs": [],
   "source": []
  },
  {
   "cell_type": "markdown",
   "metadata": {},
   "source": [
    "<br>"
   ]
  },
  {
   "cell_type": "code",
   "execution_count": null,
   "metadata": {
    "scrolled": true
   },
   "outputs": [],
   "source": [
    "arr[np.ix_([1,5,7,2],[0,3,1,2])]"
   ]
  },
  {
   "cell_type": "markdown",
   "metadata": {},
   "source": [
    "## 실습 공간"
   ]
  },
  {
   "cell_type": "code",
   "execution_count": null,
   "metadata": {},
   "outputs": [],
   "source": []
  },
  {
   "cell_type": "markdown",
   "metadata": {},
   "source": [
    "<br>"
   ]
  },
  {
   "cell_type": "code",
   "execution_count": null,
   "metadata": {},
   "outputs": [],
   "source": [
    "arr = np.array([[1, 2, 3], [4, 5, 6]])\n",
    "\n",
    "arr.cumsum()"
   ]
  },
  {
   "cell_type": "markdown",
   "metadata": {},
   "source": [
    "## 실습 공간"
   ]
  },
  {
   "cell_type": "code",
   "execution_count": null,
   "metadata": {},
   "outputs": [],
   "source": []
  },
  {
   "cell_type": "markdown",
   "metadata": {},
   "source": [
    "<br>"
   ]
  },
  {
   "cell_type": "code",
   "execution_count": null,
   "metadata": {},
   "outputs": [],
   "source": [
    "arr = np.array([[1, 2, 3], [4, 5, 6]])\n",
    "\n",
    "arr.cumsum(axis = 0)"
   ]
  },
  {
   "cell_type": "markdown",
   "metadata": {},
   "source": [
    "## 실습 공간"
   ]
  },
  {
   "cell_type": "code",
   "execution_count": null,
   "metadata": {},
   "outputs": [],
   "source": []
  },
  {
   "cell_type": "markdown",
   "metadata": {},
   "source": [
    "<br>"
   ]
  },
  {
   "cell_type": "code",
   "execution_count": null,
   "metadata": {},
   "outputs": [],
   "source": [
    "arr = np.array([[1, 2, 3], [4, 5, 6]])\n",
    "\n",
    "arr.cumsum(axis = 1)"
   ]
  },
  {
   "cell_type": "markdown",
   "metadata": {},
   "source": [
    "## 실습 공간"
   ]
  },
  {
   "cell_type": "code",
   "execution_count": null,
   "metadata": {},
   "outputs": [],
   "source": []
  },
  {
   "cell_type": "markdown",
   "metadata": {},
   "source": [
    "<br>"
   ]
  },
  {
   "cell_type": "markdown",
   "metadata": {},
   "source": [
    "- 세로로 배열 이어붙이기\n"
   ]
  },
  {
   "cell_type": "code",
   "execution_count": null,
   "metadata": {},
   "outputs": [],
   "source": [
    "arr1 = np.array([[1,2,3,],[4,5,6]])\n",
    "\n",
    "arr2 = np.array([[7,8,9],[10,11,12]])\n",
    "\n",
    "np.concatenate([arr1, arr2], axis = 0)"
   ]
  },
  {
   "cell_type": "code",
   "execution_count": null,
   "metadata": {},
   "outputs": [],
   "source": [
    "np.r_[arr2, arr1]"
   ]
  },
  {
   "cell_type": "markdown",
   "metadata": {},
   "source": [
    "## 실습 공간"
   ]
  },
  {
   "cell_type": "code",
   "execution_count": null,
   "metadata": {},
   "outputs": [],
   "source": []
  },
  {
   "cell_type": "markdown",
   "metadata": {},
   "source": [
    "<br>"
   ]
  },
  {
   "cell_type": "markdown",
   "metadata": {},
   "source": [
    "- 가로로 배열 이어 붙이기"
   ]
  },
  {
   "cell_type": "code",
   "execution_count": null,
   "metadata": {},
   "outputs": [],
   "source": [
    "np.concatenate([arr1, arr2], axis = 1)"
   ]
  },
  {
   "cell_type": "code",
   "execution_count": null,
   "metadata": {},
   "outputs": [],
   "source": [
    "np.c_[arr2, arr1]"
   ]
  },
  {
   "cell_type": "markdown",
   "metadata": {},
   "source": [
    "## 실습 공간"
   ]
  },
  {
   "cell_type": "code",
   "execution_count": null,
   "metadata": {},
   "outputs": [],
   "source": []
  },
  {
   "cell_type": "markdown",
   "metadata": {},
   "source": [
    "<br>"
   ]
  },
  {
   "cell_type": "markdown",
   "metadata": {},
   "source": [
    "- linspace : 특정 영역에 대해 일정 크기로 분할하기"
   ]
  },
  {
   "cell_type": "code",
   "execution_count": null,
   "metadata": {},
   "outputs": [],
   "source": [
    "np.linspace(0, 20, 5)"
   ]
  },
  {
   "cell_type": "markdown",
   "metadata": {},
   "source": [
    "## 실습 공간"
   ]
  },
  {
   "cell_type": "code",
   "execution_count": null,
   "metadata": {},
   "outputs": [],
   "source": []
  },
  {
   "cell_type": "markdown",
   "metadata": {},
   "source": [
    "<br>"
   ]
  },
  {
   "cell_type": "markdown",
   "metadata": {},
   "source": [
    "- 난수 만들기"
   ]
  },
  {
   "cell_type": "code",
   "execution_count": null,
   "metadata": {},
   "outputs": [],
   "source": [
    "np.random.seed(0)"
   ]
  },
  {
   "cell_type": "markdown",
   "metadata": {},
   "source": [
    "- rand : 0~1사이의 수를 입력수만큼 생성\n",
    "\n",
    "- randn : 가우시안 표준 정규 분포\n",
    "\n",
    "- randint : 균일분포 정수 난수"
   ]
  },
  {
   "cell_type": "code",
   "execution_count": null,
   "metadata": {},
   "outputs": [],
   "source": [
    "np.random.rand(5)"
   ]
  },
  {
   "cell_type": "code",
   "execution_count": null,
   "metadata": {},
   "outputs": [],
   "source": [
    "np.random.randn(5)"
   ]
  },
  {
   "cell_type": "code",
   "execution_count": null,
   "metadata": {},
   "outputs": [],
   "source": [
    "np.random.randint(0, 10, 10)"
   ]
  },
  {
   "cell_type": "code",
   "execution_count": null,
   "metadata": {},
   "outputs": [],
   "source": [
    "np.random.randint(5, 10, 10)"
   ]
  },
  {
   "cell_type": "markdown",
   "metadata": {},
   "source": [
    "## 실습 공간"
   ]
  },
  {
   "cell_type": "code",
   "execution_count": null,
   "metadata": {},
   "outputs": [],
   "source": []
  },
  {
   "cell_type": "markdown",
   "metadata": {},
   "source": [
    "<br>"
   ]
  }
 ],
 "metadata": {
  "kernelspec": {
   "display_name": "Python 3",
   "language": "python",
   "name": "python3"
  },
  "language_info": {
   "codemirror_mode": {
    "name": "ipython",
    "version": 3
   },
   "file_extension": ".py",
   "mimetype": "text/x-python",
   "name": "python",
   "nbconvert_exporter": "python",
   "pygments_lexer": "ipython3",
   "version": "3.7.1"
  }
 },
 "nbformat": 4,
 "nbformat_minor": 2
}
