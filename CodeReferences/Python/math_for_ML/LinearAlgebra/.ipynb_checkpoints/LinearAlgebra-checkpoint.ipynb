{
 "cells": [
  {
   "cell_type": "markdown",
   "metadata": {},
   "source": [
    "Array / Vector 생성"
   ]
  },
  {
   "cell_type": "code",
   "execution_count": null,
   "metadata": {},
   "outputs": [],
   "source": [
    "import numpy as np\n",
    "a1 = np.array([1,2,3])  \n",
    "a2 = np.array([[1,2,3]]) \n",
    "a3 = np.array([[1],[2],[3]]) \n",
    "\n",
    "print(a1)\n",
    "print(a1.ndim, a1.shape)\n",
    "\n",
    "print(a2)\n",
    "print(a2.ndim, a2.shape)\n",
    "\n",
    "print(a3)\n",
    "print(a3.ndim, a3.shape)"
   ]
  },
  {
   "cell_type": "markdown",
   "metadata": {},
   "source": [
    "matrix 의 * 기능은  dot 함수와 동일 \n",
    "\n",
    "ndarray의 * 기능은  multiply 기능과 동일"
   ]
  },
  {
   "cell_type": "code",
   "execution_count": null,
   "metadata": {},
   "outputs": [],
   "source": [
    "import numpy as np\n",
    "m1 = np.matrix([1,2,3,4])"
   ]
  },
  {
   "cell_type": "code",
   "execution_count": null,
   "metadata": {},
   "outputs": [],
   "source": [
    "print(m1*m1.T)\n",
    "print(m1.dot(m1.T))"
   ]
  },
  {
   "cell_type": "code",
   "execution_count": null,
   "metadata": {},
   "outputs": [],
   "source": [
    "a1 = np.array([1,2,3,4])\n",
    "print(a1*a1.T)\n",
    "print(np.multiply(a1,a1))"
   ]
  },
  {
   "cell_type": "markdown",
   "metadata": {},
   "source": [
    "ndarray 가 list는 내부부터 다르게 구성되어 있어 ndarray가 더 빠르게 실행됨  \n",
    "ndarray는 각 원소별로 동일한 데이터 타입으로 처리\n",
    "\n",
    "array([원소,원소,원소], dtype) "
   ]
  },
  {
   "cell_type": "code",
   "execution_count": null,
   "metadata": {},
   "outputs": [],
   "source": [
    "import numpy as np\n",
    "l = [1,2,3,4]\n",
    "a = np.array(l, np.int)\n",
    "print(a)\n",
    "\n",
    "a= np.array(l, np.float)\n",
    "print(a)\n",
    "\n",
    "a= np.array(l, np.str)\n",
    "print(a)"
   ]
  },
  {
   "cell_type": "markdown",
   "metadata": {},
   "source": [
    "numpy array 생성시 단일값을 넣으면 array 타입이 아닌 일반 타입을 생성함"
   ]
  },
  {
   "cell_type": "code",
   "execution_count": null,
   "metadata": {},
   "outputs": [],
   "source": [
    "import numpy as np\n",
    "a = np.array(10)\n",
    "print(a)\n",
    "print(a.ndim)"
   ]
  },
  {
   "cell_type": "markdown",
   "metadata": {},
   "source": [
    "#### 1차원\n",
    "배열의 특징, 차원, 형태, 요소를 가지고 있음  \n",
    "생성시 데이터와 타입을 넣으면 ndim(차원)을 확인"
   ]
  },
  {
   "cell_type": "code",
   "execution_count": null,
   "metadata": {},
   "outputs": [],
   "source": [
    "import numpy as np\n",
    "l = [1,2,3,4]\n",
    "a = np.array(l)\n",
    "print(a)\n",
    "print(a.ndim)"
   ]
  },
  {
   "cell_type": "markdown",
   "metadata": {},
   "source": [
    "#### 2차원 \n",
    "어떤 방식으로 행과 열을 접근하는지 이해하기. "
   ]
  },
  {
   "cell_type": "code",
   "execution_count": null,
   "metadata": {},
   "outputs": [],
   "source": [
    "import numpy as np\n",
    "a = np.array([[1,2],[3,4]])\n",
    "print(a)\n",
    "print(a.ndim)\n"
   ]
  },
  {
   "cell_type": "markdown",
   "metadata": {},
   "source": [
    "#### 3차원  "
   ]
  },
  {
   "cell_type": "code",
   "execution_count": null,
   "metadata": {},
   "outputs": [],
   "source": [
    "import numpy as np\n",
    "a = np.array([ [[1,2],[3,4]],[[5,6],[7,8]]])\n",
    "print(a) \n",
    "print(a.ndim)\n"
   ]
  },
  {
   "cell_type": "markdown",
   "metadata": {},
   "source": [
    "ndarray 타입은 검색이나 슬라이싱 작업시 참조만 할당하므로 변경을  \n",
    "방지하기 위해 새로운 ndarray 를 만들어 사용, copy 메소드 사용"
   ]
  },
  {
   "cell_type": "code",
   "execution_count": null,
   "metadata": {},
   "outputs": [],
   "source": [
    "import numpy as np\n",
    "l = [1,2,3,4]\n",
    "a = np.array(l) \n",
    "s = a[:2]\n",
    "ss= a[:2].copy()\n",
    "print(a.size)\n",
    "s[0] = 99\n",
    "print(a) \n",
    "print(s)\n",
    "print(ss)"
   ]
  },
  {
   "cell_type": "markdown",
   "metadata": {},
   "source": [
    "for 구문 사용없이 자료 리스트에 동일한 연산"
   ]
  },
  {
   "cell_type": "code",
   "execution_count": null,
   "metadata": {},
   "outputs": [],
   "source": [
    "data = [2,4,6,8,10]\n",
    "nData = np.array(data)\n",
    "print(nData)\n",
    "\n",
    "nData2 = [x/2 for x in data]\n",
    "print(nData2) \n",
    "\n",
    "nData3 = nData/2\n",
    "print(nData3)\n"
   ]
  },
  {
   "cell_type": "markdown",
   "metadata": {},
   "source": [
    "브로드캐스팅 처리  \n",
    "원소들끼리 계산을 하기 위해 동일한 모양으로 만들고 이를 원소별로 계산 처리"
   ]
  },
  {
   "cell_type": "code",
   "execution_count": null,
   "metadata": {},
   "outputs": [],
   "source": [
    "import numpy as np\n",
    "A = np.array([[11,12,13],[21,22,23],[31,32,33]])\n",
    "B = np.array([1,2,3])\n",
    "print(A*B)\n",
    "print(A+B)"
   ]
  },
  {
   "cell_type": "markdown",
   "metadata": {},
   "source": [
    "배열 접근하기 : 행과 열 구분"
   ]
  },
  {
   "cell_type": "markdown",
   "metadata": {},
   "source": [
    "배열 접근하기 : 행과 열 구분\n",
    "\n",
    "배열명[행 범위, 열 범위] 이런 방식으로 행과 열을 접근함"
   ]
  },
  {
   "cell_type": "code",
   "execution_count": null,
   "metadata": {},
   "outputs": [],
   "source": [
    "import numpy as np\n",
    "l33 = [[1,2,3],[4,5,6],[7,8,9]]\n",
    "np33 = np.array(l33, dtype=int)\n",
    "\n",
    "print(np33.shape)\n",
    "print(np33.ndim)\n",
    "print(np33)\n",
    "print(\"First Row\", np33[0])\n",
    "print(\"First Column\", np33[:,0])"
   ]
  },
  {
   "cell_type": "markdown",
   "metadata": {},
   "source": [
    "배열 접근하기 : 행렬로 구분"
   ]
  },
  {
   "cell_type": "code",
   "execution_count": null,
   "metadata": {},
   "outputs": [],
   "source": [
    "import numpy as np\n",
    "l33 = [[1,2,3],[4,5,6],[7,8,9]]\n",
    "np33 = np.array(l33,int)\n",
    "print(np33)\n",
    "print(np33[:2, 1:])\n",
    "print(np33[1,1])"
   ]
  },
  {
   "cell_type": "markdown",
   "metadata": {},
   "source": [
    "다차원 배열"
   ]
  },
  {
   "cell_type": "code",
   "execution_count": null,
   "metadata": {},
   "outputs": [],
   "source": [
    "import numpy as np\n",
    "data1 = np.random.randn(7,4)\n",
    "print(data1)"
   ]
  },
  {
   "cell_type": "code",
   "execution_count": null,
   "metadata": {},
   "outputs": [],
   "source": [
    "print(data1[:,1])"
   ]
  },
  {
   "cell_type": "code",
   "execution_count": null,
   "metadata": {},
   "outputs": [],
   "source": [
    "data1[:,1] = 99\n",
    "print(data1)"
   ]
  },
  {
   "cell_type": "markdown",
   "metadata": {},
   "source": [
    "1차원 배열 비교"
   ]
  },
  {
   "cell_type": "code",
   "execution_count": null,
   "metadata": {},
   "outputs": [],
   "source": [
    "import numpy as np\n",
    "f = np.array([1.0,2.0,3.0])\n",
    "a = f > 2.0\n",
    "print(a)\n",
    "print(f[a])"
   ]
  },
  {
   "cell_type": "markdown",
   "metadata": {},
   "source": [
    "다차원 배열 비교"
   ]
  },
  {
   "cell_type": "code",
   "execution_count": null,
   "metadata": {},
   "outputs": [],
   "source": [
    "import numpy as np\n",
    "f= np.random.rand(3,4)\n",
    "print(f)\n",
    "a = f > 0.5\n",
    "print(a)\n",
    "print(f[a])"
   ]
  },
  {
   "cell_type": "markdown",
   "metadata": {},
   "source": [
    "다차원 배열값 변경"
   ]
  },
  {
   "cell_type": "code",
   "execution_count": null,
   "metadata": {},
   "outputs": [],
   "source": [
    "import numpy as np\n",
    "data1 = np.random.randn(7,4)\n",
    "print(data1)\n",
    "data1[data1<0] = 99\n",
    "print(data1)"
   ]
  },
  {
   "cell_type": "markdown",
   "metadata": {},
   "source": [
    "행 검색하기"
   ]
  },
  {
   "cell_type": "code",
   "execution_count": null,
   "metadata": {},
   "outputs": [],
   "source": [
    "import numpy as np\n",
    "f = np.arange(0, 12).reshape(3,4)\n",
    "print(f)\n",
    "print(f[[2,0]])"
   ]
  },
  {
   "cell_type": "code",
   "execution_count": null,
   "metadata": {},
   "outputs": [],
   "source": [
    "print(f[[-1,-3]])"
   ]
  },
  {
   "cell_type": "markdown",
   "metadata": {},
   "source": [
    "순서쌍 처리후 원소만 추출. \n",
    "두개의 배열을 주고 첫번째는 해당 행만 추출,  \n",
    "두번째는 해당 열만 추출하여 특정 원소들만 추출"
   ]
  },
  {
   "cell_type": "code",
   "execution_count": null,
   "metadata": {},
   "outputs": [],
   "source": [
    "B = np.array([[142, 56,189,65],\n",
    "              [299,288,10,12],\n",
    "              [55,142,17,18]])\n",
    "\n",
    "e0 = np.array([0,0,0,0])\n",
    "e1 = np.array([0,3,2,1])\n",
    "\n",
    "f = B[(e0, e1)]\n",
    "print(f)"
   ]
  },
  {
   "cell_type": "markdown",
   "metadata": {},
   "source": [
    "행과 열로 구성된 배열 추출.   \n",
    "첫번째 행은 행을 처리,   두번째 배열은 열을 처리해서   \n",
    "행과 열로 구성된 배열 추출. "
   ]
  },
  {
   "cell_type": "code",
   "execution_count": null,
   "metadata": {},
   "outputs": [],
   "source": [
    "import numpy as np\n",
    "f = np.arange(0,12).reshape(3,4)\n",
    "print(f)\n",
    "\n",
    "print(f[[1,2]][:,[0,2]])"
   ]
  },
  {
   "cell_type": "code",
   "execution_count": null,
   "metadata": {},
   "outputs": [],
   "source": [
    "print(f[np.ix_([1,2],[0,2])])"
   ]
  },
  {
   "cell_type": "markdown",
   "metadata": {},
   "source": [
    "비교 표현식"
   ]
  },
  {
   "cell_type": "code",
   "execution_count": null,
   "metadata": {},
   "outputs": [],
   "source": [
    "import numpy as np\n",
    "f = np.arange(0,12).reshape(3,4)\n",
    "print(f)\n",
    "\n",
    "print(f[f%3 > 0])"
   ]
  },
  {
   "cell_type": "markdown",
   "metadata": {},
   "source": [
    "## 선형대수"
   ]
  },
  {
   "cell_type": "markdown",
   "metadata": {},
   "source": [
    "스칼라/벡터/행렬"
   ]
  },
  {
   "cell_type": "code",
   "execution_count": null,
   "metadata": {},
   "outputs": [],
   "source": [
    "import numpy as np\n",
    "s = 10\n",
    "v= [1,2,3]\n",
    "m = np.array([[1,2,3],[4,5,6]])\n",
    "print(s, type(s))\n",
    "print(v, type(v))\n",
    "print(m, type(m))"
   ]
  },
  {
   "cell_type": "markdown",
   "metadata": {},
   "source": [
    "벡터의 크기 계산"
   ]
  },
  {
   "cell_type": "code",
   "execution_count": null,
   "metadata": {},
   "outputs": [],
   "source": [
    "import math\n",
    "import numpy as np\n",
    "\n",
    "x = np.array([1,2])\n",
    "mag = lambda x:math.sqrt(sum(i**2 for i in x))\n",
    "print(mag(x))\n"
   ]
  },
  {
   "cell_type": "code",
   "execution_count": null,
   "metadata": {},
   "outputs": [],
   "source": [
    "mag2 = np.linalg.norm(x)\n",
    "print(mag2)"
   ]
  },
  {
   "cell_type": "markdown",
   "metadata": {},
   "source": [
    "벡터 + 연산"
   ]
  },
  {
   "cell_type": "code",
   "execution_count": null,
   "metadata": {},
   "outputs": [],
   "source": [
    "import numpy as np\n",
    "import math\n",
    "\n",
    "d = np.array([4,5])\n",
    "e = np.array([3,8])\n",
    "\n",
    "f = d + e\n",
    "print(f)"
   ]
  },
  {
   "cell_type": "markdown",
   "metadata": {},
   "source": [
    "벡터 - 연산"
   ]
  },
  {
   "cell_type": "code",
   "execution_count": null,
   "metadata": {},
   "outputs": [],
   "source": [
    "import math\n",
    "import numpy as np\n",
    "\n",
    "d = np.array([1,2])\n",
    "e = np.array([2,1])\n",
    "g = d-e\n",
    "print(g)"
   ]
  },
  {
   "cell_type": "markdown",
   "metadata": {},
   "source": [
    "벡터 스칼라곱"
   ]
  },
  {
   "cell_type": "code",
   "execution_count": null,
   "metadata": {},
   "outputs": [],
   "source": [
    "import math\n",
    "import numpy as np\n",
    "\n",
    "d = np.array([1,2])\n",
    "i = 3 *d\n",
    "print(i)"
   ]
  },
  {
   "cell_type": "markdown",
   "metadata": {},
   "source": [
    "ndarray에 대한 수치 계산은 기본 벡터화되서 연산에 적용됨"
   ]
  },
  {
   "cell_type": "code",
   "execution_count": null,
   "metadata": {},
   "outputs": [],
   "source": [
    "import numpy as np\n",
    "l=[1,2,3,4]\n",
    "a = np.array(l, np.int)\n",
    "print(a+1)\n",
    "print(a*2)\n",
    "print(a-3)\n",
    "print(a/4)"
   ]
  },
  {
   "cell_type": "markdown",
   "metadata": {},
   "source": [
    "내적"
   ]
  },
  {
   "cell_type": "code",
   "execution_count": null,
   "metadata": {},
   "outputs": [],
   "source": [
    "import numpy as np\n",
    "import math \n",
    "\n",
    "d = np.array([4,5])\n",
    "e = np.array([3,8])\n",
    "j = d*e\n",
    "print(j)\n",
    "print(np.dot(d,e))\n",
    "print(np.dot(e,d))"
   ]
  },
  {
   "cell_type": "markdown",
   "metadata": {},
   "source": [
    "항등행렬"
   ]
  },
  {
   "cell_type": "code",
   "execution_count": null,
   "metadata": {},
   "outputs": [],
   "source": [
    "import numpy as np\n",
    "a = np.array([[1,0],[0,1]])\n",
    "b = np.array([[4,1],[3,2]])\n",
    "print(np.dot(a,b))\n",
    "print(np.dot(b,a))"
   ]
  },
  {
   "cell_type": "markdown",
   "metadata": {},
   "source": [
    "행렬의 산술연산"
   ]
  },
  {
   "cell_type": "code",
   "execution_count": null,
   "metadata": {},
   "outputs": [],
   "source": [
    "import math\n",
    "import numpy as np\n",
    "a = np.array([[1,2],[3,4]])\n",
    "b = np.array([[5,6],[7,8]]) \n",
    "print(a+b)\n",
    "print(a*b)\n",
    "print(np.multiply(a,b))"
   ]
  },
  {
   "cell_type": "markdown",
   "metadata": {},
   "source": [
    "전치행렬"
   ]
  },
  {
   "cell_type": "code",
   "execution_count": null,
   "metadata": {},
   "outputs": [],
   "source": [
    "import math\n",
    "import numpy as np\n",
    "a = np.array([[1,2],[3,4]])\n",
    "print(a)\n",
    "print(a.T)\n",
    "print(np.transpose(a))"
   ]
  },
  {
   "cell_type": "markdown",
   "metadata": {},
   "source": [
    "행렬곱 dot"
   ]
  },
  {
   "cell_type": "code",
   "execution_count": null,
   "metadata": {},
   "outputs": [],
   "source": [
    "import math\n",
    "import numpy as np\n",
    "a = np.array([[1,2],[3,4]])\n",
    "b = np.array([[5,6],[7,8]])\n",
    "print(np.dot(a,b))"
   ]
  },
  {
   "cell_type": "markdown",
   "metadata": {},
   "source": [
    "행렬식"
   ]
  },
  {
   "cell_type": "code",
   "execution_count": null,
   "metadata": {},
   "outputs": [],
   "source": [
    "\n",
    "import numpy as np\n",
    "\n",
    "a = np.array([[3,1,3],[2,2,3],[1,1,1]])\n",
    "print(np.linalg.det(a))"
   ]
  },
  {
   "cell_type": "markdown",
   "metadata": {},
   "source": [
    "역행렬"
   ]
  },
  {
   "cell_type": "code",
   "execution_count": null,
   "metadata": {},
   "outputs": [],
   "source": [
    "import math\n",
    "import numpy as np\n",
    "\n",
    "a= np.array([[3,1,3],[2,2,3],[1,1,1]])\n",
    "print(a)\n",
    "print(np.linalg.inv(a))"
   ]
  },
  {
   "cell_type": "markdown",
   "metadata": {},
   "source": [
    "$3x+6y−5z = 12$  \n",
    "\n",
    "$x−3y+2z = -2$  \n",
    "\n",
    "$5x−y+4z = 10$  "
   ]
  },
  {
   "cell_type": "code",
   "execution_count": null,
   "metadata": {},
   "outputs": [],
   "source": [
    "import numpy as np\n",
    "\n",
    "A = np.array([[3, 6, -5],\n",
    "             [1, -3, 2],\n",
    "             [5, -1, 4]])\n",
    "\n",
    "print(A)\n",
    "b = np.array([12, -2, 10])\n",
    "print(b)\n",
    "\n",
    "x = np.linalg.inv(A).dot(b)\n",
    "print(x)\n"
   ]
  },
  {
   "cell_type": "markdown",
   "metadata": {},
   "source": [
    "대각행렬"
   ]
  },
  {
   "cell_type": "code",
   "execution_count": null,
   "metadata": {},
   "outputs": [],
   "source": [
    "import numpy as np\n",
    "\n",
    "x = np.arange(9).reshape(3, 3)\n",
    "print(x)\n",
    "np.diag(x)\n",
    "np.diag(np.diag(x))\n"
   ]
  },
  {
   "cell_type": "code",
   "execution_count": null,
   "metadata": {},
   "outputs": [],
   "source": [
    "np.diag([2,4,6,8])"
   ]
  },
  {
   "cell_type": "markdown",
   "metadata": {},
   "source": [
    "LU Decomposition"
   ]
  },
  {
   "cell_type": "code",
   "execution_count": null,
   "metadata": {},
   "outputs": [],
   "source": [
    "import numpy as np\n",
    "import scipy.linalg as la\n",
    "a = np.array([[2, 1, 1],\n",
    "              [4, -6, 0],\n",
    "              [-2, 7, 2]])\n",
    "(P, L, U) = la.lu(a)\n",
    "\n",
    "print(P)\n",
    "print(L)\n",
    "print(U)\n",
    "c = P.dot(np.dot(L,U))\n",
    "print(c)"
   ]
  },
  {
   "cell_type": "code",
   "execution_count": null,
   "metadata": {},
   "outputs": [],
   "source": [
    "import numpy as np\n",
    "import scipy.linalg as la\n",
    "a = np.array([[1, 0, 0],\n",
    "              [2, 1, 0],\n",
    "              [-1, -1, 1]])\n",
    "\n",
    "b = np.array([[2, 1, 1],\n",
    "              [0, -8, -2],\n",
    "              [0, 0, 1]])\n",
    "\n",
    "\n",
    "c = np.dot(a,b)\n",
    "print(c)"
   ]
  },
  {
   "cell_type": "markdown",
   "metadata": {},
   "source": [
    "고유값/고유벡터"
   ]
  },
  {
   "cell_type": "code",
   "execution_count": null,
   "metadata": {},
   "outputs": [],
   "source": [
    "import numpy as np\n",
    "\n",
    "A = np.array([[1, -2], [2, -3]])\n",
    "w1, V1 = np.linalg.eig(A)"
   ]
  },
  {
   "cell_type": "code",
   "execution_count": null,
   "metadata": {},
   "outputs": [],
   "source": [
    "print(w1)"
   ]
  },
  {
   "cell_type": "code",
   "execution_count": null,
   "metadata": {},
   "outputs": [],
   "source": [
    "print(V1)"
   ]
  },
  {
   "cell_type": "code",
   "execution_count": null,
   "metadata": {},
   "outputs": [],
   "source": [
    "B = np.array([[2, 3], [2, 1]])\n",
    "w2, V2 = np.linalg.eig(B)"
   ]
  },
  {
   "cell_type": "code",
   "execution_count": null,
   "metadata": {},
   "outputs": [],
   "source": [
    "print(w2)"
   ]
  },
  {
   "cell_type": "code",
   "execution_count": null,
   "metadata": {},
   "outputs": [],
   "source": [
    "print(V2)"
   ]
  },
  {
   "cell_type": "code",
   "execution_count": null,
   "metadata": {},
   "outputs": [],
   "source": [
    "C = np.array([[0, -1], [1, 0]])\n",
    "w3, V3 = np.linalg.eig(C)"
   ]
  },
  {
   "cell_type": "code",
   "execution_count": null,
   "metadata": {},
   "outputs": [],
   "source": [
    "print(w3)"
   ]
  },
  {
   "cell_type": "code",
   "execution_count": null,
   "metadata": {},
   "outputs": [],
   "source": [
    "print(V3)"
   ]
  },
  {
   "cell_type": "markdown",
   "metadata": {},
   "source": [
    "SVD"
   ]
  },
  {
   "cell_type": "code",
   "execution_count": 1,
   "metadata": {},
   "outputs": [
    {
     "name": "stdout",
     "output_type": "stream",
     "text": [
      "[[ 9.31322575e-10  4.54747351e-12  1.33226763e-15]\n",
      " [ 0.00000000e+00  9.09494702e-13  4.44089210e-16]\n",
      " [ 4.65661287e-10  9.09494702e-13  4.44089210e-16]\n",
      " [ 0.00000000e+00  9.09494702e-13  4.44089210e-16]\n",
      " [-4.65661287e-10  9.09494702e-13  4.44089210e-16]\n",
      " [ 4.65661287e-10  9.09494702e-13  4.44089210e-16]\n",
      " [ 0.00000000e+00  9.09494702e-13  3.33066907e-16]\n",
      " [ 4.65661287e-10  1.13686838e-12  5.55111512e-16]\n",
      " [ 4.65661287e-10  1.13686838e-12  5.55111512e-16]]\n"
     ]
    }
   ],
   "source": [
    "import numpy as np\n",
    "\n",
    "A = [[i**2, i, 1] for i in range(1930, 2020, 10)]\n",
    "\n",
    "matA = np.array(A).astype(np.float64)\n",
    "\n",
    "U, s, V = np.linalg.svd(matA, full_matrices = True)\n",
    "\n",
    "S = np.zeros(matA.shape)\n",
    "for i in range(len(s)):\n",
    "    S[i][i] = s[i]\n",
    "\n",
    "appA = np.dot(U, np.dot(S, V))\n",
    " \n",
    "print(matA - appA)"
   ]
  },
  {
   "cell_type": "markdown",
   "metadata": {},
   "source": [
    "외적"
   ]
  },
  {
   "cell_type": "code",
   "execution_count": 2,
   "metadata": {},
   "outputs": [
    {
     "name": "stdout",
     "output_type": "stream",
     "text": [
      "[-1  0  0]\n",
      "[1 0 0]\n"
     ]
    }
   ],
   "source": [
    "import numpy as np\n",
    "x = np.array([0,0,1])\n",
    "y = np.array([0,1,0])\n",
    "\n",
    "print(np.cross(x,y))\n",
    "print(np.cross(y,x))"
   ]
  },
  {
   "cell_type": "code",
   "execution_count": null,
   "metadata": {},
   "outputs": [],
   "source": []
  }
 ],
 "metadata": {
  "kernelspec": {
   "display_name": "Python 3",
   "language": "python",
   "name": "python3"
  },
  "language_info": {
   "codemirror_mode": {
    "name": "ipython",
    "version": 3
   },
   "file_extension": ".py",
   "mimetype": "text/x-python",
   "name": "python",
   "nbconvert_exporter": "python",
   "pygments_lexer": "ipython3",
   "version": "3.6.7"
  }
 },
 "nbformat": 4,
 "nbformat_minor": 2
}
