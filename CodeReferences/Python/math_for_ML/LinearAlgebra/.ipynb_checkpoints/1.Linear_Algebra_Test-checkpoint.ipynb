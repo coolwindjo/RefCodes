{
 "cells": [
  {
   "cell_type": "markdown",
   "metadata": {},
   "source": [
    "# <center><span style=\"color:IndianRed\">선형대수</center>\n",
    "  "
   ]
  },
  {
   "cell_type": "markdown",
   "metadata": {},
   "source": [
    "  \n",
    "\n",
    "## 선형(Linearity)이 되기 위한 조건  \n",
    "##    $f(ax) = af(x)$\n",
    "##    $f(x_1 + x_2) = f(x_1) + f(x_2)$   \n",
    "   \n",
    "\n",
    "## $A(a_1X_1+ a_2X_2) = a_1AX_1 + a_2AX_2$  \n",
    "\n",
    "\n",
    "\n",
    "## 1. f(x) = mx + n 이  선형성을 만족하는지 위 조건을 이용하여 증명하세요 \n",
    "\n",
    "<br><br>\n",
    "\n",
    "******************************************************************"
   ]
  },
  {
   "cell_type": "markdown",
   "metadata": {},
   "source": [
    "## 2. 행렬 기초\n",
    "\n",
    "### 2.1 행렬의 항등원을  3 x 3 행렬로 표현하세요 \n",
    "\n",
    "<br>\n",
    "\n",
    "\n",
    "### 2.2. 아래 행렬의 역행렬을 구하세요 \n",
    "\n",
    "$$ \\begin{bmatrix} \n",
    " a & b  \\\\\\\\ \n",
    " c & d  \\\\  \n",
    " \\end{bmatrix}\n",
    " $$\n",
    "\n",
    "\n",
    "<br><br><br><br>\n",
    "************"
   ]
  },
  {
   "cell_type": "markdown",
   "metadata": {},
   "source": [
    "## 3. 다음과 같은 3차원의 연립 방정식이 있을 때 벡터와 계수의 선형 결합으로 표현하세요\n",
    "\n",
    "\n",
    "## $$\n",
    "2x + y + z = 5 \\\\\\\\ \n",
    "4x -6y = -2 \\\\\\\\ \n",
    "-2x + 7y + 2z = 9\n",
    "$$  \n",
    "\n",
    "\n",
    "<br><br><br><br>\n",
    "************"
   ]
  },
  {
   "cell_type": "markdown",
   "metadata": {},
   "source": [
    "## 4. 가우스 소거를 이용하여 해를 구하세요 \n",
    "\n",
    "## $$x + y +z = 5$$\n",
    "\n",
    "## $$2x + 2y + 5x = -2$$\n",
    "\n",
    "## $$4x + 6y + 8z = 9 $$\n",
    "\n",
    "<br><br><br><br>\n",
    "************"
   ]
  },
  {
   "cell_type": "markdown",
   "metadata": {},
   "source": [
    "## 5. 다음 행렬식에 참조해서 다음 문제를 해결하세요\n",
    "\n",
    "\n",
    " $$ \\begin{bmatrix} \n",
    " 2 & 1 & 1 \\\\\\\\ \n",
    " 4 & -6 & 0 \\\\\\\\ \n",
    " -2 & 7 & 2 \\\\ \n",
    " \\end{bmatrix}\n",
    " $$\n",
    " \n",
    "### 5.1. U 행렬 (Upper Triangular Matrix)를 구하세요\n",
    "\n",
    "### 5.2. elementry matrix 각각 구하세요.   \n",
    "### $${E_{21}, E_{31}, E_{32}}$$ \n",
    "\n",
    "\n",
    "### 5.3 L 행렬(Lower Triangular Matrix)를 구하세요  \n",
    "\n",
    "\n",
    "<br><br><br><br>\n",
    "************"
   ]
  },
  {
   "cell_type": "markdown",
   "metadata": {},
   "source": [
    "## 6. 다음 행렬식을 가우스-조단 메소드를 이용하여 역행렬 구하기  \n",
    "\n",
    "$$\n",
    " \\begin{bmatrix} \n",
    " 2 & 1 & 1 &\\\\\\\\ 4 & -6 & 0 \\\\\\\\ -2 & 7 & 2 \\\\ \n",
    " \\end{bmatrix}\n",
    "$$\n",
    "\n",
    "<br><br><br><br>\n",
    "************"
   ]
  },
  {
   "cell_type": "markdown",
   "metadata": {},
   "source": [
    "## 7. 행렬이 내포하고 있는 벡터 공간을 전부 쓰세요. 그리고 서로간에 직교하고 있는 벡터 공간은  ?\n",
    "\n",
    "<br><br><br><br>\n",
    "************"
   ]
  },
  {
   "cell_type": "markdown",
   "metadata": {},
   "source": [
    "## 8. 다음 방정식의 해를 구하세요 \n",
    "\n",
    "## $$u + 3v + 3w + 2z = 0$$   \n",
    "## $$2u + 6v + 9w + 7z = 0$$ \n",
    "## $$-u -3v + 3w + 4z = 0$$ \n",
    "\n",
    "<br><br><br><br>\n",
    "************"
   ]
  },
  {
   "cell_type": "markdown",
   "metadata": {},
   "source": [
    "## 9.  다음 방정식의 해를 구하세요     \n",
    "\n",
    "\n",
    "$$\n",
    " \\begin{bmatrix} \n",
    " 1 & 3& 3& 2\\\\\\\\ 2 & 6& 9& 7\\\\\\\\ -1 & -3& 3& 4\\\\\n",
    " \\end{bmatrix}\n",
    " \\begin{bmatrix} \n",
    " u \\\\\\\\ v \\\\\\\\ w \\\\\\\\ z \\\\\n",
    " \\end{bmatrix}\n",
    " = \n",
    " \\begin{bmatrix} \n",
    " 1 \\\\\\\\ 5 \\\\\\\\ 5 \\\\\n",
    " \\end{bmatrix}\n",
    " $$ \n",
    "\n",
    "<br><br><br><br>\n",
    "************\n"
   ]
  },
  {
   "cell_type": "markdown",
   "metadata": {},
   "source": [
    "## 10.  선형 독립\n",
    "\n",
    "### 10.1. $V_1, V_2, \\cdots + V_n \\quad$ 처럼 n 개의 벡터가 선형 독립이 되기 위한 조건 ? \n",
    "\n",
    "\n",
    "### 10.2. 다음 벡터들은 선형 독립 또는 선형 종속인지 판단하고 이유를 쓰세요    \n",
    "\n",
    " <img src=\"lindepen.png\" width = 300>\n",
    "\n",
    "     \n",
    "<br><br><br><br>\n",
    "************"
   ]
  },
  {
   "cell_type": "markdown",
   "metadata": {},
   "source": [
    "## 11. 기저벡터(basis) 관련 \n",
    "\n",
    "### 11.1. 기저벡터란 ? \n",
    "### 11.2. 다음 그림에서 3개의 벡터는 선형 독립 또는 선형 종속인지 판단하고 그이유는 ?\n",
    "\n",
    "\n",
    "<br> \n",
    "\n",
    "<img src=\"xyspan.png\" width=300>\n",
    "\n",
    "<br><br><br><br>\n",
    "************"
   ]
  },
  {
   "cell_type": "markdown",
   "metadata": {},
   "source": [
    "## 12. 행렬 A ($m \\times n$)에 대해서 각 부분 공간은 몇 차원 공간에 존재하는지 쓰세요    \n",
    "\n",
    "  \n",
    "<br><br><br><br>\n",
    "************  "
   ]
  },
  {
   "cell_type": "markdown",
   "metadata": {},
   "source": [
    "## 13.  다음과 같은 행렬이 있을 경우\n",
    "\n",
    "### 13.1. 각 부분 공간을 구하고  속한 공간의 차원을 구하세요   \n",
    "\n",
    "$$A = \n",
    " \\begin{bmatrix} \n",
    " 1 & 0 & 0 \\\\\\\\ 0 & 0 & 0 \\\\\n",
    " \\end{bmatrix}   \n",
    " $$\n",
    "\n",
    "<br> \n",
    "\n",
    "###  13.2. 위 문제에서 구한, 동일한 차원에 속해 있는 부분 공간끼리 좌표 공간에 그리세요   \n",
    "\n",
    "<br><br><br><br>\n",
    "************"
   ]
  },
  {
   "cell_type": "markdown",
   "metadata": {},
   "source": [
    "## 14. 다음과 같은 그림에서 벡터 b가 벡터 a 로 투영될 때 벡터 p에 대한 식을 유도하고 그 식을 이용하여   아래 예제에 적용하세요       \n",
    "\n",
    "<img src=\"vectorprojection.png\" width=250>\n",
    "\n",
    "\n",
    "$$\n",
    "a = \\begin{bmatrix} \n",
    " 1  \\\\\\\\ 1 \\\\\\\\ 1  \\\\\n",
    " \\end{bmatrix} \n",
    " , \\quad \n",
    "b = \\begin{bmatrix} \n",
    " 1  \\\\\\\\ 2 \\\\\\\\ 3  \\\\\n",
    " \\end{bmatrix} \n",
    "$$ \n",
    "\n",
    "<br><br><br><br>\n",
    "************"
   ]
  },
  {
   "cell_type": "markdown",
   "metadata": {},
   "source": [
    "# 15. 다음과 같은 그림에서 벡터 b 가 x-y 평면으로 투영될 때 좌표를 구하세요   \n",
    "\n",
    "\n",
    "- $x-y \\; 평면$ 과 그 평면에 있지 않은 벡터가 다음과 같이 있을 때 평면에 투영하기 \n",
    "\n",
    "$$b = \n",
    " \\begin{bmatrix} \n",
    " 4 \\\\\\\\ 5 \\\\\\\\ 6 \\\\\n",
    " \\end{bmatrix}   \n",
    " $$ \n",
    "\n",
    "<br> \n",
    "\n",
    "<img src=\"leastsquare.png\" width = 300>\n",
    "\n",
    "<br><br><br><br>\n",
    "************"
   ]
  },
  {
   "cell_type": "markdown",
   "metadata": {},
   "source": [
    "## 16.  다음 행렬식에 대해서 고유값 / 고유벡터를 구하세요 \n",
    "\n",
    "$$A=\\begin{bmatrix} 4 & -5 \\\\\\\\  2 & -3 \\\\ \\end{bmatrix}$$\n",
    "\n",
    "<br><br><br><br>\n",
    "************"
   ]
  },
  {
   "cell_type": "markdown",
   "metadata": {},
   "source": [
    "## 17. 다음 행렬식에 대해서 고유값/고유벡터를 이용하여 행렬 분할/대각화 (diagonalization)  를 구하세요. \n",
    "- 고유값/고유벡터를 이용한 행렬 분해 예 \n",
    "\n",
    "$$A= \n",
    "\\begin{bmatrix} \\frac{1}{2} & \\frac{1}{2} \\\\\\\\ \\frac{1}{2} & \\frac{1}{2} \\\\ \n",
    "\\end{bmatrix} \n",
    "$$\n",
    "\n",
    "<br><br><br><br>\n",
    "************"
   ]
  },
  {
   "cell_type": "markdown",
   "metadata": {},
   "source": [
    "## 18. 차분 방정식(Difference Equation)  을 고유벡터 /고유값을 이용하여 값을 구하세요   \n",
    "\n",
    "- $U_k = A^kU_0$   \n",
    "\n",
    "<br>  \n",
    "\n",
    "- $U_{100} = A^{100}U_0, \\quad U_{100} = ?$   \n",
    "\n",
    "<br> \n",
    "\n",
    "$$\n",
    "A = \\begin{bmatrix} \n",
    "1 & 2 \\\\\\\\ 2 & 4 \\\\ \n",
    "\\end{bmatrix} \n",
    ", \\quad\n",
    "U_0=\n",
    "\\begin{bmatrix} \n",
    "1  \\\\\\\\ 2 \\\\ \n",
    "\\end{bmatrix} \n",
    "$$   \n",
    "\n",
    "<br><br><br><br>\n",
    "************\n"
   ]
  },
  {
   "cell_type": "markdown",
   "metadata": {},
   "source": [
    "# 19. 마르코프 행렬  \n",
    "- 모든 요소가 0보다 크거나 같음     \n",
    "\n",
    "- 상태 변이를 확률을 이용하여 표현   \n",
    "\n",
    "- 각 열벡터의 요소를 더하면 1이 됨\n",
    "\n",
    "- 고유값중에는  항상 1이 존재함  \n",
    "\n",
    "- 다른 고유값들의 절대값은 1보다 작음   \n",
    "\n",
    "- 일년간 주민의 이동이 다음과 같다고 가정  \n",
    "\n",
    "    - A 도시 사는 주민의 $\\frac{1}{10}$ 이 B 도시로 인입\n",
    "\n",
    "    - B 도시에 사는 주민의 $\\frac{2}{10}$ 이 A 도시로 나감 \n",
    "\n",
    "<br> \n",
    "\n",
    "<img src=\"markov.png\" width=300>\n",
    "\n",
    "<br> \n",
    "\n",
    "- 각 도시별 인구 변동은 다음과 같이 정리할 수 있음    \n",
    "    - $(A_0, B_0) = (1000, 400)^T$ \n",
    "\n",
    "    - $A_{k+1} = 0.9A_k + 0.2B_k$  \n",
    "\n",
    "    - $B_{k+1} = 0.1A_k + 0.8B_k$   \n",
    "\n",
    "<br> \n",
    "\n",
    "$$\n",
    "\\begin{bmatrix} \n",
    "A_{k+1} \\\\\\\\ \n",
    "B_{k+1} \\\\ \n",
    "\\end{bmatrix} \n",
    "=\n",
    "\\begin{bmatrix} \n",
    "0.9 & 0.2 \\\\\\\\ \n",
    "0.1 & 0.8 \\\\ \n",
    "\\end{bmatrix} \n",
    "\\begin{bmatrix} \n",
    "A_k \\\\\\\\ \n",
    "B_k \\\\ \n",
    "\\end{bmatrix} \n",
    "$$\n",
    "\n",
    "- 100년후 인구 변동은 어떻게 될까?  \n",
    "\n",
    "    - $u_{100} = S\\Lambda^{100}c$ "
   ]
  }
 ],
 "metadata": {
  "kernelspec": {
   "display_name": "Python 3",
   "language": "python",
   "name": "python3"
  },
  "language_info": {
   "codemirror_mode": {
    "name": "ipython",
    "version": 3
   },
   "file_extension": ".py",
   "mimetype": "text/x-python",
   "name": "python",
   "nbconvert_exporter": "python",
   "pygments_lexer": "ipython3",
   "version": "3.6.7"
  }
 },
 "nbformat": 4,
 "nbformat_minor": 2
}
