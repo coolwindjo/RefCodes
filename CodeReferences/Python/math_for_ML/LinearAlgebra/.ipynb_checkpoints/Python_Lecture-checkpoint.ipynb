{
 "cells": [
  {
   "cell_type": "markdown",
   "metadata": {},
   "source": [
    "*****\n",
    "## 0. 개요"
   ]
  },
  {
   "cell_type": "markdown",
   "metadata": {},
   "source": [
    "\n",
    "프로그램은 연산을 수행하는 일련의 명령어의 집합입니다. 연산은 수학적인 연산을 의미하거나 때로는 검색, 이미지 처리 아니면 동영상을 보는 것일수도 있습니다. \n",
    "\n",
    "세부적인 구현은 프로그래밍 언어에 따라서 다양합니다. 그러나 다음과 같은 기본적인 구조를 따르고 있습니다. \n",
    "\n",
    "- 입력\n",
    "- 수학 연산\n",
    "- 조건 분기\n",
    "- 반복\n",
    "- 출력\n",
    "\n",
    "우리는 지금부터 위 형태를 파이썬이라는 프로그래밍 언어를 이용하여 구현하게 될 것입니다. \n",
    "\n",
    "********************\n"
   ]
  },
  {
   "cell_type": "markdown",
   "metadata": {},
   "source": [
    "*****\n",
    "## 1. 주석 / 들여쓰기 / 세미콜론"
   ]
  },
  {
   "cell_type": "markdown",
   "metadata": {},
   "source": [
    "### 1.1. 주석"
   ]
  },
  {
   "cell_type": "markdown",
   "metadata": {},
   "source": [
    "프로그래밍에서 주석은 작성된 코드에 대한 설명을 나타냅니다. 구현이 복잡한 코드나 중요 코드에 대한 설명을 추가하여 코드에 대한 이해를 높이고자하는 \n",
    "\n",
    "방법입니다. "
   ]
  },
  {
   "cell_type": "code",
   "execution_count": 1,
   "metadata": {},
   "outputs": [
    {
     "name": "stdout",
     "output_type": "stream",
     "text": [
      "위와 같이 '#' 표시를 이용하면 됩니다.\n"
     ]
    }
   ],
   "source": [
    "# 주석입니다. 주석은 다음  '#'  을 이용하여  나타내면 됩니다.  아래 문장에서  '#'을 제거하면 코드를 실행시킬수 있습니다. \n",
    "\n",
    "print(\"위와 같이 '#' 표시를 이용하면 됩니다.\")"
   ]
  },
  {
   "cell_type": "code",
   "execution_count": null,
   "metadata": {},
   "outputs": [],
   "source": [
    "# 주석은 실행되나요 ?\n",
    "\n",
    "print(\"주석은 실행되지 않습니다\")"
   ]
  },
  {
   "cell_type": "code",
   "execution_count": null,
   "metadata": {},
   "outputs": [],
   "source": [
    "# 문자안의 # 은 그냥 문자로 취급됩니다.\n",
    "\n",
    "print(\"문자안의 # 은 그냥 문자료 취급됩니다.\")"
   ]
  },
  {
   "cell_type": "markdown",
   "metadata": {},
   "source": [
    "### 1.2. 들여쓰기"
   ]
  },
  {
   "cell_type": "markdown",
   "metadata": {},
   "source": [
    "파이썬에서는 들여쓰기를 통해 영역을 지정합니다. 다른 프로그래밍언처럼 괄호를 이용한 영역을 지정하지 않습니다. 함수를 정의하고 함수 내부의 코드는 들여쓰기를\n",
    "\n",
    "이용하여 시작하여야 합니다. \n",
    "\n",
    "~~~python\n",
    "def sayHello() :\n",
    "    print('Hi')\n",
    "~~~"
   ]
  },
  {
   "cell_type": "code",
   "execution_count": null,
   "metadata": {},
   "outputs": [],
   "source": [
    "def sayHello() :\n",
    "    print('Hi')\n",
    "\n",
    "sayHello()"
   ]
  },
  {
   "cell_type": "markdown",
   "metadata": {},
   "source": [
    "\n",
    "### 1.3 세미콜론"
   ]
  },
  {
   "cell_type": "markdown",
   "metadata": {},
   "source": [
    "파이썬에서는 라인마다 코드를 끝날때 세미콜론을 쓰지 않습니다. 써도 상관을 없지만 필수 요소는 아닙니다. 다만 코드가 연달아 이어질때 단지 구분하기 위한 요소로\n",
    "\n",
    "쓰일 수는 있습니다. \n",
    "\n",
    "~~~python\n",
    "print('Hi'); print('Good Bye')\n",
    "~~~"
   ]
  },
  {
   "cell_type": "code",
   "execution_count": null,
   "metadata": {},
   "outputs": [],
   "source": [
    "print('Hi'); print('Good Bye')"
   ]
  },
  {
   "cell_type": "markdown",
   "metadata": {},
   "source": [
    "*****"
   ]
  },
  {
   "cell_type": "markdown",
   "metadata": {},
   "source": [
    "*****\n",
    "## 2. 기본 입출력"
   ]
  },
  {
   "cell_type": "markdown",
   "metadata": {},
   "source": [
    "여기서 다뤄지는 내용은 파이썬의 가장 기본적인 입출력 기능에 대해서 다룹니다. 보다 자세한 내용은 후반부에서 다루어지며 지금은 기본 코드를 작성하고 \n",
    "\n",
    "결과를 확인하는 과정에서 필요한 내용입니다. 크게 다음과 같이 나눠집니다.\n",
    "\n",
    "- 화면에 값을 표시하는 기능\n",
    "\n",
    "- 화면에서 사용자 입력값을 받아들이는 기능\n"
   ]
  },
  {
   "cell_type": "markdown",
   "metadata": {},
   "source": [
    "### 2.1. 화면 출력"
   ]
  },
  {
   "cell_type": "markdown",
   "metadata": {},
   "source": [
    "#### 2.1.1. print( ) 기본 "
   ]
  },
  {
   "cell_type": "markdown",
   "metadata": {},
   "source": [
    "파이썬에서 제공하는 화면 출력 기능은 print( ) 라는 함수에 의해서 수행됩니다. 직관적이며 쉬운 함수이지만 어떤 파라미터를 쓰느냐에 따라서 가장 긴요하게 \n",
    "\n",
    "사용할 수 있는 함수입니다.  먼저 가장 쉬운 예제를 통해 알아보도록 합시다."
   ]
  },
  {
   "cell_type": "code",
   "execution_count": 3,
   "metadata": {},
   "outputs": [
    {
     "name": "stdout",
     "output_type": "stream",
     "text": [
      "Hello, World\n"
     ]
    }
   ],
   "source": [
    "# 파이썬 세계로의 초대\n",
    "\n",
    "print('Hello, World')"
   ]
  },
  {
   "cell_type": "code",
   "execution_count": 2,
   "metadata": {},
   "outputs": [
    {
     "name": "stdout",
     "output_type": "stream",
     "text": [
      "2018\n"
     ]
    }
   ],
   "source": [
    "# 파이썬 세계로의 초대2\n",
    "\n",
    "print(2018)"
   ]
  },
  {
   "cell_type": "markdown",
   "metadata": {},
   "source": [
    "위 예제에서 보이듯이 print( ) 함수 괄호안에 화면에 표현하고 싶은 값을 넣어주면 바로 처리가 됩니다. 단 숫자와 문자열이 결합될때에는 숫자를 문자열로 변환하거나\n",
    "\n",
    "문자열로 표현된 숫자 형태를 써야 합니다.  즉 다음과 같은 예는 에러를 발생합니다."
   ]
  },
  {
   "cell_type": "code",
   "execution_count": null,
   "metadata": {},
   "outputs": [],
   "source": [
    "print(2018 + ' Hello, World')"
   ]
  },
  {
   "cell_type": "markdown",
   "metadata": {},
   "source": [
    "다음처럼 처리를 해야 정상적으로 값이 표현됩니다. "
   ]
  },
  {
   "cell_type": "code",
   "execution_count": null,
   "metadata": {},
   "outputs": [],
   "source": [
    "print('2018' + ' Hello, World')"
   ]
  },
  {
   "cell_type": "code",
   "execution_count": null,
   "metadata": {},
   "outputs": [],
   "source": [
    "print(str(2018) + ' Hello,world')"
   ]
  },
  {
   "cell_type": "markdown",
   "metadata": {},
   "source": [
    "#### 2.1.2. print( ) 출력 separator 다루기"
   ]
  },
  {
   "cell_type": "markdown",
   "metadata": {},
   "source": [
    "위 예제에서는 기본적으로 출력값이 하나인 경우를 다뤘습니다. 이제는 출력값이 여러개인 경우 출력 형태를 다양하게 하기 위한 방법에 대해서 다루어보겠습니다.\n",
    "\n",
    "출력값이 여러개인 경우 print( ) 함수를 여러번 호출해도 되지만 하나의 print( ) 내에서 처리할 수도 있습니다. 그럴 경우에는 값들을 쉼표로 구분해서 print( ) 함수의\n",
    "\n",
    "괄호안에 적어주면 됩니다. 쉼표로 구분되면 값들이 화면에 표현될 때 자동적으로 값사이에 공백이 들어가기 때문에 일부러 공백처리를 할 필요가 없습니다.\n",
    "\n",
    "다음 두 예제의 차이를 확인해보시기 바랍니다."
   ]
  },
  {
   "cell_type": "code",
   "execution_count": null,
   "metadata": {
    "scrolled": true
   },
   "outputs": [],
   "source": [
    "\n",
    "print('Hello, World')\n",
    "\n",
    "print('Hello,', 'World')\n"
   ]
  },
  {
   "cell_type": "markdown",
   "metadata": {},
   "source": [
    "위 예제를 기본으로 이제는 여러 값들을 하나의 print( ) 함수로 처리할 때 값사이에 공백이 아닌 특정한 값 또는 구분자를 넣고 싶을 경우는 어떻게 처리해야 하는지에 \n",
    "\n",
    "대해서 알아보도록 합시다.\n",
    "\n",
    "예를 들어 다음과 같은 형태로 표현하고 싶을 경우 어떻게 처리해야 할까요?\n",
    "\n",
    "1:2:3:4\n",
    "\n",
    "다음 예제로 확인해보도록 합시다"
   ]
  },
  {
   "cell_type": "code",
   "execution_count": null,
   "metadata": {},
   "outputs": [],
   "source": [
    "print(1,2,3,4, sep=':')"
   ]
  },
  {
   "cell_type": "markdown",
   "metadata": {},
   "source": [
    "위와 같은 형태로 표현하면서 값사이에 공백을 표현하고 싶을 경우는 다음처럼 처리합니다"
   ]
  },
  {
   "cell_type": "code",
   "execution_count": null,
   "metadata": {},
   "outputs": [],
   "source": [
    "print(1,2,3,4, sep=' : ')"
   ]
  },
  {
   "cell_type": "markdown",
   "metadata": {},
   "source": [
    "이와 반대로 값들 사이에 자동으로 입력되는 공백을 없애고 싶을 경우는 어떻게 처리하면 될까요?"
   ]
  },
  {
   "cell_type": "code",
   "execution_count": null,
   "metadata": {},
   "outputs": [],
   "source": [
    "print(1,2,3,4, sep='')"
   ]
  },
  {
   "cell_type": "markdown",
   "metadata": {},
   "source": [
    "다음처럼 행렬을 표시할때 이용할수도 있겠죠"
   ]
  },
  {
   "cell_type": "code",
   "execution_count": null,
   "metadata": {},
   "outputs": [],
   "source": [
    "print('행렬의 크기는 다음과 같습니다')\n",
    "print(2,4,sep=' x ')"
   ]
  },
  {
   "cell_type": "markdown",
   "metadata": {},
   "source": [
    "값들을 각기 다른 줄에 표현하고 싶을 경우, 즉 줄바꿈 처리도 당연히 똑같은 방식을 처리할 수 있습니다"
   ]
  },
  {
   "cell_type": "code",
   "execution_count": 1,
   "metadata": {},
   "outputs": [
    {
     "name": "stdout",
     "output_type": "stream",
     "text": [
      "Hello\n",
      "My\n",
      "World\n"
     ]
    }
   ],
   "source": [
    "print('Hello', 'My', 'World', sep='\\n')"
   ]
  },
  {
   "cell_type": "markdown",
   "metadata": {},
   "source": [
    "위 예제는 다음처럼 처리할 수도 있습니다."
   ]
  },
  {
   "cell_type": "code",
   "execution_count": null,
   "metadata": {},
   "outputs": [],
   "source": [
    "# print( )  함수를 여러번 호출\n",
    "print('Hello')\n",
    "print('My')\n",
    "print('World')\n",
    "\n",
    "# '\\n' 을 이용하여 한문장으로 표현\n",
    "print('Hello\\nMy\\nWorld')\n"
   ]
  },
  {
   "cell_type": "markdown",
   "metadata": {},
   "source": [
    "print( ) 함수는 기본적으로 값을 출력하면 다음칸으로 이동하여 출력할수 있도록 커서를 이동시킵니다. 이러한 print( ) 기본 기능을 제한하여 print( ) 을 여러번\n",
    "\n",
    "호출하여도 한 줄에 출력하도록 할수도 있습니다. 그런 경우에는 print( ) 함수의 end 요소를 설정하면 됩니다. \n",
    "\n",
    "다음 예제를 확인해보도록 합시다."
   ]
  },
  {
   "cell_type": "code",
   "execution_count": 2,
   "metadata": {},
   "outputs": [
    {
     "name": "stdout",
     "output_type": "stream",
     "text": [
      "1 2 3 4 5 6\n"
     ]
    }
   ],
   "source": [
    "print(1,2,3, end=' ') # 한줄에 여러 값을 출력하지만 값사이에 공백을 넣는경우\n",
    "print(4,5,6)"
   ]
  },
  {
   "cell_type": "code",
   "execution_count": 3,
   "metadata": {},
   "outputs": [
    {
     "name": "stdout",
     "output_type": "stream",
     "text": [
      "1 2 34 5 6\n"
     ]
    }
   ],
   "source": [
    "print(1,2,3, end='') # 이어지는 값사이에 공백없이 출력하는경우\n",
    "print(4,5,6)"
   ]
  },
  {
   "cell_type": "code",
   "execution_count": 4,
   "metadata": {},
   "outputs": [
    {
     "name": "stdout",
     "output_type": "stream",
     "text": [
      "1 : 2 : 3 : 4 : 5 : 6\n"
     ]
    }
   ],
   "source": [
    "# separator 와 end 요소를 이용하여 값들을 한 라인에 표현하는 예제\n",
    "\n",
    "print(1,2,3, sep=' : ', end = ' ');\n",
    "print(':', end = ' ')\n",
    "print(4,5,6, sep=' : ')"
   ]
  },
  {
   "cell_type": "markdown",
   "metadata": {},
   "source": [
    "#### 2.1.3. print( ) 포맷 처리"
   ]
  },
  {
   "cell_type": "markdown",
   "metadata": {},
   "source": [
    "print( ) 함수를 이용하여 문자열을 출력할 때 또 다른 방법인 format 이용할 수 있습니다. 기본 형태는 다음과 같습니다.\n",
    "\n",
    "print('{ }'.format(출력값))\n",
    "\n",
    "print( ) 함수내에 있는 중괄호가 format( ) 함수내에 있는 출력값을 대체하게 됩니다. 복잡해 보이지만 사용예를 보면 간단합니다.\n",
    "\n",
    "출력값에는 문자열뿐만 아니라 숫자값도 제한없이 편리하게 사용할 수 있습니다. "
   ]
  },
  {
   "cell_type": "code",
   "execution_count": 5,
   "metadata": {},
   "outputs": [
    {
     "name": "stdout",
     "output_type": "stream",
     "text": [
      "2018.....Hello, World\n"
     ]
    }
   ],
   "source": [
    "print('{}.....{}, {}'.format(2018,  'Hello', 'World'))"
   ]
  },
  {
   "cell_type": "code",
   "execution_count": 6,
   "metadata": {},
   "outputs": [
    {
     "name": "stdout",
     "output_type": "stream",
     "text": [
      "내 이름은 홍길동 입니다\n"
     ]
    }
   ],
   "source": [
    "print('내 이름은 {} 입니다'.format('홍길동'))"
   ]
  },
  {
   "cell_type": "markdown",
   "metadata": {},
   "source": [
    "### 2.2. 사용자 입력 처리"
   ]
  },
  {
   "cell_type": "markdown",
   "metadata": {},
   "source": [
    "화면에 출력하는 print( ) 가 있다면 화면에 입력하는 사용자 입력을 처리하는 함수또한 있습니다. input( ) 함수가 그 기능을 수행합니다.  사용자와의 상호작용을\n",
    "\n",
    "통해 다양한 형태의 값을 입력받고 처리할 수 있게 하는 기본 입력 함수입니다. 기본 형태는 다음과 같습니다.\n",
    "\n",
    "사용자 정의 변수 = input('화면에 출력한 내용')\n",
    "\n",
    "위 코드가 실행되면 input( ) 함수 괄호안에 설정된 문자열이 화면에 출력되어 입력을 기다리고 있음을 알립니다. 사용자 입력을 했을 때 그 입력값이 왼쪽에 정의된\n",
    "\n",
    "사용자가 정의한 변수에 값이 저장될 수 있도록 그 기능을 수행합니다. "
   ]
  },
  {
   "cell_type": "code",
   "execution_count": 7,
   "metadata": {},
   "outputs": [
    {
     "name": "stdout",
     "output_type": "stream",
     "text": [
      "당신의 이름은 ?홍길동\n",
      "당신의 이름은 홍길동 입니다\n",
      "당신의 이름은 홍길동 입니다\n",
      "당신의 이름은 홍길동 입니다\n"
     ]
    }
   ],
   "source": [
    "inputValue = input('당신의 이름은 ?')\n",
    "\n",
    "print('당신의 이름은 ' + inputValue + ' 입니다')\n",
    "print('당신의 이름은', inputValue, '입니다')\n",
    "print('당신의 이름은 {} 입니다'.format(inputValue))"
   ]
  },
  {
   "cell_type": "markdown",
   "metadata": {},
   "source": [
    "기본적으로 input( ) 함수로 입력받은 값은 문자열로 처리가 됩니다. 즉, 숫자를 입력하여도 문자열로 표현되기 때문에 특별히 숫자로 값을 입력받고 싶다면\n",
    "\n",
    "다음과 같은 처리를 하여야 합니다."
   ]
  },
  {
   "cell_type": "markdown",
   "metadata": {},
   "source": [
    "##### _숫자를 입력하여도 문자열로 인식되는 예제 1_"
   ]
  },
  {
   "cell_type": "code",
   "execution_count": 8,
   "metadata": {},
   "outputs": [
    {
     "name": "stdout",
     "output_type": "stream",
     "text": [
      "당신의 나이는33\n",
      "나의 나이는 33 입니다\n"
     ]
    }
   ],
   "source": [
    "# 숫자를 입력하여도 문자열로 인식되는 예제 1\n",
    "\n",
    "age = input('당신의 나이는')\n",
    "print('나의 나이는 '  + age + ' 입니다')"
   ]
  },
  {
   "cell_type": "code",
   "execution_count": 9,
   "metadata": {},
   "outputs": [
    {
     "name": "stdout",
     "output_type": "stream",
     "text": [
      "첫번째 숫자 입력하세요 :  11\n",
      "두번째 숫자 입력하세요 :  22\n",
      "11 + 22 = 1122\n"
     ]
    }
   ],
   "source": [
    "# 숫자로 입력하여도 문자열로 인식되는 예제 2\n",
    "\n",
    "x = input('첫번째 숫자 입력하세요 :  ')\n",
    "y = input('두번째 숫자 입력하세요 :  ')\n",
    "\n",
    "print('{} + {} = {}'.format(x, y, x+y))"
   ]
  },
  {
   "cell_type": "code",
   "execution_count": 10,
   "metadata": {
    "scrolled": true
   },
   "outputs": [
    {
     "name": "stdout",
     "output_type": "stream",
     "text": [
      "첫번째 숫자 입력하세요 : 11\n",
      "두번째 숫자 입력하세요 : 22\n",
      "11 + 22 = 33\n"
     ]
    }
   ],
   "source": [
    "#숫자로 입력값을 받고 싶은 경우\n",
    "\n",
    "x = int(input('첫번째 숫자 입력하세요 : '))\n",
    "y = int(input('두번째 숫자 입력하세요 : '))\n",
    "\n",
    "print('{} + {} = {}'.format(x, y, x+y))"
   ]
  },
  {
   "cell_type": "markdown",
   "metadata": {},
   "source": [
    "*****"
   ]
  },
  {
   "cell_type": "markdown",
   "metadata": {},
   "source": [
    "*****\n",
    "## 3. 연산자"
   ]
  },
  {
   "cell_type": "markdown",
   "metadata": {},
   "source": [
    "프로그래밍 언어는 기본적으로 수에 대한 연산을 얼마나 빨리 인간을 대신하여 처리해주는 것이 주목적중의 하나입니다. 이번에는 수에 대한 여러 연산자와 비교에 \n",
    "\n",
    "대한 연산자에 대해서 알아아보겠습니다. "
   ]
  },
  {
   "cell_type": "markdown",
   "metadata": {},
   "source": [
    "### 3.1. 기본 연산자"
   ]
  },
  {
   "cell_type": "markdown",
   "metadata": {},
   "source": [
    "#### _덧셈 ( + ) 연산_ "
   ]
  },
  {
   "cell_type": "code",
   "execution_count": null,
   "metadata": {},
   "outputs": [],
   "source": [
    "# 덧셈( + ) 연산에 대해서 알아보겠습니다. \n",
    "\n",
    "print(3+4)"
   ]
  },
  {
   "cell_type": "markdown",
   "metadata": {},
   "source": [
    "#### _뺄셈 ( - ) 연산_"
   ]
  },
  {
   "cell_type": "code",
   "execution_count": null,
   "metadata": {},
   "outputs": [],
   "source": [
    "# 뺄셈( - ) 연산에 대해서 알아보겠습니다. \n",
    "\n",
    "print(3-4)"
   ]
  },
  {
   "cell_type": "markdown",
   "metadata": {},
   "source": [
    "#### _곱셈 ( * ) 연산_"
   ]
  },
  {
   "cell_type": "code",
   "execution_count": null,
   "metadata": {},
   "outputs": [],
   "source": [
    "# 곱셈( * ) 연산에 대해서 알아보겠습니다. \n",
    "\n",
    "print(3*4)\n"
   ]
  },
  {
   "cell_type": "markdown",
   "metadata": {},
   "source": [
    "#### 나눗셈 ( / ) 연산"
   ]
  },
  {
   "cell_type": "code",
   "execution_count": null,
   "metadata": {},
   "outputs": [],
   "source": [
    "# 나눗셈( / ) 기본 연산에 대해서 알아보겠습니다. \n",
    "\n",
    "print(3/4)"
   ]
  },
  {
   "cell_type": "markdown",
   "metadata": {},
   "source": [
    "#### _나눗셈 몫 ( // ) 연산_"
   ]
  },
  {
   "cell_type": "code",
   "execution_count": null,
   "metadata": {},
   "outputs": [],
   "source": [
    "# 몫을 구하는( // ) 연산에 대해서 알아보겠습니다. \n",
    "\n",
    "print(3//4)\n",
    "print(4//3)"
   ]
  },
  {
   "cell_type": "markdown",
   "metadata": {},
   "source": [
    "#### _나눗셈 나머지 ( % ) 연산_"
   ]
  },
  {
   "cell_type": "code",
   "execution_count": null,
   "metadata": {},
   "outputs": [],
   "source": [
    "# 나머지를 구하는( % ) 연산에 대해서 알아보겠습니다. \n",
    "\n",
    "print(3 % 4)\n",
    "print(4 % 3)"
   ]
  },
  {
   "cell_type": "markdown",
   "metadata": {},
   "source": [
    "#### _지수( power ) 연산_"
   ]
  },
  {
   "cell_type": "code",
   "execution_count": null,
   "metadata": {},
   "outputs": [],
   "source": [
    "# 지수(power)를 구하는(** ) 연산에 대해서 알아보겠습니다. \n",
    "\n",
    "print( 3 ** 2)"
   ]
  },
  {
   "cell_type": "markdown",
   "metadata": {},
   "source": [
    "#### _XOR ( ^ ) 연산_"
   ]
  },
  {
   "cell_type": "code",
   "execution_count": 11,
   "metadata": {},
   "outputs": [
    {
     "name": "stdout",
     "output_type": "stream",
     "text": [
      "XOR :  4\n"
     ]
    }
   ],
   "source": [
    "# XOR ( ^ ) 를  수행하는 연산에 대해서 알아보겠습니다.  => bitwise operator\n",
    "\n",
    "a , b = 6, 2\n",
    "result = a^b \n",
    "print(\"XOR : \", result)"
   ]
  },
  {
   "cell_type": "markdown",
   "metadata": {},
   "source": [
    "####  _실수의 반올림을 구하는 연산_ "
   ]
  },
  {
   "cell_type": "code",
   "execution_count": null,
   "metadata": {},
   "outputs": [],
   "source": [
    "## 실수의 반올림을 구하는 연산에 대해서 알아보겠습니다. \n",
    "\n",
    "height = float(input(\"당신의 키를 소수자리까지 입력하세요 : \"))\n",
    "print('키 : ', round(height))"
   ]
  },
  {
   "cell_type": "markdown",
   "metadata": {},
   "source": [
    "#### _연산자 응용예 1_"
   ]
  },
  {
   "cell_type": "code",
   "execution_count": null,
   "metadata": {},
   "outputs": [],
   "source": [
    "#현금 3000 원이 있을때 70원짜리 사탕을 최대 몇개를 살수 있으며 그 때 잔돈은 어떻게 되는지 구하시요\n",
    "\n",
    "print( \"사탕의 최대 개수 : \", 3000//70)\n",
    "print( \"잔돈 : \", 3000 % 70)\n"
   ]
  },
  {
   "cell_type": "markdown",
   "metadata": {},
   "source": [
    "#### _연산자 응용예 2_"
   ]
  },
  {
   "cell_type": "code",
   "execution_count": null,
   "metadata": {},
   "outputs": [],
   "source": [
    "# 연산의 응용예 2\n",
    "\n",
    "#  1000 분은 몇시간 몇분인가? \n",
    "\n",
    "print( \" 시간 :   \", 1000//60)\n",
    "print( \" 분 : \", 1000 % 60)\n"
   ]
  },
  {
   "cell_type": "markdown",
   "metadata": {},
   "source": [
    "#### _연산자 응용예 3_"
   ]
  },
  {
   "cell_type": "code",
   "execution_count": null,
   "metadata": {},
   "outputs": [],
   "source": [
    "# 나머지 연산자 ( % ) 을 사용하지 않고 2304811 을 47 로 나눈 나머지를 구하시오 \n",
    "\n",
    "# 몫 : 2304811 // 47\n",
    "# 2304811 - ( 몫 * 47 )\n",
    "\n",
    "print( \" 나머지 : \", 2304811 - ( (2304811 // 47) * 47 ))\n",
    "print(2304811 % 47)\n"
   ]
  },
  {
   "cell_type": "markdown",
   "metadata": {},
   "source": [
    "#### _비교 연산자_"
   ]
  },
  {
   "cell_type": "code",
   "execution_count": null,
   "metadata": {
    "scrolled": true
   },
   "outputs": [],
   "source": [
    "print(3+4 < 3*4)\n",
    "print(3-4 == 3/4)\n",
    "print( -4 >= -4)\n",
    "print( -1 <= 6)"
   ]
  },
  {
   "cell_type": "markdown",
   "metadata": {},
   "source": [
    "#### _축약 연산자_"
   ]
  },
  {
   "cell_type": "code",
   "execution_count": null,
   "metadata": {
    "scrolled": true
   },
   "outputs": [],
   "source": [
    "a = 5\n",
    "a += 1\n",
    "print(a)\n",
    "\n",
    "a -= 2\n",
    "print(a)\n",
    "\n",
    "a *= 3\n",
    "print(a)\n",
    "\n",
    "a /= 2\n",
    "print(a)"
   ]
  },
  {
   "cell_type": "markdown",
   "metadata": {},
   "source": [
    "#### _Boolean 값을 이용한 비교 연산자_"
   ]
  },
  {
   "cell_type": "code",
   "execution_count": 13,
   "metadata": {
    "scrolled": true
   },
   "outputs": [
    {
     "name": "stdout",
     "output_type": "stream",
     "text": [
      "False\n",
      "True\n"
     ]
    }
   ],
   "source": [
    "# True, False , and , or , not 을 이용한 비교연산자에 대해서 알아봅시다. \n",
    "\n",
    "print(True and  (3 == 2))\n",
    "print(True and not (3 == 2))"
   ]
  },
  {
   "cell_type": "markdown",
   "metadata": {},
   "source": [
    "### 3.2. 비트 연산자"
   ]
  },
  {
   "cell_type": "markdown",
   "metadata": {},
   "source": [
    "\n",
    "\n",
    "|<center>연산자</center>|<center>내용</center>|\n",
    "| :----------|-----------:|\n",
    "| <<     | 비트를 왼쪽으로 설정한 수만큼 이동하기   |\n",
    "| >>     | 비트를 오른쪽으로 설정한 수만큼 이동하기   |\n",
    "| &     | 두 수의 비트 논리 곱 연산   |\n",
    "| |     | 두 수의 비트 논리 합 연산   |\n",
    "| ^     | 두 수의 XOR 연산    |\n",
    "| ~     | 비트 반전    |\n",
    "\n"
   ]
  },
  {
   "cell_type": "markdown",
   "metadata": {},
   "source": [
    "#### _<< : 왼쪽 쉬프트 연산자_"
   ]
  },
  {
   "cell_type": "code",
   "execution_count": 15,
   "metadata": {},
   "outputs": [
    {
     "name": "stdout",
     "output_type": "stream",
     "text": [
      "-4\n",
      "4\n"
     ]
    }
   ],
   "source": [
    "a = -2\n",
    "b = a<<1\n",
    "print(b)\n",
    "\n",
    "a = 2\n",
    "b = a<<1\n",
    "print(b)"
   ]
  },
  {
   "cell_type": "markdown",
   "metadata": {},
   "source": [
    "#### _>> : 오른쪽 쉬프트 연산자_"
   ]
  },
  {
   "cell_type": "code",
   "execution_count": 16,
   "metadata": {},
   "outputs": [
    {
     "name": "stdout",
     "output_type": "stream",
     "text": [
      "-1\n",
      "1\n"
     ]
    }
   ],
   "source": [
    "a = -2\n",
    "b = a >> 1\n",
    "print(b)\n",
    "\n",
    "a = 2\n",
    "b = a >>1\n",
    "print(b)\n"
   ]
  },
  {
   "cell_type": "markdown",
   "metadata": {},
   "source": [
    "#### _~ : 비트 반전 연산자_"
   ]
  },
  {
   "cell_type": "code",
   "execution_count": 14,
   "metadata": {},
   "outputs": [
    {
     "name": "stdout",
     "output_type": "stream",
     "text": [
      "-3\n"
     ]
    }
   ],
   "source": [
    "a = 2\n",
    "b = ~a\n",
    "print(b)"
   ]
  },
  {
   "cell_type": "markdown",
   "metadata": {},
   "source": [
    "### 3.3. 연산자의 우선 순위"
   ]
  },
  {
   "cell_type": "markdown",
   "metadata": {},
   "source": [
    "연산자에는 우리가 알고 있듯이 우선 순위가 있습니다. 다음과 같은 순서로 우선순위가 적용됩니다. \n",
    "\n",
    "먼저 언급되는 연산자들이 우선 순위가 높습니다.\n",
    "\n",
    "1. 지수 연산자 : **  \n",
    "2. 곱셈/나눗셈 관련: *, /, //, %\n",
    "\n",
    "3. 더하기, 빼기"
   ]
  },
  {
   "cell_type": "markdown",
   "metadata": {},
   "source": [
    "#### _연산자 우선 순위_"
   ]
  },
  {
   "cell_type": "code",
   "execution_count": null,
   "metadata": {},
   "outputs": [],
   "source": [
    "# 우선 순위 예\n",
    "\n",
    "x = 1 + 2 * 2 ** 3\n",
    "\n",
    "print(x)"
   ]
  },
  {
   "cell_type": "markdown",
   "metadata": {},
   "source": [
    "#### _연산자의 우선 순위 조정_"
   ]
  },
  {
   "cell_type": "code",
   "execution_count": null,
   "metadata": {},
   "outputs": [],
   "source": [
    "# 우선 순위 예\n",
    "\n",
    "x = 1 + ( 2 * 2 ) ** 3\n",
    "\n",
    "print(x)"
   ]
  },
  {
   "cell_type": "markdown",
   "metadata": {},
   "source": [
    "***************"
   ]
  },
  {
   "cell_type": "markdown",
   "metadata": {},
   "source": [
    "*****\n",
    "## 4. 변수"
   ]
  },
  {
   "cell_type": "markdown",
   "metadata": {},
   "source": [
    "이제까지 여러분은 기본적인 연산자에 대한 내용 및 print( ) / input( ) 을 이용한 기본 입출력에 대해서 다뤄봤습니다. 지금부터는 값을 저장할 수 있는 변수를 이용하여\n",
    "\n",
    "지금까지 살펴본 내용을 다시 구성해보도록 하겠습니다. 값을 저장할 수 있다는 것은 데이터를 저장할 수 있는 시스템의 메모리를 사용한다는 의미입니다.\n",
    "\n",
    "변수에는 숫자, 문자, 함수, 객체까지 다양한 값을 할당할 수 있습니다.  변수는 다음과 같이 선언됩니다.\n",
    "<br><br>\n",
    "~~~python\n",
    "변수명 = 값\n",
    "~~~\n",
    "<br>\n",
    "\n",
    "**파이썬에서는 변수명 앞에 변수의 데이터 타입을 나타내는 지시자를 사용할 필요가 없으며 대입되는 값의 형태에 따라서 자동적으로 데이타 타입을 설정**합니다. \n",
    "\n",
    "변수 설정시 다음과 같은 사항에 유의하며 변수명을 고려하여야 합니다.\n",
    "\n",
    "\n",
    "- 의미가 있는 변수명을 지어야 나중에 다시 확인할때 명확하게 이해할 수 있다.\n",
    "\n",
    "- 소문자와 대문자는 다른게 인식된다.\n",
    "\n",
    "- 변수명사이에 공백은 있으면 안되며 영문자, 숫자, 밑줄로 이루어져 있다.\n",
    "\n",
    "- 변수명은 숫자로 시작할 수 없다.\n",
    "\n",
    "- @ 같은 특수문자로 시작할 수 없다. \n",
    "\n",
    "- 파이썬의 키워드 즉 class, int, float 같은 변수명은 사용할 수 없다. \n",
    "\n",
    "\n",
    "변수에 대입되는 값에는 여러가지 형태가 있습니다. 우선 작은 따옴표 또는 큰 따옴표로 둘러싸여 있는 문자열이 있습니다. 어떤 따옴표를 사용해도 상관없지만\n",
    "\n",
    "파이썬에서는 통상적으로 문자열을 표현할 때에는  'Hello, World'  처럼 작은 따옴표를 사용합니다. 물론 \"Hello, World\" 도 가능합니다. \n",
    "\n",
    "문장안에서 특정 단어를 강조하고 싶은 경우 다음처럼 표현할수도 있습니다.\n",
    "\n",
    "'Hello, \"world\"' 또는 \"Hello, 'world'\" \n",
    "\n",
    "또다른 변수의 형태는 숫자가 있습니다.  숫자는 다시 정수형과 실수형으로 나누어지게 됩니다. 소수점이 없는 2, 4, 6 과 같은 형태가 정수형이고 소수점이 있는\n",
    "\n",
    "2.34, 3.14 같은 형태가 실수형태의 값입니다. "
   ]
  },
  {
   "cell_type": "markdown",
   "metadata": {},
   "source": [
    "### 4.1. 수에 대한 여러가지 표현법"
   ]
  },
  {
   "cell_type": "markdown",
   "metadata": {},
   "source": [
    "수를 나타내는 표현법을 기수법이라고 합니다. 흔히 우리가 쓰고 있는 수체계는 10진법을 기초로 하고 있습니다. \n",
    "\n",
    "|<center>진법</center>|<center>내용</center>|\n",
    "| :----------|-----------:|\n",
    "| 10 진법     | 0 ~ 9 까지의 수를 이용하여 수 표현   |\n",
    "| 8 진법     | 0 ~ 7 까지의 수를 이용하여 수 표현   |\n",
    "| 2 진법     | 0, 1 을 이용하여 수 표현   |\n",
    "| 16 진법     | 0 ~ 9, A, B, C, E, F 를 이용하여 수 표현   |\n"
   ]
  },
  {
   "cell_type": "markdown",
   "metadata": {},
   "source": [
    "#### 4.1 정수 / 실수 / 진법간의 변환"
   ]
  },
  {
   "cell_type": "markdown",
   "metadata": {},
   "source": [
    "#### _정수_"
   ]
  },
  {
   "cell_type": "code",
   "execution_count": null,
   "metadata": {},
   "outputs": [],
   "source": [
    "# 파이썬 정수 타입\n",
    "\n",
    "type(2)"
   ]
  },
  {
   "cell_type": "markdown",
   "metadata": {},
   "source": [
    "#### _10진수 <=> 이진수 변환_"
   ]
  },
  {
   "cell_type": "code",
   "execution_count": 17,
   "metadata": {},
   "outputs": [
    {
     "data": {
      "text/plain": [
       "'0b1010'"
      ]
     },
     "execution_count": 17,
     "metadata": {},
     "output_type": "execute_result"
    }
   ],
   "source": [
    "bin(10)"
   ]
  },
  {
   "cell_type": "code",
   "execution_count": 18,
   "metadata": {},
   "outputs": [
    {
     "data": {
      "text/plain": [
       "10"
      ]
     },
     "execution_count": 18,
     "metadata": {},
     "output_type": "execute_result"
    }
   ],
   "source": [
    "int('0b1010', 2)"
   ]
  },
  {
   "cell_type": "markdown",
   "metadata": {},
   "source": [
    "#### _10진수 <=> 16진수 변환_"
   ]
  },
  {
   "cell_type": "code",
   "execution_count": 19,
   "metadata": {},
   "outputs": [
    {
     "data": {
      "text/plain": [
       "'0xa'"
      ]
     },
     "execution_count": 19,
     "metadata": {},
     "output_type": "execute_result"
    }
   ],
   "source": [
    "hex(10)"
   ]
  },
  {
   "cell_type": "code",
   "execution_count": 20,
   "metadata": {},
   "outputs": [
    {
     "data": {
      "text/plain": [
       "10"
      ]
     },
     "execution_count": 20,
     "metadata": {},
     "output_type": "execute_result"
    }
   ],
   "source": [
    "int('0xa', 16)"
   ]
  },
  {
   "cell_type": "markdown",
   "metadata": {},
   "source": [
    "#### _컴퓨터가 2 의 보수를 사용하는 이유는 ?_\n",
    "<br>"
   ]
  },
  {
   "cell_type": "markdown",
   "metadata": {},
   "source": [
    "#### _정수_ - 10진수 <=> 8진수 변환"
   ]
  },
  {
   "cell_type": "code",
   "execution_count": 21,
   "metadata": {},
   "outputs": [
    {
     "data": {
      "text/plain": [
       "'0o12'"
      ]
     },
     "execution_count": 21,
     "metadata": {},
     "output_type": "execute_result"
    }
   ],
   "source": [
    "oct(10)"
   ]
  },
  {
   "cell_type": "code",
   "execution_count": 22,
   "metadata": {},
   "outputs": [
    {
     "data": {
      "text/plain": [
       "10"
      ]
     },
     "execution_count": 22,
     "metadata": {},
     "output_type": "execute_result"
    }
   ],
   "source": [
    "int('0o12', 8)"
   ]
  },
  {
   "cell_type": "code",
   "execution_count": 23,
   "metadata": {},
   "outputs": [
    {
     "data": {
      "text/plain": [
       "(1, 0, 0)"
      ]
     },
     "execution_count": 23,
     "metadata": {},
     "output_type": "execute_result"
    }
   ],
   "source": [
    "# 숫자 표현시 자리수를 표현하기 위해 쉼표 사용시 유의사항\n",
    "\n",
    "1,000,000"
   ]
  },
  {
   "cell_type": "code",
   "execution_count": 24,
   "metadata": {},
   "outputs": [
    {
     "name": "stdout",
     "output_type": "stream",
     "text": [
      "1 0 0\n",
      "100\n"
     ]
    }
   ],
   "source": [
    "# 숫자 표현시 자리수를 표현하기 위해 쉼표 사용시 유의사항\n",
    "\n",
    "print(1,000,000)\n",
    "print(100)"
   ]
  },
  {
   "cell_type": "code",
   "execution_count": 25,
   "metadata": {},
   "outputs": [
    {
     "name": "stdout",
     "output_type": "stream",
     "text": [
      "1\n",
      "0\n",
      "0\n"
     ]
    }
   ],
   "source": [
    "# 숫자 표현시 자리수를 표현하기 위해 쉼표 사용시 유의사항\n",
    "\n",
    "a, b, c = 1,000, 000\n",
    "print(a)\n",
    "print(b)\n",
    "print(c)"
   ]
  },
  {
   "cell_type": "markdown",
   "metadata": {},
   "source": [
    "#### _실수_"
   ]
  },
  {
   "cell_type": "code",
   "execution_count": null,
   "metadata": {},
   "outputs": [],
   "source": [
    "# 파이썬 실수 타입\n",
    "\n",
    "type(2.13)"
   ]
  },
  {
   "cell_type": "code",
   "execution_count": null,
   "metadata": {},
   "outputs": [],
   "source": [
    "x = 0.001\n",
    "sum = 0\n",
    "\n",
    "for i in range(1000) :\n",
    "    sum += x\n",
    "\n",
    "print(sum)"
   ]
  },
  {
   "cell_type": "code",
   "execution_count": null,
   "metadata": {},
   "outputs": [],
   "source": [
    "# 숫자 변수에 대해서 알아봅시다. \n",
    "\n",
    "height = 34.56\n",
    "width = 12.8\n",
    "area = width * height\n",
    "\n",
    "print(height, width, area)"
   ]
  },
  {
   "cell_type": "markdown",
   "metadata": {},
   "source": [
    "#### 4.2. 문자열"
   ]
  },
  {
   "cell_type": "markdown",
   "metadata": {},
   "source": [
    "#### 4.2.1. 문자열 표시"
   ]
  },
  {
   "cell_type": "markdown",
   "metadata": {},
   "source": [
    "파이썬에서는 문자열을 작은 따옴표 또는 큰 따옴표를 이용하여 나타냅니다.\n",
    "\n",
    "'Hello' 또는 \"Hello\" 두개 모두 가능합니다. 이렇게 되는 이유는 다음과 같은 상황을 자연스럽게 처리할 수 있기 때문입니다.\n",
    "\n",
    "Brown's House 같이 문장에 이미 작은 따옴표가 들어 있는 있는 경우에는 큰 따옴표를 이용해서 문자열로 나타낼 수 있고 때로는 큰 따옴표가 사용되는 인용문 같은\n",
    "\n",
    "경우에는 작은 따옴표를 이용하여 문자열로 표현할 수 있습니다. 그리고 특정 데이터를 문자열로 변환하고자 할때에는 str( ) 를 이용하면 문자열로 변환된 결과를 \n",
    "\n",
    "얻을 수 있습니다."
   ]
  },
  {
   "cell_type": "code",
   "execution_count": 27,
   "metadata": {},
   "outputs": [
    {
     "name": "stdout",
     "output_type": "stream",
     "text": [
      "Brown's House\n",
      "He said,  \" I am happy\" \n"
     ]
    }
   ],
   "source": [
    "strData = \"Brown's House\"\n",
    "print(strData);\n",
    "\n",
    "strData= 'He said,  \" I am happy\" '\n",
    "print(strData)"
   ]
  },
  {
   "cell_type": "markdown",
   "metadata": {},
   "source": [
    "#### _문자열에 여러 따옴표들이 복합적으로 섞여 있을 경우 따옴표를 표시하고 싶을 경우에는 \\ 역슬래시를 이용하여 표현합니다._"
   ]
  },
  {
   "cell_type": "code",
   "execution_count": 28,
   "metadata": {},
   "outputs": [
    {
     "name": "stdout",
     "output_type": "stream",
     "text": [
      "He said,  \" I'm happy\" \n"
     ]
    }
   ],
   "source": [
    "#strData= 'He said,  \" I'm happy\" '\n",
    "strData= 'He said,  \" I\\'m happy\" '\n",
    "\n",
    "print(strData)"
   ]
  },
  {
   "cell_type": "markdown",
   "metadata": {},
   "source": [
    "#### _str( ) 를 이용하여 특정 데이터를 문자열로 변환_"
   ]
  },
  {
   "cell_type": "code",
   "execution_count": 29,
   "metadata": {},
   "outputs": [
    {
     "data": {
      "text/plain": [
       "int"
      ]
     },
     "execution_count": 29,
     "metadata": {},
     "output_type": "execute_result"
    }
   ],
   "source": [
    "num = 123\n",
    "type(num)"
   ]
  },
  {
   "cell_type": "code",
   "execution_count": 30,
   "metadata": {},
   "outputs": [
    {
     "data": {
      "text/plain": [
       "str"
      ]
     },
     "execution_count": 30,
     "metadata": {},
     "output_type": "execute_result"
    }
   ],
   "source": [
    "num = 123\n",
    "strNum = str(num)\n",
    "type(strNum)"
   ]
  },
  {
   "cell_type": "code",
   "execution_count": 31,
   "metadata": {},
   "outputs": [
    {
     "data": {
      "text/plain": [
       "str"
      ]
     },
     "execution_count": 31,
     "metadata": {},
     "output_type": "execute_result"
    }
   ],
   "source": [
    "# 파이썬 문자열 타입\n",
    "\n",
    "type('2')"
   ]
  },
  {
   "cell_type": "markdown",
   "metadata": {},
   "source": [
    "여러 줄에 걸쳐서 문자열을 표현할 때에는 작은 따옴표 3개를 문장 양쪽에 또는 큰 따옴표 3 개를 문장 양쪽에 적어주면 됩니다."
   ]
  },
  {
   "cell_type": "code",
   "execution_count": 32,
   "metadata": {},
   "outputs": [
    {
     "name": "stdout",
     "output_type": "stream",
     "text": [
      "\n",
      "우리가 지금\n",
      "여기에 있는 이유는\n",
      "파이썬 때문이예요\n",
      "놀고싶어요\n",
      "\n"
     ]
    }
   ],
   "source": [
    "strData = '''\n",
    "우리가 지금\n",
    "여기에 있는 이유는\n",
    "파이썬 때문이예요\n",
    "놀고싶어요\n",
    "'''\n",
    "\n",
    "print(strData)"
   ]
  },
  {
   "cell_type": "markdown",
   "metadata": {},
   "source": [
    "#### 4.2.2. 문자열 처리"
   ]
  },
  {
   "cell_type": "markdown",
   "metadata": {},
   "source": [
    "파이썬 문자열에서 기억해야할 점은 다른 프로그래밍 언어와는 달리 **변경이 되지 않는다**는 사실을 알고 있어야 합니다. \n",
    "\n",
    "그래서 기존 문자열의 값이 변경된 문자열을 얻기 위해서는  특정 작업 과정을 통해 새로운 문자열을 생성하여야 합니다"
   ]
  },
  {
   "cell_type": "markdown",
   "metadata": {},
   "source": [
    "#### _기존 생성된 문자열에 대한 변경시도_"
   ]
  },
  {
   "cell_type": "code",
   "execution_count": 33,
   "metadata": {},
   "outputs": [
    {
     "ename": "TypeError",
     "evalue": "'str' object does not support item assignment",
     "output_type": "error",
     "traceback": [
      "\u001b[0;31m---------------------------------------------------------------------------\u001b[0m",
      "\u001b[0;31mTypeError\u001b[0m                                 Traceback (most recent call last)",
      "\u001b[0;32m<ipython-input-33-ab77e55e37bc>\u001b[0m in \u001b[0;36m<module>\u001b[0;34m()\u001b[0m\n\u001b[1;32m      1\u001b[0m \u001b[0mstrData\u001b[0m \u001b[0;34m=\u001b[0m \u001b[0;34m'Hello'\u001b[0m\u001b[0;34m\u001b[0m\u001b[0m\n\u001b[0;32m----> 2\u001b[0;31m \u001b[0mstrData\u001b[0m\u001b[0;34m[\u001b[0m\u001b[0;36m2\u001b[0m\u001b[0;34m]\u001b[0m \u001b[0;34m=\u001b[0m \u001b[0;34m'k'\u001b[0m\u001b[0;34m\u001b[0m\u001b[0m\n\u001b[0m",
      "\u001b[0;31mTypeError\u001b[0m: 'str' object does not support item assignment"
     ]
    }
   ],
   "source": [
    "strData = 'Hello'\n",
    "strData[2] = 'k'"
   ]
  },
  {
   "cell_type": "markdown",
   "metadata": {},
   "source": [
    "#### _슬라이싱을 이용한 기존 문자열의 값을 바꾼 새로운 문자열 생성_ "
   ]
  },
  {
   "cell_type": "code",
   "execution_count": 34,
   "metadata": {},
   "outputs": [
    {
     "name": "stdout",
     "output_type": "stream",
     "text": [
      "Heklo\n"
     ]
    }
   ],
   "source": [
    "strData = 'Hello'\n",
    "newStrData = strData[:2] + 'k' + strData[3:]\n",
    "\n",
    "print(newStrData)"
   ]
  },
  {
   "cell_type": "markdown",
   "metadata": {},
   "source": [
    "#### _replace 함수를 이용한 문자열 변경하여 새로운 문자열 생성_"
   ]
  },
  {
   "cell_type": "code",
   "execution_count": 35,
   "metadata": {},
   "outputs": [
    {
     "name": "stdout",
     "output_type": "stream",
     "text": [
      "Hello\n",
      "Hkllo\n"
     ]
    }
   ],
   "source": [
    "strData = 'Hello'\n",
    "newStrData = strData.replace('e', 'k')\n",
    "\n",
    "print(strData)\n",
    "print(newStrData)"
   ]
  },
  {
   "cell_type": "markdown",
   "metadata": {},
   "source": [
    "#### _문자열 더하기_"
   ]
  },
  {
   "cell_type": "code",
   "execution_count": 36,
   "metadata": {},
   "outputs": [
    {
     "name": "stdout",
     "output_type": "stream",
     "text": [
      "Hello, World, How are  you?\n"
     ]
    }
   ],
   "source": [
    "strData1 = 'Hello' \n",
    "strData2 = ', World'\n",
    "strData = strData1 + strData2 + ', How' + ' are ' + ' you?'\n",
    "print(strData)"
   ]
  },
  {
   "cell_type": "markdown",
   "metadata": {},
   "source": [
    "#### _문자열 반복_"
   ]
  },
  {
   "cell_type": "code",
   "execution_count": 37,
   "metadata": {},
   "outputs": [
    {
     "name": "stdout",
     "output_type": "stream",
     "text": [
      "HelloHelloHello\n"
     ]
    }
   ],
   "source": [
    "strData = 'Hello' * 3\n",
    "print(strData)"
   ]
  },
  {
   "cell_type": "code",
   "execution_count": 38,
   "metadata": {},
   "outputs": [
    {
     "name": "stdout",
     "output_type": "stream",
     "text": [
      "==========\n",
      "=                =\n",
      "=                =\n",
      "=                =\n",
      "==========\n"
     ]
    }
   ],
   "source": [
    "print('='* 10)\n",
    "\n",
    "for i in range(3) :\n",
    "    print('=', end=''); print(' '*16, end='');print('=')\n",
    "\n",
    "print('='*10)"
   ]
  },
  {
   "cell_type": "markdown",
   "metadata": {},
   "source": [
    "#### _인덱싱을 통한 문자열 처리_"
   ]
  },
  {
   "cell_type": "markdown",
   "metadata": {},
   "source": [
    "문자열을 인덱스를 통해서 접근할 수 있는데 첫번째 문자가 있는 위치를 0 으로 시작해서 해당 위치에 있는 값만을 추출할 수 있습니다. 그리고 인덱스가 음수인 경우는\n",
    "\n",
    "뒤에서부터 기준으로 해서 인덱스를 적용할 수 있는데  맨 마지막 위치를 -1 부터 시작해서 -2, -3 이런식으로 접근이 가능합니다. "
   ]
  },
  {
   "cell_type": "code",
   "execution_count": null,
   "metadata": {},
   "outputs": [],
   "source": [
    "strData = 'Hello, My World'\n",
    "\n",
    "print(strData[0], strData[3], strData[5], strData[7])"
   ]
  },
  {
   "cell_type": "code",
   "execution_count": null,
   "metadata": {},
   "outputs": [],
   "source": [
    "strData = 'Hello, My World'\n",
    "\n",
    "print(strData[-1], strData[-3], strData[-5], strData[-7])"
   ]
  },
  {
   "cell_type": "markdown",
   "metadata": {},
   "source": [
    "#### _문자열 슬라이싱_"
   ]
  },
  {
   "cell_type": "markdown",
   "metadata": {},
   "source": [
    "인덱스를 좀 더 확장하여 문자열의 구간값을 추출할 수 있는 방법입니다. 기본 형식을 다음과 같습니다.\n",
    "<br><br>\n",
    "\n",
    "~~~python\n",
    "문자열변수명[시작인덱스 : 종료인덱스 : 오프셋]\n",
    "~~~\n",
    "<br>\n",
    "\n",
    "위에서 유의할 사항은 종료 인덱스의 값은 포함되지 않는다는 사실을 염두해 두어야 합니다. 그래서 위 구문은 시작인덱스를 포함해서 종료인덱스 직전까지의\n",
    "\n",
    "문자열을 가져오는 것입니다. 즉 예를 들어 strData[0:5] 인 경우에 strData 의 0 번 인덱스부터 4 까지 문자열을 추출하라는 의미입니다. \n",
    "\n",
    "그리고 시작인덱스가 생략되어 있는 경우에는  0 번 인덱스부터, 즉 처음부터 종료인덱스 - 1 까지의 인덱스까지 문자열을 가져오는 의미이며 반대로 \n",
    "\n",
    "종료인덱스가 생략되어 있는 경우에는 시작인덱스부터 마지막 인덱스까지의 문자열을 추출하라는 의미입니다. \n",
    "\n",
    "마지막 인자인 오프셋은 생략가능하며 생략할 때에는 콜론부호까지 같이 생략됩니다. 이 마지막 인자의 역할은 시작인덱스를 참조한 다음 다음 인덱스를 참조할려고\n",
    "\n",
    "하는 경우에  오프셋 값만큼 이동하고 난후의 인덱스를 참조하라는 의미입미다. "
   ]
  },
  {
   "cell_type": "code",
   "execution_count": 39,
   "metadata": {},
   "outputs": [
    {
     "name": "stdout",
     "output_type": "stream",
     "text": [
      "lo, My\n"
     ]
    }
   ],
   "source": [
    "strData = 'Hello, My World'\n",
    "newData = strData[3:9]\n",
    "print(newData)"
   ]
  },
  {
   "cell_type": "code",
   "execution_count": 40,
   "metadata": {},
   "outputs": [
    {
     "name": "stdout",
     "output_type": "stream",
     "text": [
      "lo, M\n"
     ]
    }
   ],
   "source": [
    "strData = 'Hello, My World'\n",
    "newData = strData[3:-7]\n",
    "print(newData)"
   ]
  },
  {
   "cell_type": "code",
   "execution_count": 41,
   "metadata": {},
   "outputs": [
    {
     "name": "stdout",
     "output_type": "stream",
     "text": [
      "el,M o\n"
     ]
    }
   ],
   "source": [
    "strData = 'Hello, My World'\n",
    "newData = strData[1:-3:2]\n",
    "print(newData)"
   ]
  },
  {
   "cell_type": "markdown",
   "metadata": {},
   "source": [
    "#### 4.3 문자열 포맷팅"
   ]
  },
  {
   "cell_type": "markdown",
   "metadata": {},
   "source": [
    "문자열을 처리하면서 문자열은 다양한 변수의 값으로 이루어질 수 있습니다. 그 경우에 문자열 포맷을  유연하고 편리하게 처리하기 위한 방법입니다. 우선 다음\n",
    "\n",
    "문자 포맷팅 코드에 대해서 살펴보도록 합시다.\n",
    "\n",
    "\n",
    "|<center>포맷 </center>|<center>내용</center>|\n",
    "|:----------|:-----------:|\n",
    "| %s | 문자열  |\n",
    "| %f     | 실수  |\n",
    "| %d     | 정수 |\n",
    "| %c     | 문자  |\n",
    "| %o     | 8진수  |\n",
    "| %x     | 16진수  |\n",
    "| %%     | %  |\n",
    "\n",
    "<br><br>\n",
    "위 포맷 코드에서 %s 는 모든 데이터를 처리할 수 있는 만능 포맷입니다. 기본적으로 문자열 포맷을 처리하기 위한 포맷 코드이지만 정수, 실수 모두 받아서 문자열로\n",
    "\n",
    "변환처리를 해줍니다. \n",
    "\n",
    "\n"
   ]
  },
  {
   "cell_type": "markdown",
   "metadata": {},
   "source": [
    "#### _문자열 처리를 위한 %s 포맷_"
   ]
  },
  {
   "cell_type": "code",
   "execution_count": 42,
   "metadata": {},
   "outputs": [
    {
     "name": "stdout",
     "output_type": "stream",
     "text": [
      "I have  nice cars\n"
     ]
    }
   ],
   "source": [
    "strData = 'I have  %s cars' % 'nice' \n",
    "print(strData)"
   ]
  },
  {
   "cell_type": "markdown",
   "metadata": {},
   "source": [
    "#### _문자열과 정수를 처리하기 위한 %s, %d 포맷_"
   ]
  },
  {
   "cell_type": "code",
   "execution_count": 43,
   "metadata": {},
   "outputs": [
    {
     "name": "stdout",
     "output_type": "stream",
     "text": [
      "I have  nice 3 cars\n"
     ]
    }
   ],
   "source": [
    "strData = 'I have  %s %d cars' % ('nice', 3)\n",
    "print(strData)"
   ]
  },
  {
   "cell_type": "markdown",
   "metadata": {},
   "source": [
    "#### _모든 데이터형을 처리할 수 있는 %s 포맷_"
   ]
  },
  {
   "cell_type": "code",
   "execution_count": 44,
   "metadata": {},
   "outputs": [
    {
     "name": "stdout",
     "output_type": "stream",
     "text": [
      "I have  nice 3 cars  and 3 bicycles\n"
     ]
    }
   ],
   "source": [
    "strData = 'I have  %s %s cars  and %s bicycles' % ('nice', 3, 3)\n",
    "print(strData)"
   ]
  },
  {
   "cell_type": "markdown",
   "metadata": {},
   "source": [
    "#### _문자열 공간 확보 및 정렬_ "
   ]
  },
  {
   "cell_type": "markdown",
   "metadata": {},
   "source": [
    "예를 들어 'Hello' 라는 문자열을 표현하는 과정에서 7글자를 쓸 수 있는 공간을 설정하고 그 영역을 기준으로 왼쪽 정렬, 오른쪽정렬할 것인가에 대한 방법입니다.\n",
    "\n",
    "형식은 다음과 같습니다.\n",
    "\n",
    "~~~python\n",
    "\n",
    "%-숫자s   # <= 숫자 만큼의 공간을 설정하고 그 영역에서 빼기 부호가 있으면 왼쪽 정렬\n",
    "%숫자s   # <= 숫자 만큼의 공간을 설정하고 그 영역에서 빼기 부호가 없으므로 오른쪽 정렬\n",
    "~~~\n",
    "\n"
   ]
  },
  {
   "cell_type": "code",
   "execution_count": 45,
   "metadata": {},
   "outputs": [
    {
     "name": "stdout",
     "output_type": "stream",
     "text": [
      "|Hello               |\n",
      "|               Hello|\n"
     ]
    }
   ],
   "source": [
    "strData = '|' + '%-20s' % 'Hello' + '|'\n",
    "print(strData)\n",
    "\n",
    "strData = '|' + '%20s' % 'Hello' + '|'\n",
    "print(strData)"
   ]
  },
  {
   "cell_type": "markdown",
   "metadata": {},
   "source": [
    "#### _실수 소수점 자리 표현_"
   ]
  },
  {
   "cell_type": "markdown",
   "metadata": {},
   "source": [
    "실수는 소수점 자리를 제한할 필요가 자주 생깁니다. 평균을 구하거나 하는 등의 연산에서 일정한 자리수 만큼만 보여주고 반올림등의 처리가 필요할 때가 있습니다. \n",
    "\n",
    "형식은 다음과 같습니다. \n",
    "\n",
    "\n",
    "~~~python\n",
    "\n",
    "%-공간숫자.소수점자리수f   # <= 숫자 만큼의 공간을 설정하고 소수점 자리수까지만 보여주며 그 영역에서 빼기 부호가 있으면 왼쪽 정렬\n",
    "%공간숫자.소수점자리수f   # <= 숫자 만큼의 공간을 설정하고 소수점 자리수까지만 보여주며 그 영역에서 빼기 부호가 없으므로 오른쪽 정렬\n",
    "~~~\n",
    "\n",
    "소수점 자리수까지만 보여주지만 만약 소수점자리수 다음 숫자가 5 이상이면 반올림 처리된 결과를 보여줍니다."
   ]
  },
  {
   "cell_type": "code",
   "execution_count": 104,
   "metadata": {},
   "outputs": [
    {
     "name": "stdout",
     "output_type": "stream",
     "text": [
      "|345.58              |\n",
      "|              345.58|\n"
     ]
    }
   ],
   "source": [
    "strData = '|' + '%-20.2f' % 345.576123 + '|'\n",
    "print(strData)\n",
    "\n",
    "strData = '|' + '%20.2f' % 345.576123 + '|'\n",
    "print(strData)"
   ]
  },
  {
   "cell_type": "markdown",
   "metadata": {},
   "source": [
    "#### _format ( ) 함수를 이용_"
   ]
  },
  {
   "cell_type": "code",
   "execution_count": 46,
   "metadata": {},
   "outputs": [
    {
     "name": "stdout",
     "output_type": "stream",
     "text": [
      "I have 3 cars\n"
     ]
    }
   ],
   "source": [
    "strData = 'I have {} cars'.format(3)\n",
    "print(strData)"
   ]
  },
  {
   "cell_type": "code",
   "execution_count": 47,
   "metadata": {},
   "outputs": [
    {
     "name": "stdout",
     "output_type": "stream",
     "text": [
      "I have nice 3 cars\n"
     ]
    }
   ],
   "source": [
    "strData = 'I have {} {} cars'.format('nice', 3)\n",
    "print(strData)"
   ]
  },
  {
   "cell_type": "code",
   "execution_count": 48,
   "metadata": {},
   "outputs": [
    {
     "name": "stdout",
     "output_type": "stream",
     "text": [
      "I have nice 3 cars\n"
     ]
    }
   ],
   "source": [
    "strData = 'I have {shape} {num} cars'.format(shape='nice', num= 3)\n",
    "print(strData)"
   ]
  },
  {
   "cell_type": "code",
   "execution_count": 49,
   "metadata": {},
   "outputs": [
    {
     "name": "stdout",
     "output_type": "stream",
     "text": [
      "I have nice 3 cars\n"
     ]
    }
   ],
   "source": [
    "strData = 'I have {} {num} cars'.format('nice', num = 3)\n",
    "print(strData)"
   ]
  },
  {
   "cell_type": "code",
   "execution_count": 50,
   "metadata": {},
   "outputs": [
    {
     "name": "stdout",
     "output_type": "stream",
     "text": [
      "I have nice 3 cars\n"
     ]
    }
   ],
   "source": [
    "shape = 'nice'\n",
    "num = 3\n",
    "strData = 'I have {} {} cars'.format(shape, num)\n",
    "print(strData)"
   ]
  },
  {
   "cell_type": "markdown",
   "metadata": {},
   "source": [
    "#### _소문자를 대문자로_"
   ]
  },
  {
   "cell_type": "code",
   "execution_count": 51,
   "metadata": {},
   "outputs": [
    {
     "data": {
      "text/plain": [
       "'HI'"
      ]
     },
     "execution_count": 51,
     "metadata": {},
     "output_type": "execute_result"
    }
   ],
   "source": [
    "'hi'.upper()"
   ]
  },
  {
   "cell_type": "markdown",
   "metadata": {},
   "source": [
    "#### _대문자를 소문자로_"
   ]
  },
  {
   "cell_type": "code",
   "execution_count": 52,
   "metadata": {},
   "outputs": [
    {
     "data": {
      "text/plain": [
       "'hi'"
      ]
     },
     "execution_count": 52,
     "metadata": {},
     "output_type": "execute_result"
    }
   ],
   "source": [
    "'HI'.lower()"
   ]
  },
  {
   "cell_type": "markdown",
   "metadata": {},
   "source": [
    "#### _문자열 나누기_\n",
    "\n",
    "~~~python\n",
    "split('패턴')\n",
    "~~~\n",
    "\n",
    "함수가 패턴을 설정하면 그 패턴대로 문자열을 나누며 만약에 패턴값 없이 호출하면 스페이스, 탭, 엔터 키를 인식하여 문자열을 나눕니다. 결과값은 리스트 형태로\n",
    "\n",
    "반환됩니다."
   ]
  },
  {
   "cell_type": "code",
   "execution_count": 53,
   "metadata": {},
   "outputs": [
    {
     "name": "stdout",
     "output_type": "stream",
     "text": [
      "['This', 'is', 'my', 'home,', 'where', 'do', 'you', 'live', '?']\n",
      "['This is ', 'y ho', 'e, where do you live ?']\n",
      "['This is ', ' home, where do you live ?']\n",
      "['This is ', ', where do you live ?']\n"
     ]
    }
   ],
   "source": [
    "strData = 'This is my home, where do you live ?'\n",
    "\n",
    "result = strData.split()\n",
    "print(result)\n",
    "\n",
    "result = strData.split('m')\n",
    "print(result)\n",
    "\n",
    "result = strData.split('my')\n",
    "print(result)\n",
    "\n",
    "result = strData.split('my home')\n",
    "print(result)"
   ]
  },
  {
   "cell_type": "markdown",
   "metadata": {},
   "source": [
    "#### _문자열 바꾸기_"
   ]
  },
  {
   "cell_type": "code",
   "execution_count": 54,
   "metadata": {},
   "outputs": [
    {
     "name": "stdout",
     "output_type": "stream",
     "text": [
      "This is my home\n",
      "This is your home\n"
     ]
    }
   ],
   "source": [
    "strData = 'This is my home'\n",
    "strReplace = strData.replace('my', 'your')\n",
    "\n",
    "print(strData)\n",
    "print(strReplace)"
   ]
  },
  {
   "cell_type": "markdown",
   "metadata": {},
   "source": [
    "#### _문자열에서 특정 문자 찾기_\n",
    "\n",
    "찾고자 하는 문자가 처음 나오는 위치를 반환합니다."
   ]
  },
  {
   "cell_type": "code",
   "execution_count": 55,
   "metadata": {},
   "outputs": [
    {
     "name": "stdout",
     "output_type": "stream",
     "text": [
      "h 는 인덱스 17 에 있습니다\n"
     ]
    }
   ],
   "source": [
    "\n",
    "strData = 'This is my home, where do you live ?'\n",
    "index = strData.find('w')\n",
    "\n",
    "print('h 는 인덱스 {} 에 있습니다'.format(index))"
   ]
  },
  {
   "cell_type": "markdown",
   "metadata": {},
   "source": [
    "#### _문자열 삽입_"
   ]
  },
  {
   "cell_type": "code",
   "execution_count": 56,
   "metadata": {},
   "outputs": [
    {
     "name": "stdout",
     "output_type": "stream",
     "text": [
      "aHellobHellocHelloeHellod\n",
      "a b c e d\n",
      "a : b : c : e : d\n"
     ]
    }
   ],
   "source": [
    "strData = 'Hello'\n",
    "strResult = strData.join('abced')\n",
    "\n",
    "print(strResult)\n",
    "\n",
    "strData = ' '\n",
    "strResult = strData.join('abced')\n",
    "\n",
    "print(strResult)\n",
    "\n",
    "strData = ' : '\n",
    "strResult = strData.join('abced')\n",
    "\n",
    "print(strResult)"
   ]
  },
  {
   "cell_type": "markdown",
   "metadata": {},
   "source": [
    "#### _문자열 공백 지우기_\n",
    "\n",
    "데이터를 처리하다보면 공백을 많이 포함하고 있는 문자열을 접할 수 있습니다. 특별히 의미가 있는 공백이 아니라면 공백을 없애고 처리하고 결과를 보여주는 것이\n",
    "\n",
    "편리합니다. 이때 필요한 문자열 공백 처리관련 함수들입니다.  \n",
    "\n",
    "|<center>함수 </center>|<center>내용</center>|\n",
    "|:----------|:-----------|\n",
    "| strip( )  | 문자열 양쪽 공백 지울 때에는 |\n",
    "| lstrip( ) | 문자열 왼쪽 공백 지울 때에는  |\n",
    "| rstrip( ) | 문자열 오른쪽 공백 지울 때에는  |\n"
   ]
  },
  {
   "cell_type": "code",
   "execution_count": 57,
   "metadata": {},
   "outputs": [
    {
     "name": "stdout",
     "output_type": "stream",
     "text": [
      "Hello          \n",
      "        Hello\n",
      "Hello\n"
     ]
    }
   ],
   "source": [
    "# 문자열 공백 처리 예제\n",
    "\n",
    "strData = '        Hello          '\n",
    "strResult = strData.lstrip()\n",
    "print(strResult)\n",
    "\n",
    "strResult = strData.rstrip()\n",
    "print(strResult)\n",
    "\n",
    "strResult = strData.strip()\n",
    "print(strResult)"
   ]
  },
  {
   "cell_type": "markdown",
   "metadata": {},
   "source": [
    "#### 4.4. 변수의 다양한 활용예"
   ]
  },
  {
   "cell_type": "markdown",
   "metadata": {},
   "source": [
    "#### _예제 1_"
   ]
  },
  {
   "cell_type": "code",
   "execution_count": null,
   "metadata": {},
   "outputs": [],
   "source": [
    "age = int(input('당신의 나이는 ?'))\n",
    "name = input('당신의 이름은 ?')\n",
    "\n",
    "print( '제 이름은 ' + name + '이고 내 나이는 ' + str(age) + '입니다')"
   ]
  },
  {
   "cell_type": "markdown",
   "metadata": {},
   "source": [
    "#### _예제 2_"
   ]
  },
  {
   "cell_type": "code",
   "execution_count": null,
   "metadata": {},
   "outputs": [],
   "source": [
    "meetingName = input('만날 장소는 어디인가요 ?')\n",
    "numOfChicken = int(input('치킨을 얼마나 주문할까요?'))\n",
    "howManyn = input('모임에 참석 인원은  ?')\n",
    "\n",
    "print( '모임 장소 : ', meetingName)\n",
    "print('치킨 주문량 : ', numOfChicken)\n",
    "print('참석 인원 : ', howMany)"
   ]
  },
  {
   "cell_type": "markdown",
   "metadata": {},
   "source": [
    "#### _예제 3_"
   ]
  },
  {
   "cell_type": "code",
   "execution_count": null,
   "metadata": {},
   "outputs": [],
   "source": [
    "width  = int(input('사각형의 가로는 ?'))\n",
    "height = int(input('사각형의 세로는 ?'))\n",
    "\n",
    "print( '가로 길이 : ', width)\n",
    "print('세로 길이: ', height)\n",
    "print('넓이 : ', width * height)\n"
   ]
  },
  {
   "cell_type": "markdown",
   "metadata": {},
   "source": [
    "#### _예제 4_"
   ]
  },
  {
   "cell_type": "code",
   "execution_count": null,
   "metadata": {},
   "outputs": [],
   "source": [
    "myinfo  = input('당신의 이름은 ?')\n",
    "print(myinfo)\n",
    "\n",
    "myinfo = int(input('당신의 나이는  ?'))\n",
    "print(myinfo)"
   ]
  },
  {
   "cell_type": "markdown",
   "metadata": {},
   "source": [
    "***************"
   ]
  },
  {
   "cell_type": "markdown",
   "metadata": {},
   "source": [
    "*****\n",
    "## 5. if 조건문"
   ]
  },
  {
   "cell_type": "markdown",
   "metadata": {},
   "source": [
    "특정 조건에 따라서 각기 다른 동작을 할수 있도록 하는 구문입니다. 즉 변수의 값에 따라서 원하는 코드를 구성할 수 있고 이를 바탕으로 좀 더 세밀한 제어가 가능한\n",
    "\n",
    "알고리즘을 구성할 수 있습니다. 기본 구성은 다음과 같습니다.\n",
    "<br><br>\n",
    "~~~python\n",
    "if 조건문1 :\n",
    "   코드\n",
    "elif 조건문2:\n",
    "   코드\n",
    ".\n",
    ".\n",
    ".\n",
    "elif 조건문N:\n",
    "   코드\n",
    "else:\n",
    "   코드\n",
    "~~~\n",
    "<br>\n",
    "검사해야할 조건이 여러개가 있다면 위의 기본 코드에서 보이듯이 elif 구문이 추가되면서 여러 조건을 체크하게 됩니다. 해당 조건이 충족되면 바로 밑에 있는 코드만\n",
    "\n",
    "수행되며 어떤 조건에도 해당되는 상황이 없다면 마지막에 있는 else 구문에 진입하여 코드가 실행되고 완료가 됩니다.\n",
    "\n",
    "우선 간단한 형태의 조건문을 살펴보기로 합시다.\n",
    "    "
   ]
  },
  {
   "cell_type": "markdown",
   "metadata": {},
   "source": [
    "************\n",
    "#### _조건문이 하나 존재하고 그 이외의 모든 상황에 대해서는 else 에서 처리하는 예제_ "
   ]
  },
  {
   "cell_type": "code",
   "execution_count": 58,
   "metadata": {},
   "outputs": [
    {
     "name": "stdout",
     "output_type": "stream",
     "text": [
      "정수를 입력하세요 : 2\n",
      "짝수\n"
     ]
    }
   ],
   "source": [
    "x = int(input('정수를 입력하세요 : '))\n",
    "\n",
    "if x % 2 == 0 :\n",
    "    print('짝수')\n",
    "else :\n",
    "    print('홀수')"
   ]
  },
  {
   "cell_type": "markdown",
   "metadata": {},
   "source": [
    "****************\n",
    "#### _조건문이 여러개 존재하고 그 이외의 상황은 역시 else 에서 처리하는 예제_ "
   ]
  },
  {
   "cell_type": "code",
   "execution_count": 59,
   "metadata": {},
   "outputs": [
    {
     "name": "stdout",
     "output_type": "stream",
     "text": [
      "정수를 입력하세요 : 3\n",
      "양수\n"
     ]
    }
   ],
   "source": [
    "x = int(input('정수를 입력하세요 : '))\n",
    "\n",
    "if x > 0 :\n",
    "    print('양수')\n",
    "elif x < 0 :\n",
    "    print('음수')\n",
    "else :\n",
    "    print('0')"
   ]
  },
  {
   "cell_type": "markdown",
   "metadata": {},
   "source": [
    "**************\n",
    "#### _조건문이 여러개 존재하는 또 다른 예제_ "
   ]
  },
  {
   "cell_type": "code",
   "execution_count": 60,
   "metadata": {},
   "outputs": [
    {
     "name": "stdout",
     "output_type": "stream",
     "text": [
      "정수를 입력하세요 : 4\n",
      "3<x<5\n"
     ]
    }
   ],
   "source": [
    "x = int(input('정수를 입력하세요 : '))\n",
    "\n",
    "if x > 5 : \n",
    "    print('x > 5')\n",
    "elif x > 3:\n",
    "    print('3<x<5')\n",
    "elif x > 1:\n",
    "    print('1<x<3')\n",
    "else :\n",
    "    print('value : ', x)\n",
    "    "
   ]
  },
  {
   "cell_type": "markdown",
   "metadata": {},
   "source": [
    "**************\n",
    "#### _문자열 값에 따른 조건 분기문 예제_"
   ]
  },
  {
   "cell_type": "code",
   "execution_count": 61,
   "metadata": {},
   "outputs": [
    {
     "name": "stdout",
     "output_type": "stream",
     "text": [
      "색깔을 문자열로 입력하세요 : red\n",
      "Red\n"
     ]
    }
   ],
   "source": [
    "color = input('색깔을 문자열로 입력하세요 : ')\n",
    "\n",
    "if color == 'red':\n",
    "    print('Red')\n",
    "elif color == 'blue':\n",
    "    print('Blue')\n",
    "elif color == 'yellow' :\n",
    "    print('Yello')\n",
    "else:\n",
    "    print('지정되지 않은 색깔입니다', color)"
   ]
  },
  {
   "cell_type": "markdown",
   "metadata": {},
   "source": [
    "\n",
    "#### _조건문안에 다시 조건문이 있는 중첩 조건문도 가능합니다._ "
   ]
  },
  {
   "cell_type": "code",
   "execution_count": 62,
   "metadata": {},
   "outputs": [
    {
     "name": "stdout",
     "output_type": "stream",
     "text": [
      "점심 먹으러 갈까요 ?  y\n",
      "햄버거 드실래요 ? y\n",
      "점심으로 햄버거 먹으러 갑니다.\n"
     ]
    }
   ],
   "source": [
    "lunchTime = input('점심 먹으러 갈까요 ?  ')\n",
    "\n",
    "if lunchTime == 'y':\n",
    "    whatToEat = input('햄버거 드실래요 ? ')\n",
    "    if whatToEat == 'y':\n",
    "        print('점심으로 햄버거 먹으러 갑니다.')\n",
    "    else :\n",
    "        print('다른 것으로 골라 보죠.')\n",
    "else :\n",
    "    print('점심 별로 생각이 없어요.')\n",
    "    "
   ]
  },
  {
   "cell_type": "markdown",
   "metadata": {},
   "source": [
    "*******"
   ]
  },
  {
   "cell_type": "markdown",
   "metadata": {},
   "source": [
    "*****\n",
    "## 6. 반복문"
   ]
  },
  {
   "cell_type": "markdown",
   "metadata": {},
   "source": [
    "코드 작성시 특정한 동일한 알고리즘이 계속적으로 반복 실행이 필요한 경우가 있습니다. 예를 들면 사용자 입력을 계속 기다리거나 아니면 특정 조건이 발생할 때까지\n",
    "\n",
    "말입니다. 이런 상황에서 whie 과 for 이라는 구문을 사용해서 처리하면 쉽게 구현이 가능합니다. "
   ]
  },
  {
   "cell_type": "markdown",
   "metadata": {},
   "source": [
    "### 6.1. while\n",
    "\n",
    "~~~python\n",
    "\n",
    "while 조건문 :\n",
    "    \n",
    "    코드\n",
    "~~~"
   ]
  },
  {
   "cell_type": "code",
   "execution_count": 1,
   "metadata": {},
   "outputs": [
    {
     "name": "stdout",
     "output_type": "stream",
     "text": [
      "짝수를 입력하면 종료됩니다. !!!!\n",
      "정수를 입력하세요 : 1\n",
      "정수를 입력하세요 : 3\n",
      "정수를 입력하세요 : 2\n",
      "종료되었습니다. : 2\n"
     ]
    }
   ],
   "source": [
    "# 짝수를 입력할 때까지 계속 반복되는 예제\n",
    "\n",
    "print('짝수를 입력하면 종료됩니다. !!!!')\n",
    "num = -1\n",
    "\n",
    "while num % 2 != 0  :\n",
    "    num = int(input('정수를 입력하세요 : '))\n",
    "    \n",
    "print('종료되었습니다. :', num)"
   ]
  },
  {
   "cell_type": "markdown",
   "metadata": {},
   "source": [
    "***************\n",
    "반복문에서 while 에서 조건이 해당되면 반복문이 종료되는 방식과 함께 반복문을 특정 조건이 발생하면 중지시킬수 있는 구문도 알고 있어야 합니다.\n",
    "\n",
    "break 라는 구문을 통해 이루어지는데 위에서 구현한 코드를 break 를 통해 어떻게 다른 방식으로 구현되는지 알아보도록 합시다."
   ]
  },
  {
   "cell_type": "code",
   "execution_count": 64,
   "metadata": {},
   "outputs": [
    {
     "name": "stdout",
     "output_type": "stream",
     "text": [
      "짝수를 입력하면 종료됩니다\n",
      "정수를 입력하세요 : 1\n",
      "정수를 입력하세요 : 2\n",
      "종료 : 2\n"
     ]
    }
   ],
   "source": [
    "print('짝수를 입력하면 종료됩니다')\n",
    "num = -1\n",
    "\n",
    "while True  :\n",
    "    num = int(input('정수를 입력하세요 : '))\n",
    "    if num % 2 == 0 :\n",
    "        break\n",
    "            \n",
    "print('종료 :', num)"
   ]
  },
  {
   "cell_type": "markdown",
   "metadata": {},
   "source": [
    "### 6.2. for"
   ]
  },
  {
   "cell_type": "markdown",
   "metadata": {},
   "source": [
    "for 문도 while 문과 반복문을 구성할수 있습니다. 어떤 형식으로 구현되는지 알아보겠습니다. \n",
    "\n",
    "우선 다음 예제에서 나오는 range( ) 라는 함수는 만약에 range(N) 라고 정의하면 N 개의 숫자를 생성하는데 시작 숫자는 0 부터 N-1 까지의 숫자를 생성하는 기능을\n",
    "\n",
    "수행합니다. 따라서 아래예제에서는 range(5) 라고 정의되어있기 때문에 0부터 4까지의 5개의 숫자를 생성합니다. \n",
    "\n",
    "특히 for 문은 이후에 배우는 tuple, list, dictionary, set 과 같은 자료구조와 같이 쓰여질 때 매우 쓰임새가 많은 반복문 구문입니다. 여기에서는 기본적인 형태에 \n",
    "\n",
    "대해서 알아보겠습니다.\n",
    "\n",
    "~~~python \n",
    "\n",
    "for 변수 in 조건문 :\n",
    "    코드\n",
    "    .......\n",
    "~~~"
   ]
  },
  {
   "cell_type": "code",
   "execution_count": 67,
   "metadata": {},
   "outputs": [
    {
     "name": "stdout",
     "output_type": "stream",
     "text": [
      "0 1 2 3 4 "
     ]
    }
   ],
   "source": [
    "# 0 부터 9 까지의 10개를 숫자를 전부 출력할때가지 반복하는 예제\n",
    "\n",
    "for x in range(5) :\n",
    "    print(x, end=' ')"
   ]
  },
  {
   "cell_type": "code",
   "execution_count": 68,
   "metadata": {},
   "outputs": [
    {
     "name": "stdout",
     "output_type": "stream",
     "text": [
      "1 3 5 7 9 "
     ]
    }
   ],
   "source": [
    "# 0 부터 9 까지의 숫자중 홀수만 출력하는 예제\n",
    "\n",
    "for x in range(10) :\n",
    "    if x % 2 == 1:\n",
    "        print(x, end=' ')"
   ]
  },
  {
   "cell_type": "markdown",
   "metadata": {},
   "source": [
    "### 6.3. break / continue / pass"
   ]
  },
  {
   "cell_type": "markdown",
   "metadata": {},
   "source": [
    "break 는 앞서 간단히 예제를 다뤄봤지만 여기에서 다른 두 구문인 continue / pass 를 다루면서 좀더 자세히, 그리고 차이점에 대해서 다뤄보겠습니다."
   ]
  },
  {
   "cell_type": "markdown",
   "metadata": {},
   "source": [
    "#### 6.3.1. break"
   ]
  },
  {
   "cell_type": "markdown",
   "metadata": {},
   "source": [
    "break 문은 반복문에서 특정 상황/조건이 발생했을 경우 반복문이 끝까지 실행되기 전에 반복문을 빠져나오기 위해 사용하는 경우에 사용됩니다. "
   ]
  },
  {
   "cell_type": "code",
   "execution_count": 69,
   "metadata": {},
   "outputs": [
    {
     "name": "stdout",
     "output_type": "stream",
     "text": [
      "중단된 지점의 숫자 : 8\n"
     ]
    }
   ],
   "source": [
    "# 숫자가 8 이면 반복문을 중단하는 예제\n",
    "\n",
    "for x in range(10) :\n",
    "    if x == 8 :\n",
    "        break\n",
    "        \n",
    "print('중단된 지점의 숫자 :', x)"
   ]
  },
  {
   "cell_type": "markdown",
   "metadata": {},
   "source": [
    "#### 6.3.2. continue"
   ]
  },
  {
   "cell_type": "markdown",
   "metadata": {},
   "source": [
    "break 문은 해당 조건이 발생하면 반복문을 빠져나오는 구문이지만 continue 는 해당 조건이 발생하면 다음 반복문으로 넘기는 경우에 사용됩니다. \n",
    "\n",
    "즉 반복문의 중단이 아니며 해당 조건에서는 더 이상 진행되는 과정이 없이 다음 반복문으로 이어지게끔 하는 구문입니다. "
   ]
  },
  {
   "cell_type": "code",
   "execution_count": 70,
   "metadata": {},
   "outputs": [
    {
     "name": "stdout",
     "output_type": "stream",
     "text": [
      "음수를 입력하면 종료됩니다\n",
      "정수를 입력하세요 : 1\n",
      "정수를 입력하세요 : -1\n"
     ]
    }
   ],
   "source": [
    "# 음수입력하면 종료되는 예제 \n",
    "\n",
    "print('음수를 입력하면 종료됩니다')\n",
    "\n",
    "while True:\n",
    "    num = int(input('정수를 입력하세요 : '))\n",
    "    if num >= 0 :\n",
    "        continue\n",
    "    break\n",
    "    "
   ]
  },
  {
   "cell_type": "markdown",
   "metadata": {},
   "source": [
    "#### 6.3.3. pass"
   ]
  },
  {
   "cell_type": "markdown",
   "metadata": {},
   "source": [
    "당장 작성할 코드가 없어서 추후에 작성할 것을 대비하는 용도 또는 해당 조건이 발생했을 경우 특별히 취할 행동이 없을 경우에 사용됩니다.\n",
    "\n",
    "특히 파이썬에서는 들여쓰기가 코드의 블록을 규정하는데 당장 구현할 사항이 없다고 비어두면 에러가 발생하기 때문에 이를 방지하기 위해\n",
    "사용될 수도 있습니다"
   ]
  },
  {
   "cell_type": "code",
   "execution_count": 71,
   "metadata": {},
   "outputs": [
    {
     "name": "stdout",
     "output_type": "stream",
     "text": [
      "음수를 입력하면 종료됩니다\n",
      "정수를 입력하세요1\n",
      "정수를 입력하세요-1\n"
     ]
    }
   ],
   "source": [
    "# 음수입력하면 종료되는 예제 \n",
    "\n",
    "print('음수를 입력하면 종료됩니다')\n",
    "\n",
    "while True:\n",
    "    num = int(input('정수를 입력하세요'))\n",
    "    if num > 0 :\n",
    "        continue\n",
    "    elif num == 0 :   #구현할 내용이 없다고 비워두면 에러가 발생\n",
    "        pass\n",
    "    else :\n",
    "        break"
   ]
  },
  {
   "cell_type": "markdown",
   "metadata": {},
   "source": [
    "**********"
   ]
  },
  {
   "cell_type": "markdown",
   "metadata": {},
   "source": [
    "*****\n",
    "## 연습 문제"
   ]
  },
  {
   "cell_type": "markdown",
   "metadata": {},
   "source": [
    "### 1. 다음 문자열에서 홀수째 문자만 추출하세요 ( 문자열 슬라이싱 방법, while 반복문을 이용하여 2가지 방법으로 각각구현하세요)\n",
    "\n",
    "myString = 'abcdefghijklmnopqrstuvwxyz'"
   ]
  },
  {
   "cell_type": "markdown",
   "metadata": {},
   "source": [
    "### 2. 20 이하의 두 양수를 입력받고 두 수를 포함하여 그 사이에 있는 수들의 합을 구하시오\n",
    "      "
   ]
  },
  {
   "cell_type": "markdown",
   "metadata": {},
   "source": [
    "### 3. 다음 문자열을 거꾸로 출력하세요\n",
    "\n",
    "myString = 'abcdefghijklmnopqrstuvwxyz'"
   ]
  },
  {
   "cell_type": "markdown",
   "metadata": {},
   "source": [
    "### 4. 다음 문자열에서 공백을 제외한 문자의 갯수를 구하시오 \n",
    "myString = 'a b c d e f g h i j k l m n o p q r s t u v w x y z'"
   ]
  },
  {
   "cell_type": "markdown",
   "metadata": {},
   "source": [
    "### 5. while 문을 이용하여 양의 짝수를 입력하면 화면에 출력하고 양의 홀수를 입력하면 종료하는 코드를 작성하세요\n",
    "####     (  단 0 이하의 수를  입력하면 '잘못된 입력입니다' 라고 출력을 하고 계속 실행되도록 합니다 )"
   ]
  },
  {
   "cell_type": "markdown",
   "metadata": {},
   "source": [
    "***************************\n",
    "\n",
    "### 연습 문제 코드"
   ]
  },
  {
   "cell_type": "markdown",
   "metadata": {},
   "source": [
    "#### 1.  구현 코드"
   ]
  },
  {
   "cell_type": "markdown",
   "metadata": {},
   "source": [
    "#### _슬라이싱을 이용하여 구현한 코드_"
   ]
  },
  {
   "cell_type": "code",
   "execution_count": null,
   "metadata": {},
   "outputs": [],
   "source": [
    "myString = 'abcdefghijklmnopqrstuvwxyz'\n",
    "\n",
    "result = myString[::2]\n",
    "\n",
    "print(result)"
   ]
  },
  {
   "cell_type": "markdown",
   "metadata": {},
   "source": [
    "#### _while 문을 이용하여 구현한 코드_"
   ]
  },
  {
   "cell_type": "code",
   "execution_count": null,
   "metadata": {},
   "outputs": [],
   "source": [
    "myString = 'abcdefghijklmnopqrstuvwxyz'\n",
    "\n",
    "strLen = len(myString)\n",
    "index = 0\n",
    "resStr = ''\n",
    "\n",
    "while True :\n",
    "    if index >= strLen :\n",
    "        break;\n",
    "    \n",
    "    resStr += (myString[index])\n",
    "    index += 2\n",
    "    \n",
    "print(resStr)\n"
   ]
  },
  {
   "cell_type": "markdown",
   "metadata": {},
   "source": [
    "#### 2.  구현 코드"
   ]
  },
  {
   "cell_type": "code",
   "execution_count": null,
   "metadata": {},
   "outputs": [],
   "source": [
    "first = int(input('20 이하의 양수를 입력하세요'))\n",
    "second = int(input('20 이하의 양수를 입력하세요'))\n",
    "\n",
    "sum = 0\n",
    "\n",
    "for i in range(first, second+1) :\n",
    "    sum += i\n",
    "    \n",
    "print('Sum : ', sum)\n"
   ]
  },
  {
   "cell_type": "markdown",
   "metadata": {},
   "source": [
    "#### 3.  구현 코드"
   ]
  },
  {
   "cell_type": "code",
   "execution_count": null,
   "metadata": {},
   "outputs": [],
   "source": [
    "myString = 'abcdefghijklmnopqrstuvwxyz'\n",
    "\n",
    "resStr = myString[::-1]\n",
    "\n",
    "print(resStr)\n"
   ]
  },
  {
   "cell_type": "code",
   "execution_count": null,
   "metadata": {},
   "outputs": [],
   "source": [
    "myString = 'abcdefghijklmnopqrstuvwxyz'\n",
    "\n",
    "strLen = len(myString)\n",
    "resStr = ''\n",
    "\n",
    "while strLen >= 1 :\n",
    "    resStr += myString[strLen-1]\n",
    "    strLen -= 1\n",
    "\n",
    "print(resStr)\n"
   ]
  },
  {
   "cell_type": "code",
   "execution_count": null,
   "metadata": {},
   "outputs": [],
   "source": [
    " myString = 'abcdefghijklmnopqrstuvwxyz'\n",
    "\n",
    "strLen = len(myString)\n",
    "resStr = ''\n",
    "minusIdx = -strLen;\n",
    "idx = -1;\n",
    "\n",
    "while idx >= minusIdx :\n",
    "    resStr += myString[idx]\n",
    "    idx -= 1\n",
    "\n",
    "print(resStr)\n"
   ]
  },
  {
   "cell_type": "markdown",
   "metadata": {},
   "source": [
    "#### 4. 구현 코드"
   ]
  },
  {
   "cell_type": "code",
   "execution_count": null,
   "metadata": {},
   "outputs": [],
   "source": [
    "\n",
    "myString = 'a b c d e f g h i j k l m n o p q r s t u v w x y z'\n",
    "\n",
    "splitStr = myString.split()\n",
    "\n",
    "print(splitStr)\n",
    "\n",
    "len(splitStr)\n"
   ]
  },
  {
   "cell_type": "markdown",
   "metadata": {},
   "source": [
    "#### 5. 구현 코드"
   ]
  },
  {
   "cell_type": "code",
   "execution_count": null,
   "metadata": {},
   "outputs": [],
   "source": [
    "\n",
    "while True :\n",
    "    myNum = int(input('정수를 입력하세요'))\n",
    "    \n",
    "    if myNum <=0 :\n",
    "        print('0 이하의 수는 잘못된 입력입니다,')\n",
    "        continue\n",
    "        \n",
    "        \n",
    "    if myNum % 2 == 0 :\n",
    "        print(myNum)\n",
    "    else:\n",
    "        print('\\n양의 홀수를 입력하여 프로그램을 종료합니다')\n",
    "        break\n",
    "    \n"
   ]
  },
  {
   "cell_type": "markdown",
   "metadata": {},
   "source": [
    "**********"
   ]
  },
  {
   "cell_type": "markdown",
   "metadata": {},
   "source": [
    "*****\n",
    "## 7. 자료구조"
   ]
  },
  {
   "cell_type": "markdown",
   "metadata": {},
   "source": [
    "파이썬에서는 값을 그룹화하여 처리하는 자료구조를 컬렉션이라하여 튜플, 리스트, 집합(set), 딕셔너리 형태로 제공합니다"
   ]
  },
  {
   "cell_type": "markdown",
   "metadata": {},
   "source": [
    "## 7.1. set "
   ]
  },
  {
   "cell_type": "markdown",
   "metadata": {},
   "source": [
    "set 은 집합을 구성할 수 있는 자료구조입니다. 여기에서 말하는 집합이란 중복된 자료는 존재하지 않고 오직 하나씩만 존재하는 자료들로 이루어진 집합이며 \n",
    "\n",
    "자료들간의 순서는 없는 특성을 지닌 자료구조입니다. \n",
    "\n",
    "set 은 중괄호 { } 를 이용하여 나타내며 빈 집합은 { } 이 아닌 set( ) 으로 나타냅니다. 순서가 없는 자료들의 집합이므로 인덱스에 기반한 접근이 불가능한 자료구조\n",
    "\n",
    "형태이며  또 다른 집합을 원소로 가질수가 없는 특성을 지니고 있습니다."
   ]
  },
  {
   "cell_type": "markdown",
   "metadata": {},
   "source": [
    "#### _set 자료구조에 데이터 삽입하기_"
   ]
  },
  {
   "cell_type": "code",
   "execution_count": 75,
   "metadata": {},
   "outputs": [
    {
     "name": "stdout",
     "output_type": "stream",
     "text": [
      "{1, 2, 3, 4}\n",
      "{1, 2, 3, 4, 5}\n",
      "{1, 2, 3, 4, 5, 'Hello, Python'}\n",
      "Set Length :  6\n"
     ]
    }
   ],
   "source": [
    "mySet = {1,2,3,4}\n",
    "print(mySet)\n",
    "\n",
    "num = 5 #;print('\\n%d 추가하기' % num)\n",
    "mySet.add(num)\n",
    "print(mySet)\n",
    "\n",
    "myStr = 'Hello, Python'  #; print('\\n%s 추가하기' % myStr)\n",
    "mySet.add(myStr)\n",
    "print(mySet)\n",
    "\n",
    "setLen = len(mySet)\n",
    "print('Set Length : ', setLen) #; print(mySet)"
   ]
  },
  {
   "cell_type": "markdown",
   "metadata": {},
   "source": [
    "#### _set 자료구조에서 데이터 삭제하기_"
   ]
  },
  {
   "cell_type": "code",
   "execution_count": 76,
   "metadata": {},
   "outputs": [
    {
     "name": "stdout",
     "output_type": "stream",
     "text": [
      "{1, 2, 3, 4, 5, 'Hello, Python'}\n",
      "{1, 2, 3, 4, 5}\n",
      "{1, 2, 4, 5}\n"
     ]
    }
   ],
   "source": [
    "mySet = {1,2,3,4,5, 'Hello, Python'}\n",
    "print(mySet)\n",
    "\n",
    "myStr = 'Hello, Python' # ; print('\\n%s 제거하기' % myStr)\n",
    "mySet.remove(myStr)\n",
    "print(mySet)\n",
    "\n",
    "num = 3  # ; print('\\n%d 제거하기' % num)\n",
    "mySet.remove(num)\n",
    "print(mySet)"
   ]
  },
  {
   "cell_type": "markdown",
   "metadata": {},
   "source": [
    "#### _set 자료구조에서 데이터 합 구하기_\n",
    "\n",
    "데이터간의 합 연산을 할 때에는 문자열이 있으면 에러가 발생합니다. 그래서 관련 문자열 데이터를 삭제하거나 제외하여 연산할 수 있도록 해야 합니다."
   ]
  },
  {
   "cell_type": "code",
   "execution_count": 77,
   "metadata": {},
   "outputs": [
    {
     "name": "stdout",
     "output_type": "stream",
     "text": [
      "{1, 2, 3, 4, 5, 'Hello, Python'}\n",
      "{1, 2, 3, 4, 5}\n",
      "15\n"
     ]
    }
   ],
   "source": [
    "# 문자열을 set 에서 삭제한 후 데이터 합 구하기\n",
    "\n",
    "mySet = {1,2,3,4,5, 'Hello, Python'}\n",
    "print(mySet)\n",
    "\n",
    "myStr = 'Hello, Python' # ; print('\\n%s 제거하기' % myStr)\n",
    "mySet.remove(myStr)\n",
    "print(mySet)\n",
    "\n",
    "result = sum(mySet)\n",
    "print(result)"
   ]
  },
  {
   "cell_type": "code",
   "execution_count": 80,
   "metadata": {},
   "outputs": [
    {
     "name": "stdout",
     "output_type": "stream",
     "text": [
      "{1, 2, 3, 4, 5, 'Hello, Python'}\n",
      "{1, 2, 3, 4, 5}\n",
      "15\n"
     ]
    }
   ],
   "source": [
    "# 문자열을 제외한 새로운 set 을 설정하여 숫자 데이터만 넣은 후 데이터 합 구하기\n",
    "\n",
    "mySet = {1,2,3,4,5, 'Hello, Python'}\n",
    "print(mySet)\n",
    "\n",
    "newSet = set()\n",
    "\n",
    "for i in mySet :\n",
    "    if str(i).isdigit()  :   # i 는 숫자이지만 str(i) 는 문자열이므로 문자열 함수를 이용하여 처리\n",
    "        newSet.add(i)\n",
    "        \n",
    "print(newSet)\n",
    "result = sum(newSet)\n",
    "\n",
    "print(result)"
   ]
  },
  {
   "cell_type": "markdown",
   "metadata": {},
   "source": [
    "#### _집합에 포함되어 있는지 여부 확인하기_\n",
    "\n",
    "in, not in 연산자를 이용하여 해당 원소가 집합에 포함되어 있느지 여부를 알 수 있습니다. "
   ]
  },
  {
   "cell_type": "code",
   "execution_count": 81,
   "metadata": {},
   "outputs": [
    {
     "name": "stdout",
     "output_type": "stream",
     "text": [
      "True\n",
      "True\n",
      "False\n"
     ]
    }
   ],
   "source": [
    "mySet = { 1,2,3,4,5 }\n",
    "\n",
    "print( 2 in mySet)\n",
    "\n",
    "print(10 not in mySet)\n",
    "\n",
    "print(8 in mySet)"
   ]
  },
  {
   "cell_type": "markdown",
   "metadata": {},
   "source": [
    "#### _합집합과 교집합_\n",
    "\n",
    "합집합은 '|' 연산자를,  교집합은 '&' 연산자를 이용하며  + 연산자를 이용한 집합간의 연산이 안됩니다"
   ]
  },
  {
   "cell_type": "code",
   "execution_count": 82,
   "metadata": {},
   "outputs": [
    {
     "ename": "TypeError",
     "evalue": "unsupported operand type(s) for +: 'set' and 'set'",
     "output_type": "error",
     "traceback": [
      "\u001b[0;31m---------------------------------------------------------------------------\u001b[0m",
      "\u001b[0;31mTypeError\u001b[0m                                 Traceback (most recent call last)",
      "\u001b[0;32m<ipython-input-82-9e28fb424dde>\u001b[0m in \u001b[0;36m<module>\u001b[0;34m()\u001b[0m\n\u001b[1;32m      3\u001b[0m \u001b[0mset2\u001b[0m \u001b[0;34m=\u001b[0m \u001b[0;34m{\u001b[0m \u001b[0;36m3\u001b[0m\u001b[0;34m,\u001b[0m\u001b[0;36m4\u001b[0m\u001b[0;34m,\u001b[0m\u001b[0;36m5\u001b[0m\u001b[0;34m,\u001b[0m\u001b[0;36m6\u001b[0m\u001b[0;34m}\u001b[0m\u001b[0;34m\u001b[0m\u001b[0m\n\u001b[1;32m      4\u001b[0m \u001b[0;34m\u001b[0m\u001b[0m\n\u001b[0;32m----> 5\u001b[0;31m \u001b[0mset3\u001b[0m \u001b[0;34m=\u001b[0m  \u001b[0mset1\u001b[0m \u001b[0;34m+\u001b[0m \u001b[0mset2\u001b[0m\u001b[0;34m\u001b[0m\u001b[0m\n\u001b[0m\u001b[1;32m      6\u001b[0m \u001b[0;34m\u001b[0m\u001b[0m\n\u001b[1;32m      7\u001b[0m \u001b[0mprint\u001b[0m\u001b[0;34m(\u001b[0m\u001b[0mset3\u001b[0m\u001b[0;34m)\u001b[0m\u001b[0;34m\u001b[0m\u001b[0m\n",
      "\u001b[0;31mTypeError\u001b[0m: unsupported operand type(s) for +: 'set' and 'set'"
     ]
    }
   ],
   "source": [
    "set1 = {1,2,3,4}\n",
    "set2 = { 3,4,5,6}\n",
    "set3 =  set1 + set2 \n",
    "print(set3)"
   ]
  },
  {
   "cell_type": "markdown",
   "metadata": {},
   "source": [
    "#### _합집합_"
   ]
  },
  {
   "cell_type": "code",
   "execution_count": null,
   "metadata": {},
   "outputs": [],
   "source": [
    "# 합집합을 구합니다.\n",
    "\n",
    "set1 = {1,2,3,4}\n",
    "\n",
    "set2 = { 3,4,5,6}\n",
    "\n",
    "set3 =  set1 | set2 \n",
    "\n",
    "print(set3)"
   ]
  },
  {
   "cell_type": "markdown",
   "metadata": {},
   "source": [
    "#### _교집합_"
   ]
  },
  {
   "cell_type": "code",
   "execution_count": null,
   "metadata": {},
   "outputs": [],
   "source": [
    "# 교집합을 구합니다.\n",
    "\n",
    "set1 = {1,2,3,4}\n",
    "\n",
    "set2 = { 3,4,5,6}\n",
    "\n",
    "set3 = set1 & set2\n",
    "\n",
    "print(set3)"
   ]
  },
  {
   "cell_type": "markdown",
   "metadata": {},
   "source": [
    "#### _합집합 : update( ) 함수 이용_"
   ]
  },
  {
   "cell_type": "code",
   "execution_count": 2,
   "metadata": {},
   "outputs": [
    {
     "name": "stdout",
     "output_type": "stream",
     "text": [
      "{1, 2, 3, 4, 5, 6}\n",
      "{3, 4, 5, 6}\n"
     ]
    }
   ],
   "source": [
    "# update 함수를 이용한 합집합\n",
    "\n",
    "set1 = {1,2,3,4}\n",
    "\n",
    "set2 = { 3,4,5,6}\n",
    "\n",
    "set1.update(set2)\n",
    "\n",
    "print(set1)\n",
    "print(set2)"
   ]
  },
  {
   "cell_type": "markdown",
   "metadata": {},
   "source": [
    "#### *교집합 : intersection_update( ) 함수 이용*"
   ]
  },
  {
   "cell_type": "code",
   "execution_count": null,
   "metadata": {},
   "outputs": [],
   "source": [
    "# intersection_update 함수를 이용한 교집합\n",
    "\n",
    "set1 = {1,2,3,4}\n",
    "\n",
    "set2 = { 3,4,5,6}\n",
    "\n",
    "set2.intersection_update(set1)\n",
    "\n",
    "print(set2)"
   ]
  },
  {
   "cell_type": "markdown",
   "metadata": {},
   "source": [
    "#### _집합을 구성하는 또 다른 방법 1_"
   ]
  },
  {
   "cell_type": "code",
   "execution_count": 3,
   "metadata": {},
   "outputs": [
    {
     "name": "stdout",
     "output_type": "stream",
     "text": [
      "{3, 5}\n"
     ]
    }
   ],
   "source": [
    "mySet = { 3,4,5,6}\n",
    "\n",
    "numset = { i for i in mySet if i % 2 == 1}\n",
    "\n",
    "print(numset)"
   ]
  },
  {
   "cell_type": "markdown",
   "metadata": {},
   "source": [
    "#### _집합을 구성하는 또 다른 방법 2_"
   ]
  },
  {
   "cell_type": "code",
   "execution_count": null,
   "metadata": {},
   "outputs": [],
   "source": [
    "numset = { i*i for i in range(10) if i % 2 == 1}\n",
    "\n",
    "print(numset)"
   ]
  },
  {
   "cell_type": "markdown",
   "metadata": {},
   "source": [
    "#### _집합을 구성하는 또 다른 방법 3_"
   ]
  },
  {
   "cell_type": "code",
   "execution_count": null,
   "metadata": {},
   "outputs": [],
   "source": [
    "numset = { x*y for x in {1,2,3} for y in {2,3,4}}\n",
    "\n",
    "print(numset)"
   ]
  },
  {
   "cell_type": "markdown",
   "metadata": {},
   "source": [
    "## 7.2. list"
   ]
  },
  {
   "cell_type": "markdown",
   "metadata": {},
   "source": [
    "순서가 중요하며 자료의 중복도 가능한 자료구조입니다. 대괄호 [ ]  를 이용하여 나타내며 원소가 없는 빈 리스트는  [ ] 로 표현됩니다. 그리고 인덱스에 기반한 \n",
    "\n",
    "자료 접근이 가능한 자료 구조입니다. 리스트의 원소에 제한은 없으며 집합 또는 다른 리스트를 포함할 수도 있습니다. "
   ]
  },
  {
   "cell_type": "markdown",
   "metadata": {},
   "source": [
    "#### _리스트 자료 구조간에   + 연산자를 통한 리스트 합치는 예제_"
   ]
  },
  {
   "cell_type": "code",
   "execution_count": 83,
   "metadata": {},
   "outputs": [
    {
     "name": "stdout",
     "output_type": "stream",
     "text": [
      "[1, 2, 3, 4, 5, 5, 6, 7, 8, 9]\n",
      "10\n"
     ]
    }
   ],
   "source": [
    "myList = [1,2,3,4,5]\n",
    "myList = myList + [5,6,7,8,9]\n",
    "\n",
    "print(myList)\n",
    "print(len(myList))"
   ]
  },
  {
   "cell_type": "markdown",
   "metadata": {},
   "source": [
    "#### _리스트 구조는 다양한 형태의 데이터형을 자료로 처리할 수 있음_"
   ]
  },
  {
   "cell_type": "code",
   "execution_count": 84,
   "metadata": {},
   "outputs": [
    {
     "name": "stdout",
     "output_type": "stream",
     "text": [
      "[1, 2, 3, 4, 5, [77, 22, 11], {33, 44, 22, 55}, 'Hello', 'World']\n"
     ]
    }
   ],
   "source": [
    "myList = [1,2,3,4,5]\n",
    "myList = myList + [[77,22,11],{22,33,44,55}, 'Hello', 'World']\n",
    "\n",
    "print(myList)"
   ]
  },
  {
   "cell_type": "markdown",
   "metadata": {},
   "source": [
    "#### _append( ) 함수를  이용한 데이터 삽입_"
   ]
  },
  {
   "cell_type": "code",
   "execution_count": null,
   "metadata": {},
   "outputs": [],
   "source": [
    "#맨 뒤에 새로운 데이터가 삽입됨\n",
    "\n",
    "myList = [1,2,3,4,5]\n",
    "\n",
    "myList.append([9,8,7,6,5,4])\n",
    "print(myList)\n",
    "\n",
    "myList.append({55,66,88})\n",
    "print(myList)\n",
    "\n",
    "myList.append('Hello, Python')\n",
    "print(myList)"
   ]
  },
  {
   "cell_type": "markdown",
   "metadata": {},
   "source": [
    "#### _insert( ) 함수를  이용한 데이터 삽입_"
   ]
  },
  {
   "cell_type": "code",
   "execution_count": 4,
   "metadata": {},
   "outputs": [
    {
     "name": "stdout",
     "output_type": "stream",
     "text": [
      "[1, 2, 3, 4, 5, 6]\n",
      "[1, 2, 3, 4, 5, 6, 7]\n",
      "['월', '화', '수', '목', '금', '토']\n",
      "['월', '화', '수', '목', '금', '토', '일']\n"
     ]
    }
   ],
   "source": [
    "# 원하는 위치에 데이터를 삽입\n",
    "\n",
    "myList = [1,2,3,4,6]\n",
    "pos = myList.index(4)\n",
    "myList.insert(pos+1, 5)\n",
    "print(myList)\n",
    "\n",
    "myList.insert(6, 7)\n",
    "print(myList)\n",
    "\n",
    "myList = ['월', '화', '수', '목', '토']\n",
    "pos = myList.index('목')\n",
    "myList.insert(pos+1, '금')\n",
    "print(myList)\n",
    "\n",
    "myList.insert(7, '일')\n",
    "print(myList)"
   ]
  },
  {
   "cell_type": "markdown",
   "metadata": {},
   "source": [
    "#### _del 함수를 이용한 특정 위치의 데이터 삭제_"
   ]
  },
  {
   "cell_type": "code",
   "execution_count": null,
   "metadata": {},
   "outputs": [],
   "source": [
    "# 원하는 위치에서 데이터를 삭제\n",
    "\n",
    "myList = [1,2,3,4,5,6,7] \n",
    "print(myList)\n",
    "del myList[3]\n",
    "print(myList)\n",
    "\n",
    "myList = ['월', '화', '수', '목', '금', '토', '일']\n",
    "print(myList)\n",
    "pos = myList.index('수')\n",
    "del myList[pos]\n",
    "print(myList)"
   ]
  },
  {
   "cell_type": "markdown",
   "metadata": {},
   "source": [
    "#### _remove 함수를 이용한 특정 데이터 삭제_"
   ]
  },
  {
   "cell_type": "code",
   "execution_count": null,
   "metadata": {},
   "outputs": [],
   "source": [
    "# 특정 값을 가진 데이터를 삭제\n",
    "\n",
    "myList = [1,2,3,4,5,6,7]\n",
    "print(myList)\n",
    "myList.remove(3)\n",
    "print(myList)\n",
    "\n",
    "myList = ['월', '화', '수', '목', '금', '토', '일']\n",
    "print(myList)\n",
    "myList.remove('월')\n",
    "print(myList)"
   ]
  },
  {
   "cell_type": "markdown",
   "metadata": {},
   "source": [
    "#### _pop( ) 함수를 이용한 데이터 삭제_\n",
    "\n",
    "기본적으로 pop( ) 함수를 호출하면 맨 뒤 요소 값을 반환하고 리스트에서 삭제하며 인덱스 값을 함수의 입력값으로 주면 해당 인덱스의 요소를 반환하고 삭제합니다."
   ]
  },
  {
   "cell_type": "code",
   "execution_count": 5,
   "metadata": {},
   "outputs": [
    {
     "name": "stdout",
     "output_type": "stream",
     "text": [
      "[1, 2, 3, 4, 5, 6, 7]\n",
      "popedData :  7\n",
      "[1, 2, 3, 4, 5, 6]\n",
      "\n",
      "['월', '화', '수', '목', '금', '토', '일']\n",
      "popedData[3] :  목\n",
      "['월', '화', '수', '금', '토', '일']\n"
     ]
    }
   ],
   "source": [
    "# 맨 뒤 요소를 반환하고 리스트에서 삭제 또는 특정 인덱스 요소를 반환하고 삭제\n",
    "\n",
    "myList = [1,2,3,4,5,6,7]\n",
    "print(myList)\n",
    "\n",
    "popedData = myList.pop()\n",
    "print('popedData : ', popedData)\n",
    "print(myList) ; print('')\n",
    "\n",
    "myList = ['월', '화', '수', '목', '금', '토', '일']\n",
    "print(myList)\n",
    "popedData = myList.pop(3)\n",
    "print('popedData[3] : ', popedData)\n",
    "print(myList)"
   ]
  },
  {
   "cell_type": "markdown",
   "metadata": {},
   "source": [
    "#### _count() 함수를 이용하여  특정 데이터의 갯수 구하기_"
   ]
  },
  {
   "cell_type": "code",
   "execution_count": null,
   "metadata": {},
   "outputs": [],
   "source": [
    "# 특정 값을 가진 데이터의 갯수 구하기\n",
    "\n",
    "myList = [7,1,2,2,7,2,3,7,1,6,4,5,6,7, 'a', 'a', 'c', 'f']\n",
    "print(myList)\n",
    "\n",
    "cnt = myList.count('a')\n",
    "print(cnt)\n",
    "\n",
    "cnt = myList.count(7)\n",
    "print(cnt)"
   ]
  },
  {
   "cell_type": "markdown",
   "metadata": {},
   "source": [
    "#### _정렬하기 1_\n",
    "\n",
    "sort( ) 함수를 이용하면 원래 리스트의 구조가 변경됨, 기본적으로 오름차순으로 정렬되며 내림차순으로 정렬하기 위해서는 함수 입력 변수로 다음과 같이 \n",
    "\n",
    "설정해주면 됩니다.\n",
    "\n",
    "~~~python\n",
    "sort(reverse=True)\n",
    "~~~"
   ]
  },
  {
   "cell_type": "code",
   "execution_count": null,
   "metadata": {},
   "outputs": [],
   "source": [
    "# 정렬하기 1 - sort( ) 함수를 이용하면 원래 리스트의 구조가 변경됨\n",
    "\n",
    "myList = [7,1,2,2,7,2,3,7,1,6,4,5,6,7]\n",
    "\n",
    "myList.sort()   # 기본적으로 오름차순으로 정렬됨\n",
    "print(myList)\n",
    "\n",
    "myList.sort(reverse=True)  # 내림차순으로 정렬됨\n",
    "print(myList)\n"
   ]
  },
  {
   "cell_type": "markdown",
   "metadata": {},
   "source": [
    "#### _정렬하기 2_\n",
    "\n",
    "sorted( ) 함수는 리스트 함수가 아닌 파이썬 함수이며 정렬하더라도 원래 리스트의 순서가 변하는 것이 아니고 변환된 결과를 반환해줍니다, 즉 원본 리스트에는\n",
    "\n",
    "변경이 일어나지 않습니다. 기본적으로 오름차순으로 정렬되며 내림차순으로 정렬하기 위해서는 함수 입력 변수로 다음과 같이 설정해주면 됩니다.\n",
    "\n",
    "~~~python\n",
    "sorted(리스트 변수명, reverse=True)\n",
    "~~~"
   ]
  },
  {
   "cell_type": "code",
   "execution_count": null,
   "metadata": {},
   "outputs": [],
   "source": [
    "# 정렬하기 2 - sorted( ) 함수를 이용하면 원래 리스트는 변경이 없으며 정렬된 결과가 반환됨\n",
    "\n",
    "myList = [7,1,2,2,7,2,3,7,1,6,4,5,6,7]\n",
    "\n",
    "sortedList = sorted(myList)   # 기본적으로 오름차순으로 정렬됨\n",
    "print(sortedList)\n",
    "\n",
    "\n",
    "sortedList = sorted(myList, reverse=True)  # 내림차순으로 정렬됨\n",
    "print(sortedList)\n",
    "\n",
    "print(myList)  # 원래 리스트에는 변경이 일어나지 않음"
   ]
  },
  {
   "cell_type": "markdown",
   "metadata": {},
   "source": [
    "#### _enumerate( ) 를 이용하여 인덱스와 해당 요소를 가져오기_"
   ]
  },
  {
   "cell_type": "code",
   "execution_count": null,
   "metadata": {},
   "outputs": [],
   "source": [
    "#  리스트에 enumerate() 를 적용하면 인덱스와 그에 해당하는 요소를 튜플 형태로 가져올 수 있습니다. \n",
    "\n",
    "myList = [7,1,2,2,7,2,3,7,1,6,4,5,6,7]\n",
    "\n",
    "for i, v in enumerate(myList) :\n",
    "    print(i, v, sep=':', end=' , ')\n"
   ]
  },
  {
   "cell_type": "markdown",
   "metadata": {},
   "source": [
    "#### _리스트를 구성하는 또 다른 방법 1_"
   ]
  },
  {
   "cell_type": "code",
   "execution_count": null,
   "metadata": {},
   "outputs": [],
   "source": [
    "result = [ x * 2 for x in [1,2,3,4,5]]\n",
    "\n",
    "print(result)"
   ]
  },
  {
   "cell_type": "markdown",
   "metadata": {},
   "source": [
    "#### _리스트를 구성하는 또 다른 방법 2_"
   ]
  },
  {
   "cell_type": "code",
   "execution_count": null,
   "metadata": {},
   "outputs": [],
   "source": [
    "result  = [ x * x for x in {5,6,7,8,9}]\n",
    "\n",
    "print(result)"
   ]
  },
  {
   "cell_type": "markdown",
   "metadata": {},
   "source": [
    "#### _인덱스를 이용한 리스트 다루는 방법_"
   ]
  },
  {
   "cell_type": "code",
   "execution_count": null,
   "metadata": {},
   "outputs": [],
   "source": [
    "nameList = ['홍길동', '마구', '도둑', '기냥', '딥러닝']\n",
    "\n",
    "print(nameList[0], nameList[3])"
   ]
  },
  {
   "cell_type": "code",
   "execution_count": null,
   "metadata": {},
   "outputs": [],
   "source": [
    "nameList = ['홍길동', '마구', '도둑', '기냥', '딥러닝']\n",
    "\n",
    "nameList[0] = '수퍼맨'\n",
    "\n",
    "print(nameList)"
   ]
  },
  {
   "cell_type": "markdown",
   "metadata": {},
   "source": [
    "#### _슬라이스를 이용한 리스트 다루는 방법 1_\n",
    "\n",
    "numList[i:j] 이와 같은 방식에서는 numList 라는 리스트에서  시작 인덱스 i 부터 , j-1 번째까지의  범위의 자료를 부분적으로 참조할때 쓸 수 있는 방법입니다.\n",
    "\n",
    "시작 인덱스가 0 일 경우에는 생략할 수 있습니다. "
   ]
  },
  {
   "cell_type": "code",
   "execution_count": null,
   "metadata": {},
   "outputs": [],
   "source": [
    "# 시작 인덱스가 0 일 경우에는 생략 가능\n",
    "\n",
    "numList = [0,10,20,30,40,50,60,70,80,90]\n",
    "\n",
    "print(numList[:5])     # 시작인덱스 0 에서부터 4까지의 부분 자료"
   ]
  },
  {
   "cell_type": "code",
   "execution_count": null,
   "metadata": {},
   "outputs": [],
   "source": [
    "# 리스트 끝까지 참조할 때에는 마지막 종료 인덱스 생략 가능\n",
    "\n",
    "numList = [0,10,20,30,40,50,60,70,80,90]\n",
    "\n",
    "print(numList[5:])"
   ]
  },
  {
   "cell_type": "code",
   "execution_count": null,
   "metadata": {},
   "outputs": [],
   "source": [
    "# 리스트에서 부분 문자열 추출\n",
    "\n",
    "numList = [0,10,20,30,40,50,60,70,80,90]\n",
    "\n",
    "print(numList[2:5])"
   ]
  },
  {
   "cell_type": "markdown",
   "metadata": {},
   "source": [
    "#### _슬라이스를 이용한 리스트 다루는 방법 2_\n",
    "\n",
    "이제까지 위에서 언급한 방법은 연속적인 부분 리스트를 가져오고자 할때 적용가능한 방법입니다. 지금 사용하는 슬라이싱 방법은 불연속적인 부분 리스트를 \n",
    "\n",
    "가져오고자 할때 적용가능한 방법입니다. "
   ]
  },
  {
   "cell_type": "code",
   "execution_count": null,
   "metadata": {},
   "outputs": [],
   "source": [
    "# 아래 예제는 시작 인덱스 : 마지막 인덱스 : 몇번째 요소 라는 형태로 이루어져 있습니다.  \n",
    "# 즉 아래 예제는 시작인덱스와 마지막 인덱스가 없기 때문에 리스트 전체를 대상으로 시작부터 \n",
    "# 매 2번째 자료를 가지고 오라는 슬라이싱 방법입니다.\n",
    "\n",
    "numList = [0,10,20,30,40,50,60,70,80,90]\n",
    "\n",
    "result = numList[::2]\n",
    "\n",
    "print(result)"
   ]
  },
  {
   "cell_type": "code",
   "execution_count": null,
   "metadata": {},
   "outputs": [],
   "source": [
    "# 아래 예제는 시작인덱스가 -2부터 시작하여 마지막 인덱스 -6 까지의 부분 리스트에서 시작부터 \n",
    "# 매 2번째 자료만 가져오는 슬라이싱 방법입니다.\n",
    "\n",
    "numList = [0,10,20,30,40,50,60,70,80,90]\n",
    "\n",
    "result = numList[-2:-7:-2]\n",
    "\n",
    "print(result)"
   ]
  },
  {
   "cell_type": "code",
   "execution_count": null,
   "metadata": {},
   "outputs": [],
   "source": [
    "# 아래 예제는 시작인덱스가 3부터 시작하여 리스트 끝까지  매 3번재 자료만 가지고 오는 슬라이싱 방법입니다. \n",
    "\n",
    "numList = [0,10,20,30,40,50,60,70,80,90]\n",
    "result = numList[3::3]\n",
    "\n",
    "print(result)"
   ]
  },
  {
   "cell_type": "markdown",
   "metadata": {},
   "source": [
    "#### _패킹 / 언패킹을 이용한 리스트 다루는 방법 3_\n",
    "\n",
    "패킹은 이제까지 리스트를 생성할 때처럼 여러개의 값들을 리스트로 생성한 후 하나의 변수에 할당해주는 과정을 말합니다. 즉, 여러 개의 변수를 하나로 묶어주는\n",
    "\n",
    "방법을 말합니다.\n",
    "\n",
    "언패킹은 리스트에서 자료를 가지고 올때 변수들의 리스트에 기존 생성되어 있는 리스트의 값들을 할당해주는 과정을 말합니다. "
   ]
  },
  {
   "cell_type": "code",
   "execution_count": null,
   "metadata": {},
   "outputs": [],
   "source": [
    "# 아래 과정은 패킹입니다.\n",
    "\n",
    "data = [1,2,3,4,5]\n",
    "\n",
    "# 아래 과정은 언패킹입니다.\n",
    "\n",
    "[a,b,c,d,e] = data\n",
    "\n",
    "print(a, b,c, d, e)\n",
    "\n",
    "a, b, c, d, e = data\n",
    "\n",
    "print(a, b,c, d, e)\n"
   ]
  },
  {
   "cell_type": "code",
   "execution_count": null,
   "metadata": {},
   "outputs": [],
   "source": [
    "# 언패킹의 응용예\n",
    "\n",
    "listOfLists = [[1,2], [3,4], [5,6], [7,8], [9,10]]\n",
    "\n",
    "[y for [x, y] in listOfLists]"
   ]
  },
  {
   "cell_type": "markdown",
   "metadata": {},
   "source": [
    "#### _map 함수를 이용한 리스트 활용 예제_"
   ]
  },
  {
   "cell_type": "markdown",
   "metadata": {},
   "source": [
    "map 함수는 리스트와 함께 이용하여 리스트의 자료들을 원하는 방식대로 변환하는 편리한 기능을 제공합니다. 리스트뿐만 아니라 튜플에도 적용할 수 있는 함수이며\n",
    "\n",
    "예제를 바로 살펴보는게 이 함수의 기능을 이해하는데 있어 쉽게 접근할 수 있을 거라고 생각됩니다. \n",
    "\n",
    "단순히 데이터의 형변환뿐만 아니라 함수를 지정할 수도 있는 아주 유용한 기능을 제공합니다. \n",
    "\n",
    "~~~python\n",
    "\n",
    "map(기능, 데이터)\n",
    "~~~\n",
    "\n",
    "<br>\n",
    "\n",
    "위 함수에서 기능이라고 하는 부분이 데이터에 대해서 적용됩니다 .  예를 들어 다음과 같이 정의가 된다면 리스트의 모든 데이터들을 문자열로 \n",
    "\n",
    "변환시키는 기능을 수행합니다. \n",
    "\n",
    "<br>\n",
    "\n",
    "~~~python\n",
    "map(str, 리스트)\n",
    "~~~\n",
    "<br>"
   ]
  },
  {
   "cell_type": "markdown",
   "metadata": {},
   "source": [
    "#### _map 함수를 이용하여 리스트에서 정수형 데이터 값만 추출하는 예제_"
   ]
  },
  {
   "cell_type": "code",
   "execution_count": null,
   "metadata": {},
   "outputs": [],
   "source": [
    "# map 함수를 이용하여 실수형 데이터를 가지고 있는 리스트에 대해서 정수형 데이터 값만 추출하는 예제\n",
    "\n",
    "numList = [1.1, 4.4, 2.2, 7.7] \n",
    "\n",
    "intNumList = list(map(int, numList))\n",
    "\n",
    "print(intNumList)"
   ]
  },
  {
   "cell_type": "markdown",
   "metadata": {},
   "source": [
    "#### _map 함수를 이용하여 리스트에서 문자열로 변환하는 예제_"
   ]
  },
  {
   "cell_type": "code",
   "execution_count": null,
   "metadata": {},
   "outputs": [],
   "source": [
    "# map 함수를 이용하여 실수형 데이터를 가지고 있는 리스트에 대해서 문자열로 변환하는 예제\n",
    "\n",
    "numList = [1.1, 4.4, 2.2, 7.7] \n",
    "\n",
    "strNumList = list(map(str, numList))\n",
    "\n",
    "print(strNumList)"
   ]
  },
  {
   "cell_type": "markdown",
   "metadata": {},
   "source": [
    "#### _map( ) 에 함수를 적용하여  리스트 데이터 값 변환하는 예제 1_"
   ]
  },
  {
   "cell_type": "code",
   "execution_count": 85,
   "metadata": {},
   "outputs": [
    {
     "name": "stdout",
     "output_type": "stream",
     "text": [
      "[2.1, 5.4, 3.2, 8.7]\n"
     ]
    }
   ],
   "source": [
    "# map 함수를 적용하여 리스트 데이터 값  변환하는 예제\n",
    "\n",
    "def addOne(input) :\n",
    "    return input + 1\n",
    "\n",
    "numList = [1.1, 4.4, 2.2, 7.7] \n",
    "\n",
    "addOneNumList = list(map(addOne, numList))\n",
    "print(addOneNumList)"
   ]
  },
  {
   "cell_type": "markdown",
   "metadata": {},
   "source": [
    "#### _map( ) 에 함수를 적용하여  리스트 데이터 값 변환하는 예제 2_"
   ]
  },
  {
   "cell_type": "code",
   "execution_count": 86,
   "metadata": {},
   "outputs": [
    {
     "name": "stdout",
     "output_type": "stream",
     "text": [
      "[5, 5, 5, 5]\n"
     ]
    }
   ],
   "source": [
    "def addTwo(input1, input2) :\n",
    "    return input1 + input2\n",
    "\n",
    "numList1 = [1, 2, 3, 4]\n",
    "numList2 = [4, 3, 2, 1]\n",
    "\n",
    "addNumList = list(map(addTwo, numList1, numList2))\n",
    "print(addNumList)"
   ]
  },
  {
   "cell_type": "markdown",
   "metadata": {},
   "source": [
    "## 7.3. tuple"
   ]
  },
  {
   "cell_type": "markdown",
   "metadata": {},
   "source": [
    "리스트와 마찬가지로 순서가 중요하며 자료의 중복도 가능한 자료구조입니다. 일반 괄호 ( ) 를 이용하여 나타냅니다. \n",
    "\n",
    "이 자료 구조의 특징은 변경이 불가하다는데 있습니다. 즉 한번 생성된 튜플은 자료의 변경이 허락되지 않으며  이 자료구조 또한 인덱스에 기반한 자료 접근이 \n",
    "\n",
    "가능합니다. \n",
    "\n",
    "튜플은 생성시 () 를 이용하여 생성할 수도 있고 () 없이 쉼표만을 이용하여 생성할 수도 있습니다. 유의할 점은 () 없이 쉼표만을 이용하여 생성할 때 데이터가 \n",
    "\n",
    "한 개일때는 쉼표를 꼭 붙여주어야만 합니다.\n",
    "\n",
    "~~~python\n",
    "\n",
    "myTuple = ()\n",
    "\n",
    "myTuple = (1,2,3,4,5)\n",
    "\n",
    "myTuple =  1,2,3,4,5\n",
    "\n",
    "myTuple = 1,      # 데이터가 1개일때도 뒤에 쉼표를 붙여야 튜플로 인식함\n",
    "~~~"
   ]
  },
  {
   "cell_type": "code",
   "execution_count": null,
   "metadata": {},
   "outputs": [],
   "source": [
    "# 데이터가 하나일때 쉼표없이 설정하면 튜플 자료형이 아닌 일반 데이터형 변수가 됨\n",
    "\n",
    "myTuple = 1\n",
    "type(myTuple)"
   ]
  },
  {
   "cell_type": "code",
   "execution_count": null,
   "metadata": {},
   "outputs": [],
   "source": [
    "myTuple = 1,\n",
    "type(myTuple)"
   ]
  },
  {
   "cell_type": "code",
   "execution_count": null,
   "metadata": {},
   "outputs": [],
   "source": [
    "# 순서 중요, 중복 가능, 인덱스 기반 값 참조 가능\n",
    "\n",
    "myTuple = (1,1,2,2,3,4)\n",
    "\n",
    "myTuple[1] "
   ]
  },
  {
   "cell_type": "code",
   "execution_count": null,
   "metadata": {},
   "outputs": [],
   "source": [
    "# 값 변경이 불가합니다\n",
    "\n",
    "myTuple = (1,1,2,2,3,4)\n",
    "myTuple[0] = 5"
   ]
  },
  {
   "cell_type": "code",
   "execution_count": null,
   "metadata": {},
   "outputs": [],
   "source": [
    "# 언패킹을 적용할 수 있습니다.\n",
    "\n",
    "a,b,c,d,e,f  = myTuple\n",
    "\n",
    "print(a, b, c, d, e, f)"
   ]
  },
  {
   "cell_type": "code",
   "execution_count": null,
   "metadata": {},
   "outputs": [],
   "source": [
    "[y for (x, y) in [('a', 'b'), ('c', 'd'), ('e', 'f') ]]"
   ]
  },
  {
   "cell_type": "markdown",
   "metadata": {},
   "source": [
    "#### _zip( ) 함수_\n",
    "\n",
    "zip( ) 은 길이가 모두 같은 다른 컬렉션으로부터 한 원소씩 모아서 튜플을 만들어주는 함수입니다."
   ]
  },
  {
   "cell_type": "code",
   "execution_count": null,
   "metadata": {},
   "outputs": [],
   "source": [
    "zipped =  list(zip([1,2,3,4], [5,6,7,8]))\n",
    "print(zipped)"
   ]
  },
  {
   "cell_type": "code",
   "execution_count": 7,
   "metadata": {},
   "outputs": [
    {
     "name": "stdout",
     "output_type": "stream",
     "text": [
      "[(1, 5), (2, 6), (3, 7), (4, 8)]\n"
     ]
    }
   ],
   "source": [
    "a = [1,2,3,4]\n",
    "b = [5,6,7,8,9,10]\n",
    "\n",
    "zipped = list(zip(a,b))\n",
    "print(zipped)"
   ]
  },
  {
   "cell_type": "markdown",
   "metadata": {},
   "source": [
    "#### _map 함수를 이용한 튜플 활용 예제_"
   ]
  },
  {
   "cell_type": "markdown",
   "metadata": {},
   "source": [
    "map 함수는 앞서 살펴본 리스트의 활용법과 동일합니다. "
   ]
  },
  {
   "cell_type": "code",
   "execution_count": 8,
   "metadata": {},
   "outputs": [
    {
     "name": "stdout",
     "output_type": "stream",
     "text": [
      "(1, 4, 2, 7)\n"
     ]
    }
   ],
   "source": [
    "# map 함수를 이용하여 실수형 데이터를 가지고 있는 튜플에 대해서 정수형 데이터만 추출하는 예제\n",
    "\n",
    "numTuple = (1.1, 4.4, 2.2, 7.7) \n",
    "numTuple = tuple(map(int, numTuple))\n",
    "\n",
    "print(numTuple)"
   ]
  },
  {
   "cell_type": "markdown",
   "metadata": {},
   "source": [
    "## 7.4. dictionary"
   ]
  },
  {
   "cell_type": "markdown",
   "metadata": {},
   "source": [
    "딕셔너리는 키-값 쌍으로 이루어진 집합을 말합니다. 딕셔너리는 중괄호 { } 를 이용하여 나타내며 키-값 쌍은 콜론을 이용하여 표시합니다. "
   ]
  },
  {
   "cell_type": "code",
   "execution_count": null,
   "metadata": {},
   "outputs": [],
   "source": [
    "# 키-값 쌍\n",
    "\n",
    "myDic = { 'A':0, 'B':1, 'C':2, 'D':3, 'E':4, 'F':5}\n",
    "\n",
    "print(myDic['E'])"
   ]
  },
  {
   "cell_type": "code",
   "execution_count": null,
   "metadata": {},
   "outputs": [],
   "source": [
    "# 키-값 쌍\n",
    "\n",
    "print( { 'A':0, 'B':1, 'C':2, 'D':3, 'E':4, 'F':5}['C'] )"
   ]
  },
  {
   "cell_type": "code",
   "execution_count": null,
   "metadata": {},
   "outputs": [],
   "source": [
    "# 다음처럼  키에 값을 대입하는 형식으로 설정해줄 경우에는 키 값에 따옴표를 쓰지 않습니다.\n",
    "\n",
    "myDic = dict( A =0, B = 1,  C = 2 , D = 3, E = 4, F = 5)\n",
    "\n",
    "print(myDic['C'])"
   ]
  },
  {
   "cell_type": "code",
   "execution_count": null,
   "metadata": {},
   "outputs": [],
   "source": [
    "# zip( ) 을 이용하여 아래와 같은 형식으로 키-값 쌍으로 설정해줄 수 있습니다. \n",
    "\n",
    "myDic = dict(zip(['A', 'B', 'C', 'D', 'E', 'F'], [0,1,2,3,4,5] ))\n",
    "\n",
    "print(myDic['C'])"
   ]
  },
  {
   "cell_type": "code",
   "execution_count": null,
   "metadata": {},
   "outputs": [],
   "source": [
    "# 리스트와 튜플을 이용하여 아래와 같은 형식으로 키-값 쌍으로 설정해줄 수 있습니다. \n",
    "\n",
    "myDic = dict([('A', 0), ('B', 1), ('C', 2), ('D', 3), ('E', 4), ('F', 5)])\n",
    "print(myDic['E'])"
   ]
  },
  {
   "cell_type": "code",
   "execution_count": null,
   "metadata": {},
   "outputs": [],
   "source": [
    "# 해당 키가 없을 때는 에러\n",
    "\n",
    "myDic = { 'A':0, 'B':1, 'C':2, 'D':3, 'E':4, 'F':5}\n",
    "print(myDic['G'])"
   ]
  },
  {
   "cell_type": "code",
   "execution_count": null,
   "metadata": {},
   "outputs": [],
   "source": [
    "# 해당 키-값 쌍이 딕셔너리에 존재하는지의 여부 알아보기\n",
    "\n",
    "myDic = { 'A':0, 'B':1, 'C':2, 'D':3, 'E':4, 'F':5}\n",
    "\n",
    "print( 'A' in myDic )"
   ]
  },
  {
   "cell_type": "markdown",
   "metadata": {},
   "source": [
    "#### _해당 '키-값' 이 딕셔너리에 존재하는지 알아보기_"
   ]
  },
  {
   "cell_type": "code",
   "execution_count": null,
   "metadata": {},
   "outputs": [],
   "source": [
    "# 해당 키-값 쌍이 딕셔너리에 존재하는지의 여부 알아보기\n",
    "\n",
    "myDic = { 'A':0, 'B':1, 'C':2, 'D':3, 'E':4, 'F':5}\n",
    "\n",
    "print(myDic['G'] ) if 'G' in myDic else print('NOT Exist')"
   ]
  },
  {
   "cell_type": "code",
   "execution_count": null,
   "metadata": {},
   "outputs": [],
   "source": [
    "# 해당 키-값 쌍이 딕셔너리에 존재하는지의 여부 알아보기\n",
    "\n",
    "myDic = { 'A':0, 'B':1, 'C':2, 'D':3, 'E':4, 'F':5}\n",
    "\n",
    "print(myDic['E'])  if 'E' in myDic else print('NOT Exist')"
   ]
  },
  {
   "cell_type": "markdown",
   "metadata": {},
   "source": [
    "#### _딕셔너리에서 키 값만 가져오는 예제_"
   ]
  },
  {
   "cell_type": "code",
   "execution_count": null,
   "metadata": {},
   "outputs": [],
   "source": [
    "# 키-값 쌍\n",
    "\n",
    "myKeys = [ k for k in { 'A':0, 'B':1, 'C':2, 'D':3, 'E':4, 'F':5}.keys() ] \n",
    "\n",
    "print(myKeys)"
   ]
  },
  {
   "cell_type": "markdown",
   "metadata": {},
   "source": [
    "#### _딕셔너리에서 값만 가져오는 예제_"
   ]
  },
  {
   "cell_type": "code",
   "execution_count": null,
   "metadata": {},
   "outputs": [],
   "source": [
    "# 키-값 쌍\n",
    "\n",
    "myValues = [ v for v in { 'A':0, 'B':1, 'C':2, 'D':3, 'E':4, 'F':5}.values() ] \n",
    "\n",
    "print(myValues)"
   ]
  },
  {
   "cell_type": "markdown",
   "metadata": {},
   "source": [
    "#### _딕셔너리에서 키와 값을 동시에 가져오는 예제_"
   ]
  },
  {
   "cell_type": "code",
   "execution_count": null,
   "metadata": {},
   "outputs": [],
   "source": [
    "# items( ) 함수를 이용하여 키와 값을 동시에 가져오기 \n",
    "\n",
    "myDicList = [ ( k, v ) for k,v in { 'A':0, 'B':1, 'C':2, 'D':3, 'E':4, 'F':5}.items() ] \n",
    "\n",
    "print(myDicList)"
   ]
  },
  {
   "cell_type": "markdown",
   "metadata": {},
   "source": [
    "#### _딕셔너리에서 get( ) 을 이용하여 값을 가져오는 예제_"
   ]
  },
  {
   "cell_type": "code",
   "execution_count": 100,
   "metadata": {},
   "outputs": [
    {
     "name": "stdout",
     "output_type": "stream",
     "text": [
      "1\n"
     ]
    }
   ],
   "source": [
    "# get( ) 함수를 이용하여 키와 값을 동시에 가져오기 \n",
    "\n",
    "myDic = { 'A':0, 'B':1, 'C':2, 'D':3, 'E':4, 'F':5}\n",
    "dicVal = myDic.get('B')\n",
    "\n",
    "print(dicVal)"
   ]
  },
  {
   "cell_type": "markdown",
   "metadata": {},
   "source": [
    "#### _딕셔너리에서 update( ) 을 이용하여 새로운 요소 삽입하는 예제_"
   ]
  },
  {
   "cell_type": "code",
   "execution_count": 101,
   "metadata": {},
   "outputs": [
    {
     "name": "stdout",
     "output_type": "stream",
     "text": [
      "{'A': 0, 'B': 1, 'C': 2, 'D': 3, 'E': 4, 'F': 5, 'Z': 10}\n"
     ]
    }
   ],
   "source": [
    "# update( ) 함수를 이용하여 새로운 요소 삽입하기\n",
    "\n",
    "myDic = { 'A':0, 'B':1, 'C':2, 'D':3, 'E':4, 'F':5}\n",
    "myDic.update({'Z':10})\n",
    "\n",
    "print(myDic)"
   ]
  },
  {
   "cell_type": "markdown",
   "metadata": {},
   "source": [
    "#### _enumerate( ) 함수 딕셔너리에 적용하기_"
   ]
  },
  {
   "cell_type": "code",
   "execution_count": null,
   "metadata": {},
   "outputs": [],
   "source": [
    "# 딕셔너리에 enumerate( ) 함수를 적용하면 인덱스와 그에 해당하는 키 값을 얻을 수 있습니다.\n",
    "\n",
    "myDic = {'Mon':'Monday', 'Tue':'TuesDay', 'Wed':'Wednesday', 'Thur':'Thursday', 'Fri':'Friday', 'Sat':'Saturday', 'Sun':'Sunday'}\n",
    "\n",
    "for i, k in enumerate(myDic) :\n",
    "    print(i, k, sep=' : ', end=' , ' )\n",
    "    "
   ]
  },
  {
   "cell_type": "markdown",
   "metadata": {},
   "source": [
    "*******"
   ]
  },
  {
   "cell_type": "markdown",
   "metadata": {},
   "source": [
    "*****\n",
    "## 8. 함수"
   ]
  },
  {
   "cell_type": "markdown",
   "metadata": {},
   "source": [
    "### 8.1 함수란 ?\n"
   ]
  },
  {
   "cell_type": "markdown",
   "metadata": {},
   "source": [
    "함수는 어떤 특정 기능을 하는 코드의 집합을 말합니다. 예를 들어 값을 화면에 표시하기 위해 이제까지 print( ) 라는 것을 이용하였는데 바로 이것이 함수입니다.\n",
    "\n",
    "화면에 값을 보여주는 기능을 하는 것입니다. 이 함수가 없었다면 우리가 이러한 기능을 하는것을 구현해야 하지만 파이썬뿐만 아니라 C/C++, 자바와 같은\n",
    "\n",
    "프로그래밍 언어는 프로그래밍 작업을 도와주기 위한 수많은 기본 함수들을 제공하고 있습니다. 프로그래머는 그러한 함수들을 이용하여 문제 해결을 위한\n",
    "\n",
    "알고리즘 작성에만 집중할 수 있게 도와줍니다. \n",
    "\n",
    "파이썬에서 제공하는 함수를 몇개를 알아보도록 하겠습니다."
   ]
  },
  {
   "cell_type": "code",
   "execution_count": null,
   "metadata": {},
   "outputs": [],
   "source": [
    "x = -3\n",
    "\n",
    "print(abs(x))"
   ]
  },
  {
   "cell_type": "code",
   "execution_count": null,
   "metadata": {},
   "outputs": [],
   "source": [
    "y = max(1,10)\n",
    "\n",
    "print(y)"
   ]
  },
  {
   "cell_type": "code",
   "execution_count": null,
   "metadata": {},
   "outputs": [],
   "source": [
    "z = min(6,3,7,2,1)\n",
    "\n",
    "print(z)"
   ]
  },
  {
   "cell_type": "code",
   "execution_count": null,
   "metadata": {},
   "outputs": [],
   "source": [
    "from math import sqrt\n",
    "\n",
    "sqrt(4.0)"
   ]
  },
  {
   "cell_type": "markdown",
   "metadata": {},
   "source": [
    "### 8.2 함수의 구현\n"
   ]
  },
  {
   "cell_type": "markdown",
   "metadata": {},
   "source": [
    "파이썬에서 제공하는 기본 함수외에도 프로그래머가 필요한 함수를 구현할수도 있다고 언급했습니다. 특히 반복적으로 자주 구현되는 부분을 함수로 구현해 놓으면\n",
    "\n",
    "코드를 깔끔하고 만들수 있으며 이로인해 코드의 유지 보수가 용이하게 만들어주는 기능도 있습니다. 따라서  복잡하게 길게 구현된 코드는 기능 단위별로 함수로 \n",
    "\n",
    "대체하면 잠재적 버그를 미리 막을 수 있게 도와줍니다. 지금부터는 이런 함수를 구현하는 과정에 대해서 알아보도록 하겠습니다. \n",
    "기본 형태는 다음과 같습니다.\n",
    "\n",
    "<br>\n",
    "\n",
    "~~~python\n",
    "def 함수명 (입력변수1, 입력변수2, .........) :    # <== 마지막에 콜론을 잊으면 안됩니다.\n",
    "    \n",
    "    코드 작성\n",
    "    ............\n",
    "    ............\n",
    "    \n",
    "~~~\n",
    " <br>\n",
    "\n",
    "맨 처음에 있는 def 키워드는 함수의 정의가 시작된다는 것을 가르키는 파이썬 키워드입니다. 이 키워드를 통해 위와 같은 형태로 함수를 정의하고 함수 내부에 \n",
    "\n",
    "코드를 작성하면 됩니다. 함수 정의가 시작되는 첫 라인을 header 라고 하며 콜론으로 끝맺음을 해야 합니다. \n",
    "\n",
    "구현 코드가 들어 있는 함수내부를 body 라고 하며 body 코드 작성시에는  들여쓰기를 한 후에 작성해야 하며 함수 작성을 끝낼 때에는 마지막 라인을 빈칸으로\n",
    "\n",
    "끝맺음을 하면 함수 정의가 완료됩니다. 다음 예를 참조하면서 살펴보도록 하겠습니다."
   ]
  },
  {
   "cell_type": "markdown",
   "metadata": {},
   "source": [
    "#### 8.2.1. 사용자 정의 함수의 여러 구현 형태"
   ]
  },
  {
   "cell_type": "markdown",
   "metadata": {},
   "source": [
    "#### _입력변수와 반환값이 모두 없는 함수_"
   ]
  },
  {
   "cell_type": "code",
   "execution_count": null,
   "metadata": {},
   "outputs": [],
   "source": [
    "# 함수 예 1\n",
    "\n",
    "def sayHello( ) :\n",
    "    print('안녕하세요')\n",
    "    \n",
    "    \n",
    "sayHello()"
   ]
  },
  {
   "cell_type": "markdown",
   "metadata": {},
   "source": [
    "\n",
    "위에서 정의된 sayHello( ) 함수는 괄호안에 어떤 값도 들어 있지 함수로 정의되어 있습니다. 함수를 구성하면서 함수가 처리해야할 데이터를 괄호안에 정의하여\n",
    "\n",
    "\n",
    "함수를 구현할 수도 있습니다. 다음 예을 참조하도록 합시다."
   ]
  },
  {
   "cell_type": "markdown",
   "metadata": {},
   "source": [
    "#### _입력변수는 있고 반환값이 없는 함수_"
   ]
  },
  {
   "cell_type": "code",
   "execution_count": null,
   "metadata": {},
   "outputs": [],
   "source": [
    "\n",
    "def sayHello2(param) :\n",
    "    print(param, '안녕하세요')\n",
    "    \n",
    "sayHello2('홍길동씨')"
   ]
  },
  {
   "cell_type": "markdown",
   "metadata": {},
   "source": [
    "***********\n",
    "함수를 정의할 시에 괄호안에 들어가는 입력 변수는 구현하는 알고리즘에 따라서 다양하게 정의할 수가 있기 때문에 함수를 구현하기전에 미리 이 함수가 해야하는\n",
    "\n",
    "기능에 대해서 미리 분석을 하고 필요한 파라미터가 있을 경우 정의하여 구현하여야 합니다."
   ]
  },
  {
   "cell_type": "code",
   "execution_count": null,
   "metadata": {},
   "outputs": [],
   "source": [
    "def printMyInfo(age, name) :\n",
    "    print('내 나이는 %d 이며 내 이름은 %s 입니다' % (int(age), name))\n",
    "    print('내 나이는 %s 이며 내 이름은 %s 입니다' % (age, name))\n",
    "    print('내 나이는', age, '이며 내 이름은', name, '입니다')\n",
    "    print('내 나이는 {} 이며 내 이름은 {} 입니다'.format(age, name))\n",
    "    \n",
    "age = input('당신의 나이는 ?')\n",
    "name = input('당신의 이름은 ?')\n",
    "\n",
    "printMyInfo(age, name)"
   ]
  },
  {
   "cell_type": "markdown",
   "metadata": {},
   "source": [
    "#### _입력변수도 있고 반환값도 있는 함수_"
   ]
  },
  {
   "cell_type": "markdown",
   "metadata": {},
   "source": [
    "\n",
    "함수를 작성하면서 함수안의 결과를 반환하는 형태로도 구현할 수 있습니다. 즉 함수의 반환값을 가지고 또 다른 연산을 할 수 있는 것입니다. 반환값은 return 이라는\n",
    "\n",
    "코드를 통해 값의 반환이 이루어지며 다음 예제를 참조하도록 합시다."
   ]
  },
  {
   "cell_type": "code",
   "execution_count": null,
   "metadata": {},
   "outputs": [],
   "source": [
    "def add(input1, input2) :\n",
    "    return input1 + input2\n",
    "\n",
    "addResult = add(1,5)\n",
    "\n",
    "print('{} + {} = {}'.format(1,5,addResult))"
   ]
  },
  {
   "cell_type": "markdown",
   "metadata": {},
   "source": [
    "#### 8.2.2. 함수의 입력 변수의 기본값 활용하기"
   ]
  },
  {
   "cell_type": "markdown",
   "metadata": {},
   "source": [
    "함수을 정의하면서 입력 매개 변수가 있는 정의를 하였을 경우에는 반드시 함수 호출시 입력 매개변수에 대한 값을 할당해야 합니다.\n",
    "\n",
    "~~~python\n",
    "def needParam(param) :\n",
    "    print('Input Value :', param)\n",
    "~~~"
   ]
  },
  {
   "cell_type": "markdown",
   "metadata": {},
   "source": [
    "#### _함수 설정시 초기값이 없는 입력 매개변수에 값을 할당하지 않아 에러 발생_"
   ]
  },
  {
   "cell_type": "code",
   "execution_count": null,
   "metadata": {},
   "outputs": [],
   "source": [
    "def needParam(param) :\n",
    "    print('Input Value :', param)\n",
    "    \n",
    "needParam()"
   ]
  },
  {
   "cell_type": "markdown",
   "metadata": {},
   "source": [
    "#### _함수 설정시 입력 매개변수에 초기값 설정_"
   ]
  },
  {
   "cell_type": "markdown",
   "metadata": {},
   "source": [
    "위 예에서 알 수 있듯이 입력 매개변수에 값을 반드시  할당해야만 에러를 피할수 있습니다. 하지만 함수 정의시 입력 매개 변수에 다음과 같이 할당하면 함수 호출시\n",
    "\n",
    "입력 매개 변수값이 생략되더라도 에러를 발생하는게 아니고 함수 정의시 설정된 기본값을 가지고 처리를 하여 정상적으로 실행됩니다."
   ]
  },
  {
   "cell_type": "code",
   "execution_count": null,
   "metadata": {},
   "outputs": [],
   "source": [
    "def needParam(param='Hello') :\n",
    "    print('Input Value :', param)\n",
    "    \n",
    "needParam()    "
   ]
  },
  {
   "cell_type": "markdown",
   "metadata": {},
   "source": [
    "입력 매개 변수가 하나인 경우는 위의 예제처럼 간단합니다. 그러나 여러 매개 변수가 있을 경우에 일부는 함수 정의시 초기값을 주고 일부 매개변수는 초기값을 \n",
    "\n",
    "주지 않을 경우에는 좀 더 세심히 다루어야 합니다. 이와 관련해서 자세히 다뤄보겠습니다. "
   ]
  },
  {
   "cell_type": "markdown",
   "metadata": {},
   "source": [
    "#### _함수 정의시 초기값이 설정되지 않은 owner 매개변수는 반드시 값을 설정해줘야 하는데 생략되서 에러 발생_"
   ]
  },
  {
   "cell_type": "code",
   "execution_count": null,
   "metadata": {},
   "outputs": [],
   "source": [
    "# 함수 정의시 초기값이 설정되지 않은 owner 매개변수는 반드시 값을 설정해줘야 하는데 생략되서 에러 발생\n",
    "\n",
    "def myHome(owner, numOfPeople = 4, address='서울') :\n",
    "    print('집주인 : {},  주소 : {}, 가족인원 : {} '.format( owner, address, numOfPeople) )\n",
    "\n",
    "myHome()"
   ]
  },
  {
   "cell_type": "code",
   "execution_count": null,
   "metadata": {},
   "outputs": [],
   "source": [
    "def myHome(owner, numOfPeople = 4, address='서울') :\n",
    "    print('집주인 : {},  주소 : {}, 가족인원 : {} '.format( owner, address, numOfPeople) )\n",
    "    \n",
    "myHome( '홍길동')"
   ]
  },
  {
   "cell_type": "markdown",
   "metadata": {},
   "source": [
    "<br>\n",
    "\n",
    "__*파이썬에서는 함수의 매개변수에 값을 할당시 매개 변수명과 함께 직접 값을 할당하는 방식도 지원하며 이런 방식을 키워드 인자 설정 방식이라고 합니다.*__"
   ]
  },
  {
   "cell_type": "markdown",
   "metadata": {},
   "source": [
    "#### _키워드 인자 설정 방식 예제 1_"
   ]
  },
  {
   "cell_type": "code",
   "execution_count": null,
   "metadata": {},
   "outputs": [],
   "source": [
    "# 키워드 인자 설정 방식 예제 1\n",
    "def myHome(owner, numOfPeople = 4, address='서울') :\n",
    "    print('집주인 : {},  주소 : {}, 가족인원 : {} '.format( owner, address, numOfPeople) )\n",
    "    \n",
    "myHome(owner = '홍길동', numOfPeople = 10, address = '호주')"
   ]
  },
  {
   "cell_type": "markdown",
   "metadata": {},
   "source": [
    "####  _키워드 인자 설정 방식 예제 2_ - 변수들의 위치가 달라져도 키워드 기반으로 변수들의 값을 인식하기 때문에 정상적으로 처리가 됨"
   ]
  },
  {
   "cell_type": "code",
   "execution_count": null,
   "metadata": {},
   "outputs": [],
   "source": [
    "# 키워드 인자 설정 방식 예제 2\n",
    "# 변수들의 위치가 달라져도 키워드 기반으로 변수들의 값을 인식하기 때문에 정상적으로 처리가 됨\n",
    "\n",
    "def myHome(owner, numOfPeople = 4, address='서울') :\n",
    "    print('집주인 : {},  주소 : {}, 가족인원 : {} '.format( owner, address, numOfPeople) )\n",
    "    \n",
    "myHome(address = '호주', owner = '홍길동', numOfPeople = 10 )"
   ]
  },
  {
   "cell_type": "markdown",
   "metadata": {},
   "source": [
    "<br><br>\n",
    "\n",
    "**그럼 다음과 같은 형식으로 함수를 호출하면 어떻게 될까요 ?**"
   ]
  },
  {
   "cell_type": "code",
   "execution_count": null,
   "metadata": {},
   "outputs": [],
   "source": [
    "# 키워드 인자 설정 방식뒤에  위치 인자 설정방식이 있는 함수 호출\n",
    "\n",
    "def myHome(owner, numOfPeople = 4, address='서울') :\n",
    "    print('집주인 : {},  주소 : {}, 가족인원 : {} '.format( owner, address, numOfPeople) )\n",
    "    \n",
    "myHome(owner = '홍길동',  10)"
   ]
  },
  {
   "cell_type": "markdown",
   "metadata": {},
   "source": [
    "위 예제는 예러가 발생하는 이유는 다음과 같습니다.\n",
    "\n",
    "파이썬에서는 함수의 매개변수에 값을 할당시 키워드 인자 방식으로 하면 변수들의 위치가 달라져도 키워드 기반으로 인식하기 때문에 정상적으로 처리합니다.\n",
    "\n",
    "키워드 인자 값 설정 방식 다음부터는 변수들의 위치가 달라질수도 있다는 전제가 붙기 때문에 매개 변수들의 정확한 값을 알기 위해서는 키워드 인자 방식이어야만\n",
    "\n",
    "정상적으로 처리를 하도록 하고 있습니다.  따라서 키워드 인자 방식으로 값을 설정하는 경우에는 다음에 위치하는 매개변수 인자도 동일하게 키워드 인자 방식으로 값을 \n",
    "\n",
    "설정해주면 에러를 방지할수 있습니다. "
   ]
  },
  {
   "cell_type": "code",
   "execution_count": null,
   "metadata": {},
   "outputs": [],
   "source": [
    "# 매개변수 모두 키워드 인자 방식으로 설정\n",
    "\n",
    "def myHome(owner, numOfPeople = 4, address='서울') :\n",
    "    print('집주인 : {},  주소 : {}, 가족인원 : {} '.format( owner, address, numOfPeople) )\n",
    "\n",
    "myHome(owner = '홍길동', address = '미국')"
   ]
  },
  {
   "cell_type": "markdown",
   "metadata": {},
   "source": [
    "그럼 매개변수의 값을 설정할 경우에 위치 인자 설정방식으로 하면 어떻게 될까요? \n",
    "\n",
    "에러가 발생하지는 않지만 잘못된 값을 가지고 처리하는 경우가 발생하였습니다. 그래서 여러개의 매개변수를 가지고 처리할 경우에는 매개변수의 위치를 일치시켜\n",
    "\n",
    "값을 설정하거나 아니면 키워드 인자 방식으로 값을 설정하면 잘못된 값이 설정되는 경우를 방지할 수 있습니다. "
   ]
  },
  {
   "cell_type": "code",
   "execution_count": null,
   "metadata": {},
   "outputs": [],
   "source": [
    "# 위치 인자 기반으로 값을 설정할 경우에는 매개 변수의 순서를 지켜야 함\n",
    "\n",
    "def myHome(owner, numOfPeople = 4, address='서울') :\n",
    "    print('집주인 : {},  주소 : {}, 가족인원 : {} '.format( owner, address, numOfPeople) )\n",
    "\n",
    "myHome('홍길동', 5, '미국')\n",
    "\n",
    "myHome('홍길동', '미국', 10)  # <= 매개 변수의 순서가 올바르지 않아서 잘못된 정보를 처리함"
   ]
  },
  {
   "cell_type": "markdown",
   "metadata": {},
   "source": [
    "<br><br>\n",
    "\n",
    "**그럼 이제는 위치 인자 기반으로 먼저 값을 설정하고 난 뒤에 키워드 인자 방식으로 설정하는 방식은 어떻게 될까요?** "
   ]
  },
  {
   "cell_type": "markdown",
   "metadata": {},
   "source": [
    "#### _위치 인자 설정방식 뒤에 키워드 인자 설정방식은 정상적으로 처리되며 이 역시 매개변수의 위치가 달라져도 정상적으로 처리가 됨_"
   ]
  },
  {
   "cell_type": "code",
   "execution_count": null,
   "metadata": {},
   "outputs": [],
   "source": [
    "# 위치 인자 설정방식 뒤에 키워드 인자 설정방식은 정상적으로 처리되며 이 역시 매개변수의 위치가 달라져도 정상적으로 처리가 됨\n",
    "\n",
    "def myHome(owner, numOfPeople = 4, address='서울') :\n",
    "    print('집주인 : {},  주소 : {}, 가족인원 : {} '.format( owner, address, numOfPeople) )\n",
    "\n",
    "myHome('홍길동', address='인도', numOfPeople = 7)"
   ]
  },
  {
   "cell_type": "markdown",
   "metadata": {},
   "source": [
    "#### _키워드 인자 설정방식으로하면 매개변수의 위치가 달라져도 정상적으로 처리가 됨_"
   ]
  },
  {
   "cell_type": "code",
   "execution_count": null,
   "metadata": {},
   "outputs": [],
   "source": [
    "# 키워드 인자 설정방식으로하면 매개변수의 위치가 달라져도 정상적으로 처리가 됨\n",
    "\n",
    "def myHome(owner, numOfPeople = 4, address='서울') :\n",
    "    print('집주인 : {},  주소 : {}, 가족인원 : {} '.format( owner, address, numOfPeople) )\n",
    "\n",
    "myHome(address='인도', owner = '김씨', numOfPeople = 7)"
   ]
  },
  {
   "cell_type": "markdown",
   "metadata": {},
   "source": [
    "<br><br>\n",
    "키워드 인자 방식과 위치 인자 방식으로 매개변수들의 값을 설정할 경우 동일한 변수에 대한 설정을 하지 않도록 유의해야 하며 존재하지도 않은 변수에 대한 값 설정을\n",
    "\n",
    "하면 안됩니다."
   ]
  },
  {
   "cell_type": "markdown",
   "metadata": {},
   "source": [
    "#### 8.2.3. 함수 가변 인자 리스트 활용하기"
   ]
  },
  {
   "cell_type": "markdown",
   "metadata": {},
   "source": [
    "이제까지는 함수의 매개변수의 갯수가 정해진 경우만을 다뤄왔습니다. 지금부터는 매개 변수의 수가 가변적으로 변할 때 대응할 수 있는 가변 인자 리스트에 대해서\n",
    "\n",
    "알아보겠습니다.  파이썬에서는 함수에 전달하고자 하는 가변 인자 리스트를 다룰때 앞서 다룬 자료 구조인 튜플과 딕셔너리 형태로 처리할 수 있는 구조를 제공하고\n",
    "\n",
    "있습니다. 그럼 우선 튜플 가변 인자 리스트에 대해서 알아보도록 하겠습니다. "
   ]
  },
  {
   "cell_type": "markdown",
   "metadata": {},
   "source": [
    "#### 8.2.3.1. 튜플 가변 인자 리스트"
   ]
  },
  {
   "cell_type": "markdown",
   "metadata": {},
   "source": [
    "튜플 형태의 가변 인자 리스트를 함수의 인자로 쓸 수 있습니다. 설정하기 위해서 다음과 같은 형식을 가집니다."
   ]
  },
  {
   "cell_type": "markdown",
   "metadata": {},
   "source": [
    "#### _튜블 가변 인자 리스트 : * 하나를 이용하여 표시_"
   ]
  },
  {
   "cell_type": "code",
   "execution_count": null,
   "metadata": {},
   "outputs": [],
   "source": [
    "# 별표( * ) 를 이용하여  튜플 가변 인자 리스트를 표현하는 예제 1\n",
    "\n",
    "def addNum(*nums) :\n",
    "    sum = 0;\n",
    "    for x in nums :\n",
    "        sum += x;\n",
    "        \n",
    "    print('Sum :', sum)\n",
    "    \n",
    "addNum(1,2,3,4,5)    "
   ]
  },
  {
   "cell_type": "code",
   "execution_count": null,
   "metadata": {},
   "outputs": [],
   "source": [
    "# 별표( * ) 를 이용하여  튜플 가변 인자 리스트를 표현하는 예제 2\n",
    "\n",
    "def myAllCars(*names) :\n",
    "    carList = '';\n",
    "    for x in names :\n",
    "        carList += x + ', '\n",
    "        \n",
    "    print('Car List:', carList)\n",
    "    \n",
    "myAllCars('BMW', 'Benz', 'Audi')    "
   ]
  },
  {
   "cell_type": "markdown",
   "metadata": {},
   "source": [
    "#### 8.2.3.2. 딕셔너리 가변 인자 리스트"
   ]
  },
  {
   "cell_type": "markdown",
   "metadata": {},
   "source": [
    "딕셔너리 가변 인자 리스트는 키와 값을 가진 형태로 제공되어야 하며 다음과 같은 형식을 가집니다."
   ]
  },
  {
   "cell_type": "code",
   "execution_count": null,
   "metadata": {},
   "outputs": [],
   "source": [
    "# 별표 두개 ( ** )  를 이용하여 딕셔너리 가변 인자 리스트를 표현하는 예제 1\n",
    "\n",
    "def carInfos(**carPlates) :\n",
    "    for k in carPlates.keys() :\n",
    "        print('차 종류 :', k)\n",
    "        \n",
    "carInfos(Audi = '1234', BMW='5643', Benz='9234')      "
   ]
  },
  {
   "cell_type": "code",
   "execution_count": null,
   "metadata": {},
   "outputs": [],
   "source": [
    "# 별표 두개 ( ** )  를 이용하여 딕셔너리 가변 인자 리스트를 표현하는 예제 2\n",
    "\n",
    "def carInfos(**carPlates) :\n",
    "    for (k, v) in carPlates.items() :\n",
    "        print('{} - {} :'.format(k,v))\n",
    "\n",
    "        \n",
    "carInfos(Audi = '1234', BMW='5643', Benz='9234')"
   ]
  },
  {
   "cell_type": "markdown",
   "metadata": {},
   "source": [
    "### 8.3 함수와 변수의 유효영역\n"
   ]
  },
  {
   "cell_type": "markdown",
   "metadata": {},
   "source": [
    "#### 8.3.1. 일반 지역 변수"
   ]
  },
  {
   "cell_type": "markdown",
   "metadata": {},
   "source": [
    "우선 이제까지 다뤄온 예제와는 다른 함수내 함수 선언을 통해 일반적인 지역 변수에 대해서 알아보도로고 하겠습니다. 함수내에 사용되는 변수들이 함수내 선언되어 \n",
    "\n",
    "있지 않다면 바로 바깥에 있는 변수를 참조하고 그마저 존재하지 않는다면 조금씩 범위를 넓혀가면서 변수가 선언되어 있는 영역의 값을 참조합니다.\n",
    "\n",
    "다음 예제에서는 함수내에 name 이라는 정의된 변수가 없기 때문에  함수 바깥에 선언된 name 이라는 myInfo( ) 함수내에 선언된 지역 변수를 참조하고 있습니다. "
   ]
  },
  {
   "cell_type": "code",
   "execution_count": null,
   "metadata": {},
   "outputs": [],
   "source": [
    "# 지역 변수 예제\n",
    "\n",
    "def myInfo() :\n",
    "    name = '홍길동'\n",
    "    def printMyInfo() :\n",
    "        print(name)\n",
    "    \n",
    "    printMyInfo()\n",
    "\n",
    "myInfo()"
   ]
  },
  {
   "cell_type": "markdown",
   "metadata": {},
   "source": [
    "지역 변수를 사용하는데 중요한 점은 외부와 내부에 동일한 변수명을 사용할 경우 발생할 수 있는 경우에 대한 이해가 반드시 필요합니다. \n",
    "\n",
    "기본적으로 되도록이면 변수명은 중복되지 않도록 짓는게 최우선이며 아래 예제는 동일 변수명일 경우 발생할 수 있는 문제점과 그리고 해결책을 제시하고 있습니다.  "
   ]
  },
  {
   "cell_type": "code",
   "execution_count": null,
   "metadata": {},
   "outputs": [],
   "source": [
    "\n",
    "def displayResult() :\n",
    "    names = str()\n",
    "    def concatenate(name1, name2) :\n",
    "        names = names + name1 + name2\n",
    "        print(names)\n",
    "        \n",
    "    concatenate('a', 'b')\n",
    "    \n",
    "displayResult()\n"
   ]
  },
  {
   "cell_type": "code",
   "execution_count": null,
   "metadata": {},
   "outputs": [],
   "source": [
    "\n",
    "def displayResult() :\n",
    "    names = str()\n",
    "    def concatenate(name1, name2) :\n",
    "        nonlocal names\n",
    "        names = names + name1 + name2\n",
    "        print(names)\n",
    "        \n",
    "    concatenate('a', 'b')\n",
    "    \n",
    "displayResult()\n"
   ]
  },
  {
   "cell_type": "markdown",
   "metadata": {},
   "source": [
    "#### 8.3.2. 전역 변수 "
   ]
  },
  {
   "cell_type": "markdown",
   "metadata": {},
   "source": [
    "전역 변수는 말 그래도 모든 영역에서 참조할 수 있는 변수입니다. 일반적으로 함수 외부에 선언되어 있으며 이 전역 변수를 참조하고 할때는 사용할 시점에서 \n",
    "\n",
    "global 이라는 지시자를 이용하여 해당 전역 변수를 참조한다는 것을 명시해야 합니다. 전역 변수를 참조한다는 global 지시자가 있는 변수는 최우선적으로 \n",
    "\n",
    "전역 변수를 참조합니다. "
   ]
  },
  {
   "cell_type": "code",
   "execution_count": null,
   "metadata": {
    "scrolled": true
   },
   "outputs": [],
   "source": [
    "# 전역변수 ( global ) 예제\n",
    "\n",
    "name = '김철수'\n",
    "\n",
    "def myInfo() :\n",
    "    name = '홍길동'\n",
    "    def printMyInfo() :\n",
    "        global name\n",
    "        print(name)\n",
    "    \n",
    "    printMyInfo()\n",
    "\n",
    "myInfo()"
   ]
  },
  {
   "cell_type": "markdown",
   "metadata": {},
   "source": [
    "### 8.4. 재귀 함수"
   ]
  },
  {
   "cell_type": "markdown",
   "metadata": {},
   "source": [
    "재귀 함수는 함수내에서 자기를 호출하는 형태를 재귀함수라고 합니다. 예제에서 살펴보겠지만 재귀함수는 코드를 간결하게 구현이 쉽다라는 장점이 있지만 \n",
    "\n",
    "시스템의 스택 메모리를 사용하는 프로그래밍 방법이기 때문에 재귀함수를 사용할 때 재귀함수가 종료되는 조건을 제대로 처리하지 않으면 시스템의 스택 메모리를\n",
    "\n",
    "전부 소모해버려 시스템이 불안정해지거나 해당 프로그램이 비정상 작동하는 경우가 발생합니다. \n",
    "\n",
    "재귀 함수를 작성할 시에는 항상 이런한 점을 염두해두어야 합니다. "
   ]
  },
  {
   "cell_type": "code",
   "execution_count": null,
   "metadata": {},
   "outputs": [],
   "source": [
    "def sayHello(count) :\n",
    "    if count <= 0 :\n",
    "        return\n",
    "    print('Hello')\n",
    "    sayHello(count-1)\n",
    "    \n",
    "sayHello(5)"
   ]
  },
  {
   "cell_type": "code",
   "execution_count": null,
   "metadata": {},
   "outputs": [],
   "source": [
    "# 팩토리얼을 구하는 예제\n",
    "\n",
    "def factorial(n) :\n",
    "    if n == 1 :\n",
    "        print(1 ,end=' ')\n",
    "        return 1\n",
    "    print(n,'x', end=' ')\n",
    "    return n * factorial(n-1)\n",
    "    \n",
    "print('\\n', 'result : ', factorial(5))"
   ]
  },
  {
   "cell_type": "markdown",
   "metadata": {},
   "source": [
    "### 8.5. 함수의 문서화"
   ]
  },
  {
   "cell_type": "markdown",
   "metadata": {},
   "source": [
    "함수를 작성하는 과정에서 단지 코드만 작성하고 나면 나중에 코드를 재 확인하고 분석하는 과정에서 많은 시간과 유지 보수의 어려움이 생길 수 있습니다. 그래서\n",
    "\n",
    "작성하고 있는 함수의 기본적인 명세서를 같이 코드와 더불어 같이 곁들인다면 후에 많은 도움을 받을 수 있습니다. 주석으로 처리해도 가능하지만 보다 전문적인\n",
    "\n",
    "방법을 파이썬에서는 제공하고 있습니다.\n",
    "\n",
    "큰 따옴표 세개를 연달아 명세서 앞뒤로 적으면 함수의 기본 명세서가 작성되며 다음과 같은 구문을 통해 확인할 수 있습니다."
   ]
  },
  {
   "cell_type": "code",
   "execution_count": null,
   "metadata": {},
   "outputs": [],
   "source": [
    "# 함수의 문서화를 위한  방법\n",
    "\n",
    "def documentFunction() :\n",
    "    \"\"\"\n",
    "    함수의 기본 기능과 때로는 변수에 대한 설명 그리고 코드에 대한 부가적인\n",
    "    설명을 여기에 기록한다.\n",
    "    \"\"\"\n",
    "    \n",
    "print(documentFunction.__doc__)  ## 언더바가 각각 두개씩 사용되고 있습니다. "
   ]
  },
  {
   "cell_type": "markdown",
   "metadata": {},
   "source": [
    "*************"
   ]
  },
  {
   "cell_type": "markdown",
   "metadata": {},
   "source": [
    "*************\n",
    "## 9. 람다 함수 / map 함수 / filter 함수 / reduce 함수 / 클로저"
   ]
  },
  {
   "cell_type": "markdown",
   "metadata": {},
   "source": [
    "이제까지 함수를 구현하는데 있어서 def 키워드를 사용했습니다. 람다는 좀 더 간단한 형식으로 함수를 구현할 수 있는 구문입니다. \n",
    "\n",
    "def 키워드 없이 한 줄로 함수를 표현할 수 있게 하여 함수의 인자로 이용하거나 리스트같은 자료구조의 데이터 처리에도 쓰일 수 있는 유용한 기능입니다. \n",
    "\n",
    "처음에는 낯설지만 익숙해지면 유용하게 쓰일 수 있는 기능이므로 반드시 익히도록 합시다. \n",
    "\n",
    "유용성을 확인하기 위해 우선 list 에서 살펴봤던 map 함수가 같이 쓰인 코드를 다시 보도록 합시다. \n",
    "\n",
    "우선 람다 기본 형식은 다음과 같습니다.\n",
    "\n",
    "~~~python\n",
    "lambda 변수 : 변수연산 \n",
    "~~~\n",
    "\n",
    "위 형식만 보면 감이 오지 않습니다. 예제를 보면서 이해하도록 합시다.\n"
   ]
  },
  {
   "cell_type": "markdown",
   "metadata": {},
   "source": [
    "#### _map( ) 함수를 이용하여 리스트에 대해서 함수를 적용한 예제_"
   ]
  },
  {
   "cell_type": "code",
   "execution_count": null,
   "metadata": {},
   "outputs": [],
   "source": [
    "# map 함수를 이용하여 리스트에 대해서 함수를 적용하여  변환하는 예제\n",
    "\n",
    "def addOne(input) :\n",
    "    return input + 1\n",
    "\n",
    "numList = [1.1, 4.4, 2.2, 7.7] \n",
    "addOneNumList = list(map(addOne, numList))\n",
    "print(addOneNumList)"
   ]
  },
  {
   "cell_type": "markdown",
   "metadata": {},
   "source": [
    "<br>\n",
    "위 코드에서 map 함수의 인자로 쓰인 addOne( ) 함수는 기능이 단순한 함수입니다. 이런 경우에 함수를 정의하고 호출하는 대신 람다를 이용하여 함수 기능을 \n",
    "\n",
    "구현할 수도 있습니다. 위 코드를 람다를 이용한 코드는 다음과 같습니다."
   ]
  },
  {
   "cell_type": "markdown",
   "metadata": {},
   "source": [
    "#### _map 함수를 이용하여 리스트에 대해서 람다 함수를 적용하여  변환하는 예제_"
   ]
  },
  {
   "cell_type": "code",
   "execution_count": 95,
   "metadata": {},
   "outputs": [
    {
     "name": "stdout",
     "output_type": "stream",
     "text": [
      "[2.1, 5.4, 3.2, 8.7]\n"
     ]
    }
   ],
   "source": [
    "# map 함수를 이용하여 리스트에 대해서 람다 함수를 적용하여  변환하는 예제\n",
    "\n",
    "numList = [1.1, 4.4, 2.2, 7.7] \n",
    "addOneNumList = list(map(lambda x : x + 1, numList))\n",
    "print(addOneNumList)"
   ]
  },
  {
   "cell_type": "markdown",
   "metadata": {},
   "source": [
    "#### _map 함수와 람다 함수를 이용하여 두개의 리스트의 각각 데이터의 곱한 결과를 가져오는 예제_"
   ]
  },
  {
   "cell_type": "code",
   "execution_count": 96,
   "metadata": {},
   "outputs": [
    {
     "name": "stdout",
     "output_type": "stream",
     "text": [
      "[2, 12, 8, 35]\n"
     ]
    }
   ],
   "source": [
    "# map 함수와 람다 함수를 이용하여 두개의 리스트의 각각 데이터의 곱한 결과를 가져오는 예제\n",
    "\n",
    "numList1 = [1, 4, 2, 7]\n",
    "numList2 = [2, 3, 4, 5]\n",
    "\n",
    "MultiplyNumList = list(map(lambda x, y : x * y, numList1, numList2))\n",
    "\n",
    "print(MultiplyNumList)"
   ]
  },
  {
   "cell_type": "markdown",
   "metadata": {},
   "source": [
    "<br>\n",
    "람다함수는 기본적으로 함수명이 존재하지 않기 때문에  익명 함수(anonymous function) 로 부르기도 하지만 굳이 함수와 비슷하게 처리할 수도 있습니다. 그러나\n",
    "\n",
    "유의할 점은 람다 함수내에서 새로운 변수를 설정하는 것은 허용되지 않습니다. 그러나 외부 변수를 사용하는 것은 가능합니다.\n",
    "\n",
    "다음 예체를 참고하세요"
   ]
  },
  {
   "cell_type": "markdown",
   "metadata": {},
   "source": [
    "#### _함수명을 이용하는 람다 예제_"
   ]
  },
  {
   "cell_type": "code",
   "execution_count": null,
   "metadata": {},
   "outputs": [],
   "source": [
    "# 함수명을 이용하는 람다 예제\n",
    "\n",
    "addFunc = lambda  x : x + 1\n",
    "\n",
    "numList = [1.1, 4.4, 2.2, 7.7] \n",
    "addOneNumList = list(map(addFunc, numList))\n",
    "\n",
    "print(addOneNumList)"
   ]
  },
  {
   "cell_type": "markdown",
   "metadata": {},
   "source": [
    "#### _함수 호출과 비슷한 형태의 람다 예제_"
   ]
  },
  {
   "cell_type": "code",
   "execution_count": null,
   "metadata": {},
   "outputs": [],
   "source": [
    "# 함수 호출과 비슷한 형태의 람다 예제\n",
    "\n",
    "value = ( lambda  x : x + 1 ) ( 10 )\n",
    "print(value)"
   ]
  },
  {
   "cell_type": "markdown",
   "metadata": {},
   "source": [
    "#### _외부 변수 이용 람다 예제_"
   ]
  },
  {
   "cell_type": "code",
   "execution_count": null,
   "metadata": {},
   "outputs": [],
   "source": [
    "# 외부 변수 이용 람다 예제\n",
    "\n",
    "input = 5\n",
    "value = ( lambda  x : x + input) ( 10 )\n",
    "print(value)"
   ]
  },
  {
   "cell_type": "markdown",
   "metadata": {},
   "source": [
    "#### _매개 변수 없는 람다 예제_"
   ]
  },
  {
   "cell_type": "code",
   "execution_count": null,
   "metadata": {},
   "outputs": [],
   "source": [
    "# 매개 변수 없는 람다 예제\n",
    "\n",
    "input = 5\n",
    "value = ( lambda :  input) ( )\n",
    "print(value)"
   ]
  },
  {
   "cell_type": "markdown",
   "metadata": {},
   "source": [
    "<br>\n",
    "map 함수내에서 람다 함수를 이용하여 코드를 구현할 때 일반 함수와 마찬가지로 if 조건문도 쓸 수 있습니다. \n",
    "\n",
    "다만 **if 조건문 사용시 반드시 else 문도 써야 하며 elif 도 사용할 수 없는 제약**이 있습니다. 따라서 조건인 여러 가지인 경우는 복잡한 구성이 이루어지게 됩니다.\n",
    "\n",
    "람다 함수는 비교적 단순한 함수를 대체하고자 하는 것이 목적이기 때문에 **코드가 복잡해지는 경우는 굳이  람다 함수대신 함수로 구현하는 것이 좋은 방법**입니다. "
   ]
  },
  {
   "cell_type": "markdown",
   "metadata": {},
   "source": [
    "#### _map 함수와 람다 함수내에 if ~ else 조건문을 이용하여 리스트의 데이터에서 짝수만  문자열로 변환하는 예제_"
   ]
  },
  {
   "cell_type": "code",
   "execution_count": 97,
   "metadata": {},
   "outputs": [
    {
     "name": "stdout",
     "output_type": "stream",
     "text": [
      "[0, 1, 2, 3, 4, 5, 6, 7, 8, 9]\n",
      "['0', 1, '2', 3, '4', 5, '6', 7, '8', 9]\n"
     ]
    }
   ],
   "source": [
    "# map 함수와 람다 함수내에 if ~ else 조건문을 이용하여 리스트의 데이터에서 짝수만  문자열로 변환하는 예제\n",
    "    \n",
    "numList = list(range(10))\n",
    "print(numList)\n",
    "\n",
    "evenNumList = list(map(lambda x : str(x) if x % 2 == 0 else x , numList))\n",
    "print(evenNumList)"
   ]
  },
  {
   "cell_type": "markdown",
   "metadata": {},
   "source": [
    "<br>\n",
    "map 함수 이외에도 컬렉션과 어울려 코딩을 수월하게 해주는 filter 함수에 대해서 알아보겠습니다. filter 함수는 해당 조건에 맞는 데이터만 추출할 수 있는 \n",
    "\n",
    "함수입니다. filter 함수내에 정의된 람다 함수의 조건값이 True 일 경우에 해당하는 데이터값만 추려내는 것입니다. "
   ]
  },
  {
   "cell_type": "markdown",
   "metadata": {},
   "source": [
    "#### _filter 함수와 람다 함수를  이용하여 리스트의 데이터에서 짝수 추출하는 예제_"
   ]
  },
  {
   "cell_type": "code",
   "execution_count": 98,
   "metadata": {},
   "outputs": [
    {
     "name": "stdout",
     "output_type": "stream",
     "text": [
      "[0, 1, 2, 3, 4, 5, 6, 7, 8, 9]\n",
      "[0, 2, 4, 6, 8]\n"
     ]
    }
   ],
   "source": [
    "# filter 함수와 람다 함수를  이용하여 리스트의 데이터에서 짝수 추출하는 예제\n",
    "    \n",
    "numList = list(range(10))\n",
    "print(numList)\n",
    "\n",
    "evenNumList = list(filter(lambda x :  x % 2 == 0  , numList))\n",
    "print(evenNumList)"
   ]
  },
  {
   "cell_type": "markdown",
   "metadata": {},
   "source": [
    "#### _filter 함수와 람다 함수를  이용하여 리스트의 데이터에서 특정 범위의 수를 구하는 예제_"
   ]
  },
  {
   "cell_type": "code",
   "execution_count": 99,
   "metadata": {},
   "outputs": [
    {
     "name": "stdout",
     "output_type": "stream",
     "text": [
      "[0, 1, 2, 3, 4, 5, 6, 7, 8, 9, 10, 11, 12, 13, 14, 15, 16, 17, 18, 19]\n",
      "[12, 14, 16]\n"
     ]
    }
   ],
   "source": [
    "# filter 함수와 람다 함수를  이용하여 리스트의 데이터에서 특정 범위의 수를 구하는 예제\n",
    "    \n",
    "numList = list(range(20))\n",
    "print(numList)\n",
    "\n",
    "evenNumList = list(filter(lambda x :  x % 2 == 0 and  ( x > 10 and x < 18 )   , numList))\n",
    "print(evenNumList)"
   ]
  },
  {
   "cell_type": "markdown",
   "metadata": {},
   "source": [
    "<br>\n",
    "reduce 함수에 대해서 알아보도록 하겠습니다. reduce 함수는 리스트에서 순차적으로  매개변수를 가지고 와서 연산을 하고 그 결과를 다시 그 다음에 있는 \n",
    "\n",
    "매개변수에 적용하는 함수입니다. "
   ]
  },
  {
   "cell_type": "markdown",
   "metadata": {},
   "source": [
    "#### _reduce 예제_"
   ]
  },
  {
   "cell_type": "code",
   "execution_count": 9,
   "metadata": {},
   "outputs": [
    {
     "data": {
      "text/plain": [
       "36"
      ]
     },
     "execution_count": 9,
     "metadata": {},
     "output_type": "execute_result"
    }
   ],
   "source": [
    "from functools import reduce\n",
    "\n",
    "a = [1,2,3,4,5,6,7,8]\n",
    "\n",
    "(reduce(lambda x, y : x+y, a))"
   ]
  },
  {
   "cell_type": "markdown",
   "metadata": {},
   "source": [
    "#### _reduce 를 이용한 팩토리얼 예제_"
   ]
  },
  {
   "cell_type": "code",
   "execution_count": null,
   "metadata": {},
   "outputs": [],
   "source": [
    "# reduce 를 이용한 팩토리얼 예제\n",
    "\n",
    "from functools import reduce\n",
    "\n",
    "def reduceFact(n) :\n",
    "    return reduce(lambda x, y : x*y, range(1, n+1))\n",
    "\n",
    "reduceFact(5)"
   ]
  },
  {
   "cell_type": "markdown",
   "metadata": {},
   "source": [
    "#### _reduce 를 이용한 최대값 찾는 예제_ "
   ]
  },
  {
   "cell_type": "code",
   "execution_count": null,
   "metadata": {},
   "outputs": [],
   "source": [
    "# reduce 를 이용한 최대값 찾는 예제 \n",
    "\n",
    "from functools import reduce\n",
    "\n",
    "def findMax(n) :\n",
    "    max = reduce(lambda x,y : x if x > y else y, n)\n",
    "    print('Max :', max)\n",
    "\n",
    "a =[6,4,8,1,4,9,2,10,3]\n",
    "findMax(a)"
   ]
  },
  {
   "cell_type": "markdown",
   "metadata": {},
   "source": [
    "#### _reduce 를 이용한 최소값 찾는 예제_"
   ]
  },
  {
   "cell_type": "code",
   "execution_count": null,
   "metadata": {},
   "outputs": [],
   "source": [
    "# reduce 를 이용한 최소값 찾는 예제 \n",
    "\n",
    "from functools import reduce\n",
    "\n",
    "def findMin(n) :\n",
    "    min = reduce(lambda x,y : x if x < y else y, n)\n",
    "    print('Min :', min)\n",
    "\n",
    "a =[6,4,8,1,4,9,2,10,3]\n",
    "findMin(a)"
   ]
  },
  {
   "cell_type": "markdown",
   "metadata": {},
   "source": [
    "다음으로는 함수와 관련된 마지막 주제로 클로저에 대해서 알아보겠습니다. 우선 클로저가 되기 위한 세가지 기본 요구사항은 다음과 같습니다.\n",
    "\n",
    "- 중첩 함수로 이루어져야 합니다.\n",
    "- 중첩 함수 내부에 있는 함수는 둘러싸고 있는 함수에서 정의된 변수를 참조하고 있어야 합니다.\n",
    "- 내부 함수를 둘러싸고 있는 중첩함수는 내부 함수를 반환해야 합니다.\n",
    "\n",
    "위 사항을 구현한 간단한 코드를 살펴보도록 합시다."
   ]
  },
  {
   "cell_type": "code",
   "execution_count": null,
   "metadata": {},
   "outputs": [],
   "source": [
    "\n",
    "def count() :\n",
    "    n = 0;\n",
    "    def called() :\n",
    "        nonlocal n\n",
    "        n = n + 1\n",
    "        print('호출횟수:', n)\n",
    "        \n",
    "    return called\n",
    " \n",
    "counter = count()  # 함수를 호출할 수 있는 함수 객체에 대한 반환값\n",
    "counter()\n",
    "counter()\n",
    "counter()"
   ]
  },
  {
   "cell_type": "markdown",
   "metadata": {},
   "source": [
    "위 코드에서 중요한 점은 count( ) 함수내애 정의된 n 이라는 변수는 함수내에 정의된 지역변수입니다. 중첩함수 내부에 있는 called( ) 라는 함수는 그 변수의 값을\n",
    "\n",
    "화면에 출력하고 있습니다.  그리고 counter( ) 가 호출될 때마다 이전값을 유지하면서 하나씩 증가하는 모습을 보이고 있습니다.\n",
    "\n",
    "즉 클로저는 함수의 상태를 유지하면서 이와 관련된 코드를 작성할 수 있는 토대를 제공합니다. 이와 같은 클로저의 특징은 다음과 같은 잇점을 제공합니다.\n",
    "\n",
    "함수의 상태값을 보존하기 위해 전역 변수를 설정할 필요가 없으며 함수 내부의 코드를 은닉할 수 있는 기능을 보여주고 있습니다. "
   ]
  },
  {
   "cell_type": "markdown",
   "metadata": {},
   "source": [
    "****************"
   ]
  },
  {
   "cell_type": "markdown",
   "metadata": {},
   "source": [
    "*****************\n",
    "## 10. 객체 지향 프로그래밍 ( Object-Orientd Programming )"
   ]
  },
  {
   "cell_type": "markdown",
   "metadata": {},
   "source": [
    "\n",
    "객체 지향 프로그래밍이라는 것은  프로그래밍의 패러다임중의 하나이며 이것을 최고의 패러다임이라는 방식으로 이해하고 접근하기 보다는 왜 기존의 방식에 비해\n",
    "\n",
    "어떤 차이점이 있는가를 파악하는 것이 우선일거라고 봅니다.\n",
    "\n",
    "우선 객체라는 것은 객체의 상태를 나타내는 요소와 그 상태를 변화 시키는 행위를 포함하고 있습니다. 여기에서 우리가 해결하고자 하는 문제 영역의 상태를 파악하고\n",
    "\n",
    "그 상태를 해결하는 행위를 바로 이런 객체의 상태와 행위라는 개념에 매칭시킬수가 있고 그 객체라는 것을 클래스라는 구현체를 통해 코드의 유지 보수의 용이함과\n",
    "\n",
    "생산성을 높혀 우리가 맞닦뜨리고 있는 문제 해결을 보다 성공적으로 해결하고자하는 것이 객체 지향 프로그래밍입니다. \n",
    "\n",
    "클래스를 얼마나 잘 설계하고 구현하는가가 핵심이고 또 그 만큼 많이 세심하게 다루어야 할 내용들이 많이 있습니다. 지금부터 차근차근 풀어가도록 하겠습니다."
   ]
  },
  {
   "cell_type": "markdown",
   "metadata": {},
   "source": [
    "### 10.1. 클래스 기초"
   ]
  },
  {
   "cell_type": "markdown",
   "metadata": {},
   "source": [
    "객체의 구현체가 클래스이므로 클래스는 객체의 가장 기본 속성인 상태와 행위에 관련된 기능을 수행해야 합니다. 구현하는 과정에서 상태는 변수라는 형태로\n",
    "\n",
    "구현될 것이며 행위는 변수와 관련된 동작을 하는 함수라는 형태로 구현이 될 것입니다. 클래스는 class 라는 구문으로 시작되며 다음과 같은 형태를 가지게 됩니다.\n",
    "\n",
    "클래스를 정의하는 가장 기초 코드는 다음과 같습니다. 단 아직은 아무것도 하지 않습니다.\n",
    "\n",
    "~~~python\n",
    "class car:\n",
    "    pass\n",
    "~~~\n",
    "<br>\n",
    "\n",
    "클래스 객체를 생성하기 위해서는 다음처럼 함수처럼 호출됩니다. 이런 과정을 instantiation 이라고 하며 생성된 객체는 클래스의 instance 라고 합니다.\n",
    "\n",
    "~~~python\n",
    "myCar = car()\n",
    "~~~"
   ]
  },
  {
   "cell_type": "markdown",
   "metadata": {},
   "source": [
    "#### _클래스 메소드 정의하기_"
   ]
  },
  {
   "cell_type": "markdown",
   "metadata": {},
   "source": [
    "위의 예를 통해 클래스를 정의하면 이제는 클래스가 하는 행위를 수행할 메소드를 정의해야 합니다. \n",
    "<br><br>\n",
    "~~~python\n",
    "class car :\n",
    "    def displayCar(self) :\n",
    "        print('My Car is BMW')\n",
    "~~~\n",
    "\n",
    "<br><br>\n",
    "클래스 메소드는 함수 정의와 동일합니다. 단 유의할점은 **클래스에 정의되는 메소드는 항상 첫번째 인자 self  인자를 정의해야 합니다**.   그리고 그 메소드의 \n",
    "\n",
    "첫번째 인자로 위치해야 한다는 것을 명심하여야 합니다. self 는 클래스 구현부에만 존재하며 실제 클래스를 사용하는 아래 예제에서 확인할 수 있듯이 생략됩니다. \n",
    "\n",
    "self 인자는 클래스 자신을 가르키는 인자이며 이 self 인자를 통해 클래스의 변수와 다른 메소드들을 참조할 수 있습니다. \n",
    "\n",
    "우선 위에서 클래스는 단순히 print 함수만을 가진 메소드를 가지고 있으며 클래스의 인스턴스를 생성하고 메소드를 호출하면 됩니다. \n",
    "\n",
    "호출하는 방식은 다음과 같습니다.\n",
    "\n",
    "인스턴스.함수명   <= 인스턴스와 함수명 사이에 마침표가 있습니다. 그럼 위에서 정의한 클래스를 가지고 코드를 구성하면 다음과 같습니다."
   ]
  },
  {
   "cell_type": "code",
   "execution_count": null,
   "metadata": {},
   "outputs": [],
   "source": [
    "class car:\n",
    "    def displayCar(self) :\n",
    "        print('My Car is BMW')\n",
    "        \n",
    "myCar = car()\n",
    "myCar.displayCar()"
   ]
  },
  {
   "cell_type": "markdown",
   "metadata": {},
   "source": [
    "#### 10.1.1. 클래스 초기화 함수 :  \\___init___( )"
   ]
  },
  {
   "cell_type": "markdown",
   "metadata": {},
   "source": [
    " 클래스의 인스턴트 생성이 되면 이 생성된 인스턴스는 내부적으로 \\___init___( ) 함수를 호출하며 \\___init___( ) 함수의 첫번째 인자로 전달되며 동시에 이와 아울러 \n",
    " \n",
    " 인스턴스 생성시 사용된 인자들도 함께 받습니다. 즉 \\___init___( ) 함수에 self 인자를 제외한 추가된 인자만큼 인스턴스 생성시 그에 해당하는 인자값을 설정해줘야\n",
    " \n",
    " 하며 그리고나서 기본적으로 변수 초기화등의 기능을 수행합니다. \n",
    " \n",
    " 위의 예제를 다시  \\___init___( ) 함수가 포함하여 재구성해보기로 합시다."
   ]
  },
  {
   "cell_type": "code",
   "execution_count": null,
   "metadata": {},
   "outputs": [],
   "source": [
    "class house:\n",
    "    def __init__(self, address) :\n",
    "        self.address = address\n",
    "    \n",
    "    def displayAddress(self) :\n",
    "        print(\"My House's Address is\", self.address)\n",
    "        \n",
    "myHouse = house('Seoul')\n",
    "myHouse.displayAddress()"
   ]
  },
  {
   "cell_type": "markdown",
   "metadata": {},
   "source": [
    "#### _함수 정의시 인자 변수에 미리 초기화 값을 설정하면 함수 호출시 생략된채로 호출가능_"
   ]
  },
  {
   "cell_type": "code",
   "execution_count": null,
   "metadata": {},
   "outputs": [],
   "source": [
    "class house:\n",
    "    def __init__(self, address ='서울') :\n",
    "        self.address = address\n",
    "    \n",
    "    def displayAddress(self) :\n",
    "        print(\"My House's Address is\", self.address)\n",
    "        \n",
    "        \n",
    "myHouse = house() \n",
    "myHouse.displayAddress()        "
   ]
  },
  {
   "cell_type": "markdown",
   "metadata": {},
   "source": [
    "#### 10.1.2. 클래스 속성 다루기"
   ]
  },
  {
   "cell_type": "markdown",
   "metadata": {},
   "source": [
    "위 작성된 클래스에서는 변수를 따로 정의한 게 없는데도 불구하고 \\___init___( ) 함수 내부에서 다음과 같이 address 라는 변수에 입력 매개변수의 값을 할당하는\n",
    "\n",
    "다음과 같은 코드를 볼수있습니다.\n",
    "<br><br>\n",
    "~~~python\n",
    "self.address = address\n",
    "~~~\n",
    "\n",
    "위의 코드처럼 클래스에 속성을 추가하는 형식은 다음과 같습니다.\n",
    "~~~python\n",
    "self.속성명 = 값\n",
    "~~~\n",
    "\n",
    "<br>\n",
    "\n",
    "\\___init___( ) 함수에서 위와 같은 형식으로 코드를 작성하면 클래스 내부에서 따로 변수를 정의하지 않아도  address 변수를 클래스 변수로 생성하고 그리고 난후 \n",
    "\n",
    "값을 할당하는 과정을 모두 동시에 처리합니다. 형태는 변수이지만 객체지향 관점에서 보면 클래스에 속성을 추가하는 형태로 보시면 됩니다. \n",
    "\n",
    "즉 이런 방법을 통해 다양한 속성을 추가할 수 있게 됩니다. 다음 예를 한 번 더 살펴보면 이해가 쉬운 것입니다."
   ]
  },
  {
   "cell_type": "markdown",
   "metadata": {},
   "source": [
    "####  _클래스에 속성을 추가하는 코드_"
   ]
  },
  {
   "cell_type": "code",
   "execution_count": null,
   "metadata": {},
   "outputs": [],
   "source": [
    "# 여러 속성을 클래스에 추가하는 코드\n",
    "\n",
    "class car2:\n",
    "    def __init__(self, color,name, plate) :\n",
    "        self.color = color\n",
    "        self.carKind = name\n",
    "        self.plate = plate\n",
    "        \n",
    "    def showColor(self):\n",
    "        print('내 차의 색깔은 {} 입니다'.format(self.color))   \n",
    "        \n",
    "    def displayCar(self) :\n",
    "        self.showColor()         # OK\n",
    "        #car2.showColor(self)  # OK\n",
    "        #showColor(self)          # 에러 발생\n",
    "        print('My Car is {} 이고 차량 번호는 {}'.format(self.carKind, self.plate))          \n",
    "\n",
    "myCar1  = car2('Red', 'BMW', '33라3333')\n",
    "myCar1.displayCar();print('\\n')\n",
    "\n",
    "myCar2  = car2('Black', 'Audi', '01라0000')\n",
    "myCar2.displayCar()\n",
    "        "
   ]
  },
  {
   "cell_type": "code",
   "execution_count": null,
   "metadata": {},
   "outputs": [],
   "source": [
    "# 여러 속성을 클래스에 추가하는 코드\n",
    "\n",
    "class car2:\n",
    "    def __init__(self, color,name, plate) :\n",
    "        self.color = color\n",
    "        self.carKind = name\n",
    "        self.plate = plate\n",
    "        \n",
    "    def showColor(self):\n",
    "        print('내 차의 색깔은 {} 입니다'.format(self.color))\n",
    "        \n",
    "    def displayCar(self) :\n",
    "        self.showColor()         # OK\n",
    "        print('My Car is {} 이고 차량 번호는 {}'.format(self.carKind, self.plate))\n",
    "        \n",
    "myCar  = car2('Red', 'BMW', '33라3333')\n",
    "myCar.displayCar();print('\\n')        "
   ]
  },
  {
   "cell_type": "markdown",
   "metadata": {},
   "source": [
    "#### _클래스의 속성 접근 제한_  "
   ]
  },
  {
   "cell_type": "markdown",
   "metadata": {},
   "source": [
    "지금까지 클래스 속성을 다루면서 self 인자 또는 인스턴스 객체로 접근이 가능했습니다. 하지만 객체지향 프로그래밍에서는 되도록이면 클래스 속성에 대해서 \n",
    "\n",
    "직접적이면서 임의적으로 접근하여 수정하는 것을 지양하고 있습니다. 그래서 클래스 내부에서는 기존 방식대로 속성에 접근할 수 있지만 클래스 외부에서는\n",
    "\n",
    "정해진 인터페이스로만 접근할 수 있도록 하는것을 기본적인 구현 방식으로 합니다. 우선 외부에서 접근하는 막기 위해 클래스 속성을 private 으로 바꾸어야 \n",
    "\n",
    "합니다. **방법은 속성값 앞에만** 밑줄 두개를 붙여주면 됩니다. \n",
    "\n",
    "<br>\n",
    "\n",
    "~~~python\n",
    "\n",
    " class book :\n",
    "     def __init__(self, name) :\n",
    "         self.__name  = name\n",
    "     \n",
    "     def display(self) :\n",
    "         print('Book Name :', self.__name)\n",
    "            \n",
    "~~~\n",
    "\n",
    "<br>\n",
    "위의 코드처럼 앞에만 밑줄 두번을 설정해주면 됩니다. 앞뒤로 밑줄을 해주면 안됩니다. 이렇게 클래스의 속성을 private 으로 설정하면 이제까지 해왔던 \n",
    "\n",
    "접근 방식은 허용되지 않으며 속성값에  변경이 일어나지 않습니다. \n",
    "\n",
    " ~~~python\n",
    "self.__name = 'Python'\n",
    " ~~~"
   ]
  },
  {
   "cell_type": "markdown",
   "metadata": {},
   "source": [
    "#### _인스턴스 변수의 속성을 private 설정_ - 변수명 앞에 이중 밑줄을 표시하면 됨"
   ]
  },
  {
   "cell_type": "code",
   "execution_count": null,
   "metadata": {},
   "outputs": [],
   "source": [
    "# 인스턴스 변수의 속성을 private 설정\n",
    "\n",
    "class book :\n",
    "    \n",
    "    def __init__(self, name) :\n",
    "        self.__name  = name\n",
    "        \n",
    "    def display(self) :\n",
    "        print('Book Name :', self.__name)\n",
    "        \n",
    "        \n",
    "myBook = book('CPP')\n",
    "myBook.__name = 'python'\n",
    "\n",
    "myBook.display()"
   ]
  },
  {
   "cell_type": "markdown",
   "metadata": {},
   "source": [
    "클래스의 속성에 priavate 외에도 protected 라는 접근 제한자가 있습니다. 일반적으로 객체지향 프로그래밍에서 protected 속성은 속성이 정의된 클래스와 \n",
    "\n",
    "자식클래스/서브클래스내에서만 접근이 가능한 제한자입니다. 표현은  단일 밑줄을 변수앞에 표시하면 됩니다. 그러나 파이썬에서 이 protected 제한자는\n",
    "\n",
    "실제적으로 아무런 제한이 없습니다. 명목상으로만 존재하는 접근 제한자입니다. 다만 코드를 작성하는 프로그래머의 의중을 표시하는 의미로 쓸 수 있기 때문에\n",
    "\n",
    "이런 제한자가 있는 속성도 직접적으로 변경을 가하는 작업을 지양해야 겠습니다.\n",
    "\n",
    "다음 코드는 private 속성은 변경이 되지 않지만 protected 속성은 값이 변경이 되고 있습니다."
   ]
  },
  {
   "cell_type": "markdown",
   "metadata": {},
   "source": [
    "#### _protected 속성은 명목상 존재하는 제한자이며 접근에 아무런 제한을 가하지 못함_"
   ]
  },
  {
   "cell_type": "code",
   "execution_count": null,
   "metadata": {},
   "outputs": [],
   "source": [
    "# protected 속성은 명목상 존재하는 제한자이며 접근에 아무런 제한을 가하지 못하기 때문에 \n",
    "# 값의 변경이 일어나고 있음\n",
    "\n",
    "class book :\n",
    "    def __init__(self, name, name2) :\n",
    "        self.__name  = name         # private\n",
    "        self._name2 = name2       # protected\n",
    "    def display(self) :\n",
    "        print('Book Name1 :', self.__name)\n",
    "        print('Book Name2 :', self._name2)\n",
    "        \n",
    "        \n",
    "myBook = book('Cpp', 'Java')\n",
    "myBook.__name = 'python'\n",
    "myBook._name2 = 'python'\n",
    "\n",
    "myBook.display()"
   ]
  },
  {
   "cell_type": "markdown",
   "metadata": {},
   "source": [
    "<br>\n",
    "\n",
    "#### _클래스 유효 범위_"
   ]
  },
  {
   "cell_type": "markdown",
   "metadata": {},
   "source": [
    "\n",
    "클래스내에 정의된 여러 함수들이 존재하고 있는 상태에서 어떤 함수가 다른 함수를 참조할때는 같은 클래스내의 함수들이라 할지다도 self 한정자를 이용하여 \n",
    "\n",
    "호출하여야만 에러가 발생하지 않는다. \n",
    "\n",
    "파이썬에서는 클래스내애 생성된 함수나 변수에 대해서 C++ 이나 자바처럼 **클래스 영역에 대한 유효 범위를 보장해주지 않기때문에 발생하는 문제**입니다. "
   ]
  },
  {
   "cell_type": "markdown",
   "metadata": {},
   "source": [
    "#### 10.1.3. 클래스 변수 vs 인스턴스 변수"
   ]
  },
  {
   "cell_type": "markdown",
   "metadata": {},
   "source": [
    "클래스내에 정의할수 있는 변수의 타입은 크게 클래스 변수와 인스턴스 변수로 나눌 수 있습니다. 인스턴스 변수는 \\___init___( ) 함수내에서 추가되는 속성을 바탕으로\n",
    "\n",
    "생성되는 변수 타입입니다. 이제까지 우리가 살펴본 코드가 전부 인스턴스 변수 타입을 다뤄왔습니다. \n",
    "\n",
    "인스턴스 변수는 각 생성된 인스턴트에 따라 다양한 값을 가지고 있게 됩니다. \n",
    "\n",
    "클래스 변수는 아래 코드를 보시면 owner = 'Brown' 이라고 설정된 변수가 있습니다. 이 owner 라고 변수는 이 클래스를 바탕으로 생성된 인스턴스들이 공유하는\n",
    "\n",
    "변수가 됩니다. 즉 같은 값을 가지고 있게 된다는 것입니다. 어떤 인스턴스가 이 값을 변경시키면 다른 인스턴스도 변경된 똑같은 값을 가지게 됩니다. \n",
    "\n",
    "이런 변수들의 특성을 바탕으로 인스턴스사이에 공통된 변수가 필요할 경우에는 클래스 변수로 설정하고 그 이외는 경우에는 인스턴스 변수로 설정하면 됩니다. \n"
   ]
  },
  {
   "cell_type": "markdown",
   "metadata": {},
   "source": [
    "#### _클래스 변수 vs  인스턴스 변수 관련 예제_"
   ]
  },
  {
   "cell_type": "code",
   "execution_count": null,
   "metadata": {},
   "outputs": [],
   "source": [
    "# 클래스 변수 vs 인스턴스 변수 관련 예제\n",
    "\n",
    "class car3:\n",
    "    owner = 'Brown'  # <= 클래스 변수\n",
    "    \n",
    "    def __init__(self, color) :\n",
    "        self.color = color\n",
    "        \n",
    "    def showColor(self):\n",
    "        print('내 차의 색깔은 {} 입니다'.format(self.color))\n",
    "                \n",
    "    def changeOwner(self, newOwner) :\n",
    "        car3.owner = newOwner\n",
    "                \n",
    "myCar1  = car3('Red')\n",
    "myCar2  = car3('Black')\n",
    "print('Car1 주인 : {},  Car2 주인 : {}'.format(myCar1.owner, myCar2.owner))\n",
    "\n",
    "myCar2.changeOwner('Michel')\n",
    "print('Car1 주인 : {},  Car2 주인 : {}'.format(myCar1.owner, myCar2.owner))"
   ]
  },
  {
   "cell_type": "markdown",
   "metadata": {},
   "source": [
    "#### 10.1.4. 정적 메소드 ( static method )"
   ]
  },
  {
   "cell_type": "markdown",
   "metadata": {},
   "source": [
    " 일반적으로 클래스에 정의된 메소드를 호출할 때에는 인스턴스를 이용하였습니다. 그러나 클래스의 특성상 굳이 인스턴스를 생성하지 않고 바로 클래스명을 이용하여\n",
    " \n",
    " 호출하는 것이 편리한 경우도 있습니다. 이렇게 클래스에서 바로 메소드를 호출하여 이용할 수 있는 메소드를 정적 메소드라고 합니다. \n",
    " \n",
    " 정적 메소드는 @staticmethod 를 통해 정의가 되며 이 사항은 나중에 다시 다뤄지기 때문에 지금은 이런 방법으로 정의한다라고 알고 있으면 됩니다. \n",
    " \n",
    " 또한 정정 메소드는 클래스 메소드 정의시 항상 할당하던 self 인자가 필요하지 않습니다.  기본 형식은 다음과 같습니다.\n",
    " \n",
    " ~~~python\n",
    "class adder :\n",
    "    @staticmethod\n",
    "    def add(a, b) :\n",
    "        return a+b\n",
    " ~~~\n",
    " "
   ]
  },
  {
   "cell_type": "markdown",
   "metadata": {},
   "source": [
    "#### _정적 메소드 예제_"
   ]
  },
  {
   "cell_type": "markdown",
   "metadata": {},
   "source": [
    "아래와 같은 클래스는 단지  두 수의 덧셈 연산만을 제공하는게 주 임무이므로 굳이 객체까지 생성할 필요는 없습니다. 이런 경우에는 정적 메소드로 호출하는게 \n",
    "\n",
    "더 편리한 경우입니다."
   ]
  },
  {
   "cell_type": "code",
   "execution_count": null,
   "metadata": {},
   "outputs": [],
   "source": [
    "class adder :\n",
    "    @staticmethod\n",
    "    def add(a,b) :\n",
    "        return a+b\n",
    "    \n",
    "sum = adder.add(1,3)\n",
    "print(sum)"
   ]
  },
  {
   "cell_type": "markdown",
   "metadata": {},
   "source": [
    "#### 10.1.5. 클래스 메소드"
   ]
  },
  {
   "cell_type": "markdown",
   "metadata": {},
   "source": [
    "클래스 메소드는 정적 메소드와 호출방식이나 사용방법이 아주 유사합니다. 그리고 self 인자가 필요없다는 사실도 동일합니다. 다만 self 인자 대신 cls 라는 인자를\n",
    "\n",
    "대신 할당해주어야합니다.\n",
    "\n",
    "기본 형식은 다음과 같습니다. \n",
    "\n",
    "~~~python\n",
    "class bookStore :\n",
    "    storeSign = 'BookStore'\n",
    "    @classmethod\n",
    "    def showName(cls) :\n",
    "        print('Store Name : ', cls.storeSign)\n",
    "        \n",
    "bookStore.showName()\n",
    "~~~"
   ]
  },
  {
   "cell_type": "markdown",
   "metadata": {},
   "source": [
    "#### _클래스 메소드 예제_"
   ]
  },
  {
   "cell_type": "code",
   "execution_count": null,
   "metadata": {},
   "outputs": [],
   "source": [
    "class bookStore :\n",
    "    storeSign = 'BookStore'\n",
    "    \n",
    "    @classmethod\n",
    "    def showName(cls) :\n",
    "        print('Store Name : ', cls.storeSign)\n",
    "        \n",
    "bookStore.showName()"
   ]
  },
  {
   "cell_type": "markdown",
   "metadata": {},
   "source": [
    "### 10.2. 클래스 상속"
   ]
  },
  {
   "cell_type": "markdown",
   "metadata": {},
   "source": [
    "<img src=\"./images/inheritance.png\"  height= 250 width=250/> "
   ]
  },
  {
   "cell_type": "markdown",
   "metadata": {},
   "source": [
    "클래스 상속은 기존에 이미 정의된 클래스의 속성과 동작을 물려받기 때문에  유사한 기능을 재작성할 필요도 없게 하며 추가 기능만 구현하면 되기 때문에 코드의\n",
    "\n",
    "유지 보수 및 코드의 관리가 용이하게 됩니다. 이때 이미 정의된 클래스를 베이스 클래스/부모 클래스/상위 클래스 라고 하며 이 클래스를 기반으로 새로 생성되는\n",
    "\n",
    "클래스를 서브 클래스/자식 클래스라고 합니다. \n",
    "\n",
    "기본 구현 형태는 다음과 같습니다\n",
    "\n",
    "~~~python\n",
    "class 베이스클래스 :\n",
    "    코드\n",
    "~~~\n",
    "\n",
    "위와 같은 클래스가 있을 경우에 이 클래스를 기반으로 상속된 클래스는 다음과 같이 구현될 수 있습니다.\n",
    "\n",
    "~~~python\n",
    "class 서브클래스(베이스클래스) :\n",
    "    코드\n",
    "~~~\n",
    "\n"
   ]
  },
  {
   "cell_type": "markdown",
   "metadata": {},
   "source": [
    "먼저 우리는 베이스 클래스(부모 클래스)부터 정의하도록 합시다. 이 클래스는 기본적인 사람들의 행위를 포함하고 있습니다. 밥먹기, 잠자기 등등."
   ]
  },
  {
   "cell_type": "code",
   "execution_count": null,
   "metadata": {},
   "outputs": [],
   "source": [
    "class parent :\n",
    "    def __init__(self, name='Parent', address='서울') :\n",
    "        self.name = name\n",
    "        self.address = address\n",
    "        print(self.name, ', ',address)\n",
    "    def eat(self) :\n",
    "        print('밥먹기')\n",
    "    def sleep(self) :\n",
    "        print('잠자기')\n",
    "        \n",
    "myParent = parent()\n",
    "myParent.eat()\n",
    "myParent.sleep() ; "
   ]
  },
  {
   "cell_type": "markdown",
   "metadata": {},
   "source": [
    "#### _클래스 상속을 통해 베이스 클래스 ( 부모클래스 ) 의  성질을 물려받습니다._"
   ]
  },
  {
   "cell_type": "code",
   "execution_count": null,
   "metadata": {},
   "outputs": [],
   "source": [
    "class parent :\n",
    "    def __init__(self, name='Parent', address='서울') :\n",
    "        self.name = name\n",
    "        self.address = address\n",
    "        print(self.name, ', ',address)\n",
    "    def eat(self) :\n",
    "        print('밥먹기')\n",
    "    def sleep(self) :\n",
    "        print('잠자기')\n",
    "        \n",
    "class child(parent) :\n",
    "    def __init__(self,name ='Child') :\n",
    "        self.name = name\n",
    "        print(self.name)\n",
    "\n",
    "me = child()\n",
    "me.eat()\n",
    "me.sleep()"
   ]
  },
  {
   "cell_type": "markdown",
   "metadata": {},
   "source": [
    "#### _서브클래스 ( 자식 클래스 ) 만의 특성 추가하기_"
   ]
  },
  {
   "cell_type": "markdown",
   "metadata": {},
   "source": [
    "베이스 클래스(부모클래스)에서 물려받은 특성이외에 서브클래스(자식클래스)만 갖고 있는 속성이나 행위가 있을 수 있습니다. 그 경우에는 서브클래스에 구현하면\n",
    "\n",
    "됩니다. 위 코드에서 서브클래스에 playGame( ) 이라는 함수를 추가하겠습니다. 그럼 이 함수는 베이스 클래스가 아닌 서브 클래스만의 특성이므로 \n",
    "\n",
    "베이스클래스에서는 호출할 수 없습니다."
   ]
  },
  {
   "cell_type": "code",
   "execution_count": null,
   "metadata": {},
   "outputs": [],
   "source": [
    "class parent :\n",
    "    def __init__(self, name='Parent', address='서울') :\n",
    "        self.name = name\n",
    "        self.address = address\n",
    "        print(self.name, ', ',address)\n",
    "    def eat(self) :\n",
    "        print('밥먹기')\n",
    "    def sleep(self) :\n",
    "        print('잠자기')\n",
    "\n",
    "class child(parent) :\n",
    "    def __init__(self,name ='Child') :\n",
    "        self.name = name\n",
    "        print(self.name)\n",
    "    def playGame(self, game) :\n",
    "        self.gameName = game\n",
    "        print('게임 종류 : ', self.gameName)\n",
    "\n",
    "me = child()\n",
    "me.playGame('리니지')"
   ]
  },
  {
   "cell_type": "markdown",
   "metadata": {},
   "source": [
    "#### _베이스 클래스 (부모 클래스) 속성 (변수)  이용하기_"
   ]
  },
  {
   "cell_type": "markdown",
   "metadata": {},
   "source": [
    "이제 베이스 클래스의 메소드가 어떻게 호출될 수 있는지 알아보았습니다. 그럼 베이스 클래스의 속성을 어떻게 쓸 수 있는지 알아보도록 하겠습니다. \n",
    "\n",
    "베이스 클래스에는 사는 주소지는 나타내는 속성인 address 가 있습니다. 그래서 서브 클래스(자식클래스)에서 그 값을 활용하는 메소드를 추가하여 호출하겠습니다.\n",
    "\n",
    "showAddress( ) 라는 함수를 서브 클래스에 추가한 후 호출하여 봅니다.\n"
   ]
  },
  {
   "cell_type": "code",
   "execution_count": 93,
   "metadata": {
    "scrolled": true
   },
   "outputs": [
    {
     "name": "stdout",
     "output_type": "stream",
     "text": [
      "Child\n"
     ]
    },
    {
     "ename": "AttributeError",
     "evalue": "'child' object has no attribute 'address'",
     "output_type": "error",
     "traceback": [
      "\u001b[0;31m---------------------------------------------------------------------------\u001b[0m",
      "\u001b[0;31mAttributeError\u001b[0m                            Traceback (most recent call last)",
      "\u001b[0;32m<ipython-input-93-7b306b40d298>\u001b[0m in \u001b[0;36m<module>\u001b[0;34m()\u001b[0m\n\u001b[1;32m     21\u001b[0m \u001b[0;34m\u001b[0m\u001b[0m\n\u001b[1;32m     22\u001b[0m \u001b[0mme\u001b[0m \u001b[0;34m=\u001b[0m \u001b[0mchild\u001b[0m\u001b[0;34m(\u001b[0m\u001b[0;34m)\u001b[0m\u001b[0;34m\u001b[0m\u001b[0m\n\u001b[0;32m---> 23\u001b[0;31m \u001b[0mme\u001b[0m\u001b[0;34m.\u001b[0m\u001b[0mshowAddress\u001b[0m\u001b[0;34m(\u001b[0m\u001b[0;34m)\u001b[0m\u001b[0;34m\u001b[0m\u001b[0m\n\u001b[0m",
      "\u001b[0;32m<ipython-input-93-7b306b40d298>\u001b[0m in \u001b[0;36mshowAddress\u001b[0;34m(self)\u001b[0m\n\u001b[1;32m     18\u001b[0m         \u001b[0mprint\u001b[0m\u001b[0;34m(\u001b[0m\u001b[0;34m'게임 종류 : '\u001b[0m\u001b[0;34m,\u001b[0m \u001b[0mself\u001b[0m\u001b[0;34m.\u001b[0m\u001b[0mgameName\u001b[0m\u001b[0;34m)\u001b[0m\u001b[0;34m\u001b[0m\u001b[0m\n\u001b[1;32m     19\u001b[0m     \u001b[0;32mdef\u001b[0m \u001b[0mshowAddress\u001b[0m\u001b[0;34m(\u001b[0m\u001b[0mself\u001b[0m\u001b[0;34m)\u001b[0m \u001b[0;34m:\u001b[0m\u001b[0;34m\u001b[0m\u001b[0m\n\u001b[0;32m---> 20\u001b[0;31m         \u001b[0mprint\u001b[0m\u001b[0;34m(\u001b[0m\u001b[0;34m'사는 곳 : '\u001b[0m\u001b[0;34m,\u001b[0m \u001b[0mself\u001b[0m\u001b[0;34m.\u001b[0m\u001b[0maddress\u001b[0m\u001b[0;34m)\u001b[0m\u001b[0;34m\u001b[0m\u001b[0m\n\u001b[0m\u001b[1;32m     21\u001b[0m \u001b[0;34m\u001b[0m\u001b[0m\n\u001b[1;32m     22\u001b[0m \u001b[0mme\u001b[0m \u001b[0;34m=\u001b[0m \u001b[0mchild\u001b[0m\u001b[0;34m(\u001b[0m\u001b[0;34m)\u001b[0m\u001b[0;34m\u001b[0m\u001b[0m\n",
      "\u001b[0;31mAttributeError\u001b[0m: 'child' object has no attribute 'address'"
     ]
    }
   ],
   "source": [
    "class parent :\n",
    "    def __init__(self, name='Parent', address='서울') :\n",
    "        self.name = name\n",
    "        self.address = address\n",
    "        print(self.name, ', ',address)\n",
    "    def eat(self) :\n",
    "        print('밥먹기')\n",
    "    def sleep(self) :\n",
    "        print('잠자기')\n",
    "        \n",
    "\n",
    "class child(parent) :\n",
    "    def __init__(self,name ='Child') :\n",
    "        self.name = name\n",
    "        print(self.name)\n",
    "    def playGame(self, game) :\n",
    "        self.gameName = game\n",
    "        print('게임 종류 : ', self.gameName)\n",
    "    def showAddress(self) :\n",
    "        print('사는 곳 : ', self.address)\n",
    "\n",
    "me = child()\n",
    "me.showAddress()\n"
   ]
  },
  {
   "cell_type": "markdown",
   "metadata": {},
   "source": [
    "우리가 원하는 결과를 얻었나요 ? child 클래스에 address 라는 속성이 없다고 에러가 납니다. 당연히 상속받았기 때문에 당연히 정상적으로 처리가 될 것이라\n",
    "\n",
    "예상했지만 그렇지 않습니다. \n",
    "\n",
    "그 이유는 address 속성이 베이스 클래스의 __init__() 함수에서 인스턴스가 생성이 되면서 만들어집니다. 따라서 서브 클래스(자식 클래스)의 __init__() 함수에서\n",
    "\n",
    "베이스 클래스(부모 클래스) 의  __init__() 함수를 호출해주어야 정상적으로 속성을 활용할 수 있습니다.  베이스 클래스(부모 클래스)를 호출하는 함수가\n",
    "\n",
    "super() 입니다. 아래 예제에서 확인해보세요"
   ]
  },
  {
   "cell_type": "code",
   "execution_count": 87,
   "metadata": {},
   "outputs": [
    {
     "name": "stdout",
     "output_type": "stream",
     "text": [
      "Parent ,  서울\n",
      "Child\n",
      "사는 곳 :  서울\n"
     ]
    }
   ],
   "source": [
    "class parent :\n",
    "    def __init__(self, name='Parent', address='서울') :\n",
    "        self.name = name\n",
    "        self.address = address\n",
    "        print(self.name, ', ',address)\n",
    "    def eat(self) :\n",
    "        print('밥먹기')\n",
    "    def sleep(self) :\n",
    "        print('잠자기')\n",
    "        \n",
    "class child(parent) :\n",
    "    def __init__(self,name ='Child') :\n",
    "        super().__init__()\n",
    "        self.name = name\n",
    "        print(self.name)\n",
    "    def playGame(self, game) :\n",
    "        self.gameName = game\n",
    "        print('게임 종류 : ', self.gameName)\n",
    "    def showAddress(self) :\n",
    "        print('사는 곳 : ', self.address)\n",
    "\n",
    "me = child()\n",
    "me.showAddress()"
   ]
  },
  {
   "cell_type": "code",
   "execution_count": 94,
   "metadata": {},
   "outputs": [
    {
     "name": "stdout",
     "output_type": "stream",
     "text": [
      "사는 곳 :  서울\n"
     ]
    }
   ],
   "source": [
    "class parent :\n",
    "    def __init__(self, name='Parent', address='서울') :\n",
    "        self.name = name\n",
    "        self.address = address\n",
    "    def eat(self) :\n",
    "        print('밥먹기')\n",
    "        \n",
    "class child(parent) :\n",
    "    def __init__(self,name ='Child') :\n",
    "        super().__init__()\n",
    "        self.name = name\n",
    " \n",
    "    def showAddress(self) :\n",
    "        print('사는 곳 : ', self.address)\n",
    "\n",
    "me = child()\n",
    "me.showAddress()"
   ]
  },
  {
   "cell_type": "markdown",
   "metadata": {},
   "source": [
    "### 10.3. 메소드 오버라이드(override)"
   ]
  },
  {
   "cell_type": "markdown",
   "metadata": {},
   "source": [
    "객체 지향 프로그램은 상속이라는 과정을 통해 베이스 클래스의 메소드를 서브 클래스가 이용할 수 있습니다. 이로 인해 동일한 코드를 작성할 수고가 없어지고\n",
    "\n",
    "동일한 메소드명을 이용하다보니 코드 분석 및 유지 보수가 용이해집니다. 그런데 상속으로 물려받은 메소드가 서브 클래스의 특성을 제대로 표현하지 못해 \n",
    "\n",
    "수정할 필요가 생길 경우도 있습니다. 이때 메소드 오버라이드가 필요한 경우입니다. 완전히 기능이 다른것도 아니고 유사한 기능일 경우 메소드 명을 그대로 \n",
    "\n",
    "이용하여 중구난방의 함수명을 지을 필요도 없으며 때로는 베이스 클래스의 메소드를 포함하여 보다 확장된 기능으로 구현할 수도 있습니다. \n",
    "\n",
    "서브 클래스에서 베이스 클래스에 정의된 메소드를 오버라이드하기 위해서는 서브 클래스에 베이스 클래스에서 오버라이드하고자 메소드를 동일한 형식대로\n",
    "\n",
    "정의하고 내부 코드를 수정하며 됩니다. \n",
    "\n",
    "메소드 오버라이드 기본 형식은 다음과 같이 구현됩니다.\n",
    "\n",
    "~~~python\n",
    "\n",
    "class parent :\n",
    "    def show(self) :\n",
    "        코드\n",
    "       \n",
    "class child(parent) :\n",
    "    def show(self) :           <= 베이스 클래스에 정의된 형식대로 동일하게 정의하고 내부 코드에서 수정을 함\n",
    "        코드\n",
    "~~~"
   ]
  },
  {
   "cell_type": "markdown",
   "metadata": {},
   "source": [
    "#### _메소드 오버라이드 예제_"
   ]
  },
  {
   "cell_type": "markdown",
   "metadata": {},
   "source": [
    "오버라이드 메소드에서 새로운 코드를 구현하고 때로는 베이스 클래스의 기능이 필요하다면 super() 함수를 통해 베이스 클래스에 구현된 기능을 이용해도 됩니다."
   ]
  },
  {
   "cell_type": "code",
   "execution_count": null,
   "metadata": {},
   "outputs": [],
   "source": [
    "class vehicle :\n",
    "    def __init__(self, name = 'vehicle') :\n",
    "        self.name = name\n",
    "    def start(self) :\n",
    "        print('출발한다')\n",
    "        \n",
    "class schoolBus(vehicle) :\n",
    "    def __init__(self, name='버스') :\n",
    "        self.name = name\n",
    "    def start(self) :\n",
    "        print('먼저 안전을 확인한다')\n",
    "        super().start()\n",
    "        \n",
    "ourSchoolBus = schoolBus()\n",
    "ourSchoolBus.start()        "
   ]
  },
  {
   "cell_type": "markdown",
   "metadata": {},
   "source": [
    "### 10.4. 추상 클래스(abstract class)"
   ]
  },
  {
   "cell_type": "markdown",
   "metadata": {},
   "source": [
    "추상 클래스는 구현되지 않은 메소드의 모임으로 구성된 클래스입니다. 상속받은 서브 클래스에서는 추상 클래스에 정의된 메소드를 전부 구현해야 합니다.\n",
    "\n",
    "근데 왜 이런 추상 클래스가 있어야 할까요? 메소드 구현 내용이 상속 받는 서브 클래스에 따라 다양할 경우가 있기 때문에 프로그램 전체적으로 통일된 인터페이스를 \n",
    "\n",
    "유지하면서도 각기 다른 구현을 할 수 있도록 하기 위함입니다.\n",
    "\n",
    "추상 클래스를 정의하기 위해서는 다음과 같은 기본 형식을 따릅니다.\n",
    "\n",
    "~~~python\n",
    "\n",
    "from abc import *\n",
    "\n",
    "class 추상클래스명(metaclass=ABCMeta) :\n",
    "    @abstractmethod\n",
    "    def 메소드명(self) :\n",
    "        pass\n",
    "        \n",
    "~~~"
   ]
  },
  {
   "cell_type": "markdown",
   "metadata": {},
   "source": [
    "#### _추상 클래스 관련 예제_"
   ]
  },
  {
   "cell_type": "code",
   "execution_count": null,
   "metadata": {},
   "outputs": [],
   "source": [
    "from abc import *\n",
    "\n",
    "class peopleWork(metaclass=ABCMeta) :\n",
    "    @abstractmethod\n",
    "    def work(self) :\n",
    "        pass\n",
    "    \n",
    "class programmer(peopleWork) :\n",
    "    def __init__(self,name='Brown') :\n",
    "        self.name = name\n",
    "    def work(self) :\n",
    "        print(self.name, ' : coding')\n",
    "        \n",
    "class teacher(peopleWork) :\n",
    "    def __init__(self, name='Michel') :\n",
    "        self.name = name\n",
    "    def work(self) :\n",
    "        print(self.name,' : teaching')\n",
    "        \n",
    "me = programmer()\n",
    "me.work()\n",
    "\n",
    "you = teacher()\n",
    "you.work()"
   ]
  },
  {
   "cell_type": "markdown",
   "metadata": {},
   "source": [
    "*************"
   ]
  },
  {
   "cell_type": "markdown",
   "metadata": {},
   "source": [
    "**************\n",
    "## 11. 파일 "
   ]
  },
  {
   "cell_type": "markdown",
   "metadata": {},
   "source": [
    "지금까지 input( ) / print( ) 함수를 이용해서 화면상에서 자료들을 입력받고 출력하는 방식만을 다뤄왔습니다.  그러나 처리할 자료는 컴퓨터에 저장되어 있는 파일에서\n",
    "\n",
    "읽어올 수도 있으며 처리한 결과는 파일에 저장할 수도 있습니다. 즉 입출력하는 방식에 대해서 화면 입출력만이 아닌 다른 방법, 즉 파일에 대해서 다뤄보고자 합니다."
   ]
  },
  {
   "cell_type": "markdown",
   "metadata": {},
   "source": [
    "### 11.1. 파일 다루기"
   ]
  },
  {
   "cell_type": "markdown",
   "metadata": {},
   "source": [
    "우선 파일 생성에 대해서 알아보도록 합시다. 파일을 생성하는 이유는 우리가 다루는 자료들을 저장하기 위해서입니다. 화면 출력은 화면창이 닫히면 결과물이 \n",
    "\n",
    "없어지지만 파일에 저장하면 원할때마다 불러와서 처리하거나 다시 확인할 수가 있습니다. \n",
    "\n",
    "우선 파일을 생성하기 위한 기본 코드는 다음과 같습니다.\n",
    "\n",
    "~~~python\n",
    "\n",
    "파일객체변수 = open('파일명', 파일 생성모드)\n",
    "\n",
    "파일객체변수.close()\n",
    "\n",
    "~~~\n",
    "<br>\n",
    "\n",
    "파일 생성시 기본적으로 알아야할 사항은 파일이라는 것은 시스템 자원을 사용하는 행위입니다. 그래서 파일생성후 관련 처리를 다 한뒤에는 위에서 처럼 close( ) 라는\n",
    "\n",
    "함수를 호출하여 생성되어진 파일을 닫아주어야만 합니다. 물론 파이썬 앱이 종료하면 관련 리소스는 자동으로 해제가 됩니만 앱이 종료전에 닫히기 않은 파일에 \n",
    "\n",
    "대해서 접근하면 에러가 발생하기 때문에 관련 파일에 대한 처리가 끝난 뒤에는 close( ) 함수를 호출하여 닫아주도록 합니다.\n",
    "\n",
    "open( ) 함수에 설정해주어야 하는 입력 매개 변수는  파일명과 함께 파일 생성 모드입니다. 파일명은 말 그대로 생성할려고 하는 파일명을 설정해주면 됩니다.\n",
    "\n",
    "그리고 파일 생성 모드는 이 파일을 생성하면서 혹은 기존 파일을 여는 과정에서 이 파일에 대해서 앞으로 어떤 작업을 할 것인가에 대해서 설정을 하는 곳입니다. \n",
    "\n",
    "단지 파일을 수정하지 않고 읽기만 하는 읽기 모드, 파일에 내용을 쓸수도 있는 쓰기 모드, 또는 기존 내용의 맨 마지막부터 새로운 내용을 추가하는 추가 모드등을 \n",
    "\n",
    "설정할 수 있습니다. \n",
    "\n",
    "\n",
    "\n",
    "|<center>파일 모드</center>|<center>내용</center>|\n",
    "| :----------:|:-----------:|\n",
    "| 'w'     | 쓰기 모드  |\n",
    "| 'r'     | 읽기 모드   |\n",
    "| 'a'     | 추가 모드   |\n",
    "\n",
    "<br>\n",
    "\n",
    "\n",
    "open( ) 함수는 호출시에 파일명을 입력값으로 받으며 동일한 파일명을 가진 파일이 없으면 새로 생성하는 역할을 합니다. 다만 동일한 파일명을 가진 기존 파일이 있을\n",
    "\n",
    "경우에는 기존 파일을 열면서  쓰기 모드로 설정을 하면 동일한 파일명을 가진 파일이 갖고 있는 내용을 모두 생략한 채 파일을 열고 추가 모드로 설정되어 있으면\n",
    "\n",
    "기존 파일의 내용을 그대로 갖고 오면서 맨 뒤에 추가할 수 있도록 합니다. \n"
   ]
  },
  {
   "cell_type": "markdown",
   "metadata": {},
   "source": [
    "#### _파일 생성, 쓰기, 닫기 예제_"
   ]
  },
  {
   "cell_type": "code",
   "execution_count": null,
   "metadata": {},
   "outputs": [],
   "source": [
    "# 파일 생성 / 닫기 / 쓰기\n",
    "\n",
    "myFile = open('testFile.txt', 'w')\n",
    "\n",
    "myFile.write('처음으로 파일을 만들었습니다.\\n')\n",
    "myFile.write('정말 되나요?\\n')\n",
    "myFile.write('파이썬 최고\\n')\n",
    "myFile.write('그만 쓰겠습니다.\\n')\n",
    "\n",
    "myFile.close()\n"
   ]
  },
  {
   "cell_type": "markdown",
   "metadata": {},
   "source": [
    "#### _파일 읽어오기 예제 1_"
   ]
  },
  {
   "cell_type": "code",
   "execution_count": null,
   "metadata": {},
   "outputs": [],
   "source": [
    "# 파일 읽기 1 - readline( ) 을 이용하여 한 줄씩 읽어오기\n",
    "\n",
    "myFile = open('testFile.txt', 'r')\n",
    "\n",
    "while True:\n",
    "    line = myFile.readline()\n",
    "    if not line: break\n",
    "    print(line, end='')\n",
    "        \n",
    "myFile.close()"
   ]
  },
  {
   "cell_type": "markdown",
   "metadata": {},
   "source": [
    "#### _파일 읽어오기 예제 2_"
   ]
  },
  {
   "cell_type": "code",
   "execution_count": null,
   "metadata": {},
   "outputs": [],
   "source": [
    "# 파일 읽기 2 - readlines( ) 을 이용하여  한꺼번에 읽어오기\n",
    "\n",
    "myFile = open('testFile.txt', 'r')\n",
    "\n",
    "lines =  myFile.readlines()\n",
    "\n",
    "for line in lines :\n",
    "    print(line, end='')\n",
    "        \n",
    "myFile.close()"
   ]
  },
  {
   "cell_type": "markdown",
   "metadata": {},
   "source": [
    "#### _파일 읽어오기 예제 3_"
   ]
  },
  {
   "cell_type": "code",
   "execution_count": null,
   "metadata": {},
   "outputs": [],
   "source": [
    "# 파일 읽기 2 - read( ) 을 이용하여  한꺼번에 읽어오기\n",
    "\n",
    "myFile = open('testFile.txt', 'r')\n",
    "\n",
    "contents =  myFile.read()\n",
    "\n",
    "print(contents)\n",
    "        \n",
    "myFile.close()"
   ]
  },
  {
   "cell_type": "markdown",
   "metadata": {},
   "source": [
    "#### _파일에 새로운 내용 추가하기_"
   ]
  },
  {
   "cell_type": "code",
   "execution_count": null,
   "metadata": {},
   "outputs": [],
   "source": [
    "# 파일에 새로운 내용 추가하기\n",
    "\n",
    "myFile = open('testFile.txt', 'a')\n",
    "myFile.write('정말 새로운 내용이 추가가가 되나요?.\\n')\n",
    "myFile.write('확인하고 싶어요.\\n')\n",
    "myFile.close()\n",
    "\n",
    "myFile = open('testFile.txt', 'r')\n",
    "lines =  myFile.readlines()\n",
    "\n",
    "for line in lines :\n",
    "    print(line, end='')\n",
    "        \n",
    "myFile.close()"
   ]
  },
  {
   "cell_type": "markdown",
   "metadata": {},
   "source": [
    "#### 11.2. with open( ) as f : 구문 이용하기"
   ]
  },
  {
   "cell_type": "markdown",
   "metadata": {},
   "source": [
    "파일 객체를 다룰시 해당 작업을 마치면 파일을 명시적으로 닫아주어야 합니다. 이런 부수적인 작업을 좀 더 편리하게 해주는 구문이 지금 다루고자 하는 것입니다.\n",
    "\n",
    "~~~python\n",
    "\n",
    "with open('파일명', 생성모드) as 파일객체명 : \n",
    "    코드 작성\n",
    "    ----\n",
    "    ----\n",
    "~~~\n",
    "\n",
    "\n",
    "위 구문을 이용하면 with 블록을 벗어나면  파일 객체명에 저장된 파일이 자동으로 닫히게 됩니다. 즉 명시적으로 지금부터는 close( ) 함수를 호출할 필요가 없기\n",
    "\n",
    "때문에 이후부터는 이 구문을 주로 이용하는 것이 잠재적인 파일 닫기 에러를 방지할 수 있는 방법이 될 수 있습니다.\n"
   ]
  },
  {
   "cell_type": "markdown",
   "metadata": {},
   "source": [
    "#### _with open( )  as f : 구문 예제_"
   ]
  },
  {
   "cell_type": "code",
   "execution_count": null,
   "metadata": {},
   "outputs": [],
   "source": [
    "# with open( ) as 파일 객체 변수 : \n",
    "\n",
    "with open('testFile.txt', 'w') as myFile :\n",
    "    myFile.write('처음으로 파일을 만들었습니다.\\n')\n",
    "    myFile.write('정말 되나요?\\n')\n",
    "    myFile.write('파이썬 최고\\n')\n",
    "    myFile.write('그만 쓰겠습니다.\\n')\n",
    "\n",
    "    \n",
    "with open('testFile.txt', 'r') as myFile:\n",
    "    while True:\n",
    "        line = myFile.readline()\n",
    "        if not line: break\n",
    "        print(line, end='')\n",
    "        "
   ]
  },
  {
   "cell_type": "markdown",
   "metadata": {},
   "source": [
    "### 11.2. pickle 이용하기"
   ]
  },
  {
   "cell_type": "markdown",
   "metadata": {},
   "source": [
    "pickle 모듈은 바이너리 형태로 파일에 저장하고 읽어들일수 있는 기능을 지원하는 라이브러리입니다. "
   ]
  },
  {
   "cell_type": "code",
   "execution_count": null,
   "metadata": {},
   "outputs": [],
   "source": [
    "import pickle\n",
    "\n",
    "myDic = {'Jeju':100, 'Busan':200, 'Seou':300, 'Jinju':400}\n",
    "myList = ['Korea', 'USA', 'China', 'Japan']\n",
    "\n",
    "with open('pickleData.pk', 'wb') as f:\n",
    "    pickle.dump(myDic, f, pickle.HIGHEST_PROTOCOL)\n",
    "    pickle.dump(myList, f, pickle.HIGHEST_PROTOCOL)\n",
    "\n",
    "with open('pickleData.pk', 'rb') as f:    \n",
    "    loadDic = pickle.load(f)\n",
    "    print(loadDic['Jeju'])\n",
    "    \n",
    "    loadList = pickle.load(f)\n",
    "    print(loadList[2])"
   ]
  },
  {
   "cell_type": "markdown",
   "metadata": {},
   "source": [
    "**************\n",
    "## 12. 예외 처리"
   ]
  },
  {
   "cell_type": "markdown",
   "metadata": {},
   "source": [
    "프로그래밍을 하다보면 예상치 못한 에러가 발생할 가능성이 있고 그 에러의 상태에 따라 프로그램이 작동이 멈추는 상황이 발생할 수도 있습니다. 상용 서비스에서\n",
    "\n",
    "이런 상황이 발생하는 것을 막아야하기에 에러가 발생했을 경우 프로그램의 정상 작동에 영향을 끼치지 않도록 처리해야 합니다.\n",
    "\n",
    "지금 다루는 예외 처리가 이런 상황이 발생했을 때 어떻게 처리할 수 있는가에 내용입니다. \n",
    "\n",
    "가장 기본적인 형태의 예외 처리 구문입니다. 우선 어떻게 쓰이는 지 간단한 예부터 확인하고 진행하겠습니다."
   ]
  },
  {
   "cell_type": "markdown",
   "metadata": {},
   "source": [
    "#### _try ~ except 기본 형식_ "
   ]
  },
  {
   "cell_type": "markdown",
   "metadata": {},
   "source": [
    "에러가 없는 예외 처리구문입니다. 예외 처리가 발생했을 때 출력되는 구문은 출력되지 않을 것입니다."
   ]
  },
  {
   "cell_type": "code",
   "execution_count": null,
   "metadata": {},
   "outputs": [],
   "source": [
    "try :\n",
    "    print('예외 처리 처음 해보는 겁니다')\n",
    "except:\n",
    "    print('예외가 발생했습니다.')"
   ]
  },
  {
   "cell_type": "markdown",
   "metadata": {},
   "source": [
    "#### _try ~ except 기본 형식_ - 모든 예외를 except 에서 처리"
   ]
  },
  {
   "cell_type": "code",
   "execution_count": null,
   "metadata": {},
   "outputs": [],
   "source": [
    "try :\n",
    "    1/0\n",
    "except:\n",
    "    print('예외가 발생했습니다.')"
   ]
  },
  {
   "cell_type": "markdown",
   "metadata": {},
   "source": [
    "<br>\n",
    "위 예제에는 예외가 발생했지만 어떤 예외인지는 모릅니다. 즉 모든 예외상황을 한꺼번에 처리하기 위한 코드입니다. 그래서 특정 상황을 대비한 예외 처리를 적용할\n",
    "\n",
    "수도 있습니다. 위 예제에서는 나눗셈에서 숫자 0 으로 나누는 상황이 발생했습니다. 위와 같은 상황을 대비한 특정한 예외 처리는 다음과 같습니다. "
   ]
  },
  {
   "cell_type": "markdown",
   "metadata": {},
   "source": [
    "#### _try ~ except_ - 특정상황에 대비한 예외 처리 추가"
   ]
  },
  {
   "cell_type": "markdown",
   "metadata": {},
   "source": [
    "아래 예제에서 보이듯이 숫자 0 으로 나누는 예외 처리는 ZeroDivisionError 으로 정의가 되어 있기 때문에 해당 에러가 발생했을 경우는 어떤 예외가 발생했는지\n",
    "\n",
    "정확하게 알 수 있고 관련 처리를 할 수 있습니다. 따라서 잠재적 발생 가능한 관련 예외처리는 이렇게 명확게 해주면 에러 발생시 명확히 알수 있고 관련 대비 코드를\n",
    "\n",
    "처리할 수가 있게 됩니다. "
   ]
  },
  {
   "cell_type": "code",
   "execution_count": null,
   "metadata": {},
   "outputs": [],
   "source": [
    "try :\n",
    "    1/0\n",
    "except ZeroDivisionError:\n",
    "    print('숫자 0 으로 나누는 에러 발생')\n",
    "except :\n",
    "    print('또 다른 예외가 발생했습니다.')"
   ]
  },
  {
   "cell_type": "markdown",
   "metadata": {},
   "source": [
    "#### _예외 처리 발생시 관련 에러에 대한 정보를 문자열로 변환_\n",
    "\n",
    "**as** 를 이용하면 에러에 대한 문자열 정보를 얻을 수 있습니다. **as** 뒤에 나오는 축약형은 통상적으로  exception 의 첫글자 따서 **e** 라고 표기합니다. "
   ]
  },
  {
   "cell_type": "code",
   "execution_count": null,
   "metadata": {},
   "outputs": [],
   "source": [
    "try :\n",
    "    1/0\n",
    "except ZeroDivisionError as e:\n",
    "    print(e)\n",
    "except :\n",
    "    print('또 다른 예외가 발생했습니다.')"
   ]
  },
  {
   "cell_type": "markdown",
   "metadata": {},
   "source": [
    "#### _예외 처리시 예외 발생과 상관없이 항상 처리되야 하는 코드를 처리하는 방법_"
   ]
  },
  {
   "cell_type": "markdown",
   "metadata": {},
   "source": [
    "예외 처리 구문을 적용하면서 예외가 발생하는것에 대해서 상관없이 항상 처리해야 되는 코드가 있다면 finally 라는 구문을 추가하여 처리하면 됩니다. \n",
    "\n",
    "아래 예제는 예외 발생 유무에 상관없이 항상 finally 구문에 해당되는 코드를 실행하게 됩니다. "
   ]
  },
  {
   "cell_type": "code",
   "execution_count": null,
   "metadata": {},
   "outputs": [],
   "source": [
    "try :\n",
    "    1/0\n",
    "except:\n",
    "    print('error')\n",
    "finally:\n",
    "    print('예외 처리 종료')\n"
   ]
  },
  {
   "cell_type": "markdown",
   "metadata": {},
   "source": [
    "#### _예외 처리시 예외가 발생하지 않으면 처리되야 하는 코드를 처리하는 방법_"
   ]
  },
  {
   "cell_type": "code",
   "execution_count": null,
   "metadata": {},
   "outputs": [],
   "source": [
    "try :\n",
    "    1/4\n",
    "except:\n",
    "    print('error')\n",
    "else:\n",
    "    print('No Error')\n",
    "finally:\n",
    "    print('예외 처리 종료')"
   ]
  }
 ],
 "metadata": {
  "kernelspec": {
   "display_name": "Python 3",
   "language": "python",
   "name": "python3"
  },
  "language_info": {
   "codemirror_mode": {
    "name": "ipython",
    "version": 3
   },
   "file_extension": ".py",
   "mimetype": "text/x-python",
   "name": "python",
   "nbconvert_exporter": "python",
   "pygments_lexer": "ipython3",
   "version": "3.7.4"
  }
 },
 "nbformat": 4,
 "nbformat_minor": 2
}
