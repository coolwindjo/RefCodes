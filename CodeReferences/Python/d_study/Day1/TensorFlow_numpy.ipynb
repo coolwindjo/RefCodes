{
 "cells": [
  {
   "cell_type": "code",
   "execution_count": 3,
   "metadata": {},
   "outputs": [],
   "source": [
    "import numpy as np"
   ]
  },
  {
   "cell_type": "code",
   "execution_count": 5,
   "metadata": {},
   "outputs": [
    {
     "data": {
      "text/plain": [
       "array([6. , 7.5, 8. , 0. , 1. ])"
      ]
     },
     "execution_count": 5,
     "metadata": {},
     "output_type": "execute_result"
    }
   ],
   "source": [
    "data1=[6,7.5,8,0,1]\n",
    "arr1 = np.array(data1)\n",
    "arr1"
   ]
  },
  {
   "cell_type": "code",
   "execution_count": 8,
   "metadata": {},
   "outputs": [
    {
     "data": {
      "text/plain": [
       "dtype('float64')"
      ]
     },
     "execution_count": 8,
     "metadata": {},
     "output_type": "execute_result"
    }
   ],
   "source": [
    "arr1.dtype"
   ]
  },
  {
   "cell_type": "code",
   "execution_count": 12,
   "metadata": {},
   "outputs": [
    {
     "data": {
      "text/plain": [
       "array([6, 7, 8, 0, 1])"
      ]
     },
     "execution_count": 12,
     "metadata": {},
     "output_type": "execute_result"
    }
   ],
   "source": [
    "arr12 = np.array(data1, dtype=np.int32)\n",
    "arr12"
   ]
  },
  {
   "cell_type": "code",
   "execution_count": 13,
   "metadata": {},
   "outputs": [
    {
     "data": {
      "text/plain": [
       "dtype('int32')"
      ]
     },
     "execution_count": 13,
     "metadata": {},
     "output_type": "execute_result"
    }
   ],
   "source": [
    "arr12.dtype"
   ]
  },
  {
   "cell_type": "code",
   "execution_count": 6,
   "metadata": {},
   "outputs": [
    {
     "data": {
      "text/plain": [
       "array([[1, 2, 3, 4],\n",
       "       [5, 6, 7, 8]])"
      ]
     },
     "execution_count": 6,
     "metadata": {},
     "output_type": "execute_result"
    }
   ],
   "source": [
    "data2=[[1,2,3,4],[5,6,7,8]]\n",
    "arr2 = np.array(data2)\n",
    "arr2"
   ]
  },
  {
   "cell_type": "code",
   "execution_count": 14,
   "metadata": {},
   "outputs": [
    {
     "data": {
      "text/plain": [
       "(2, 4)"
      ]
     },
     "execution_count": 14,
     "metadata": {},
     "output_type": "execute_result"
    }
   ],
   "source": [
    "arr2.shape"
   ]
  },
  {
   "cell_type": "code",
   "execution_count": 15,
   "metadata": {},
   "outputs": [
    {
     "name": "stdout",
     "output_type": "stream",
     "text": [
      "\n",
      " [[1. 2. 3.]\n",
      " [4. 5. 6.]]\n",
      "\n",
      " [[ 1.  4.  9.]\n",
      " [16. 25. 36.]]\n",
      "\n",
      " [[0. 0. 0.]\n",
      " [0. 0. 0.]]\n",
      "\n",
      " [[1.         0.5        0.33333333]\n",
      " [0.25       0.2        0.16666667]]\n",
      "\n",
      " [[1.         1.41421356 1.73205081]\n",
      " [2.         2.23606798 2.44948974]]\n"
     ]
    }
   ],
   "source": [
    "arr=np.array([[1.,2.,3.], [4.,5.,6.]])\n",
    "print('\\n',arr)\n",
    "print('\\n',arr*arr)\n",
    "print('\\n',arr-arr)\n",
    "print('\\n',1/arr)\n",
    "print('\\n',arr**0.5)\n"
   ]
  },
  {
   "cell_type": "code",
   "execution_count": 17,
   "metadata": {},
   "outputs": [
    {
     "name": "stdout",
     "output_type": "stream",
     "text": [
      "\n",
      " [[ 0.  4.  1.]\n",
      " [ 7.  2. 12.]]\n",
      "\n",
      " [[False  True False]\n",
      " [ True False  True]]\n"
     ]
    }
   ],
   "source": [
    "arr2=np.array([[0.,4.,1.],[7.,2.,12.]])\n",
    "print('\\n', arr2)\n",
    "print('\\n',arr2 > arr)"
   ]
  },
  {
   "cell_type": "code",
   "execution_count": 18,
   "metadata": {},
   "outputs": [
    {
     "name": "stdout",
     "output_type": "stream",
     "text": [
      "\n",
      " 5\n",
      "\n",
      " [5 6 7]\n"
     ]
    }
   ],
   "source": [
    "arr = np.arange(10)\n",
    "print('\\n', arr[5])\n",
    "print('\\n', arr[5:8])"
   ]
  },
  {
   "cell_type": "code",
   "execution_count": 20,
   "metadata": {},
   "outputs": [
    {
     "data": {
      "text/plain": [
       "array([ 0,  1,  2,  3,  4, 12, 12, 12,  8,  9])"
      ]
     },
     "execution_count": 20,
     "metadata": {},
     "output_type": "execute_result"
    }
   ],
   "source": [
    "arr[5:8] = 12\n",
    "arr"
   ]
  },
  {
   "cell_type": "code",
   "execution_count": 27,
   "metadata": {},
   "outputs": [
    {
     "name": "stdout",
     "output_type": "stream",
     "text": [
      "\n",
      " ['Jo' 'Seung' 'Hyeon' 'Jo' 'Seung' 'Hyeon' 'Jo'] \n",
      "\n",
      "\n",
      " [[-0.20470766  0.47894334 -0.51943872 -0.5557303 ]\n",
      " [ 1.96578057  1.39340583  0.09290788  0.28174615]\n",
      " [ 0.76902257  1.24643474  1.00718936 -1.29622111]\n",
      " [ 0.27499163  0.22891288  1.35291684  0.88642934]\n",
      " [-2.00163731 -0.37184254  1.66902531 -0.43856974]\n",
      " [-0.53974145  0.47698501  3.24894392 -1.02122752]\n",
      " [-0.5770873   0.12412128  0.30261356  0.52377207]]\n",
      "\n",
      " [ True False False  True False False  True]\n",
      "\n",
      " [[-0.20470766  0.47894334 -0.51943872 -0.5557303 ]\n",
      " [ 0.27499163  0.22891288  1.35291684  0.88642934]\n",
      " [-0.5770873   0.12412128  0.30261356  0.52377207]]\n",
      "\n",
      " [[-0.51943872 -0.5557303 ]\n",
      " [ 1.35291684  0.88642934]\n",
      " [ 0.30261356  0.52377207]]\n",
      "\n",
      " [-0.5557303   0.88642934  0.52377207]\n"
     ]
    }
   ],
   "source": [
    "np.random.seed(12345)\n",
    "names = np.array(['Jo', 'Seung', 'Hyeon','Jo', 'Seung', 'Hyeon','Jo'])\n",
    "data = np.random.randn(7,4)\n",
    "print('\\n', names, \"\\n\")\n",
    "print('\\n', data)\n",
    "\n",
    "print('\\n',names=='Jo')\n",
    "print('\\n',data[names=='Jo'])\n",
    "print('\\n',data[names=='Jo', 2:])\n",
    "print('\\n',data[names=='Jo', 3])\n"
   ]
  },
  {
   "cell_type": "code",
   "execution_count": null,
   "metadata": {},
   "outputs": [],
   "source": []
  }
 ],
 "metadata": {
  "kernelspec": {
   "display_name": "Python 3",
   "language": "python",
   "name": "python3"
  },
  "language_info": {
   "codemirror_mode": {
    "name": "ipython",
    "version": 3
   },
   "file_extension": ".py",
   "mimetype": "text/x-python",
   "name": "python",
   "nbconvert_exporter": "python",
   "pygments_lexer": "ipython3",
   "version": "3.7.1"
  }
 },
 "nbformat": 4,
 "nbformat_minor": 2
}
